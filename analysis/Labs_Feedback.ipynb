{
 "cells": [
  {
   "cell_type": "code",
   "execution_count": null,
   "metadata": {
    "id": "piycXqhVot8j"
   },
   "outputs": [],
   "source": [
    "import os\n",
    "import json\n",
    "import math\n",
    "import pandas as pd\n",
    "import numpy as np\n",
    "import matplotlib.pyplot as plt\n",
    "import seaborn as sns\n",
    "from scipy import stats\n",
    "from google.colab import drive\n",
    "import os\n"
   ]
  },
  {
   "cell_type": "code",
   "execution_count": null,
   "metadata": {
    "colab": {
     "background_save": true,
     "base_uri": "https://localhost:8080/"
    },
    "id": "MYB82-c2o7Kd",
    "outputId": "2ffc4b4d-9483-4c67-d361-25d8579efa05"
   },
   "outputs": [],
   "source": [
    "mount = \"/content/drive\"\n",
    "drive.mount(mount, force_remount=True)\n",
    "drive_root = mount + \"/MyDrive/Econ 148 Development/Forms /\"\n",
    "\n",
    "%cd $drive_root"
   ]
  },
  {
   "cell_type": "code",
   "execution_count": null,
   "metadata": {
    "colab": {
     "background_save": true,
     "base_uri": "https://localhost:8080/"
    },
    "id": "jUQK2fRFxZGI",
    "outputId": "3e2d4bfa-de67-4ac4-968d-c825d4d70c84"
   },
   "outputs": [],
   "source": [
    "df = pd.read_csv('labs_textbook_feedback.csv')\n",
    "df = df[~df['Which of these classes have you taken before?'].isna()]\n",
    "df"
   ]
  },
  {
   "cell_type": "code",
   "execution_count": null,
   "metadata": {
    "colab": {
     "base_uri": "https://localhost:8080/",
     "height": 1000
    },
    "id": "Zucszu-74PfS",
    "outputId": "8a3422cb-de0d-4a40-bcbf-239fdd01d384"
   },
   "outputs": [],
   "source": [
    "npe_df = df[~(df['Which of these classes have you taken before?'].str.contains('Data'))]\n",
    "npe_df"
   ]
  },
  {
   "cell_type": "code",
   "execution_count": null,
   "metadata": {
    "colab": {
     "base_uri": "https://localhost:8080/",
     "height": 1000
    },
    "id": "kjUwlKQd4sqe",
    "outputId": "7b3e614d-f052-44cc-ed03-46e30ae76af8"
   },
   "outputs": [],
   "source": [
    "pe_df = df[(df['Which of these classes have you taken before?'].str.contains('Data 8')) & ~(df['Which of these classes have you taken before?'].str.contains('Data 100'))]\n",
    "pe_df"
   ]
  },
  {
   "cell_type": "code",
   "execution_count": null,
   "metadata": {
    "colab": {
     "base_uri": "https://localhost:8080/",
     "height": 1000
    },
    "id": "AhR0P4NR49qU",
    "outputId": "179ac7cf-cc74-49a0-94b3-d7627ea6113f"
   },
   "outputs": [],
   "source": [
    "data100_df = df[(df['Which of these classes have you taken before?'].str.contains('Data 100'))]\n",
    "data100_df"
   ]
  },
  {
   "cell_type": "code",
   "execution_count": null,
   "metadata": {
    "colab": {
     "base_uri": "https://localhost:8080/",
     "height": 206
    },
    "id": "CuY7Rgla5vOA",
    "outputId": "07572549-ce21-42bb-c3f0-4b0e7ffeabaf"
   },
   "outputs": [],
   "source": [
    "npe_use = npe_df['How much did you use the textbook while working through this lab?'].value_counts().reset_index().sort_values('index')\n",
    "npe_use"
   ]
  },
  {
   "cell_type": "code",
   "execution_count": null,
   "metadata": {
    "colab": {
     "base_uri": "https://localhost:8080/",
     "height": 206
    },
    "id": "iSF257PW-cT3",
    "outputId": "e9fa7beb-3e57-49ae-8486-35d28e5efcf4"
   },
   "outputs": [],
   "source": [
    "pe_use = pe_df['How much did you use the textbook while working through this lab?'].value_counts().reset_index().sort_values('index')\n",
    "pe_use"
   ]
  },
  {
   "cell_type": "code",
   "execution_count": null,
   "metadata": {
    "colab": {
     "base_uri": "https://localhost:8080/",
     "height": 206
    },
    "id": "cxxT7OVc6hWY",
    "outputId": "41588eab-19d1-4676-e17c-bd9204d99184"
   },
   "outputs": [],
   "source": [
    "data100_use = data100_df['How much did you use the textbook while working through this lab?'].value_counts().reset_index().sort_values('index')\n",
    "data100_use"
   ]
  },
  {
   "cell_type": "code",
   "execution_count": null,
   "metadata": {
    "colab": {
     "base_uri": "https://localhost:8080/",
     "height": 206
    },
    "id": "BaBeLEUR6iby",
    "outputId": "b68e6d5d-5a55-4050-eef1-576e9a1fcfba"
   },
   "outputs": [],
   "source": [
    "npe_helpful = npe_df[npe_df['How much did you use the textbook while working through this lab?']>=3]\\\n",
    " ['If you did use the textbook, did you find it helpful?'].value_counts().reset_index().sort_values('index')\n",
    "npe_helpful"
   ]
  },
  {
   "cell_type": "code",
   "execution_count": null,
   "metadata": {
    "colab": {
     "base_uri": "https://localhost:8080/",
     "height": 206
    },
    "id": "7-tP9SpU6v7u",
    "outputId": "3aca2369-688d-475a-935b-7022447c0472"
   },
   "outputs": [],
   "source": [
    "pe_helpful = pe_df[pe_df['How much did you use the textbook while working through this lab?']>=3]\\\n",
    " ['If you did use the textbook, did you find it helpful?'].value_counts().reset_index()\n",
    "pe_helpful.loc[4,:] = [1, 0]\n",
    "pe_helpful = pe_helpful.sort_values('index')\n",
    "pe_helpful"
   ]
  },
  {
   "cell_type": "code",
   "execution_count": null,
   "metadata": {
    "colab": {
     "base_uri": "https://localhost:8080/",
     "height": 206
    },
    "id": "vl9SGU1K6x2U",
    "outputId": "40c3cd90-a7cb-48e7-9820-87bd8698fc4c"
   },
   "outputs": [],
   "source": [
    "data100_helpful = data100_df[data100_df['How much did you use the textbook while working through this lab?']>=3]\\\n",
    " ['If you did use the textbook, did you find it helpful?'].value_counts().reset_index().sort_values('index')\n",
    "data100_helpful"
   ]
  },
  {
   "cell_type": "code",
   "execution_count": null,
   "metadata": {
    "colab": {
     "base_uri": "https://localhost:8080/"
    },
    "id": "G3vrg1caAL5E",
    "outputId": "aede2158-05c8-48e3-b2f9-08bfa4635c96"
   },
   "outputs": [],
   "source": [
    "lst = [npe_use, pe_use, data100_use]\n",
    "for i in range(3):\n",
    "  for j in range(i+1,3):\n",
    "    print(stats.chi2_contingency([lst[i].iloc[:,-1].to_list(), lst[j].iloc[:,-1].to_list()]))\n",
    "    print(\"______________________\")"
   ]
  },
  {
   "cell_type": "code",
   "execution_count": null,
   "metadata": {
    "colab": {
     "base_uri": "https://localhost:8080/"
    },
    "id": "4xllkRNR6zg7",
    "outputId": "48e58a2b-429a-4c17-b78d-e4f4734fb088"
   },
   "outputs": [],
   "source": [
    "lst = [npe_helpful, pe_helpful, data100_helpful]\n",
    "for i in range(3):\n",
    "  for j in range(i+1,3):\n",
    "    print(stats.chi2_contingency([lst[i].iloc[:,-1].to_list(), lst[j].iloc[:,-1].to_list()]))\n",
    "    print(\"______________________\")"
   ]
  },
  {
   "cell_type": "code",
   "execution_count": null,
   "metadata": {
    "id": "DbzilyBm_xj7"
   },
   "outputs": [],
   "source": []
  }
 ],
 "metadata": {
  "colab": {
   "provenance": []
  },
  "kernelspec": {
   "display_name": "Python 3 (ipykernel)",
   "language": "python",
   "name": "python3"
  },
  "language_info": {
   "codemirror_mode": {
    "name": "ipython",
    "version": 3
   },
   "file_extension": ".py",
   "mimetype": "text/x-python",
   "name": "python",
   "nbconvert_exporter": "python",
   "pygments_lexer": "ipython3",
   "version": "3.10.12"
  }
 },
 "nbformat": 4,
 "nbformat_minor": 4
}
