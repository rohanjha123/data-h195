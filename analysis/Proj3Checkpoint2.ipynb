{
  "nbformat": 4,
  "nbformat_minor": 0,
  "metadata": {
    "colab": {
      "provenance": []
    },
    "kernelspec": {
      "name": "python3",
      "display_name": "Python 3"
    },
    "language_info": {
      "name": "python"
    }
  },
  "cells": [
    {
      "cell_type": "code",
      "execution_count": 1,
      "metadata": {
        "id": "XRS2L9JcvhcD"
      },
      "outputs": [],
      "source": [
        "import os\n",
        "import json\n",
        "import math\n",
        "import pandas as pd\n",
        "import numpy as np\n",
        "import matplotlib.pyplot as plt\n",
        "import seaborn as sns\n",
        "from scipy import stats\n",
        "from google.colab import drive\n",
        "import os\n",
        "from wordcloud import WordCloud, STOPWORDS, ImageColorGenerator\n"
      ]
    },
    {
      "cell_type": "code",
      "source": [
        "mount = \"/content/drive\"\n",
        "drive.mount(mount, force_remount=True)\n",
        "drive_root = mount + \"/MyDrive/Econ 148 Development/Forms /\"\n",
        "\n",
        "%cd $drive_root"
      ],
      "metadata": {
        "colab": {
          "base_uri": "https://localhost:8080/"
        },
        "id": "urtXJTBIvk4h",
        "outputId": "632aedaa-5624-4619-c94f-fed7e55979c8"
      },
      "execution_count": 2,
      "outputs": [
        {
          "output_type": "stream",
          "name": "stdout",
          "text": [
            "Mounted at /content/drive\n",
            "/content/drive/.shortcut-targets-by-id/1xv4knQahhNdrTQtKG-D_XRytp1qjwqgK/Econ 148 Development/Forms \n"
          ]
        }
      ]
    },
    {
      "cell_type": "code",
      "source": [
        "df = pd.read_csv('proj3checkpoint2.csv')\n",
        "df"
      ],
      "metadata": {
        "id": "0v5T5Cl9vmCv"
      },
      "execution_count": null,
      "outputs": []
    },
    {
      "cell_type": "code",
      "source": [
        "stata2python_df = df[['Stata2Python is a package made by Rohan (one of the GSIs) to help convert Stata commands into Python. Are you aware of what the package is?',\n",
        "       'How much did you use the Stata2Python package while working on project 3?',\n",
        "       'If you did use the package, did you find it helpful?',\n",
        "       'Do you think the package is useful in general?',\n",
        "       'If you did not use the package, why not?',\n",
        "       'What are your thoughts on the package? What does it do well; what could it do better?',\n",
        "       'Did you spot any blatant mistakes in the package?']]\n",
        "stata2python_df.head()\n"
      ],
      "metadata": {
        "id": "5uUuweQywDHY"
      },
      "execution_count": null,
      "outputs": []
    },
    {
      "cell_type": "code",
      "source": [
        "stata2python_df_smoll = stata2python_df[stata2python_df.iloc[:,0]!=1]\n",
        "stata2python_df_smoll.head()"
      ],
      "metadata": {
        "id": "kxfG0HKRw3Ou"
      },
      "execution_count": null,
      "outputs": []
    },
    {
      "cell_type": "code",
      "source": [
        "stata2python_df_smoll.iloc[:,1].value_counts()#.div(len(stata2python_df_smoll))"
      ],
      "metadata": {
        "colab": {
          "base_uri": "https://localhost:8080/"
        },
        "id": "hXw_aUydHRs-",
        "outputId": "a7eec4e6-00c8-4afd-b96d-40261c4bb4ab"
      },
      "execution_count": 37,
      "outputs": [
        {
          "output_type": "execute_result",
          "data": {
            "text/plain": [
              "How much did you use the Stata2Python package while working on project 3?\n",
              "1    9\n",
              "2    9\n",
              "3    7\n",
              "4    3\n",
              "5    2\n",
              "Name: count, dtype: int64"
            ]
          },
          "metadata": {},
          "execution_count": 37
        }
      ]
    },
    {
      "cell_type": "code",
      "source": [
        "stata2python_df_smoll[stata2python_df_smoll['How much did you use the Stata2Python package while working on project 3?']>2].iloc[:,2].value_counts()"
      ],
      "metadata": {
        "colab": {
          "base_uri": "https://localhost:8080/"
        },
        "id": "zrZT51jTxU3n",
        "outputId": "2ea52e8c-2a33-4545-f744-7b5fefbe2219"
      },
      "execution_count": 31,
      "outputs": [
        {
          "output_type": "execute_result",
          "data": {
            "text/plain": [
              "If you did use the package, did you find it helpful?\n",
              "3.0    5\n",
              "5.0    4\n",
              "4.0    3\n",
              "Name: count, dtype: int64"
            ]
          },
          "metadata": {},
          "execution_count": 31
        }
      ]
    },
    {
      "cell_type": "code",
      "source": [
        "stata2python_df_smoll[stata2python_df_smoll['How much did you use the Stata2Python package while working on project 3?']>2].iloc[:,3].value_counts()"
      ],
      "metadata": {
        "colab": {
          "base_uri": "https://localhost:8080/"
        },
        "id": "XF9yCnhixz5v",
        "outputId": "4edf59eb-aa64-4326-9f14-e5b4bf24047f"
      },
      "execution_count": 26,
      "outputs": [
        {
          "output_type": "execute_result",
          "data": {
            "text/plain": [
              "Do you think the package is useful in general?\n",
              "5    8\n",
              "3    3\n",
              "4    1\n",
              "Name: count, dtype: int64"
            ]
          },
          "metadata": {},
          "execution_count": 26
        }
      ]
    },
    {
      "cell_type": "code",
      "source": [],
      "metadata": {
        "id": "s2tdVbUpyRC-"
      },
      "execution_count": null,
      "outputs": []
    }
  ]
}