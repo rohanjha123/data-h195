{
 "cells": [
  {
   "cell_type": "code",
   "execution_count": 263,
   "id": "b118f060-17fe-4e66-8a3d-e4d96ef70a64",
   "metadata": {},
   "outputs": [],
   "source": [
    "import numpy as np\n",
    "import pandas as pd\n",
    "from scipy import stats\n",
    "import matplotlib.pyplot as plt\n",
    "import regex as re"
   ]
  },
  {
   "cell_type": "markdown",
   "id": "6181bf73-4eb4-439e-8c91-149d9a45252f",
   "metadata": {},
   "source": [
    "## PSET 1"
   ]
  },
  {
   "cell_type": "code",
   "execution_count": 264,
   "id": "9c62d192-74c1-4960-aa01-b5a4ab6ce2aa",
   "metadata": {},
   "outputs": [
    {
     "data": {
      "text/html": [
       "<div>\n",
       "<style scoped>\n",
       "    .dataframe tbody tr th:only-of-type {\n",
       "        vertical-align: middle;\n",
       "    }\n",
       "\n",
       "    .dataframe tbody tr th {\n",
       "        vertical-align: top;\n",
       "    }\n",
       "\n",
       "    .dataframe thead th {\n",
       "        text-align: right;\n",
       "    }\n",
       "</style>\n",
       "<table border=\"1\" class=\"dataframe\">\n",
       "  <thead>\n",
       "    <tr style=\"text-align: right;\">\n",
       "      <th></th>\n",
       "      <th>married</th>\n",
       "      <th>wage</th>\n",
       "      <th>exper</th>\n",
       "      <th>age</th>\n",
       "      <th>coll</th>\n",
       "      <th>games</th>\n",
       "      <th>minutes</th>\n",
       "      <th>guard</th>\n",
       "      <th>forward</th>\n",
       "      <th>center</th>\n",
       "      <th>points</th>\n",
       "      <th>rebounds</th>\n",
       "      <th>assists</th>\n",
       "      <th>draft</th>\n",
       "      <th>allstar</th>\n",
       "      <th>avgmin</th>\n",
       "      <th>black</th>\n",
       "      <th>children</th>\n",
       "    </tr>\n",
       "  </thead>\n",
       "  <tbody>\n",
       "    <tr>\n",
       "      <th>0</th>\n",
       "      <td>1</td>\n",
       "      <td>1002.5</td>\n",
       "      <td>4</td>\n",
       "      <td>27</td>\n",
       "      <td>4</td>\n",
       "      <td>77</td>\n",
       "      <td>2867</td>\n",
       "      <td>1</td>\n",
       "      <td>0</td>\n",
       "      <td>0</td>\n",
       "      <td>16</td>\n",
       "      <td>4</td>\n",
       "      <td>5</td>\n",
       "      <td>19.0</td>\n",
       "      <td>0</td>\n",
       "      <td>37.23</td>\n",
       "      <td>1</td>\n",
       "      <td>0</td>\n",
       "    </tr>\n",
       "    <tr>\n",
       "      <th>1</th>\n",
       "      <td>1</td>\n",
       "      <td>2030.0</td>\n",
       "      <td>5</td>\n",
       "      <td>28</td>\n",
       "      <td>4</td>\n",
       "      <td>78</td>\n",
       "      <td>2789</td>\n",
       "      <td>1</td>\n",
       "      <td>0</td>\n",
       "      <td>0</td>\n",
       "      <td>13</td>\n",
       "      <td>3</td>\n",
       "      <td>9</td>\n",
       "      <td>28.0</td>\n",
       "      <td>0</td>\n",
       "      <td>35.76</td>\n",
       "      <td>1</td>\n",
       "      <td>1</td>\n",
       "    </tr>\n",
       "    <tr>\n",
       "      <th>2</th>\n",
       "      <td>0</td>\n",
       "      <td>650.0</td>\n",
       "      <td>1</td>\n",
       "      <td>25</td>\n",
       "      <td>4</td>\n",
       "      <td>74</td>\n",
       "      <td>1149</td>\n",
       "      <td>0</td>\n",
       "      <td>0</td>\n",
       "      <td>1</td>\n",
       "      <td>6</td>\n",
       "      <td>3</td>\n",
       "      <td>0</td>\n",
       "      <td>19.0</td>\n",
       "      <td>0</td>\n",
       "      <td>15.53</td>\n",
       "      <td>1</td>\n",
       "      <td>0</td>\n",
       "    </tr>\n",
       "    <tr>\n",
       "      <th>3</th>\n",
       "      <td>0</td>\n",
       "      <td>2030.0</td>\n",
       "      <td>5</td>\n",
       "      <td>28</td>\n",
       "      <td>4</td>\n",
       "      <td>47</td>\n",
       "      <td>1178</td>\n",
       "      <td>0</td>\n",
       "      <td>1</td>\n",
       "      <td>0</td>\n",
       "      <td>7</td>\n",
       "      <td>5</td>\n",
       "      <td>2</td>\n",
       "      <td>1.0</td>\n",
       "      <td>0</td>\n",
       "      <td>25.06</td>\n",
       "      <td>1</td>\n",
       "      <td>0</td>\n",
       "    </tr>\n",
       "    <tr>\n",
       "      <th>4</th>\n",
       "      <td>0</td>\n",
       "      <td>755.0</td>\n",
       "      <td>3</td>\n",
       "      <td>24</td>\n",
       "      <td>4</td>\n",
       "      <td>82</td>\n",
       "      <td>2096</td>\n",
       "      <td>1</td>\n",
       "      <td>0</td>\n",
       "      <td>0</td>\n",
       "      <td>11</td>\n",
       "      <td>4</td>\n",
       "      <td>3</td>\n",
       "      <td>24.0</td>\n",
       "      <td>0</td>\n",
       "      <td>25.56</td>\n",
       "      <td>1</td>\n",
       "      <td>0</td>\n",
       "    </tr>\n",
       "    <tr>\n",
       "      <th>...</th>\n",
       "      <td>...</td>\n",
       "      <td>...</td>\n",
       "      <td>...</td>\n",
       "      <td>...</td>\n",
       "      <td>...</td>\n",
       "      <td>...</td>\n",
       "      <td>...</td>\n",
       "      <td>...</td>\n",
       "      <td>...</td>\n",
       "      <td>...</td>\n",
       "      <td>...</td>\n",
       "      <td>...</td>\n",
       "      <td>...</td>\n",
       "      <td>...</td>\n",
       "      <td>...</td>\n",
       "      <td>...</td>\n",
       "      <td>...</td>\n",
       "      <td>...</td>\n",
       "    </tr>\n",
       "    <tr>\n",
       "      <th>264</th>\n",
       "      <td>1</td>\n",
       "      <td>3210.0</td>\n",
       "      <td>7</td>\n",
       "      <td>29</td>\n",
       "      <td>4</td>\n",
       "      <td>79</td>\n",
       "      <td>2638</td>\n",
       "      <td>1</td>\n",
       "      <td>0</td>\n",
       "      <td>0</td>\n",
       "      <td>20</td>\n",
       "      <td>3</td>\n",
       "      <td>3</td>\n",
       "      <td>11.0</td>\n",
       "      <td>1</td>\n",
       "      <td>33.39</td>\n",
       "      <td>1</td>\n",
       "      <td>0</td>\n",
       "    </tr>\n",
       "    <tr>\n",
       "      <th>265</th>\n",
       "      <td>1</td>\n",
       "      <td>715.0</td>\n",
       "      <td>5</td>\n",
       "      <td>31</td>\n",
       "      <td>4</td>\n",
       "      <td>75</td>\n",
       "      <td>1084</td>\n",
       "      <td>0</td>\n",
       "      <td>1</td>\n",
       "      <td>0</td>\n",
       "      <td>5</td>\n",
       "      <td>3</td>\n",
       "      <td>1</td>\n",
       "      <td>54.0</td>\n",
       "      <td>0</td>\n",
       "      <td>14.45</td>\n",
       "      <td>1</td>\n",
       "      <td>1</td>\n",
       "    </tr>\n",
       "    <tr>\n",
       "      <th>266</th>\n",
       "      <td>1</td>\n",
       "      <td>600.0</td>\n",
       "      <td>11</td>\n",
       "      <td>33</td>\n",
       "      <td>3</td>\n",
       "      <td>67</td>\n",
       "      <td>1197</td>\n",
       "      <td>1</td>\n",
       "      <td>0</td>\n",
       "      <td>0</td>\n",
       "      <td>10</td>\n",
       "      <td>2</td>\n",
       "      <td>2</td>\n",
       "      <td>4.0</td>\n",
       "      <td>0</td>\n",
       "      <td>17.87</td>\n",
       "      <td>1</td>\n",
       "      <td>1</td>\n",
       "    </tr>\n",
       "    <tr>\n",
       "      <th>267</th>\n",
       "      <td>0</td>\n",
       "      <td>2500.0</td>\n",
       "      <td>6</td>\n",
       "      <td>28</td>\n",
       "      <td>4</td>\n",
       "      <td>78</td>\n",
       "      <td>2113</td>\n",
       "      <td>0</td>\n",
       "      <td>0</td>\n",
       "      <td>1</td>\n",
       "      <td>16</td>\n",
       "      <td>6</td>\n",
       "      <td>2</td>\n",
       "      <td>2.0</td>\n",
       "      <td>0</td>\n",
       "      <td>27.09</td>\n",
       "      <td>0</td>\n",
       "      <td>0</td>\n",
       "    </tr>\n",
       "    <tr>\n",
       "      <th>268</th>\n",
       "      <td>0</td>\n",
       "      <td>2000.0</td>\n",
       "      <td>12</td>\n",
       "      <td>33</td>\n",
       "      <td>3</td>\n",
       "      <td>30</td>\n",
       "      <td>282</td>\n",
       "      <td>0</td>\n",
       "      <td>1</td>\n",
       "      <td>0</td>\n",
       "      <td>2</td>\n",
       "      <td>3</td>\n",
       "      <td>1</td>\n",
       "      <td>5.0</td>\n",
       "      <td>0</td>\n",
       "      <td>9.40</td>\n",
       "      <td>1</td>\n",
       "      <td>0</td>\n",
       "    </tr>\n",
       "  </tbody>\n",
       "</table>\n",
       "<p>269 rows × 18 columns</p>\n",
       "</div>"
      ],
      "text/plain": [
       "     married    wage  exper  age  coll  games  minutes  guard  forward  \\\n",
       "0          1  1002.5      4   27     4     77     2867      1        0   \n",
       "1          1  2030.0      5   28     4     78     2789      1        0   \n",
       "2          0   650.0      1   25     4     74     1149      0        0   \n",
       "3          0  2030.0      5   28     4     47     1178      0        1   \n",
       "4          0   755.0      3   24     4     82     2096      1        0   \n",
       "..       ...     ...    ...  ...   ...    ...      ...    ...      ...   \n",
       "264        1  3210.0      7   29     4     79     2638      1        0   \n",
       "265        1   715.0      5   31     4     75     1084      0        1   \n",
       "266        1   600.0     11   33     3     67     1197      1        0   \n",
       "267        0  2500.0      6   28     4     78     2113      0        0   \n",
       "268        0  2000.0     12   33     3     30      282      0        1   \n",
       "\n",
       "     center  points  rebounds  assists  draft  allstar  avgmin  black  \\\n",
       "0         0      16         4        5   19.0        0   37.23      1   \n",
       "1         0      13         3        9   28.0        0   35.76      1   \n",
       "2         1       6         3        0   19.0        0   15.53      1   \n",
       "3         0       7         5        2    1.0        0   25.06      1   \n",
       "4         0      11         4        3   24.0        0   25.56      1   \n",
       "..      ...     ...       ...      ...    ...      ...     ...    ...   \n",
       "264       0      20         3        3   11.0        1   33.39      1   \n",
       "265       0       5         3        1   54.0        0   14.45      1   \n",
       "266       0      10         2        2    4.0        0   17.87      1   \n",
       "267       1      16         6        2    2.0        0   27.09      0   \n",
       "268       0       2         3        1    5.0        0    9.40      1   \n",
       "\n",
       "     children  \n",
       "0           0  \n",
       "1           1  \n",
       "2           0  \n",
       "3           0  \n",
       "4           0  \n",
       "..        ...  \n",
       "264         0  \n",
       "265         1  \n",
       "266         1  \n",
       "267         0  \n",
       "268         0  \n",
       "\n",
       "[269 rows x 18 columns]"
      ]
     },
     "execution_count": 264,
     "metadata": {},
     "output_type": "execute_result"
    }
   ],
   "source": [
    "nba = pd.read_csv(\"nba.csv\")\n",
    "nba#.head()"
   ]
  },
  {
   "cell_type": "code",
   "execution_count": 265,
   "id": "e7111e7d-fa5b-4c69-aa79-6a3de519d2ec",
   "metadata": {},
   "outputs": [],
   "source": [
    "def ttest(string, df_name = 'df'):\n",
    "    if \"ttest\" in string and \"by(\" in string:\n",
    "        eq_var = True\n",
    "        nan_pol = 'propagate'\n",
    "        \n",
    "        string = string.replace(\"ttest \", \"\")\n",
    "        catvar_split = string.split(\"(\")\n",
    "        catvar = catvar_split[-1].split(\")\")[0]\n",
    "        if catvar_split[-1].split(\")\")[1].strip() == 'unequal':\n",
    "            eq_var = False\n",
    "        catvar_split[0] = \"(\".join(catvar_split[:-1])\n",
    "        var = catvar_split[0].split(\",\")[0]\n",
    "        if 'if !missing' in var:\n",
    "            var = var.split(\" \")[0]\n",
    "            nan_pol = 'omit'\n",
    "        \n",
    "        print(f\"catvar_vals = np.unique({df_name}['{catvar}'])\")\n",
    "        print(f\"if len(catvar_vals) != 2:\")\n",
    "        print(f\"    raise ValueError(f'The categorical variable ({catvar}) doesn\\\\'t have 2 groups')\")\n",
    "        \n",
    "        print(f\"df_1 = {df_name}[{df_name}['{catvar}'] == catvar_vals[0]]\")\n",
    "        print(f\"df_2 = {df_name}[{df_name}['{catvar}'] == catvar_vals[1]]\")\n",
    "        \n",
    "        print(f\"ttest = stats.ttest_ind(df_1['{var}'], df_2['{var}'], equal_var={eq_var}, nan_policy='{nan_pol}')\")\n",
    "        \n",
    "        print(f\"t_stat = ttest.statistic\")\n",
    "        print(f\"p_val = ttest.pvalue\")\n",
    "        print(\"print(f'T-stat: {t_stat}, P-value: {p_val}')\")\n"
   ]
  },
  {
   "cell_type": "code",
   "execution_count": 266,
   "id": "33adbb4a-7e0e-4934-8f3d-13ad446d9489",
   "metadata": {},
   "outputs": [
    {
     "name": "stdout",
     "output_type": "stream",
     "text": [
      "catvar_vals = np.unique(nba['guard'])\n",
      "if len(catvar_vals) != 2:\n",
      "    raise ValueError(f'The categorical variable (guard) doesn\\'t have 2 groups')\n",
      "df_1 = nba[nba['guard'] == catvar_vals[0]]\n",
      "df_2 = nba[nba['guard'] == catvar_vals[1]]\n",
      "ttest = stats.ttest_ind(df_1['wage'], df_2['wage'], equal_var=True, nan_policy='propagate')\n",
      "t_stat = ttest.statistic\n",
      "p_val = ttest.pvalue\n",
      "print(f'T-stat: {t_stat}, P-value: {p_val}')\n"
     ]
    }
   ],
   "source": [
    "ttest(\"ttest wage, by(guard)\",\"nba\")"
   ]
  },
  {
   "cell_type": "code",
   "execution_count": 267,
   "id": "3adb136b-7865-41b6-ac42-981c17496a31",
   "metadata": {},
   "outputs": [
    {
     "name": "stdout",
     "output_type": "stream",
     "text": [
      "catvar_vals = np.unique(nba['guard'])\n",
      "if len(catvar_vals) != 2:\n",
      "    raise ValueError(f'The categorical variable (guard) doesn\\'t have 2 groups')\n",
      "df_1 = nba[nba['guard'] == catvar_vals[0]]\n",
      "df_2 = nba[nba['guard'] == catvar_vals[1]]\n",
      "ttest = stats.ttest_ind(df_1['wage'], df_2['wage'], equal_var=False, nan_policy='propagate')\n",
      "t_stat = ttest.statistic\n",
      "p_val = ttest.pvalue\n",
      "print(f'T-stat: {t_stat}, P-value: {p_val}')\n"
     ]
    }
   ],
   "source": [
    "ttest(\"ttest wage, by(guard) unequal\", \"nba\")"
   ]
  },
  {
   "cell_type": "code",
   "execution_count": 268,
   "id": "39eba4fb-754e-49d9-a496-dd50e79b1aeb",
   "metadata": {},
   "outputs": [],
   "source": [
    "# Q1c, 1e\n",
    "\n",
    "def filter_gen(df_name, string):\n",
    "    if string.startswith(\"gen\"):\n",
    "        string = string.replace(\"gen \", \"\")\n",
    "        str_split = string.split(\"=\",1)\n",
    "        str_split = [x.strip() for x in str_split]\n",
    "        new_col_name = str_split[0]\n",
    "        if str_split[1].count(\"=\")>0:\n",
    "            if str_split[1].startswith(\"(\"):\n",
    "                str_split[1] = str_split[1][1:-1]\n",
    "            filter_split = str_split[1].split(\" \", 1)\n",
    "            new_string = f\"{df_name}['{new_col_name}'] = {df_name}['{filter_split[0]}'] {filter_split[1]}\"\n",
    "            new_string_split = new_string.split(\" = \", 1)\n",
    "            print(new_string)\n",
    "        else:\n",
    "            words_lst = re.findall(r'\\w\\w+',str_split[1])\n",
    "            for word in words_lst:\n",
    "                if word not in ['log']:\n",
    "                    str_split[1] = str_split[1].replace(word, f\"{df_name}['{word}']\")\n",
    "                else:\n",
    "                    str_split[1] = str_split[1].replace(word, f\"np.{word}\")\n",
    "            new_string = f\"{df_name}['{new_col_name}'] = {str_split[1]}\"\n",
    "            print(new_string)\n",
    "            "
   ]
  },
  {
   "cell_type": "code",
   "execution_count": 269,
   "id": "0d663e7d-39b5-4399-b9ea-5dc16349359e",
   "metadata": {},
   "outputs": [
    {
     "name": "stdout",
     "output_type": "stream",
     "text": [
      "nba['degree'] = nba['coll'] >= 4\n"
     ]
    }
   ],
   "source": [
    "filter_gen(\"nba\",\"gen degree = (coll >= 4)\")"
   ]
  },
  {
   "cell_type": "code",
   "execution_count": 270,
   "id": "8a41684e-4569-4418-b5cf-fe26923847fa",
   "metadata": {},
   "outputs": [
    {
     "name": "stdout",
     "output_type": "stream",
     "text": [
      "nba['productivity'] = nba['points']/(nba['minutes']/nba['games'])\n"
     ]
    }
   ],
   "source": [
    "filter_gen(\"nba\",\"gen productivity = points/(minutes/games)\")"
   ]
  },
  {
   "cell_type": "code",
   "execution_count": 271,
   "id": "0fd8cc3e-ae86-4c0d-85b1-a0b5bfc34a05",
   "metadata": {},
   "outputs": [],
   "source": [
    "# Q1g\n",
    "\n",
    "def corr(df_name, string):\n",
    "    if string.startswith(\"pwcorr\"):\n",
    "        string = string.replace(\"pwcorr \", \"\")\n",
    "        words_lst = re.findall(r'[a-zA-Z]+',string)\n",
    "        print(f\"{df_name}[{words_lst}].corr()\")"
   ]
  },
  {
   "cell_type": "code",
   "execution_count": 272,
   "id": "279e95c8-895f-4d1c-9dca-478ad7d97f11",
   "metadata": {},
   "outputs": [
    {
     "name": "stdout",
     "output_type": "stream",
     "text": [
      "nba[['points', 'assists', 'rebounds']].corr()\n"
     ]
    }
   ],
   "source": [
    "corr(\"nba\",\"pwcorr points assists rebounds\")"
   ]
  },
  {
   "cell_type": "code",
   "execution_count": 273,
   "id": "b6046839-63c2-4f10-921c-b0b209a2a95a",
   "metadata": {},
   "outputs": [
    {
     "name": "stdout",
     "output_type": "stream",
     "text": [
      "nba['index'] = nba['points'] + nba['rebounds'] + 2*nba['assists']\n"
     ]
    }
   ],
   "source": [
    "filter_gen(\"nba\",\"gen index = points + rebounds + 2*assists\")"
   ]
  },
  {
   "cell_type": "code",
   "execution_count": 274,
   "id": "246da76e-66c8-46fd-8fc3-d35ef2514c97",
   "metadata": {},
   "outputs": [
    {
     "name": "stdout",
     "output_type": "stream",
     "text": [
      "nba['payoff'] = nba['index']/nba['wage']\n"
     ]
    }
   ],
   "source": [
    "filter_gen(\"nba\",\"gen payoff = index/wage\")"
   ]
  },
  {
   "cell_type": "code",
   "execution_count": 275,
   "id": "236fc16f-c170-48aa-8e1c-faa2c59181e4",
   "metadata": {},
   "outputs": [
    {
     "data": {
      "text/html": [
       "<div>\n",
       "<style scoped>\n",
       "    .dataframe tbody tr th:only-of-type {\n",
       "        vertical-align: middle;\n",
       "    }\n",
       "\n",
       "    .dataframe tbody tr th {\n",
       "        vertical-align: top;\n",
       "    }\n",
       "\n",
       "    .dataframe thead th {\n",
       "        text-align: right;\n",
       "    }\n",
       "</style>\n",
       "<table border=\"1\" class=\"dataframe\">\n",
       "  <thead>\n",
       "    <tr style=\"text-align: right;\">\n",
       "      <th></th>\n",
       "      <th>year</th>\n",
       "      <th>countryname</th>\n",
       "      <th>countrycode</th>\n",
       "      <th>gdp</th>\n",
       "      <th>gdppc</th>\n",
       "      <th>co2</th>\n",
       "      <th>co2pc</th>\n",
       "      <th>population</th>\n",
       "      <th>oecd</th>\n",
       "    </tr>\n",
       "  </thead>\n",
       "  <tbody>\n",
       "    <tr>\n",
       "      <th>0</th>\n",
       "      <td>2010</td>\n",
       "      <td>Zambia</td>\n",
       "      <td>ZMB</td>\n",
       "      <td>9.799629e+09</td>\n",
       "      <td>741.4421</td>\n",
       "      <td>2427.554</td>\n",
       "      <td>0.183669</td>\n",
       "      <td>13216985</td>\n",
       "      <td>0.0</td>\n",
       "    </tr>\n",
       "    <tr>\n",
       "      <th>1</th>\n",
       "      <td>2010</td>\n",
       "      <td>French Polynesia</td>\n",
       "      <td>PYF</td>\n",
       "      <td>NaN</td>\n",
       "      <td>NaN</td>\n",
       "      <td>883.747</td>\n",
       "      <td>3.296764</td>\n",
       "      <td>268065</td>\n",
       "      <td>0.0</td>\n",
       "    </tr>\n",
       "    <tr>\n",
       "      <th>2</th>\n",
       "      <td>2010</td>\n",
       "      <td>Monaco</td>\n",
       "      <td>MCO</td>\n",
       "      <td>NaN</td>\n",
       "      <td>NaN</td>\n",
       "      <td>NaN</td>\n",
       "      <td>NaN</td>\n",
       "      <td>36845</td>\n",
       "      <td>0.0</td>\n",
       "    </tr>\n",
       "    <tr>\n",
       "      <th>3</th>\n",
       "      <td>2010</td>\n",
       "      <td>Ukraine</td>\n",
       "      <td>UKR</td>\n",
       "      <td>9.057726e+10</td>\n",
       "      <td>1974.6212</td>\n",
       "      <td>304804.720</td>\n",
       "      <td>6.644867</td>\n",
       "      <td>45870700</td>\n",
       "      <td>0.0</td>\n",
       "    </tr>\n",
       "    <tr>\n",
       "      <th>4</th>\n",
       "      <td>2010</td>\n",
       "      <td>Venezuela, RB</td>\n",
       "      <td>VEN</td>\n",
       "      <td>1.750000e+11</td>\n",
       "      <td>6010.0270</td>\n",
       "      <td>201747.340</td>\n",
       "      <td>6.946437</td>\n",
       "      <td>29043283</td>\n",
       "      <td>0.0</td>\n",
       "    </tr>\n",
       "  </tbody>\n",
       "</table>\n",
       "</div>"
      ],
      "text/plain": [
       "   year       countryname countrycode           gdp      gdppc         co2  \\\n",
       "0  2010            Zambia         ZMB  9.799629e+09   741.4421    2427.554   \n",
       "1  2010  French Polynesia         PYF           NaN        NaN     883.747   \n",
       "2  2010            Monaco         MCO           NaN        NaN         NaN   \n",
       "3  2010           Ukraine         UKR  9.057726e+10  1974.6212  304804.720   \n",
       "4  2010     Venezuela, RB         VEN  1.750000e+11  6010.0270  201747.340   \n",
       "\n",
       "      co2pc  population  oecd  \n",
       "0  0.183669    13216985   0.0  \n",
       "1  3.296764      268065   0.0  \n",
       "2       NaN       36845   0.0  \n",
       "3  6.644867    45870700   0.0  \n",
       "4  6.946437    29043283   0.0  "
      ]
     },
     "execution_count": 275,
     "metadata": {},
     "output_type": "execute_result"
    }
   ],
   "source": [
    "pollution = pd.read_csv(\"pollution.csv\")\n",
    "pollution.head()"
   ]
  },
  {
   "cell_type": "code",
   "execution_count": 276,
   "id": "0441613b-3c14-4269-9d0f-b2bc268b68e6",
   "metadata": {},
   "outputs": [
    {
     "name": "stdout",
     "output_type": "stream",
     "text": [
      "catvar_vals = np.unique(pollution['oecd'])\n",
      "if len(catvar_vals) != 2:\n",
      "    raise ValueError(f'The categorical variable (oecd) doesn\\'t have 2 groups')\n",
      "df_1 = pollution[pollution['oecd'] == catvar_vals[0]]\n",
      "df_2 = pollution[pollution['oecd'] == catvar_vals[1]]\n",
      "ttest = stats.ttest_ind(df_1['co2pc'], df_2['co2pc'], equal_var=False, nan_policy='omit')\n",
      "t_stat = ttest.statistic\n",
      "p_val = ttest.pvalue\n",
      "print(f'T-stat: {t_stat}, P-value: {p_val}')\n"
     ]
    }
   ],
   "source": [
    "ttest(\"ttest co2pc if !missing(countrycode), by(oecd) unequal\", \"pollution\")"
   ]
  },
  {
   "cell_type": "code",
   "execution_count": 277,
   "id": "81c541c4-0282-450a-b714-76c563100b37",
   "metadata": {},
   "outputs": [
    {
     "name": "stdout",
     "output_type": "stream",
     "text": [
      "pollution['log_gdp'] = np.log(pollution['gdp'])\n",
      "pollution['log_co2'] = np.log(pollution['co2'])\n"
     ]
    }
   ],
   "source": [
    "filter_gen(\"pollution\",\"gen log_gdp = log(gdp)\")\n",
    "filter_gen(\"pollution\",\"gen log_co2 = log(co2)\")"
   ]
  },
  {
   "cell_type": "code",
   "execution_count": 278,
   "id": "20479ded-356a-4727-99a1-5c2663bbca8e",
   "metadata": {},
   "outputs": [],
   "source": [
    "pollution['log_gdp'] = np.log(pollution['gdp'])\n",
    "pollution['log_co2'] = np.log(pollution['co2'])"
   ]
  },
  {
   "cell_type": "code",
   "execution_count": 279,
   "id": "ce719364-fda7-472a-a91e-acf0bbdb4a6d",
   "metadata": {},
   "outputs": [],
   "source": [
    "def scatter(string, df_name = 'df'):\n",
    "    if string.startswith(\"twoway\"):\n",
    "        string = string.replace(\"twoway (\",\"\")[:-2]\n",
    "        command = string.split(\",\")[0].strip()\n",
    "        customizations = string.split(\",\")[1].strip()\n",
    "        df = eval(df_name)\n",
    "        if command.startswith(\"scatter\"):\n",
    "            var_1 = command.split(\" \")[1]\n",
    "            var_2 = command.split(\" \")[2]\n",
    "            print(f\"plt.scatter({df_name}['{var_1}'], {df_name}['{var_2}']);\")\n",
    "        customizations_split = customizations.split(\")\")\n",
    "        for word in customizations_split:\n",
    "            word = word.strip()\n",
    "            if word.startswith(\"xtitle\"):\n",
    "                xtitle = word.split(\"(\")[1]\n",
    "                if xtitle.startswith(\"'\"):\n",
    "                    xtitle = xtitle[1:]\n",
    "                if xtitle.endswith(\"'\"):\n",
    "                    xtitle = xtitle[:-1]\n",
    "                print(f\"plt.xlabel('{xtitle}');\")\n",
    "            if word.startswith(\"ytitle\"):\n",
    "                ytitle = word.split(\"(\")[1]\n",
    "                if ytitle.startswith(\"'\"):\n",
    "                    ytitle = ytitle[1:]\n",
    "                if ytitle.endswith(\"'\"):\n",
    "                    ytitle = ytitle[:-1]\n",
    "                print(f\"plt.ylabel('{ytitle}');\")"
   ]
  },
  {
   "cell_type": "code",
   "execution_count": 280,
   "id": "ca110239-5d6c-4d92-b3a3-2d3d122f5ea2",
   "metadata": {},
   "outputs": [
    {
     "name": "stdout",
     "output_type": "stream",
     "text": [
      "plt.scatter(pollution['log_gdp'], pollution['log_co2']);\n",
      "plt.xlabel('log gdp');\n",
      "plt.ylabel('log co2');\n"
     ]
    }
   ],
   "source": [
    "scatter(\"twoway (scatter log_gdp log_co2, xtitle('log gdp') ytitle('log co2'))\",\"pollution\")"
   ]
  },
  {
   "cell_type": "code",
   "execution_count": 281,
   "id": "37e1c7a5-4bc2-4dbf-a230-34d589c685ae",
   "metadata": {},
   "outputs": [
    {
     "data": {
      "text/html": [
       "<div>\n",
       "<style scoped>\n",
       "    .dataframe tbody tr th:only-of-type {\n",
       "        vertical-align: middle;\n",
       "    }\n",
       "\n",
       "    .dataframe tbody tr th {\n",
       "        vertical-align: top;\n",
       "    }\n",
       "\n",
       "    .dataframe thead th {\n",
       "        text-align: right;\n",
       "    }\n",
       "</style>\n",
       "<table border=\"1\" class=\"dataframe\">\n",
       "  <thead>\n",
       "    <tr style=\"text-align: right;\">\n",
       "      <th></th>\n",
       "      <th>v</th>\n",
       "      <th>x</th>\n",
       "      <th>u</th>\n",
       "      <th>y</th>\n",
       "    </tr>\n",
       "  </thead>\n",
       "  <tbody>\n",
       "    <tr>\n",
       "      <th>0</th>\n",
       "      <td>0.650838</td>\n",
       "      <td>23.016757</td>\n",
       "      <td>-20.449512</td>\n",
       "      <td>124.634271</td>\n",
       "    </tr>\n",
       "    <tr>\n",
       "      <th>1</th>\n",
       "      <td>0.939047</td>\n",
       "      <td>28.780941</td>\n",
       "      <td>173.290272</td>\n",
       "      <td>347.194975</td>\n",
       "    </tr>\n",
       "    <tr>\n",
       "      <th>2</th>\n",
       "      <td>0.859112</td>\n",
       "      <td>27.182241</td>\n",
       "      <td>36.786572</td>\n",
       "      <td>202.697775</td>\n",
       "    </tr>\n",
       "    <tr>\n",
       "      <th>3</th>\n",
       "      <td>0.864375</td>\n",
       "      <td>27.287491</td>\n",
       "      <td>-127.745515</td>\n",
       "      <td>38.691941</td>\n",
       "    </tr>\n",
       "    <tr>\n",
       "      <th>4</th>\n",
       "      <td>0.404738</td>\n",
       "      <td>18.094758</td>\n",
       "      <td>172.817931</td>\n",
       "      <td>293.291723</td>\n",
       "    </tr>\n",
       "  </tbody>\n",
       "</table>\n",
       "</div>"
      ],
      "text/plain": [
       "          v          x           u           y\n",
       "0  0.650838  23.016757  -20.449512  124.634271\n",
       "1  0.939047  28.780941  173.290272  347.194975\n",
       "2  0.859112  27.182241   36.786572  202.697775\n",
       "3  0.864375  27.287491 -127.745515   38.691941\n",
       "4  0.404738  18.094758  172.817931  293.291723"
      ]
     },
     "execution_count": 281,
     "metadata": {},
     "output_type": "execute_result"
    }
   ],
   "source": [
    "v = np.random.random_sample(100)\n",
    "x = 10 + 20 * v\n",
    "u = np.random.normal(0, 100, 100)\n",
    "y = 30 + 5 * x + u\n",
    "df_all = pd.DataFrame(data={'v':v, 'x':x,'u':u,'y':y})\n",
    "df_all.head()"
   ]
  },
  {
   "cell_type": "code",
   "execution_count": 282,
   "id": "dffef6f1-2440-4f7d-937f-022e758d8785",
   "metadata": {},
   "outputs": [
    {
     "name": "stdout",
     "output_type": "stream",
     "text": [
      "plt.scatter(df_all['x'], df_all['y']);\n",
      "plt.xlabel('x');\n",
      "plt.ylabel('y');\n"
     ]
    }
   ],
   "source": [
    "scatter(df_name=\"df_all\", string='twoway (scatter x y, xtitle(x) ytitle(y))')"
   ]
  },
  {
   "cell_type": "code",
   "execution_count": 283,
   "id": "1e421799-3605-4fe6-b886-17cbb80609ef",
   "metadata": {},
   "outputs": [],
   "source": [
    "def describe(string, df_name='df'):\n",
    "    if string.startswith('describe'):\n",
    "        print(f'{df_name}.describe()')"
   ]
  },
  {
   "cell_type": "code",
   "execution_count": 284,
   "id": "3dbc964a-bf38-4fdf-81e3-16a4e00e56cc",
   "metadata": {},
   "outputs": [
    {
     "data": {
      "text/html": [
       "<div>\n",
       "<style scoped>\n",
       "    .dataframe tbody tr th:only-of-type {\n",
       "        vertical-align: middle;\n",
       "    }\n",
       "\n",
       "    .dataframe tbody tr th {\n",
       "        vertical-align: top;\n",
       "    }\n",
       "\n",
       "    .dataframe thead th {\n",
       "        text-align: right;\n",
       "    }\n",
       "</style>\n",
       "<table border=\"1\" class=\"dataframe\">\n",
       "  <thead>\n",
       "    <tr style=\"text-align: right;\">\n",
       "      <th></th>\n",
       "      <th>hispanic</th>\n",
       "      <th>citizen</th>\n",
       "      <th>black</th>\n",
       "      <th>exp</th>\n",
       "      <th>wage</th>\n",
       "      <th>female</th>\n",
       "      <th>education</th>\n",
       "    </tr>\n",
       "  </thead>\n",
       "  <tbody>\n",
       "    <tr>\n",
       "      <th>0</th>\n",
       "      <td>1</td>\n",
       "      <td>1</td>\n",
       "      <td>0</td>\n",
       "      <td>14.0</td>\n",
       "      <td>5.288462</td>\n",
       "      <td>1</td>\n",
       "      <td>9</td>\n",
       "    </tr>\n",
       "    <tr>\n",
       "      <th>1</th>\n",
       "      <td>0</td>\n",
       "      <td>1</td>\n",
       "      <td>0</td>\n",
       "      <td>14.7</td>\n",
       "      <td>8.461538</td>\n",
       "      <td>1</td>\n",
       "      <td>13</td>\n",
       "    </tr>\n",
       "    <tr>\n",
       "      <th>2</th>\n",
       "      <td>0</td>\n",
       "      <td>1</td>\n",
       "      <td>0</td>\n",
       "      <td>14.7</td>\n",
       "      <td>10.416667</td>\n",
       "      <td>1</td>\n",
       "      <td>13</td>\n",
       "    </tr>\n",
       "    <tr>\n",
       "      <th>3</th>\n",
       "      <td>0</td>\n",
       "      <td>1</td>\n",
       "      <td>0</td>\n",
       "      <td>14.0</td>\n",
       "      <td>21.634615</td>\n",
       "      <td>1</td>\n",
       "      <td>14</td>\n",
       "    </tr>\n",
       "    <tr>\n",
       "      <th>4</th>\n",
       "      <td>1</td>\n",
       "      <td>0</td>\n",
       "      <td>0</td>\n",
       "      <td>12.0</td>\n",
       "      <td>3.365385</td>\n",
       "      <td>1</td>\n",
       "      <td>12</td>\n",
       "    </tr>\n",
       "  </tbody>\n",
       "</table>\n",
       "</div>"
      ],
      "text/plain": [
       "   hispanic  citizen  black   exp       wage  female  education\n",
       "0         1        1      0  14.0   5.288462       1          9\n",
       "1         0        1      0  14.7   8.461538       1         13\n",
       "2         0        1      0  14.7  10.416667       1         13\n",
       "3         0        1      0  14.0  21.634615       1         14\n",
       "4         1        0      0  12.0   3.365385       1         12"
      ]
     },
     "execution_count": 284,
     "metadata": {},
     "output_type": "execute_result"
    }
   ],
   "source": [
    "la = pd.read_csv(\"la.csv\")\n",
    "la.head()"
   ]
  },
  {
   "cell_type": "code",
   "execution_count": 285,
   "id": "42965970-6fcd-4afe-b4be-4a5c75c83683",
   "metadata": {},
   "outputs": [
    {
     "name": "stdout",
     "output_type": "stream",
     "text": [
      "la.describe()\n"
     ]
    }
   ],
   "source": [
    "describe(\"describe\",\"la\")"
   ]
  },
  {
   "cell_type": "code",
   "execution_count": 286,
   "id": "60ed6bea-ad44-47c5-a145-12c0644825bc",
   "metadata": {},
   "outputs": [],
   "source": [
    "def hist(string, df_name='df'):\n",
    "    if string.startswith('histogram'):\n",
    "        string = string.replace('histogram ','')\n",
    "        str_split = string.split(\", \")\n",
    "        num_bins_change = False\n",
    "        num_bins = 0\n",
    "        for word in str_split:\n",
    "            if word.startswith(\"bin\"):\n",
    "                num_bins_change = True\n",
    "                num_bins = int(word.split(\"(\")[1].split(\")\")[0])\n",
    "        if num_bins_change == False:\n",
    "            print(f\"{df_name}.hist(column='{str_split[0]}');\")\n",
    "        else:\n",
    "            print(f\"{df_name}.hist(column='{str_split[0]}',bins={num_bins});\")"
   ]
  },
  {
   "cell_type": "code",
   "execution_count": 287,
   "id": "3e7efa15-af2b-45cc-9765-b77fa5102630",
   "metadata": {},
   "outputs": [
    {
     "name": "stdout",
     "output_type": "stream",
     "text": [
      "la.hist(column='wage',bins=80);\n"
     ]
    }
   ],
   "source": [
    "hist(\"histogram wage, bin(80)\",\"la\");"
   ]
  },
  {
   "cell_type": "markdown",
   "id": "b097a82d-f823-43bb-ab43-bd3b34c7d2c0",
   "metadata": {},
   "source": [
    "## PSET 2"
   ]
  },
  {
   "cell_type": "code",
   "execution_count": 289,
   "id": "6b6c453d-62b8-4f54-ac87-5992582f5a32",
   "metadata": {},
   "outputs": [],
   "source": [
    "v = np.random.random_sample(100)\n",
    "x = 10 + 20 * v\n",
    "u = np.random.normal(0, 100, 100)\n",
    "y = 30 + 5 * x + u"
   ]
  },
  {
   "cell_type": "code",
   "execution_count": null,
   "id": "17d9d63c-5f45-4a9d-b7c1-d5b319675e5d",
   "metadata": {},
   "outputs": [],
   "source": []
  }
 ],
 "metadata": {
  "kernelspec": {
   "display_name": "Python [conda env:sklearn-env]",
   "language": "python",
   "name": "conda-env-sklearn-env-py"
  },
  "language_info": {
   "codemirror_mode": {
    "name": "ipython",
    "version": 3
   },
   "file_extension": ".py",
   "mimetype": "text/x-python",
   "name": "python",
   "nbconvert_exporter": "python",
   "pygments_lexer": "ipython3",
   "version": "3.11.0"
  }
 },
 "nbformat": 4,
 "nbformat_minor": 5
}
