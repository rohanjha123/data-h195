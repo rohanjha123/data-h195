{
 "cells": [
  {
   "cell_type": "code",
   "execution_count": 1,
   "id": "19528d90-2817-483c-8d39-3d13b58b502c",
   "metadata": {},
   "outputs": [],
   "source": [
    "import pandas as pd\n",
    "import numpy as np\n",
    "import regex as re"
   ]
  },
  {
   "cell_type": "markdown",
   "id": "0dc3dc82-e95c-4df5-bd26-5137c1265ba8",
   "metadata": {},
   "source": [
    "# Python String Methods\n",
    "\n",
    "First, we'll introduce a few methods useful for string manipulation. The following table includes a number of string operations supported by Python and `pandas`. The Python functions operate on a single string, while their equivalent in `pandas` are  **vectorized** - they operate on a Series of string data.\n",
    "\n",
    "| Operation             | Strings in Python | Strings in Series (Dataframe Columns) |\n",
    "|-----------------------|-----------------|---------------------------|\n",
    "| Transformation        | - `s.lower(_)`, `s.upper(_)`  | - `ser.str.lower(_)`, `ser.str.upper(_)`      |\n",
    "| Replacement + Deletion| - `s.replace(_)`| - `ser.str.replace(_)`    |\n",
    "| Split                 | - `s.split(_)`  | - `ser.str.split(_)`      |\n",
    "| Substring             | - `s[1:4]`      | - `ser.str[1:4]`          |\n",
    "| Membership            | - `'_' in s`    | - `ser.str.contains(_)`   |\n",
    "| Length                | - `len(s)`      | - `ser.str.len()`         |"
   ]
  },
  {
   "cell_type": "markdown",
   "id": "384660b6-1ba1-4060-b26a-1cd51c4325ad",
   "metadata": {},
   "source": [
    "## Hello"
   ]
  },
  {
   "cell_type": "code",
   "execution_count": null,
   "id": "b9d03588-9e5a-44d1-9e30-61387c5b128f",
   "metadata": {},
   "outputs": [],
   "source": []
  }
 ],
 "metadata": {
  "kernelspec": {
   "display_name": "Python [conda env:sklearn-env]",
   "language": "python",
   "name": "conda-env-sklearn-env-py"
  },
  "language_info": {
   "codemirror_mode": {
    "name": "ipython",
    "version": 3
   },
   "file_extension": ".py",
   "mimetype": "text/x-python",
   "name": "python",
   "nbconvert_exporter": "python",
   "pygments_lexer": "ipython3",
   "version": "3.11.0"
  }
 },
 "nbformat": 4,
 "nbformat_minor": 5
}