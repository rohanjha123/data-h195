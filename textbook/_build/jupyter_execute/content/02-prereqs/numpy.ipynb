{
 "cells": [
  {
   "cell_type": "code",
   "execution_count": 1,
   "id": "c521fe23-f001-4ceb-a7a2-0d2b0699c05f",
   "metadata": {},
   "outputs": [],
   "source": [
    "import numpy as np"
   ]
  },
  {
   "cell_type": "markdown",
   "id": "535480b0-5807-441c-b7e0-359ad016a563",
   "metadata": {},
   "source": [
    "# Numpy"
   ]
  },
  {
   "cell_type": "markdown",
   "id": "df909da0-b16a-47ee-af04-531d5c1ee951",
   "metadata": {},
   "source": [
    "NumPy (Numerical Python) is a powerful library in Python for numerical and mathematical operations. We will give a brief overview of NumPy here, feel free to look [here](https://numpy.org/) for more details."
   ]
  },
  {
   "cell_type": "markdown",
   "id": "9494d56a-b7aa-4d67-b69e-32efce5cee9b",
   "metadata": {},
   "source": [
    "## Arrays\n",
    "\n",
    "The heart of NumPy lies in the arrays. NumPy arrays are similar to Python lists, but much faster if you have a large number of elements. They have two key differences compared to Python lists:\n",
    "- NumPy arrays have a fixed size, you cannot directly add an element like you could in a list. Instead, you have to use a function such as `np.append`, which technically create another array. \n",
    "- NumPy arrays cannot store objects of different data types and will instead convert everything to the same data type. \n",
    "\n",
    "These are demonstrated below.\n"
   ]
  },
  {
   "cell_type": "code",
   "execution_count": 2,
   "id": "ed662435-0bea-4f45-b03f-53aeec6e23c6",
   "metadata": {},
   "outputs": [
    {
     "data": {
      "text/plain": [
       "([1, 2, 3], array([1, 2, 3]))"
      ]
     },
     "execution_count": 2,
     "metadata": {},
     "output_type": "execute_result"
    }
   ],
   "source": [
    "sample_list = [1,2,3] # creating a sample list\n",
    "sample_array = np.array([1,2,3]) # creating a sample array\n",
    "sample_list, sample_array"
   ]
  },
  {
   "cell_type": "code",
   "execution_count": 3,
   "id": "28c9f463-3c73-4016-a1d7-e6cef03b2ea4",
   "metadata": {},
   "outputs": [
    {
     "data": {
      "text/plain": [
       "([1, 2, 3, 4], array([1, 2, 3, 4]))"
      ]
     },
     "execution_count": 3,
     "metadata": {},
     "output_type": "execute_result"
    }
   ],
   "source": [
    "sample_list_appended = sample_list + [4] # you can append to a list by creating another list\n",
    "sample_array_appended = np.append(sample_array, 4) # appending to arrays requires using a function\n",
    "sample_list_appended, sample_array_appended"
   ]
  },
  {
   "cell_type": "code",
   "execution_count": 4,
   "id": "5fff087e-7d04-4b3c-946a-0ad1cd76dc37",
   "metadata": {},
   "outputs": [
    {
     "data": {
      "text/plain": [
       "([1, 2, 3, 4, 'woah'], array(['1', '2', '3', '4', 'woah'], dtype='<U21'))"
      ]
     },
     "execution_count": 4,
     "metadata": {},
     "output_type": "execute_result"
    }
   ],
   "source": [
    "sample_list_str = sample_list_appended + ['woah'] # lists can store different types of data\n",
    "sample_array_str = np.append(sample_array_appended, 'woah') # arrays cannot, they convert everything to a string here\n",
    "sample_list_str, sample_array_str"
   ]
  },
  {
   "cell_type": "markdown",
   "id": "48fb4f73-deab-45ee-b24f-422582d148cc",
   "metadata": {},
   "source": [
    "You can easily do math and add/subtract different arrays with the same dimensions, as shown below."
   ]
  },
  {
   "cell_type": "code",
   "execution_count": 5,
   "id": "3ff24649-6e49-4dc9-a8b8-d4f627f9eb18",
   "metadata": {},
   "outputs": [
    {
     "name": "stdout",
     "output_type": "stream",
     "text": [
      "[1 2 3 4] + 1 is: [2 3 4 5]\n",
      "[1 2 3 4] * 8 is: [ 8 16 24 32]\n",
      "[1 2 3 4] + [5 6 7 8] is: [ 6  8 10 12]\n",
      "[1 2 3 4] - [5 6 7 8] is: [-4 -4 -4 -4]\n",
      "[1 2 3 4] squared is: [ 1  4  9 16]\n"
     ]
    }
   ],
   "source": [
    "print(f\"{sample_array_appended} + {1} is: {sample_array_appended + 1}\")\n",
    "print(f\"{sample_array_appended} * {8} is: {sample_array_appended * 8}\")\n",
    "print(f\"{sample_array_appended} + {np.arange(5,9)} is: {sample_array_appended + np.arange(5,9)}\")\n",
    "print(f\"{sample_array_appended} - {np.arange(5,9)} is: {sample_array_appended - np.arange(5,9)}\")\n",
    "print(f\"{sample_array_appended} squared is: {sample_array_appended ** 2}\")"
   ]
  },
  {
   "cell_type": "markdown",
   "id": "7ce1fe51-0cd6-40de-a9d0-0f93679226ad",
   "metadata": {},
   "source": [
    "`NumPy` also has several built-in functions you can use to work on arrays of numbers; examples shown below."
   ]
  },
  {
   "cell_type": "code",
   "execution_count": 9,
   "id": "90b34e14-5613-4611-af02-3d34ceaecb95",
   "metadata": {},
   "outputs": [
    {
     "data": {
      "text/plain": [
       "array([1, 2, 3, 4])"
      ]
     },
     "execution_count": 9,
     "metadata": {},
     "output_type": "execute_result"
    }
   ],
   "source": [
    "sample_array_appended"
   ]
  },
  {
   "cell_type": "code",
   "execution_count": 6,
   "id": "d787c085-31b9-432e-a139-fb2c90984807",
   "metadata": {},
   "outputs": [
    {
     "data": {
      "text/plain": [
       "10"
      ]
     },
     "execution_count": 6,
     "metadata": {},
     "output_type": "execute_result"
    }
   ],
   "source": [
    "np.sum(sample_array_appended)"
   ]
  },
  {
   "cell_type": "code",
   "execution_count": 7,
   "id": "00b69826-164b-48a7-abfa-638087bb296c",
   "metadata": {},
   "outputs": [
    {
     "data": {
      "text/plain": [
       "2.5"
      ]
     },
     "execution_count": 7,
     "metadata": {},
     "output_type": "execute_result"
    }
   ],
   "source": [
    "np.mean(sample_array_appended)"
   ]
  },
  {
   "cell_type": "code",
   "execution_count": 8,
   "id": "d28fbc3d-0342-4868-8878-ef1d77303bb3",
   "metadata": {},
   "outputs": [
    {
     "data": {
      "text/plain": [
       "(1, 4)"
      ]
     },
     "execution_count": 8,
     "metadata": {},
     "output_type": "execute_result"
    }
   ],
   "source": [
    "np.min(sample_array_appended), np.max(sample_array_appended)"
   ]
  },
  {
   "cell_type": "code",
   "execution_count": 10,
   "id": "b68e5589-2c67-4066-9c8f-1a1b6f630701",
   "metadata": {},
   "outputs": [
    {
     "data": {
      "text/plain": [
       "1.118033988749895"
      ]
     },
     "execution_count": 10,
     "metadata": {},
     "output_type": "execute_result"
    }
   ],
   "source": [
    "np.std(sample_array_appended)"
   ]
  },
  {
   "cell_type": "markdown",
   "id": "ef596b77-7a31-499c-8268-17864d345364",
   "metadata": {},
   "source": [
    "Moreover, you can also define matrices as 2-dimensional numpy arrays, as shown below:"
   ]
  },
  {
   "cell_type": "code",
   "execution_count": 11,
   "id": "1391ad0e-98fb-4a01-97bf-bb22f354ecc6",
   "metadata": {},
   "outputs": [
    {
     "data": {
      "text/plain": [
       "array([[1, 2, 3],\n",
       "       [4, 5, 6],\n",
       "       [7, 8, 9]])"
      ]
     },
     "execution_count": 11,
     "metadata": {},
     "output_type": "execute_result"
    }
   ],
   "source": [
    "first_matrix = np.array([[1, 2, 3],[4, 5, 6],[7, 8, 9]])\n",
    "first_matrix"
   ]
  },
  {
   "cell_type": "markdown",
   "id": "54bc8b99-607f-49dc-8ad6-38e1ecbd7b79",
   "metadata": {},
   "source": [
    "You can use the `.shape` attribute for seeing the dimensions (number of rows/columns) of the numpy array."
   ]
  },
  {
   "cell_type": "code",
   "execution_count": 12,
   "id": "507f19c9-b3e8-4cd7-9500-9ef8cac3df11",
   "metadata": {},
   "outputs": [
    {
     "data": {
      "text/plain": [
       "(3, 3)"
      ]
     },
     "execution_count": 12,
     "metadata": {},
     "output_type": "execute_result"
    }
   ],
   "source": [
    "first_matrix.shape"
   ]
  },
  {
   "cell_type": "markdown",
   "id": "842ea35d-2960-40a3-9a4e-79450bf34ff2",
   "metadata": {},
   "source": [
    "The `np.arange` function is very helpful for defining new arrays of numbers ([read more here](https://numpy.org/doc/stable/reference/generated/numpy.arange.html)). Examples are shown below."
   ]
  },
  {
   "cell_type": "code",
   "execution_count": 13,
   "id": "ad57d107-eb6c-4845-8aa9-24e90d0b234f",
   "metadata": {},
   "outputs": [
    {
     "data": {
      "text/plain": [
       "array([0, 1, 2, 3, 4, 5, 6, 7, 8, 9])"
      ]
     },
     "execution_count": 13,
     "metadata": {},
     "output_type": "execute_result"
    }
   ],
   "source": [
    "np.arange(10) #Starts at 0, ends at 9 (non-inclusive on the ending side), gives you all whole numbers"
   ]
  },
  {
   "cell_type": "code",
   "execution_count": 14,
   "id": "d558b41b-da9b-438c-b50a-ab97653efe20",
   "metadata": {},
   "outputs": [
    {
     "data": {
      "text/plain": [
       "array([0, 2, 4, 6, 8])"
      ]
     },
     "execution_count": 14,
     "metadata": {},
     "output_type": "execute_result"
    }
   ],
   "source": [
    "np.arange(0, 10, 2) # Starts at 0, ends at 9, gives you numbers in increments of 2"
   ]
  },
  {
   "cell_type": "code",
   "execution_count": 15,
   "id": "dddc327f-3acb-4add-a986-b9a3e02fa0ff",
   "metadata": {},
   "outputs": [
    {
     "data": {
      "text/plain": [
       "array([3. , 3.5, 4. , 4.5, 5. , 5.5, 6. , 6.5, 7. , 7.5])"
      ]
     },
     "execution_count": 15,
     "metadata": {},
     "output_type": "execute_result"
    }
   ],
   "source": [
    "np.arange(3, 8, 0.5) # Starts at 3, ends at 7.5, gives you numbers in increments of 0.5"
   ]
  },
  {
   "cell_type": "code",
   "execution_count": 16,
   "id": "7c93f544-7233-4f43-bc8a-e519879b2007",
   "metadata": {},
   "outputs": [
    {
     "data": {
      "text/plain": [
       "array([10,  8,  6,  4,  2])"
      ]
     },
     "execution_count": 16,
     "metadata": {},
     "output_type": "execute_result"
    }
   ],
   "source": [
    "np.arange(10, 0, -2) # Starts at 10, ends at 2, gives you numbers in increments of -2"
   ]
  },
  {
   "cell_type": "markdown",
   "id": "851ad67f-d9f7-4d0b-ac47-f6e7c3b4b91e",
   "metadata": {},
   "source": [
    "## Slicing"
   ]
  },
  {
   "cell_type": "markdown",
   "id": "45eed2ae-1f70-452a-a2cd-796f5d1c6340",
   "metadata": {},
   "source": [
    "With `NumPy`, you can use slicing to extract portions of arrays based on true/false conditions as well as indices.\n",
    "\n",
    "If choosing to extract portions based on indices, the basic syntax often follows `array[start:stop:step]` (similar to Python lists). Examples are shown below."
   ]
  },
  {
   "cell_type": "code",
   "execution_count": 18,
   "id": "78cf7069-5a59-4269-9f73-355d8524111f",
   "metadata": {},
   "outputs": [
    {
     "data": {
      "text/plain": [
       "array([1, 2, 3, 4])"
      ]
     },
     "execution_count": 18,
     "metadata": {},
     "output_type": "execute_result"
    }
   ],
   "source": [
    "sample_array_appended = np.array([1, 2, 3, 4])\n",
    "sample_array_appended[:] \n",
    "# Using just [:] gives you all the values in the array. You don't have to include the second :\n",
    "# This happens because the default starting index is 0 and the default ending index is after the last element\n",
    "# The default step size is 1"
   ]
  },
  {
   "cell_type": "code",
   "execution_count": 19,
   "id": "84934e6d-f7e2-4706-b4d9-a91fae1ff8e9",
   "metadata": {},
   "outputs": [
    {
     "data": {
      "text/plain": [
       "array([1])"
      ]
     },
     "execution_count": 19,
     "metadata": {},
     "output_type": "execute_result"
    }
   ],
   "source": [
    "sample_array_appended[0:1] # Arrays are also 0-indexed, exclusive of the element at the `stop` index"
   ]
  },
  {
   "cell_type": "code",
   "execution_count": 20,
   "id": "bdd82832-73ba-4043-a37a-bf45a5086742",
   "metadata": {},
   "outputs": [
    {
     "data": {
      "text/plain": [
       "array([1, 3])"
      ]
     },
     "execution_count": 20,
     "metadata": {},
     "output_type": "execute_result"
    }
   ],
   "source": [
    "sample_array_appended[0:len(sample_array_appended)+1:2] # gives you every other element, starting from the first"
   ]
  },
  {
   "cell_type": "code",
   "execution_count": 21,
   "id": "9c10ce74-8785-48ea-af7f-b4d231c6f159",
   "metadata": {},
   "outputs": [
    {
     "data": {
      "text/plain": [
       "array([3, 4])"
      ]
     },
     "execution_count": 21,
     "metadata": {},
     "output_type": "execute_result"
    }
   ],
   "source": [
    "sample_array_appended[-2:] # gives you the last 2 elements"
   ]
  },
  {
   "cell_type": "markdown",
   "id": "2756b256-283e-42d9-b80c-bfa0309940a9",
   "metadata": {},
   "source": [
    "You can also use slicing with matrices (stored as 2D arrays)"
   ]
  },
  {
   "cell_type": "code",
   "execution_count": 22,
   "id": "fc31ca0d-ce2c-4cc0-a706-177761b024b5",
   "metadata": {},
   "outputs": [
    {
     "data": {
      "text/plain": [
       "array([[1, 2, 3],\n",
       "       [4, 5, 6],\n",
       "       [7, 8, 9]])"
      ]
     },
     "execution_count": 22,
     "metadata": {},
     "output_type": "execute_result"
    }
   ],
   "source": [
    "first_matrix = np.array([[1, 2, 3],[4, 5, 6],[7, 8, 9]])\n",
    "first_matrix[:,:] # You're now slicing along 2 axes (rows and columns), separated by a comma"
   ]
  },
  {
   "cell_type": "code",
   "execution_count": 23,
   "id": "261851aa-854a-4299-8773-e9fcd41c9f50",
   "metadata": {},
   "outputs": [
    {
     "data": {
      "text/plain": [
       "array([4, 5, 6])"
      ]
     },
     "execution_count": 23,
     "metadata": {},
     "output_type": "execute_result"
    }
   ],
   "source": [
    "first_matrix[1,:] # Returns the row at row index 1"
   ]
  },
  {
   "cell_type": "code",
   "execution_count": 24,
   "id": "43e3761c-4868-45a0-8c05-e89adb327e97",
   "metadata": {},
   "outputs": [
    {
     "data": {
      "text/plain": [
       "array([2, 5, 8])"
      ]
     },
     "execution_count": 24,
     "metadata": {},
     "output_type": "execute_result"
    }
   ],
   "source": [
    "first_matrix[:,1] # Returns the column and column index 1"
   ]
  },
  {
   "cell_type": "code",
   "execution_count": 25,
   "id": "843f10af-8d04-490d-ad0a-c2255f9f15c8",
   "metadata": {},
   "outputs": [
    {
     "data": {
      "text/plain": [
       "array([[2, 3],\n",
       "       [5, 6]])"
      ]
     },
     "execution_count": 25,
     "metadata": {},
     "output_type": "execute_result"
    }
   ],
   "source": [
    "first_matrix[0:2,1:3] # Returns all rows with row indices 0 and 1 and all columns with column indices 1 and 2"
   ]
  },
  {
   "cell_type": "markdown",
   "id": "91327a51-0d4a-4c11-a17f-58df82c1d163",
   "metadata": {},
   "source": [
    "As mentioned earlier, we can also slice based on true/false conditions. Examples included below."
   ]
  },
  {
   "cell_type": "code",
   "execution_count": 35,
   "id": "c9a8561e-9a4a-4196-9dfe-0f6f2759123b",
   "metadata": {},
   "outputs": [
    {
     "name": "stdout",
     "output_type": "stream",
     "text": [
      "The original array is [1 2 3 4]\n",
      "Let's say we want to keep all values less than 3\n",
      "The filtering condition is:  [ True  True False False]\n",
      "The filtered output is: [1 2]\n"
     ]
    }
   ],
   "source": [
    "sample_array_appended = np.array([1, 2, 3, 4])\n",
    "print(f\"The original array is {sample_array_appended}\")\n",
    "print(f\"Let's say we want to keep all values less than 3\")\n",
    "print(f\"The filtering condition is:  {sample_array_appended < 3}\")\n",
    "print(f\"The filtered output is: {sample_array_appended[sample_array_appended < 3]}\")"
   ]
  },
  {
   "cell_type": "code",
   "execution_count": 27,
   "id": "bf38bc5d-b85c-4406-b9dd-1b7191a52ea0",
   "metadata": {},
   "outputs": [
    {
     "name": "stdout",
     "output_type": "stream",
     "text": [
      "[False  True  True  True]\n"
     ]
    },
    {
     "data": {
      "text/plain": [
       "array([2, 3, 4])"
      ]
     },
     "execution_count": 27,
     "metadata": {},
     "output_type": "execute_result"
    }
   ],
   "source": [
    "print(sample_array_appended**2 >= 4) # The output of this is an array of true/false values\n",
    "sample_array_appended[sample_array_appended**2 >= 4] # We keep all indices in the original array where the value is True"
   ]
  }
 ],
 "metadata": {
  "kernelspec": {
   "display_name": "Python [conda env:sklearn-env]",
   "language": "python",
   "name": "conda-env-sklearn-env-py"
  },
  "language_info": {
   "codemirror_mode": {
    "name": "ipython",
    "version": 3
   },
   "file_extension": ".py",
   "mimetype": "text/x-python",
   "name": "python",
   "nbconvert_exporter": "python",
   "pygments_lexer": "ipython3",
   "version": "3.11.0"
  }
 },
 "nbformat": 4,
 "nbformat_minor": 5
}