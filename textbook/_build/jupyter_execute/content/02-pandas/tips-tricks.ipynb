{
 "cells": [
  {
   "cell_type": "markdown",
   "id": "84204d03-0920-4cf6-8bb7-c92f96748ed4",
   "metadata": {},
   "source": [
    "# Jupyter Notebooks Tips and Tricks"
   ]
  },
  {
   "cell_type": "markdown",
   "id": "cfeb6ce9-22a5-4623-9197-2c5b40fc3e7d",
   "metadata": {},
   "source": [
    "Throughout this textbook, we will be using [Jupyter notebooks](https://jupyter.org/) to work with data. While you can use `pandas` without Jupyter notebooks, using notebooks is highly encouraged as it helps you interactively view datasets and easily see the results of multiple small iterations of data processing. If you do not already have Jupyter notebooks installed, you can see installation instructions [here](../01-python_v_stata/install.md)."
   ]
  }
 ],
 "metadata": {
  "kernelspec": {
   "display_name": "Python [conda env:sklearn-env]",
   "language": "python",
   "name": "conda-env-sklearn-env-py"
  },
  "language_info": {
   "codemirror_mode": {
    "name": "ipython",
    "version": 3
   },
   "file_extension": ".py",
   "mimetype": "text/x-python",
   "name": "python",
   "nbconvert_exporter": "python",
   "pygments_lexer": "ipython3",
   "version": "3.11.0"
  }
 },
 "nbformat": 4,
 "nbformat_minor": 5
}