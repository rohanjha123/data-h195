{
 "cells": [
  {
   "cell_type": "code",
   "execution_count": 1,
   "id": "3e0b4211-1d1e-43ec-8f4d-bf8528fd9a43",
   "metadata": {},
   "outputs": [],
   "source": [
    "import pandas as pd\n",
    "import numpy as np\n",
    "import regex as re"
   ]
  },
  {
   "cell_type": "markdown",
   "id": "a314bb0a-2e0f-43b2-a5ce-4d08ce7189a0",
   "metadata": {},
   "source": [
    "# RegEx\n",
    "\n",
    "A regular expression (“RegEx”) is a sequence of characters that specifies a search pattern. They are written to extract specific information from text. Regular expressions are essentially part of a smaller programming language embedded within python, made available through the `re` module. As such, they have a stand-alone syntax and methods for various capabilities.\n",
    "\n",
    "Regular expressions are useful in many applications beyond data science. For example, American Social Security Numbers (SSNs) are often validated with regular expressions. As a reminder, SSNs must follow the pattern: 3 digits, followed by a `-`, followed by 2 digits, followed by a `-`, finally followed by 4 digits. This can be expressed as `r\"[0-9]{3}-[0-9]{2}-[0-9]{4}\"` using RegEx.\n"
   ]
  },
  {
   "cell_type": "markdown",
   "id": "2c00c57e-296c-4964-9b7d-3720414fd829",
   "metadata": {},
   "source": [
    "You should not aim to 'memorize RegEx' or anything along those lines. There are so many things to memorize, it will be very inefficient for you to spend time on them! Instead, you should aim to understand what RegEx is capable of, and how you can use it with the aid of a reference table.\n",
    "\n",
    "There are a ton of resources to learn and experiment with regular expressions. A few are provided below:\n",
    "\n",
    "- [Official Regex Guide](https://docs.python.org/3/howto/regex.html)\n",
    "- [Data 100 Reference Sheet](https://ds100.org/sp22/resources/assets/hw/regex_reference.pdf) \n",
    "- [Regex101.com](https://regex101.com/)\n",
    "    - Be sure to choose the `Python` flavour under the category on the left."
   ]
  },
  {
   "cell_type": "markdown",
   "id": "555f3a31-ae9c-4704-9033-a92aa7ae2644",
   "metadata": {},
   "source": [
    "## Basic RegEx Syntax\n",
    "\n",
    "| Operation      | Order  | Syntax Example | Matches     | Doesn't Match     | \n",
    "|----------------|-|----------------|-------------|-------------------|\n",
    "| `Group`: `()` <br />(parenthesis)       | 1 | A(A\\|B)AAB      | AAAAB<br />ABAAB| every other string|\n",
    "|                       |    |         (AB)*A    |    A <br />ABABABABA      | AA <br />  ABBA     | \n",
    "| `Closure`: `*` <br />(zero or more)   | 2   | (AB)*A         | AA  <br />  ABBBBBBA | AB <br />  ABABA       |\n",
    "| `Concatenation`          | 3    | AABAAB         | AABAAB      | every other string|\n",
    "| `Or`: `\\|`  | 4 | AA\\|BAAB        | AA<br /> BAAB   | every other string|"
   ]
  },
  {
   "cell_type": "markdown",
   "id": "216c45fb-b664-4c82-abbb-d8f87749bbb6",
   "metadata": {},
   "source": [
    "Notice how these metacharacter operations are ordered. Rather than being literal characters, these **metacharacters** manipulate adjacent characters. `()` takes precedence, followed by `*`, and finally `|`. This allows us to differentiate between very different regex commands like `AB*` and `(AB)*`. The former reads \"`A` then zero or more copies of `B`\", while the latter specifies \"zero or more copies of `AB`\"."
   ]
  },
  {
   "cell_type": "markdown",
   "id": "77080c30-67d1-4db3-8ec1-e48683c38891",
   "metadata": {},
   "source": [
    "### Examples\n",
    "\n",
    "**Question 1**: Give a regular expression that matches `moon`, `moooon`, etc. Your expression should match any even number of `o`s except zero (i.e. don’t match `mn`).\n",
    "\n",
    "**Answer 1**: `moo(oo)*n`\n",
    "\n",
    "- Hardcoding `oo` before the capture group ensures that `mn` is not matched.\n",
    "- A capture group of `(oo)*` ensures the number of `o`'s is even.\n",
    "\n",
    "**Question 2**: Using only the basic operations, formulate a regex that matches `muun`, `muuuun`, `moon`, `moooon`, etc. Your expression should match any even number of `u`s or `o`s except zero (i.e. don’t match `mn`).\n",
    "\n",
    "**Answer 2**: `m(uu(uu)*|oo(oo)*)n`\n",
    "\n",
    "- The leading `m` and trailing `n` ensures that only strings beginning with `m` and ending with `n` are matched.\n",
    "- Notice how the outer capture group surrounds the `|`. \n",
    "    - Consider the regex `m(uu(uu)*)|(oo(oo)*)n`. This incorrectly matches `muu` and `oooon`. \n",
    "        - Each OR clause is everything to the left and right of `|`. The incorrect solution matches only half of the string, and ignores either the beginning `m` or trailing `n`.\n",
    "        - A set of paranthesis must surround `|`. That way, each OR clause is everything to the left and right of `|` **within** the group. This ensures both the beginning `m` *and* trailing `n` are matched."
   ]
  },
  {
   "cell_type": "markdown",
   "id": "e4a327ca-93d9-4f00-8a09-31402e1515a8",
   "metadata": {},
   "source": [
    "## Regex Expanded\n",
    "\n",
    "Provided below are more complex regular expression functions. \n",
    "\n",
    "| Operation                                      | Syntax Example  | Matches        |Doesn't Match     |\n",
    "|------------------------------------------------|-----------------|----------------|------------------|\n",
    "| `Any Character`: `.` <br />  (except newline)| .U.U.U.         | CUMULUS <br /> JUGULUM| SUCCUBUS  <br />  TUMULTUOUS  |\n",
    "| `Character Class`: `[]` <br /> (match one character in `[]`)| [A-Za-z][a-z]*  | word <br /> Capitalized| camelCase <br /> 4illegal|\n",
    "| `Repeated \"a\" Times`: `{a}`<br />              | j[aeiou]{3}hn   | jaoehn <br /> jooohn| jhn <br /> jaeiouhn|\n",
    "| `Repeated \"from a to b\" Times`: `{a, b}`<br /> | j[0u]{1,2}hn    | john <br /> juohn| jhn <br /> jooohn| \n",
    "| `At Least One`: `+`                            | jo+hn           | john  <br /> joooooohn     | jhn <br />jjohn|\n",
    "| `Zero or One`: `?`                             | joh?n           | jon <br /> john  | any other string |\n",
    "\n",
    "A character class matches a single character in it's class. These characters can be hardcoded -- in the case of `[aeiou]` -- or shorthand can be specified to mean a range of characters. Examples include:\n",
    "\n",
    "1. `[A-Z]`: Any capitalized letter\n",
    "2. `[a-z]`: Any lowercase letter\n",
    "3. `[0-9]`: Any single digit\n",
    "4. `[A-Za-z]`: Any capitalized of lowercase letter\n",
    "5. `[A-Za-z0-9]`: Any capitalized or lowercase letter or single digit"
   ]
  },
  {
   "cell_type": "markdown",
   "id": "1c7d2a7d-b32b-44e0-881f-b269c1008bcf",
   "metadata": {},
   "source": [
    "### Examples\n",
    "\n",
    "Let's analyze a few examples of complex regular expressions.\n",
    "\n",
    "|Syntax| Matches                         | Does Not Match                  |\n",
    "|-|---------------------------------|---------------------------------|\n",
    "|`.*SPB.*`| RASPBERRY <br />   SPBOO   | SUBSPACE <br />         SUBSPECIES        |\n",
    "|`[0-9]{3}-[0-9]{2}-[0-9]{4}`| 231-41-5121 <br />    573-57-1821          | 231415121 <br />  57-3571821            | |                      |                     |\n",
    "|`[a-z]+@([a-z]+\\.)+(edu\\|com)`| horse@pizza.com <br /> horse@pizza.food.com | frank_99@yahoo.com <br /> hug@cs  |"
   ]
  },
  {
   "cell_type": "markdown",
   "id": "44d01d45-326d-4761-a683-6048dfbd76f9",
   "metadata": {},
   "source": [
    "**Explanations**\n",
    "\n",
    "1. `.*SPB.*` only matches strings that contain the substring `SPB`.\n",
    "    - The `.*` metacharacter matches any amount of non-negative characters. Newlines do not count.  \n",
    "2. This regular expression matches 3 of any digit, then a dash, then 2 of any digit, then a dash, then 4 of any digit\n",
    "    - You'll recognize this as the familiar Social Security Number regular expression\n",
    "3. Matches any email with a `com` or `edu` domain, where all characters of the email are letters.\n",
    "    - At least one `.` must preceed the domain name. Including a backslash `\\` before any metacharacter (in this case, the `.`) tells regex to match that character exactly."
   ]
  },
  {
   "cell_type": "markdown",
   "id": "05985faa-70af-497e-b6bc-cea0aab57b81",
   "metadata": {},
   "source": [
    "## Convenient Regex\n",
    "\n",
    "| Operation                                      | Syntax Example  | Matches        |Doesn't Match     |\n",
    "|------------------------------------------------|-----------------|----------------|------------------|\n",
    "| `built in character class`                     | `\\w+` <br />  `\\d+`<br />  `\\s+`| Fawef_03 <br />231123<br />`whitespace`|this person<br /> 423 people<br /> `non-whitespace`|\n",
    "| `character class negation`: `[^]`<br />(everything except the given characters)| [^a-z]+.        | PEPPERS3982    <br /> 17211!↑å | porch <br />     CLAmS|\n",
    "| `escape character`: `\\` <br />       (match the literal next character)           | cow\\\\.com       | cow.com        | cowscom          |\n",
    "| `beginning of line`: `^`                       | ^ark            | ark two ark o  <br /> ark o ark| dark   | \n",
    "| `end of line`: `$`                             | ark$            | dark <br />    ark o ark | ark two          | \n",
    "| `lazy version of zero or more` : `*?`          | 5.*?5           | 5005 <br />  55  | 5005005          | "
   ]
  },
  {
   "cell_type": "markdown",
   "id": "904a6a67-745d-48c1-ab91-286aea8f862a",
   "metadata": {},
   "source": [
    "### Greediness\n",
    "\n",
    "In order to fully understand the last operation in the table, we have to discuss greediness. RegEx is greedy – it will look for the longest possible match in a string. To motivate this with an example, consider the pattern `<div>.*</div>`. Given the sentence below, we would hope that the bolded portions would be matched:\n",
    "\n",
    "\"This is a **\\<div>example\\<\\/div>** of greediness \\<div>in\\<\\/div> regular expressions.”\n",
    "\"\n",
    "\n",
    "In actuality, the way RegEx processes the text given that pattern is as follows:\n",
    "\n",
    "1. \"Look for the exact string \\<div>\" \n",
    "\n",
    "2. then, “look for any character 0 or more times\" \n",
    "\n",
    "3. then, “look for the exact string \\<\\/div>\"\n",
    "\n",
    "The result would be all the characters starting from the leftmost \\<div> and the rightmost \\<\\/div> (inclusive). So, we would match \"This is a **\\<div>example\\<\\/div> of greediness \\<div>in\\<\\/div>** regular expressions.”     \n",
    "\n",
    "We can fix this making our the pattern non-greedy, `<div>.*?</div>`. You can read up more on the documentation [here](https://docs.python.org/3/howto/regex.html#greedy-versus-non-greedy)."
   ]
  },
  {
   "cell_type": "markdown",
   "id": "d05d45d8-75e8-4585-91ab-c71f9f1ffce4",
   "metadata": {},
   "source": [
    "### Examples\n",
    "\n",
    "Let's revist our earlier problem of extracting date/time data from the given `.txt` files. Here is how the data looked."
   ]
  },
  {
   "cell_type": "code",
   "execution_count": 2,
   "id": "0de88a24-116c-4c95-afe1-41a91375fb77",
   "metadata": {},
   "outputs": [
    {
     "data": {
      "text/plain": [
       "['169.237.46.168 - - [26/Jan/2014:10:47:58 -0800] \"GET /stat141/Winter04/ HTTP/1.1\" 200 2585 \"http://anson.ucdavis.edu/courses/\"\\n',\n",
       " '193.205.203.3 - - [2/Feb/2005:17:23:6 -0800] \"GET /stat141/Notes/dim.html HTTP/1.0\" 404 302 \"http://eeyore.ucdavis.edu/stat141/Notes/session.html\"\\n',\n",
       " '169.237.46.240 - \"\" [3/Feb/2006:10:18:37 -0800] \"GET /stat141/homework/Solutions/hw1Sol.pdf HTTP/1.1\"\\n']"
      ]
     },
     "execution_count": 2,
     "metadata": {},
     "output_type": "execute_result"
    }
   ],
   "source": [
    "with open('data/log.txt', 'r') as f:\n",
    "    log_lines = f.readlines()\n",
    "\n",
    "log_lines"
   ]
  },
  {
   "cell_type": "markdown",
   "id": "77cf1d63-26d6-4606-87aa-80e7f5a09764",
   "metadata": {},
   "source": [
    "**Question**: Give a regular expression that matches everything contained within and including the brackets - the day, month, year, hour, minutes, seconds, and time zone.\n",
    "\n",
    "**Answer**: `\\[.*\\]`\n",
    "\n",
    "- Notice how matching the literal `[` and `]` is necessary. Therefore, an escape character `\\` is required before both `[` and `]` — otherwise these metacharacters will match character classes. \n",
    "- We need to match a particular format between `[` and `]`. For this example, `.*` will suffice.\n",
    "\n",
    "**Alternative Solution**: `\\[\\w+/\\w+/\\w+:\\w+:\\w+:\\w+\\s-\\w+\\]`\n",
    "\n",
    "- This solution is much safer. \n",
    "    - Imagine the data between `[` and `]` was garbage - `.*` will still match that. \n",
    "    - The alternate solution will only match data that follows the correct format."
   ]
  },
  {
   "cell_type": "markdown",
   "id": "380652e5-064a-4960-ad23-2f6333c4de93",
   "metadata": {},
   "source": [
    "## Regex in Python and Pandas (RegEx Groups)\n",
    "\n",
    "### Canonicalization\n",
    "\n",
    "#### Canonicalization with RegEx\n",
    "\n",
    "Canonicalization is the process of converting data that has multiple formats into a standard form. In the previous subchapter, we examined the process of canonicalization using pandas `Series` methods. However, our code wirth this approach was unnecessarily verbose. Equipped with our knowledge of regular expressions, let's fix this.\n",
    "\n",
    "To do so, we need to understand a few functions in the `re` module. The first of these is the substitute function: `re.sub(pattern, rep1, text)`. It behaves similarly to `python`'s built-in `.replace` function, and returns text with all instances of `pattern` replaced by `rep1`. \n",
    "\n",
    "The regular expression here removes text surrounded by `<>` (also known as HTML tags).\n",
    "\n",
    "In order, the pattern matches ... \n",
    "1. a single `<`\n",
    "2. any character that is not a `>` : div, td valign..., /td, /div\n",
    "3. a single `>`\n",
    "\n",
    "Any substring in `text` that fulfills all three conditions will be replaced by `''`."
   ]
  },
  {
   "cell_type": "code",
   "execution_count": 3,
   "id": "41e0fc7c-b1b2-4725-9cca-2677605ccaed",
   "metadata": {},
   "outputs": [
    {
     "data": {
      "text/plain": [
       "'Moo'"
      ]
     },
     "execution_count": 3,
     "metadata": {},
     "output_type": "execute_result"
    }
   ],
   "source": [
    "text = \"<div><td valign='top'>Moo</td></div>\"\n",
    "pattern = r\"<[^>]+>\"\n",
    "re.sub(pattern, '', text) "
   ]
  },
  {
   "cell_type": "markdown",
   "id": "2af2f2c3-f2b1-4202-a93d-ae2361cf5e80",
   "metadata": {},
   "source": [
    "Notice the `r` preceding the regular expression pattern; this specifies the regular expression is a raw string. Raw strings do not recognize escape sequences (i.e., the Python newline metacharacter `\\n`). This makes them useful for regular expressions, which often contain literal `\\` characters.\n",
    "\n",
    "In other words, don't forget to tag your RegEx with an `r`."
   ]
  },
  {
   "cell_type": "markdown",
   "id": "3a02c007-d634-4807-90d9-cb390e1df54c",
   "metadata": {},
   "source": [
    "#### Canonicalization with `pandas`\n",
    "\n",
    "We can also use regular expressions with `pandas` `Series` methods. This gives us the benefit of operating on an entire column of data as opposed to a single value. The code is simple: <br /> `ser.str.replace(pattern, repl, regex=True`).\n",
    "\n",
    "Consider the following `DataFrame` `html_data` with a single column."
   ]
  },
  {
   "cell_type": "code",
   "execution_count": 4,
   "id": "8150d667-8291-4175-a0ff-895d7fe78efd",
   "metadata": {},
   "outputs": [
    {
     "data": {
      "text/html": [
       "<div>\n",
       "<style scoped>\n",
       "    .dataframe tbody tr th:only-of-type {\n",
       "        vertical-align: middle;\n",
       "    }\n",
       "\n",
       "    .dataframe tbody tr th {\n",
       "        vertical-align: top;\n",
       "    }\n",
       "\n",
       "    .dataframe thead th {\n",
       "        text-align: right;\n",
       "    }\n",
       "</style>\n",
       "<table border=\"1\" class=\"dataframe\">\n",
       "  <thead>\n",
       "    <tr style=\"text-align: right;\">\n",
       "      <th></th>\n",
       "      <th>HTML</th>\n",
       "    </tr>\n",
       "  </thead>\n",
       "  <tbody>\n",
       "    <tr>\n",
       "      <th>0</th>\n",
       "      <td>&lt;div&gt;&lt;td valign='top'&gt;Moo&lt;/td&gt;&lt;/div&gt;</td>\n",
       "    </tr>\n",
       "    <tr>\n",
       "      <th>1</th>\n",
       "      <td>&lt;a href='http://ds100.org'&gt;Link&lt;/a&gt;</td>\n",
       "    </tr>\n",
       "    <tr>\n",
       "      <th>2</th>\n",
       "      <td>&lt;b&gt;Bold text&lt;/b&gt;</td>\n",
       "    </tr>\n",
       "  </tbody>\n",
       "</table>\n",
       "</div>"
      ],
      "text/plain": [
       "                                   HTML\n",
       "0  <div><td valign='top'>Moo</td></div>\n",
       "1   <a href='http://ds100.org'>Link</a>\n",
       "2                      <b>Bold text</b>"
      ]
     },
     "execution_count": 4,
     "metadata": {},
     "output_type": "execute_result"
    }
   ],
   "source": [
    "data = {\"HTML\": [\"<div><td valign='top'>Moo</td></div>\", \\\n",
    "                 \"<a href='http://ds100.org'>Link</a>\", \\\n",
    "                 \"<b>Bold text</b>\"]}\n",
    "html_data = pd.DataFrame(data)\n",
    "html_data"
   ]
  },
  {
   "cell_type": "markdown",
   "id": "a897121b-7a79-4f37-9c01-3f066c15b884",
   "metadata": {},
   "source": [
    "We can use regular expressions as follows:"
   ]
  },
  {
   "cell_type": "code",
   "execution_count": 5,
   "id": "27bed53a-09df-4e3c-a403-3e245b1b2e51",
   "metadata": {},
   "outputs": [
    {
     "data": {
      "text/plain": [
       "0          Moo\n",
       "1         Link\n",
       "2    Bold text\n",
       "Name: HTML, dtype: object"
      ]
     },
     "execution_count": 5,
     "metadata": {},
     "output_type": "execute_result"
    }
   ],
   "source": [
    "pattern = r\"<[^>]+>\"\n",
    "html_data['HTML'].str.replace(pattern, '', regex=True)"
   ]
  },
  {
   "cell_type": "markdown",
   "id": "6a2ffe03-3117-40e6-8935-0322d3675564",
   "metadata": {},
   "source": [
    "### Extraction\n",
    "\n",
    "#### Extraction with RegEx\n",
    "\n",
    "Just like with canonicalization, the `re` module provides capability to extract relevant text from a string: <br /> `re.findall(pattern, text)`. This function returns a list of all matches to `pattern`. \n",
    "\n",
    "Using the familiar regular expression for Social Security Numbers:"
   ]
  },
  {
   "cell_type": "code",
   "execution_count": 6,
   "id": "8fe6d40e-8af5-4a54-af55-37e6ee41529f",
   "metadata": {},
   "outputs": [
    {
     "data": {
      "text/plain": [
       "['123-45-6789', '321-45-6789']"
      ]
     },
     "execution_count": 6,
     "metadata": {},
     "output_type": "execute_result"
    }
   ],
   "source": [
    "text = \"My social security number is 123-45-6789 bro, or maybe it’s 321-45-6789.\"\n",
    "pattern = r\"[0-9]{3}-[0-9]{2}-[0-9]{4}\"\n",
    "re.findall(pattern, text)  "
   ]
  },
  {
   "cell_type": "markdown",
   "id": "fd0273d8-3e09-454a-a52d-1f77f63b85de",
   "metadata": {},
   "source": [
    "#### Extraction with `pandas`\n",
    "\n",
    "`pandas` similarily provides extraction functionality on a `Series` of data: `ser.str.findall(pattern)`\n",
    "\n",
    "Consider the following `DataFrame` `ssn_data`."
   ]
  },
  {
   "cell_type": "code",
   "execution_count": 8,
   "id": "74d147f8-ec43-4407-b379-3aaa2bf0aa0f",
   "metadata": {},
   "outputs": [
    {
     "data": {
      "text/html": [
       "<div>\n",
       "<style scoped>\n",
       "    .dataframe tbody tr th:only-of-type {\n",
       "        vertical-align: middle;\n",
       "    }\n",
       "\n",
       "    .dataframe tbody tr th {\n",
       "        vertical-align: top;\n",
       "    }\n",
       "\n",
       "    .dataframe thead th {\n",
       "        text-align: right;\n",
       "    }\n",
       "</style>\n",
       "<table border=\"1\" class=\"dataframe\">\n",
       "  <thead>\n",
       "    <tr style=\"text-align: right;\">\n",
       "      <th></th>\n",
       "      <th>SSN</th>\n",
       "    </tr>\n",
       "  </thead>\n",
       "  <tbody>\n",
       "    <tr>\n",
       "      <th>0</th>\n",
       "      <td>987-65-4321</td>\n",
       "    </tr>\n",
       "    <tr>\n",
       "      <th>1</th>\n",
       "      <td>forty</td>\n",
       "    </tr>\n",
       "    <tr>\n",
       "      <th>2</th>\n",
       "      <td>123-45-6789 bro or 321-45-6789</td>\n",
       "    </tr>\n",
       "    <tr>\n",
       "      <th>3</th>\n",
       "      <td>999-99-9999</td>\n",
       "    </tr>\n",
       "  </tbody>\n",
       "</table>\n",
       "</div>"
      ],
      "text/plain": [
       "                              SSN\n",
       "0                     987-65-4321\n",
       "1                           forty\n",
       "2  123-45-6789 bro or 321-45-6789\n",
       "3                     999-99-9999"
      ]
     },
     "execution_count": 8,
     "metadata": {},
     "output_type": "execute_result"
    }
   ],
   "source": [
    "data = {\"SSN\": [\"987-65-4321\", \"forty\", \\\n",
    "                \"123-45-6789 bro or 321-45-6789\",\n",
    "               \"999-99-9999\"]}\n",
    "ssn_data = pd.DataFrame(data)\n",
    "ssn_data"
   ]
  },
  {
   "cell_type": "markdown",
   "id": "a0cc6349-01cf-4141-9c60-0b6a2c9dae6a",
   "metadata": {},
   "source": [
    "Applying the `findall` function;"
   ]
  },
  {
   "cell_type": "code",
   "execution_count": 10,
   "id": "cff46006-888b-4e9d-8774-30e1da83ff24",
   "metadata": {},
   "outputs": [
    {
     "data": {
      "text/plain": [
       "0                 [987-65-4321]\n",
       "1                            []\n",
       "2    [123-45-6789, 321-45-6789]\n",
       "3                 [999-99-9999]\n",
       "Name: SSN, dtype: object"
      ]
     },
     "execution_count": 10,
     "metadata": {},
     "output_type": "execute_result"
    }
   ],
   "source": [
    "ssn_data[\"SSN\"].str.findall(pattern)"
   ]
  },
  {
   "cell_type": "markdown",
   "id": "04bd166f-71b8-4643-9431-f7f1f0fe2624",
   "metadata": {},
   "source": [
    "This function returns a list for every row containing the pattern matches in a given string.\n",
    "\n",
    "As you may expect, there are similar `pandas` equivalents for other `re` functions as well. `Series.str.extract` takes in a pattern and returns a `DataFrame` of each capture group’s first match in the string. In contrast, `Series.str.extractall` returns a multi-indexed `DataFrame` of all matches for each capture group. You can see the difference in the outputs below:"
   ]
  },
  {
   "cell_type": "code",
   "execution_count": 11,
   "id": "c13a97ed-ada2-421a-a4bc-9c022777d19e",
   "metadata": {},
   "outputs": [
    {
     "data": {
      "text/html": [
       "<div>\n",
       "<style scoped>\n",
       "    .dataframe tbody tr th:only-of-type {\n",
       "        vertical-align: middle;\n",
       "    }\n",
       "\n",
       "    .dataframe tbody tr th {\n",
       "        vertical-align: top;\n",
       "    }\n",
       "\n",
       "    .dataframe thead th {\n",
       "        text-align: right;\n",
       "    }\n",
       "</style>\n",
       "<table border=\"1\" class=\"dataframe\">\n",
       "  <thead>\n",
       "    <tr style=\"text-align: right;\">\n",
       "      <th></th>\n",
       "      <th>0</th>\n",
       "      <th>1</th>\n",
       "      <th>2</th>\n",
       "    </tr>\n",
       "  </thead>\n",
       "  <tbody>\n",
       "    <tr>\n",
       "      <th>0</th>\n",
       "      <td>987</td>\n",
       "      <td>65</td>\n",
       "      <td>4321</td>\n",
       "    </tr>\n",
       "    <tr>\n",
       "      <th>1</th>\n",
       "      <td>NaN</td>\n",
       "      <td>NaN</td>\n",
       "      <td>NaN</td>\n",
       "    </tr>\n",
       "    <tr>\n",
       "      <th>2</th>\n",
       "      <td>123</td>\n",
       "      <td>45</td>\n",
       "      <td>6789</td>\n",
       "    </tr>\n",
       "    <tr>\n",
       "      <th>3</th>\n",
       "      <td>999</td>\n",
       "      <td>99</td>\n",
       "      <td>9999</td>\n",
       "    </tr>\n",
       "  </tbody>\n",
       "</table>\n",
       "</div>"
      ],
      "text/plain": [
       "     0    1     2\n",
       "0  987   65  4321\n",
       "1  NaN  NaN   NaN\n",
       "2  123   45  6789\n",
       "3  999   99  9999"
      ]
     },
     "execution_count": 11,
     "metadata": {},
     "output_type": "execute_result"
    }
   ],
   "source": [
    "pattern_cg = r\"([0-9]{3})-([0-9]{2})-([0-9]{4})\"\n",
    "ssn_data[\"SSN\"].str.extract(pattern_cg)"
   ]
  },
  {
   "cell_type": "code",
   "execution_count": 12,
   "id": "d75d92dc-8f75-4317-9502-a4f52ec8def0",
   "metadata": {},
   "outputs": [
    {
     "data": {
      "text/html": [
       "<div>\n",
       "<style scoped>\n",
       "    .dataframe tbody tr th:only-of-type {\n",
       "        vertical-align: middle;\n",
       "    }\n",
       "\n",
       "    .dataframe tbody tr th {\n",
       "        vertical-align: top;\n",
       "    }\n",
       "\n",
       "    .dataframe thead th {\n",
       "        text-align: right;\n",
       "    }\n",
       "</style>\n",
       "<table border=\"1\" class=\"dataframe\">\n",
       "  <thead>\n",
       "    <tr style=\"text-align: right;\">\n",
       "      <th></th>\n",
       "      <th></th>\n",
       "      <th>0</th>\n",
       "      <th>1</th>\n",
       "      <th>2</th>\n",
       "    </tr>\n",
       "    <tr>\n",
       "      <th></th>\n",
       "      <th>match</th>\n",
       "      <th></th>\n",
       "      <th></th>\n",
       "      <th></th>\n",
       "    </tr>\n",
       "  </thead>\n",
       "  <tbody>\n",
       "    <tr>\n",
       "      <th>0</th>\n",
       "      <th>0</th>\n",
       "      <td>987</td>\n",
       "      <td>65</td>\n",
       "      <td>4321</td>\n",
       "    </tr>\n",
       "    <tr>\n",
       "      <th rowspan=\"2\" valign=\"top\">2</th>\n",
       "      <th>0</th>\n",
       "      <td>123</td>\n",
       "      <td>45</td>\n",
       "      <td>6789</td>\n",
       "    </tr>\n",
       "    <tr>\n",
       "      <th>1</th>\n",
       "      <td>321</td>\n",
       "      <td>45</td>\n",
       "      <td>6789</td>\n",
       "    </tr>\n",
       "    <tr>\n",
       "      <th>3</th>\n",
       "      <th>0</th>\n",
       "      <td>999</td>\n",
       "      <td>99</td>\n",
       "      <td>9999</td>\n",
       "    </tr>\n",
       "  </tbody>\n",
       "</table>\n",
       "</div>"
      ],
      "text/plain": [
       "           0   1     2\n",
       "  match               \n",
       "0 0      987  65  4321\n",
       "2 0      123  45  6789\n",
       "  1      321  45  6789\n",
       "3 0      999  99  9999"
      ]
     },
     "execution_count": 12,
     "metadata": {},
     "output_type": "execute_result"
    }
   ],
   "source": [
    "ssn_data[\"SSN\"].str.extractall(pattern_cg)"
   ]
  },
  {
   "cell_type": "markdown",
   "id": "1ebeef05-8301-4837-be1a-5de57242ec31",
   "metadata": {},
   "source": [
    "### Regular Expression Capture Groups\n",
    "\n",
    "Earlier we used parentheses `(` `)` to specify the highest order of operation in regular expressions. However, they have another meaning; parentheses are often used to represent **capture groups**. Capture groups are essentially, a set of smaller regular expressions that match multiple substrings in text data. \n",
    "\n",
    "Let's take a look at an example.\n",
    "\n",
    "#### Example 1"
   ]
  },
  {
   "cell_type": "code",
   "execution_count": 13,
   "id": "61b33d42-91b2-4115-9fcb-64ff7296309c",
   "metadata": {},
   "outputs": [],
   "source": [
    "text = \"Observations: 03:04:53 - Horse awakens. 03:05:14 - Horse goes back to sleep.\""
   ]
  },
  {
   "cell_type": "markdown",
   "id": "5936eea7-33af-497c-b2b2-0a75e216c018",
   "metadata": {},
   "source": [
    "Say we want to capture all occurences of time data (hour, minute, and second) as *seperate entities*."
   ]
  },
  {
   "cell_type": "code",
   "execution_count": 14,
   "id": "b7004093-bdfc-45af-bac1-e6e09d676a6a",
   "metadata": {},
   "outputs": [
    {
     "data": {
      "text/plain": [
       "[('03', '04', '53'), ('03', '05', '14')]"
      ]
     },
     "execution_count": 14,
     "metadata": {},
     "output_type": "execute_result"
    }
   ],
   "source": [
    "pattern_1 = r\"(\\d\\d):(\\d\\d):(\\d\\d)\"\n",
    "re.findall(pattern_1, text)"
   ]
  },
  {
   "cell_type": "markdown",
   "id": "0d99a782-4858-41b5-a1e7-291138bb2f3e",
   "metadata": {},
   "source": [
    "Notice how the given pattern has 3 capture groups, each specified by the regular expression `(\\d\\d)`. We then use `re.findall` to return these capture groups, each as tuples containing 3 matches.\n",
    "\n",
    "These regular expression capture groups can be different. We can use the `(\\d{2})` shorthand to extract the same data."
   ]
  },
  {
   "cell_type": "code",
   "execution_count": 16,
   "id": "7a8bcbe9-842f-4eb8-b655-a3f5fccb54a2",
   "metadata": {},
   "outputs": [
    {
     "data": {
      "text/plain": [
       "[('03', '04', '53'), ('03', '05', '14')]"
      ]
     },
     "execution_count": 16,
     "metadata": {},
     "output_type": "execute_result"
    }
   ],
   "source": [
    "pattern_2 = r\"(\\d\\d):(\\d\\d):(\\d{2})\"\n",
    "re.findall(pattern_2, text)"
   ]
  },
  {
   "cell_type": "markdown",
   "id": "fcb9672f-9fab-40f4-89ec-f5c195bed40d",
   "metadata": {},
   "source": [
    "#### Example 2\n",
    "\n",
    "With the notion of capture groups, convince yourself how the following regular expression works."
   ]
  },
  {
   "cell_type": "code",
   "execution_count": 23,
   "id": "0f084bc8-043d-479b-b136-5c6dc1c972aa",
   "metadata": {},
   "outputs": [
    {
     "name": "stdout",
     "output_type": "stream",
     "text": [
      "first line: \n",
      " 169.237.46.168 - - [26/Jan/2014:10:47:58 -0800] \"GET /stat141/Winter04/ HTTP/1.1\" 200 2585 \"http://anson.ucdavis.edu/courses/\"\n",
      "\n",
      "matched text: \n",
      " 26 Jan 2014 10 47 58 -0800\n"
     ]
    }
   ],
   "source": [
    "first_line = log_lines[0]\n",
    "print(\"first line: \\n\", first_line)\n",
    "pattern = r'\\[(\\d+)\\/(\\w+)\\/(\\d+):(\\d+):(\\d+):(\\d+) (.+)\\]'\n",
    "day, month, year, hour, minute, second, time_zone = re.findall(pattern, first_line)[0]\n",
    "print(\"matched text: \\n\", day, month, year, hour, minute, second, time_zone)"
   ]
  },
  {
   "cell_type": "markdown",
   "id": "51d55e87-b683-4a1b-8b4d-479ffba51079",
   "metadata": {},
   "source": [
    "## Limitations of Regular Expressions\n",
    "\n",
    "Today, we explored the capabilities of regular expressions in data wrangling with text data. However, there are a few things to be wary of.\n",
    "\n",
    "Writing regular expressions is like writing a program.\n",
    "\n",
    "- Need to know the syntax well.\n",
    "- Can be easier to write than to read.\n",
    "- Can be difficult to debug.\n",
    "\n",
    "Regular expressions are terrible at certain types of problems:\n",
    "\n",
    "- For parsing a hierarchical structure, such as JSON, use the `json.load()` parser, not RegEx!\n",
    "- Complex features (e.g. valid email address).\n",
    "- Counting (same number of instances of a and b). (impossible)\n",
    "- Complex properties (palindromes, balanced parentheses). (impossible)\n",
    "\n",
    "Ultimately, the goal is not to memorize all regular expressions. Rather, the aim is to:\n",
    "\n",
    "- Understand what RegEx is capable of.\n",
    "- Parse and create RegEx, with a reference table\n",
    "- Use vocabulary (metacharacter, escape character, groups, etc.) to describe regex metacharacters.\n",
    "- Differentiate between (), [], {}\n",
    "- Design your own character classes with \\d, \\w, \\s, […-…], ^, etc.\n",
    "- Use `python` and `pandas` RegEx methods."
   ]
  },
  {
   "cell_type": "code",
   "execution_count": null,
   "id": "5700add1-a3a6-431d-b364-a6858257ddd4",
   "metadata": {},
   "outputs": [],
   "source": []
  }
 ],
 "metadata": {
  "kernelspec": {
   "display_name": "Python [conda env:sklearn-env]",
   "language": "python",
   "name": "conda-env-sklearn-env-py"
  },
  "language_info": {
   "codemirror_mode": {
    "name": "ipython",
    "version": 3
   },
   "file_extension": ".py",
   "mimetype": "text/x-python",
   "name": "python",
   "nbconvert_exporter": "python",
   "pygments_lexer": "ipython3",
   "version": "3.11.0"
  }
 },
 "nbformat": 4,
 "nbformat_minor": 5
}