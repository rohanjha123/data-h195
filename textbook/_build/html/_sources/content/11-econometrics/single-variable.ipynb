{
 "cells": [
  {
   "cell_type": "markdown",
   "metadata": {
    "slideshow": {
     "slide_type": "-"
    }
   },
   "source": [
    "# Single Variable Regression "
   ]
  },
  {
   "cell_type": "code",
   "execution_count": 1,
   "metadata": {
    "slideshow": {
     "slide_type": "-"
    },
    "tags": [
     "remove_cell"
    ]
   },
   "outputs": [],
   "source": [
    "import numpy as np\n",
    "import pandas as pd\n",
    "import matplotlib.pyplot as plt\n",
    "import statsmodels.api as sm\n",
    "import warnings\n",
    "warnings.simplefilter(\"ignore\")\n",
    "from mpl_toolkits.mplot3d import Axes3D\n",
    "from matplotlib import patches\n",
    "from datascience import *\n",
    "%matplotlib inline\n",
    "from sklearn.metrics import mean_squared_error\n",
    "from ipywidgets import interact, interactive, fixed\n",
    "import ipywidgets as widgets"
   ]
  },
  {
   "cell_type": "markdown",
   "metadata": {
    "slideshow": {
     "slide_type": "-"
    }
   },
   "source": [
    "Suppose we have some data that look like this:"
   ]
  },
  {
   "cell_type": "markdown",
   "metadata": {
    "slideshow": {
     "slide_type": "-"
    }
   },
   "source": [
    "![title](figure1.png)"
   ]
  },
  {
   "cell_type": "markdown",
   "metadata": {
    "slideshow": {
     "slide_type": "-"
    }
   },
   "source": [
    "In Data 8 we learned that $x$ and $y$ above have some **correlation coefficient** $r$, which is a measure of the strength of the linear relationship between the two variables.\n",
    "\n",
    "It looks like there is some positive linear association between $x$ and $y$ such that larger values of $x$ correspond to larger values of $y$. We therefore expect $r$ to be some positive number between 0 and 1, but not exactly 0 or exactly 1.\n",
    "\n",
    "First, let's convert the data (stored in the arrays `x` and `y`) to standard units. To convert a set of data points to standard units, we subtract out the mean of the data and scale by the standard deviation. This has the effect of changing the data so that the data in standard units have mean 0 and  standard deviation 1. Below we construct a function that does this.\n",
    "\n",
    "$$\n",
    "x_{su} = \\dfrac{x - \\mu_x}{\\sigma_x}\n",
    "$$"
   ]
  },
  {
   "cell_type": "code",
   "execution_count": 2,
   "metadata": {
    "slideshow": {
     "slide_type": "-"
    }
   },
   "outputs": [],
   "source": [
    "def standard_units(array):\n",
    "    return (array - np.mean(array)) / np.std(array)"
   ]
  },
  {
   "cell_type": "code",
   "execution_count": 3,
   "metadata": {
    "slideshow": {
     "slide_type": "-"
    },
    "tags": [
     "remove_cell"
    ]
   },
   "outputs": [],
   "source": [
    "# Hide this.\n",
    "np.random.seed(42)\n",
    "x = np.random.uniform(0, 10, 100)\n",
    "noise = np.random.randn(100) * 4\n",
    "y = 1.5 * x + noise"
   ]
  },
  {
   "cell_type": "code",
   "execution_count": 4,
   "metadata": {},
   "outputs": [],
   "source": [
    "x_standard = standard_units(x)\n",
    "y_standard = standard_units(y)"
   ]
  },
  {
   "cell_type": "code",
   "execution_count": 5,
   "metadata": {
    "slideshow": {
     "slide_type": "-"
    },
    "tags": [
     "remove_input"
    ]
   },
   "outputs": [
    {
     "data": {
      "image/png": "[encoded data removed]",
      "text/plain": [
       "<Figure size 576x432 with 1 Axes>"
      ]
     },
     "metadata": {
      "needs_background": "light"
     },
     "output_type": "display_data"
    }
   ],
   "source": [
    "plt.figure(figsize=(8,6))\n",
    "plt.scatter(x_standard, y_standard)\n",
    "plt.xlabel('$x$_standard')\n",
    "plt.ylabel('$y$_standard');"
   ]
  },
  {
   "cell_type": "markdown",
   "metadata": {},
   "source": [
    "The plot looks the same as before, except now the axes are scaled such that we measure $x$ and $y$ in standard units. Now recall that $r$ is calculated as the average of the product of two variables, when the variables are measured in standard units. Below we define a function that calculates $r$, assuming that the inputs have already been converted to standard units."
   ]
  },
  {
   "cell_type": "code",
   "execution_count": 6,
   "metadata": {},
   "outputs": [],
   "source": [
    "def correlation(array1, array2):\n",
    "    return np.mean(array1 * array2)"
   ]
  },
  {
   "cell_type": "markdown",
   "metadata": {
    "slideshow": {
     "slide_type": "-"
    }
   },
   "source": [
    "What is the correlation between these two variables?"
   ]
  },
  {
   "cell_type": "code",
   "execution_count": 7,
   "metadata": {},
   "outputs": [
    {
     "data": {
      "text/plain": [
       "0.7351364076052979"
      ]
     },
     "execution_count": 7,
     "metadata": {},
     "output_type": "execute_result"
    }
   ],
   "source": [
    "correlation(x_standard, y_standard)"
   ]
  },
  {
   "cell_type": "markdown",
   "metadata": {},
   "source": [
    "Recall from Data 8 that we use $r$ to form a line called the *regression line*, which makes predictions for $y$ given some $x$. Our prediction for $y$ in standard units is $r \\cdot x$. If we want to fit this regression line in the original units, recall that the slope of this line is given by\n",
    "\n",
    "$$\n",
    "\\text{slope} = r \\cdot \\dfrac{\\hat{\\sigma}_y}{\\hat{\\sigma}_x}\n",
    "$$\n",
    "\n",
    "and the intercept is given by\n",
    "\n",
    "$$\n",
    "\\text{intercept} = \\hat{\\mu}_y - \\text{slope} \\cdot \\hat{\\mu}_x\n",
    "$$\n",
    "\n",
    "where $\\hat{\\sigma}_x$ is the observed standard deviation of a variable $x$ and $\\hat{\\mu}_x$ is the observed mean. Our regression line will have the form\n",
    "\n",
    "$$\n",
    "y = \\hat{\\alpha} + \\hat{\\beta} x\n",
    "$$\n",
    "\n",
    "where $\\hat{\\alpha}$ is the intercept from above and $\\hat{\\beta}$ the slope.\n",
    "\n",
    "Below we plot this line."
   ]
  },
  {
   "cell_type": "code",
   "execution_count": 8,
   "metadata": {},
   "outputs": [],
   "source": [
    "r = correlation(x_standard, y_standard)\n",
    "slope = r * np.std(y) / np.std(x)\n",
    "intercept = np.mean(y) - slope * np.mean(x)"
   ]
  },
  {
   "cell_type": "code",
   "execution_count": 9,
   "metadata": {
    "tags": [
     "remove_input"
    ]
   },
   "outputs": [
    {
     "data": {
      "image/png": "[encoded data removed]",
      "text/plain": [
       "<Figure size 576x432 with 1 Axes>"
      ]
     },
     "metadata": {
      "needs_background": "light"
     },
     "output_type": "display_data"
    }
   ],
   "source": [
    "plt.figure(figsize=(8,6))\n",
    "plt.scatter(x, y)\n",
    "plt.plot(np.linspace(0, 10), slope * np.linspace(0, 10) + intercept, color='tab:orange')\n",
    "plt.xlabel('$x$')\n",
    "plt.ylabel('$y$');"
   ]
  },
  {
   "cell_type": "markdown",
   "metadata": {},
   "source": [
    "Let's take a closer look at the slope we found."
   ]
  },
  {
   "cell_type": "code",
   "execution_count": 10,
   "metadata": {
    "tags": [
     "remove_input"
    ]
   },
   "outputs": [
    {
     "name": "stdout",
     "output_type": "stream",
     "text": [
      "Slope:  1.3160907091507876\n"
     ]
    }
   ],
   "source": [
    "print('Slope: ', slope)"
   ]
  },
  {
   "cell_type": "markdown",
   "metadata": {},
   "source": [
    "To generate the data above, we started with some range of $x$ values, and generated $y$ as a linear function of $x$ with some random noise added in. Take a look:"
   ]
  },
  {
   "cell_type": "code",
   "execution_count": 11,
   "metadata": {},
   "outputs": [],
   "source": [
    "np.random.seed(42)\n",
    "x = np.random.uniform(0, 10, 100)\n",
    "noise = np.random.randn(100) * 4\n",
    "y = 1.5 * x + noise"
   ]
  },
  {
   "cell_type": "markdown",
   "metadata": {},
   "source": [
    "Notice how I defined $y$:\n",
    "\n",
    "$$\n",
    "y = 1.5 \\cdot x + u\n",
    "$$\n",
    "\n",
    "where $u$ is some normally-distributed random noise whose average is 0. So, while there is some randomness to the data, on average the \"true\" slope of the relationship is 1.5. Yet we predicted it to be roughly 1.3!\n",
    "\n",
    "This highlights the following fact: Suppose we have some random data that we believe has a linear relationship. The least-squares slope we generate from the data is an *estimate* of the \"true\" slope of that data. Because of this, the estimated slope is a random variable that depends on the data we happen to have.\n",
    "\n",
    "To highlight this fact, let's repeat the procedure above but with a different [random seed](https://en.wikipedia.org/wiki/Random_seed), in order to get data with the same underlying relationship but different values."
   ]
  },
  {
   "cell_type": "code",
   "execution_count": 12,
   "metadata": {},
   "outputs": [],
   "source": [
    "np.random.seed(189)\n",
    "x = np.random.uniform(0, 10, 100)\n",
    "noise = np.random.randn(100) * 4\n",
    "y = 1.5 * x + noise\n",
    "\n",
    "r = correlation(x_standard, y_standard)\n",
    "slope = r * np.std(y) / np.std(x)\n",
    "intercept = np.mean(y) - slope * np.mean(x)"
   ]
  },
  {
   "cell_type": "code",
   "execution_count": 13,
   "metadata": {
    "tags": [
     "remove_input"
    ]
   },
   "outputs": [
    {
     "name": "stdout",
     "output_type": "stream",
     "text": [
      "Slope:  1.5590151265266388\n"
     ]
    },
    {
     "data": {
      "image/png": "[encoded data removed]",
      "text/plain": [
       "<Figure size 576x432 with 1 Axes>"
      ]
     },
     "metadata": {
      "needs_background": "light"
     },
     "output_type": "display_data"
    }
   ],
   "source": [
    "plt.figure(figsize=(8,6))\n",
    "plt.scatter(x, y)\n",
    "plt.plot(np.linspace(0, 10), slope * np.linspace(0, 10) + intercept, color='tab:orange')\n",
    "plt.xlabel('$x$')\n",
    "plt.ylabel('$y$');\n",
    "print('Slope: ', slope)"
   ]
  },
  {
   "cell_type": "markdown",
   "metadata": {},
   "source": [
    "Now the estimated slope is roughly 1.6, even though the underlying data was still generated using a slope of 1.5. This is a very important concept that we will revisit soon.\n",
    "\n",
    "Keep in mind, however, that correlation in data *does not* imply causation. In this example we know the true causal relationship between $x$ and $y$ because we defined it ourselves. However, when using real data you do not see the \"true\" relation and thus cannot conclude causality from correlation. It could simply be that both your variables depend on an unseen third variable and have no causal effect on one another. Or even worse, while unlikely it could be the case that slight linear trends in two variables is a complete coincidence."
   ]
  },
  {
   "cell_type": "markdown",
   "metadata": {},
   "source": [
    "## Root-Mean-Squared Error"
   ]
  },
  {
   "cell_type": "markdown",
   "metadata": {},
   "source": [
    "While we can arbitrarily pick $\\hat{\\alpha}$ and $\\hat{\\beta}$ values, we do want to pick the values that help predict $\\hat{y}$ that are closest to actual $y$ values. To achieve this, we want to minimize a **loss function** that quantifies how far off our prediction $\\hat{y}$ is from $y$ for some known data points. One of the most common loss functions is called the **root-mean-squared error**, and is defined as\n",
    "\n",
    "$$\n",
    "\\text{RMSE} = \\sqrt{ \\frac{1}{n} \\sum_{i=1}^n \\left ( y_i - \\hat{y}_i \\right ) ^2 }\n",
    "$$\n",
    "\n",
    "where $n$ is the number of observations. The effect of this is to take the mean of the distance of each value of $\\hat{y}$ from its corresponding value in $y$; squaring these values keeps them positive, and then we take the square root to correct the units of the error.\n",
    "\n",
    "Plugging in the formula $\\hat{y}$ in RMSE formula, we get,\n",
    "\n",
    "$$\n",
    "\\text{RMSE} = \\sqrt{ \\frac{1}{n} \\sum_{i=1}^n \\left ( y_i - (\\hat{\\alpha} + \\hat{\\beta}x_i) \\right ) ^2 }\n",
    "$$\n",
    "\n",
    "By doing a bit of calculus, we get the following formulas for $\\hat{\\alpha}$ and $\\hat{\\beta}$\n",
    "\n",
    "$$\\Large\n",
    "\\hat{\\beta} = r\\frac {\\hat{\\sigma}_y} {\\hat{\\sigma}_x} \\qquad \\qquad\n",
    "\\hat{\\alpha} = \\hat{\\mu}_y - \\hat{\\beta}\\hat{\\mu}_x\n",
    "$$\n",
    "\n",
    "where $r$ is the **correlation** between $x$ and $y$, $\\hat{\\sigma}_y$ is the standard deviation of $y$, $\\hat{\\sigma}_x$ is the standard deviation of $x$, $\\hat{\\mu}_y$ is the average of all our $y$ values, and $\\hat{\\mu}_x$ is the average of all our $x$ values. (As an aside, note the hats on our $\\sigma$'s and $\\mu$'s; this is because these are _empirical estimates_ of the parameters of these distributions, rather than the true values.) These are the same values we had above!\n",
    "\n",
    "Note that our formula for $\\hat{\\beta}$ involves the **correlation coefficient** $r$ of $x$ and $y$. The correlation coefficient of two variables is a measure of the strength of a linear relationship between them. $r$ goes from -1 to 1, where $|r|=1$ is a perfect linear relationship and $r=0$ is no linear relationship. The formula for $r$ is\n",
    "\n",
    "$$\n",
    "r = \\frac{1}{n}\\sum^n_{i=1} \\left ( \\frac{x_i - \\hat{\\mu}_x}{\\hat{\\sigma}_x} \\right ) \\left ( \\frac{y_i - \\hat{\\mu}_y}{\\hat{\\sigma}_y} \\right )\n",
    "$$\n",
    "\n",
    "(Note: the form $\\frac{x_i - \\hat{\\mu}_x}{\\hat{\\sigma}_x}$ of a variable $x$ is it's representation in standard units, as mentioned above.)\n",
    "\n",
    "To calculate the RMSE, we will write an `rmse` function that makes use of sklearn's `mean_squared_error` function."
   ]
  },
  {
   "cell_type": "code",
   "execution_count": 14,
   "metadata": {},
   "outputs": [],
   "source": [
    "def rmse(target, pred):\n",
    "    return np.sqrt(mean_squared_error(target, pred))"
   ]
  },
  {
   "cell_type": "markdown",
   "metadata": {},
   "source": [
    "To get a better idea of what the RMSE represents, the figures below show a small dataset, a proposed regression line, and the squared error that we are summing in the RMSE. The data points are\n",
    "\n",
    "| $x$ | $y$ |\n",
    "|-----|-----|\n",
    "| 0 | 1 |\n",
    "| 1 | .5 |\n",
    "| 2 | -1 |\n",
    "| 3 | 2 |\n",
    "| 4 | -3 |\n",
    "\n",
    "Here are the proposed regression lines and their errors:\n",
    "\n",
    "![se_slope_1.png](se_slope_1.png)\n",
    "\n",
    "![se_slope_-1.png](se_slope_-1.png)"
   ]
  },
  {
   "cell_type": "code",
   "execution_count": 15,
   "metadata": {
    "tags": [
     "remove_cell"
    ]
   },
   "outputs": [
    {
     "data": {
      "application/vnd.jupyter.widget-view+json": {
       "model_id": "a719afec995340aebbe07fcb374e05fa",
       "version_major": 2,
       "version_minor": 0
      },
      "text/plain": [
       "interactive(children=(FloatSlider(value=0.0, description='slope', max=4.0, min=-4.0), FloatSlider(value=0.0, d…"
      ]
     },
     "metadata": {},
     "output_type": "display_data"
    }
   ],
   "source": [
    "d = Table().with_columns(\n",
    "    'x', make_array(0,  1,  2,  3,  4),\n",
    "    'y', make_array(1, .5, -1,  2, -3))\n",
    "\n",
    "def plot_line_and_errors(slope, intercept):\n",
    "    print(\"RMSE:\", rmse(slope * d.column('x') + intercept, d.column('y')))\n",
    "    plt.figure(figsize=(5,5))\n",
    "    points = make_array(-2, 7)\n",
    "    p = plt.plot(points, slope*points + intercept, color='orange', label='Proposed line')\n",
    "    ax = p[0].axes\n",
    "    \n",
    "    predicted_ys = slope*d.column('x') + intercept\n",
    "    diffs = predicted_ys - d.column('y')\n",
    "    for i in np.arange(d.num_rows):\n",
    "        x = d.column('x').item(i)\n",
    "        y = d.column('y').item(i)\n",
    "        diff = diffs.item(i)\n",
    "        \n",
    "        if diff > 0:\n",
    "            bottom_left_x = x\n",
    "            bottom_left_y = y\n",
    "        else:\n",
    "            bottom_left_x = x + diff\n",
    "            bottom_left_y = y + diff\n",
    "        \n",
    "        ax.add_patch(patches.Rectangle(make_array(bottom_left_x, bottom_left_y), abs(diff), abs(diff), color='red', alpha=.3, label=('Squared error' if i == 0 else None)))\n",
    "        plt.plot(make_array(x, x), make_array(y, y + diff), color='red', alpha=.6, label=('Error' if i == 0 else None))\n",
    "    \n",
    "    plt.scatter(d.column('x'), d.column('y'), color='blue', label='Points')\n",
    "    \n",
    "    plt.xlim(-4, 8)\n",
    "    plt.ylim(-6, 6)\n",
    "    plt.gca().set_aspect('equal', adjustable='box')\n",
    "    \n",
    "    plt.legend(bbox_to_anchor=(1.8, .8))\n",
    "    plt.show()\n",
    "\n",
    "interact(plot_line_and_errors, slope=widgets.FloatSlider(min=-4, max=4, step=.1), intercept=widgets.FloatSlider(min=-4, max=4, step=.1));"
   ]
  },
  {
   "cell_type": "markdown",
   "metadata": {},
   "source": [
    "## Econometric Single Variable Regression"
   ]
  },
  {
   "cell_type": "markdown",
   "metadata": {},
   "source": [
    "The regression line can have two purposes:\n",
    "\n",
    "* Of particular interest to data scientists is the line's ability to predict values of $y$ for new values of $x$ that we didn't see before.\n",
    "\n",
    "* Of particular interest to economists is the line's ability to estimate the \"true\" underlying slope of the data via its slope.\n",
    "\n",
    "This is why regression is such a powerful tool and forms the backbone of econometrics. If we believe that our data satisfy certain assumptions (which we won't explore too much this lecture), then we can use the slope of the regression line to estimate the \"true\" relation between the variables in question and learn more about the world we live in.\n",
    "\n",
    "In econometrics, we usually write the \"true\" underlying linear relationship as follows:\n",
    "\n",
    "$$\n",
    "y = \\alpha + \\beta \\cdot x + \\varepsilon\n",
    "$$\n",
    "\n",
    "where $y$ and $x$ are values for any arbitrary point, $\\alpha$ is the intercept, $\\beta$ is the slope, and $\\varepsilon$ is some noise. This is entirely analogous to the code from earlier that determined the true linear relationship between the data:\n",
    "\n",
    "```python\n",
    "y = 1.5 * x + noise\n",
    "```\n",
    "\n",
    "Here, $\\beta = 1.5$, $\\alpha = 0$, and $\\varepsilon = \\text{noise}$.\n",
    "\n",
    "When we fit a regression line onto the data, we express the line as:\n",
    "\n",
    "$$\n",
    "\\hat{y} = \\hat{\\alpha} + \\hat{\\beta} \\cdot x\n",
    "$$\n",
    "\n",
    "Here, we put hats over the slope and intercept terms because they are *estimates* of the true slope and intercept terms. Similarly, we put a hat over $y$ because this is the $y$ value that the regression line predicts.\n",
    "\n",
    "Notice how the noise term $\\varepsilon$ does not appear in the expression for the regression line. This is because the noise term is a random variable that has no relation with $x$, and is thus impossible to predict from the data. Furthermore, the noise term has a mean value of 0, so on average we actually don't expect the noise term to have any impact on the underlying trends of the data.\n",
    "\n",
    "For the Data 8 demonstration above, we forced these conditions to be true. However, with real data these are assumptions that we have to make, and is something that econometricians spend a lot of time thinking about."
   ]
  },
  {
   "cell_type": "markdown",
   "metadata": {},
   "source": [
    "### Years of Schooling and Earnings"
   ]
  },
  {
   "cell_type": "markdown",
   "metadata": {},
   "source": [
    "Consider a case where we want to study how years of schooling relate to a person's earnings. This should be of particular interest to college students. Below we import a dataset that has the hourly wage, years of schooling, and other information on thousands of people sampled in the March 2012 Current Population Survey."
   ]
  },
  {
   "cell_type": "code",
   "execution_count": 16,
   "metadata": {},
   "outputs": [
    {
     "data": {
      "text/html": [
       "<table border=\"1\" class=\"dataframe\">\n",
       "    <thead>\n",
       "        <tr>\n",
       "            <th>state</th> <th>age</th> <th>wagesal</th> <th>imm</th> <th>hispanic</th> <th>black</th> <th>asian</th> <th>educ</th> <th>wage</th> <th>logwage</th> <th>female</th> <th>fedwkr</th> <th>statewkr</th> <th>localwkr</th>\n",
       "        </tr>\n",
       "    </thead>\n",
       "    <tbody>\n",
       "        <tr>\n",
       "            <td>11   </td> <td>44  </td> <td>18000  </td> <td>0   </td> <td>0       </td> <td>0    </td> <td>0    </td> <td>14  </td> <td>9.10931</td> <td>2.2093 </td> <td>1     </td> <td>1     </td> <td>0       </td> <td>0       </td>\n",
       "        </tr>\n",
       "        <tr>\n",
       "            <td>11   </td> <td>39  </td> <td>18000  </td> <td>0   </td> <td>0       </td> <td>0    </td> <td>0    </td> <td>14  </td> <td>18     </td> <td>2.89037</td> <td>0     </td> <td>0     </td> <td>0       </td> <td>0       </td>\n",
       "        </tr>\n",
       "        <tr>\n",
       "            <td>11   </td> <td>39  </td> <td>35600  </td> <td>0   </td> <td>0       </td> <td>0    </td> <td>0    </td> <td>12  </td> <td>17.1154</td> <td>2.83998</td> <td>0     </td> <td>0     </td> <td>0       </td> <td>1       </td>\n",
       "        </tr>\n",
       "        <tr>\n",
       "            <td>11   </td> <td>39  </td> <td>8000   </td> <td>0   </td> <td>0       </td> <td>0    </td> <td>0    </td> <td>14  </td> <td>5.12821</td> <td>1.63476</td> <td>1     </td> <td>0     </td> <td>0       </td> <td>0       </td>\n",
       "        </tr>\n",
       "        <tr>\n",
       "            <td>11   </td> <td>39  </td> <td>100000 </td> <td>0   </td> <td>0       </td> <td>0    </td> <td>0    </td> <td>16  </td> <td>38.4615</td> <td>3.64966</td> <td>0     </td> <td>1     </td> <td>0       </td> <td>0       </td>\n",
       "        </tr>\n",
       "        <tr>\n",
       "            <td>11   </td> <td>43  </td> <td>25000  </td> <td>0   </td> <td>0       </td> <td>0    </td> <td>0    </td> <td>12  </td> <td>10     </td> <td>2.30259</td> <td>0     </td> <td>0     </td> <td>0       </td> <td>0       </td>\n",
       "        </tr>\n",
       "        <tr>\n",
       "            <td>11   </td> <td>38  </td> <td>25000  </td> <td>0   </td> <td>0       </td> <td>0    </td> <td>0    </td> <td>16  </td> <td>27.1739</td> <td>3.30226</td> <td>1     </td> <td>0     </td> <td>0       </td> <td>0       </td>\n",
       "        </tr>\n",
       "        <tr>\n",
       "            <td>11   </td> <td>39  </td> <td>26000  </td> <td>0   </td> <td>0       </td> <td>0    </td> <td>0    </td> <td>13  </td> <td>16.6667</td> <td>2.81341</td> <td>1     </td> <td>0     </td> <td>0       </td> <td>0       </td>\n",
       "        </tr>\n",
       "        <tr>\n",
       "            <td>11   </td> <td>39  </td> <td>52000  </td> <td>0   </td> <td>0       </td> <td>0    </td> <td>0    </td> <td>16  </td> <td>16.6667</td> <td>2.81341</td> <td>0     </td> <td>0     </td> <td>0       </td> <td>0       </td>\n",
       "        </tr>\n",
       "        <tr>\n",
       "            <td>11   </td> <td>37  </td> <td>4500   </td> <td>0   </td> <td>0       </td> <td>0    </td> <td>0    </td> <td>13  </td> <td>4      </td> <td>1.38629</td> <td>1     </td> <td>0     </td> <td>0       </td> <td>0       </td>\n",
       "        </tr>\n",
       "    </tbody>\n",
       "</table>\n",
       "<p>... (21897 rows omitted)</p>"
      ],
      "text/plain": [
       "state | age  | wagesal | imm  | hispanic | black | asian | educ | wage    | logwage | female | fedwkr | statewkr | localwkr\n",
       "11    | 44   | 18000   | 0    | 0        | 0     | 0     | 14   | 9.10931 | 2.2093  | 1      | 1      | 0        | 0\n",
       "11    | 39   | 18000   | 0    | 0        | 0     | 0     | 14   | 18      | 2.89037 | 0      | 0      | 0        | 0\n",
       "11    | 39   | 35600   | 0    | 0        | 0     | 0     | 12   | 17.1154 | 2.83998 | 0      | 0      | 0        | 1\n",
       "11    | 39   | 8000    | 0    | 0        | 0     | 0     | 14   | 5.12821 | 1.63476 | 1      | 0      | 0        | 0\n",
       "11    | 39   | 100000  | 0    | 0        | 0     | 0     | 16   | 38.4615 | 3.64966 | 0      | 1      | 0        | 0\n",
       "11    | 43   | 25000   | 0    | 0        | 0     | 0     | 12   | 10      | 2.30259 | 0      | 0      | 0        | 0\n",
       "11    | 38   | 25000   | 0    | 0        | 0     | 0     | 16   | 27.1739 | 3.30226 | 1      | 0      | 0        | 0\n",
       "11    | 39   | 26000   | 0    | 0        | 0     | 0     | 13   | 16.6667 | 2.81341 | 1      | 0      | 0        | 0\n",
       "11    | 39   | 52000   | 0    | 0        | 0     | 0     | 16   | 16.6667 | 2.81341 | 0      | 0      | 0        | 0\n",
       "11    | 37   | 4500    | 0    | 0        | 0     | 0     | 13   | 4       | 1.38629 | 1      | 0      | 0        | 0\n",
       "... (21897 rows omitted)"
      ]
     },
     "execution_count": 16,
     "metadata": {},
     "output_type": "execute_result"
    }
   ],
   "source": [
    "cps = Table.read_table('cps.csv')\n",
    "cps"
   ]
  },
  {
   "cell_type": "markdown",
   "metadata": {},
   "source": [
    "We want to consider a person's wage and years of schooling. But first, we will convert wage to log-wage. Wage is a variable that we would expect to increase proportionally (or, exponentially) with changes in years of schooling. And as such, we usually take the natural log of wage instead. Below we plot log wage and years of schooling for the CPS data."
   ]
  },
  {
   "cell_type": "code",
   "execution_count": 20,
   "metadata": {
    "tags": [
     "remove_input"
    ]
   },
   "outputs": [
    {
     "data": {
      "image/png": "[encoded data removed]",
      "text/plain": [
       "<Figure size 576x432 with 1 Axes>"
      ]
     },
     "metadata": {
      "needs_background": "light"
     },
     "output_type": "display_data"
    }
   ],
   "source": [
    "educ = cps.column('educ')\n",
    "logwage = cps.column('logwage')\n",
    "\n",
    "plt.figure(figsize=(8,6))\n",
    "plt.scatter(educ, logwage)\n",
    "plt.xlabel('Years of Education')\n",
    "plt.ylabel('Log Wage')\n",
    "plt.title('Log Wage vs. Years of Education');"
   ]
  },
  {
   "cell_type": "markdown",
   "metadata": {},
   "source": [
    "Now let's fit a least-squares regression line onto this data. First, we'll do it manually in the Data 8 style above."
   ]
  },
  {
   "cell_type": "code",
   "execution_count": 21,
   "metadata": {},
   "outputs": [],
   "source": [
    "educ_standard = standard_units(educ)\n",
    "logwage_standard = standard_units(logwage)\n",
    "\n",
    "r = correlation(logwage_standard, educ_standard)\n",
    "slope = r * np.std(logwage) / np.std(educ)\n",
    "intercept = np.mean(logwage) - slope * np.mean(educ)"
   ]
  },
  {
   "cell_type": "code",
   "execution_count": 22,
   "metadata": {
    "tags": [
     "remove_input"
    ]
   },
   "outputs": [
    {
     "name": "stdout",
     "output_type": "stream",
     "text": [
      "Slope:  0.10781133924799272\n",
      "Intercept:  1.472287673006932\n"
     ]
    },
    {
     "data": {
      "image/png": "[encoded data removed]",
      "text/plain": [
       "<Figure size 576x432 with 1 Axes>"
      ]
     },
     "metadata": {
      "needs_background": "light"
     },
     "output_type": "display_data"
    }
   ],
   "source": [
    "plt.figure(figsize=(8,6))\n",
    "plt.scatter(educ, logwage)\n",
    "plt.plot(np.linspace(0, 20), slope * np.linspace(0, 20) + intercept, color='tab:orange')\n",
    "plt.xlabel('Years of Education')\n",
    "plt.ylabel('Log Wage')\n",
    "plt.title('Log Wage vs. Years of Education');\n",
    "print('Slope: ', slope)\n",
    "print('Intercept: ', intercept)"
   ]
  },
  {
   "cell_type": "markdown",
   "metadata": {},
   "source": [
    "So from the very simple and straight-forward model above, it seems that we estimate a slope of roughly 0.1, meaning we might expect that a one-year increase in schooling is associated with a 10% increase in wage, on average.\n",
    "\n",
    "We can also see that we have a non-zero intercept term. We should be careful how we interpret this term; from a strictly mathematical point of view, the intercept represents the expected value of $y$ (in this case log wage) when $x = 0$. However, in economics sometimes it makes no sense for $x$ to be 0, and so we cannot use the above interpretation. We won't go into detail this lecture, but regardless of whether the intercept is interpretable, we almost always want to include it."
   ]
  },
  {
   "cell_type": "markdown",
   "metadata": {},
   "source": [
    "## Uncertainty in $\\hat{\\beta}$"
   ]
  },
  {
   "cell_type": "markdown",
   "metadata": {},
   "source": [
    "We mentioned earlier that the slope we estimate from regression is exactly that: an estimate of the \"true\" underlying slope. Because of this, the estimate $\\hat{\\beta}$ is a random variable that depends on the underlying data.\n",
    "\n",
    "Let's assume there is the following true linear relation between log wage and years of schooling,\n",
    "\n",
    "$$\n",
    "\\text{logwage} = \\alpha + \\beta \\cdot \\text{years of schooling} + \\varepsilon\n",
    "$$\n",
    "\n",
    "and we try to estimate $\\alpha$ and $\\beta$.\n",
    "\n",
    "If our data are \"well-behaved\", then even though there is uncertainty in our estimate $\\hat{\\beta}$, on average $\\hat{\\beta}$ will be $\\beta$; that is to say that the expectation of $\\hat{\\beta}$ is $\\beta$. Additionally, if our data are \"well-behaved\", then $\\hat{\\beta}$ has some normal distribution with mean $\\beta$. We won't worry too much about what assumptions need to be satisfied to make the data \"well-behaved\".\n",
    "\n",
    "You can think of each person as an observation of these variables, and using a sample of people we can estimate the relationship between the two variables. However, due to the noise term and the fact that we only have a finite sample of people, the true relationship is always hidden from us, and we can only hope to get better estimates by designing better experiments and sampling more people.\n",
    "\n",
    "Let's try to get an idea of how \"certain\" we can be of our estimate $\\hat{\\beta}$. We'll do this in classic Data 8 style: bootstrapping. Using our existing sample data, we'll create new samples by bootstrapping from the existing data. Then, for each sample, we'll fit a line, and keep the slope of that line in a list with all of the other slopes. Then, we'll find the standard deviation of that list of slopes."
   ]
  },
  {
   "cell_type": "code",
   "execution_count": 23,
   "metadata": {},
   "outputs": [
    {
     "name": "stdout",
     "output_type": "stream",
     "text": [
      "Standard dev. of bootstrapped slopes:  0.0015948419317821812\n"
     ]
    },
    {
     "data": {
      "image/png": "[encoded data removed]",
      "text/plain": [
       "<Figure size 432x288 with 1 Axes>"
      ]
     },
     "metadata": {
      "needs_background": "light"
     },
     "output_type": "display_data"
    }
   ],
   "source": [
    "slopes = make_array()\n",
    "educ_logwage = cps.select(\"educ\", \"logwage\")\n",
    "\n",
    "np.random.seed(42)\n",
    "for i in np.arange(200):\n",
    "    educ_logwage_sample = educ_logwage.sample()\n",
    "    y = educ_logwage_sample.column(\"logwage\")\n",
    "    X = educ_logwage_sample.column(\"educ\")\n",
    "    model = sm.OLS(y, sm.add_constant(X)).fit()\n",
    "    slopes  = np.append(model.params[1], slopes)\n",
    "    \n",
    "Table().with_columns(\"Slopes\", slopes).hist()    \n",
    "print('Standard dev. of bootstrapped slopes: ', np.std(slopes))"
   ]
  },
  {
   "cell_type": "markdown",
   "metadata": {},
   "source": [
    "Our bootstrapped approximation standard error of 0.00159 is pretty close to the true standard error of 0.00144. `statsmodels`, the package we will be using to perform regressions, actually uses a precise mathematical formula for finding the standard error whereas we tried to find this value through simulation, but the idea behind the standard error is the same.\n",
    "\n",
    "Armed with a standard error, we can now form a 95% confidence interval and perform a test of significance to see if $\\hat{\\beta}$ is significantly different from 0."
   ]
  },
  {
   "cell_type": "code",
   "execution_count": 24,
   "metadata": {},
   "outputs": [
    {
     "name": "stdout",
     "output_type": "stream",
     "text": [
      "95% confidence interval: [0.1045603129388414, 0.1109373558983047]\n"
     ]
    }
   ],
   "source": [
    "# Using our resampled slopes\n",
    "lower_bound = percentile(2.5, slopes)\n",
    "upper_bound = percentile(97.5, slopes)\n",
    "print('95% confidence interval: [{}, {}]'.format(lower_bound, upper_bound))"
   ]
  },
  {
   "cell_type": "markdown",
   "metadata": {},
   "source": [
    "The 95% confidence interval does not contain 0, and so $\\beta$ is unlikely to be 0."
   ]
  },
  {
   "cell_type": "markdown",
   "metadata": {},
   "source": [
    "## Regression with a Binary Variable"
   ]
  },
  {
   "cell_type": "markdown",
   "metadata": {},
   "source": [
    "A binary variable is a variable that takes on the value of 1 if some condition is true, and 0 otherwise. These are also called dummy variables or indicator variables. It might sound strange at first, but you can actually perform regression of a variable like log earnings onto a binary variable.\n",
    "\n",
    "Let's import a different dataset that has the following features. Some will be useful to us later."
   ]
  },
  {
   "cell_type": "code",
   "execution_count": 25,
   "metadata": {},
   "outputs": [
    {
     "data": {
      "text/html": [
       "<table border=\"1\" class=\"dataframe\">\n",
       "    <thead>\n",
       "        <tr>\n",
       "            <th>male</th> <th>AFQT</th> <th>real_earnings_1999</th> <th>weeks_worked_1999</th> <th>log_earn_1999</th> <th>college</th> <th>mother_college</th> <th>father_college</th>\n",
       "        </tr>\n",
       "    </thead>\n",
       "    <tbody>\n",
       "        <tr>\n",
       "            <td>1   </td> <td>99.393</td> <td>52354.4           </td> <td>52               </td> <td>10.8658      </td> <td>1      </td> <td>0             </td> <td>0             </td>\n",
       "        </tr>\n",
       "        <tr>\n",
       "            <td>1   </td> <td>47.412</td> <td>32721.5           </td> <td>52               </td> <td>10.3958      </td> <td>0      </td> <td>0             </td> <td>0             </td>\n",
       "        </tr>\n",
       "        <tr>\n",
       "            <td>0   </td> <td>44.022</td> <td>35862.8           </td> <td>52               </td> <td>10.4875      </td> <td>0      </td> <td>0             </td> <td>0             </td>\n",
       "        </tr>\n",
       "        <tr>\n",
       "            <td>1   </td> <td>59.683</td> <td>68060.7           </td> <td>52               </td> <td>11.1282      </td> <td>0      </td> <td>0             </td> <td>0             </td>\n",
       "        </tr>\n",
       "        <tr>\n",
       "            <td>1   </td> <td>72.313</td> <td>78531.6           </td> <td>52               </td> <td>11.2713      </td> <td>1      </td> <td>0             </td> <td>1             </td>\n",
       "        </tr>\n",
       "        <tr>\n",
       "            <td>0   </td> <td>98.798</td> <td>62825.3           </td> <td>52               </td> <td>11.0481      </td> <td>1      </td> <td>0             </td> <td>0             </td>\n",
       "        </tr>\n",
       "        <tr>\n",
       "            <td>0   </td> <td>50.283</td> <td>49736.7           </td> <td>52               </td> <td>10.8145      </td> <td>0      </td> <td>0             </td> <td>0             </td>\n",
       "        </tr>\n",
       "        <tr>\n",
       "            <td>1   </td> <td>89.669</td> <td>62825.3           </td> <td>52               </td> <td>11.0481      </td> <td>0      </td> <td>0             </td> <td>0             </td>\n",
       "        </tr>\n",
       "        <tr>\n",
       "            <td>1   </td> <td>95.977</td> <td>259311            </td> <td>52               </td> <td>12.4658      </td> <td>0      </td> <td>0             </td> <td>1             </td>\n",
       "        </tr>\n",
       "        <tr>\n",
       "            <td>0   </td> <td>67.021</td> <td>68060.7           </td> <td>52               </td> <td>11.1282      </td> <td>1      </td> <td>0             </td> <td>1             </td>\n",
       "        </tr>\n",
       "    </tbody>\n",
       "</table>\n",
       "<p>... (5403 rows omitted)</p>"
      ],
      "text/plain": [
       "male | AFQT   | real_earnings_1999 | weeks_worked_1999 | log_earn_1999 | college | mother_college | father_college\n",
       "1    | 99.393 | 52354.4            | 52                | 10.8658       | 1       | 0              | 0\n",
       "1    | 47.412 | 32721.5            | 52                | 10.3958       | 0       | 0              | 0\n",
       "0    | 44.022 | 35862.8            | 52                | 10.4875       | 0       | 0              | 0\n",
       "1    | 59.683 | 68060.7            | 52                | 11.1282       | 0       | 0              | 0\n",
       "1    | 72.313 | 78531.6            | 52                | 11.2713       | 1       | 0              | 1\n",
       "0    | 98.798 | 62825.3            | 52                | 11.0481       | 1       | 0              | 0\n",
       "0    | 50.283 | 49736.7            | 52                | 10.8145       | 0       | 0              | 0\n",
       "1    | 89.669 | 62825.3            | 52                | 11.0481       | 0       | 0              | 0\n",
       "1    | 95.977 | 259311             | 52                | 12.4658       | 0       | 0              | 1\n",
       "0    | 67.021 | 68060.7            | 52                | 11.1282       | 1       | 0              | 1\n",
       "... (5403 rows omitted)"
      ]
     },
     "execution_count": 25,
     "metadata": {},
     "output_type": "execute_result"
    }
   ],
   "source": [
    "nlsy = Table.read_table('nlsy_cleaned_small.csv')\n",
    "nlsy"
   ]
  },
  {
   "cell_type": "markdown",
   "metadata": {},
   "source": [
    "Now let's visualize log earnings vs. the binary variable corresponding to whether or not an observation went to college."
   ]
  },
  {
   "cell_type": "code",
   "execution_count": 26,
   "metadata": {
    "tags": [
     "remove_input"
    ]
   },
   "outputs": [
    {
     "data": {
      "image/png": "[encoded data removed]",
      "text/plain": [
       "<Figure size 576x432 with 1 Axes>"
      ]
     },
     "metadata": {
      "needs_background": "light"
     },
     "output_type": "display_data"
    }
   ],
   "source": [
    "coll = nlsy.column('college')\n",
    "logearn = nlsy.column('log_earn_1999')\n",
    "\n",
    "plt.figure(figsize=(8,6))\n",
    "plt.scatter(coll, logearn)\n",
    "plt.xlabel('College')\n",
    "plt.ylabel('Log Earnings')\n",
    "plt.title('Log Earnings vs. College Completion')\n",
    "plt.xticks([0,1]);"
   ]
  },
  {
   "cell_type": "code",
   "execution_count": 27,
   "metadata": {
    "tags": [
     "remove_input"
    ]
   },
   "outputs": [
    {
     "data": {
      "image/png": "[encoded data removed]",
      "text/plain": [
       "<Figure size 576x432 with 1 Axes>"
      ]
     },
     "metadata": {
      "needs_background": "light"
     },
     "output_type": "display_data"
    }
   ],
   "source": [
    "no_college = nlsy.where('college', 0).column(\"log_earn_1999\")\n",
    "has_college = nlsy.where('college', 1).column(\"log_earn_1999\")\n",
    "\n",
    "plt.figure(figsize=(8,6))\n",
    "plt.xlabel('College')\n",
    "plt.ylabel('Log Earnings')\n",
    "plt.title('Log Earnings vs. College Completion')\n",
    "plt.violinplot(no_college, positions = [0], points=20, widths=0.3, showmeans=True, showextrema=True, showmedians=False)\n",
    "plt.violinplot(has_college, positions = [1], points=20, widths=0.3, showmeans=True, showextrema=True, showmedians=False);"
   ]
  },
  {
   "cell_type": "markdown",
   "metadata": {},
   "source": [
    "Now let's fit a regression model:"
   ]
  },
  {
   "cell_type": "code",
   "execution_count": 28,
   "metadata": {},
   "outputs": [
    {
     "name": "stdout",
     "output_type": "stream",
     "text": [
      "y = 0.72389 * x + 10.27883\n"
     ]
    }
   ],
   "source": [
    "coll_standard = standard_units(coll)\n",
    "logearn_standard = standard_units(logearn)\n",
    "\n",
    "r = correlation(logearn_standard, coll_standard)\n",
    "slope = r * np.std(logearn) / np.std(coll)\n",
    "intercept = np.mean(logearn) - slope * np.mean(coll)\n",
    "\n",
    "print(\"y = {:.5f} * x + {:.5f}\".format(slope, intercept))"
   ]
  },
  {
   "cell_type": "markdown",
   "metadata": {},
   "source": [
    "Wow! This regression would imply that we expect, on average, observations who went to college to have 70% higher earnings than those who did not go to college. Let's now plot this line on the data:"
   ]
  },
  {
   "cell_type": "code",
   "execution_count": 33,
   "metadata": {
    "tags": [
     "remove_input"
    ]
   },
   "outputs": [
    {
     "data": {
      "image/png": "[encoded data removed]",
      "text/plain": [
       "<Figure size 576x432 with 1 Axes>"
      ]
     },
     "metadata": {
      "needs_background": "light"
     },
     "output_type": "display_data"
    }
   ],
   "source": [
    "plt.figure(figsize=(8,6))\n",
    "plt.scatter(coll, logearn)\n",
    "plt.plot(np.linspace(0, 1), slope * np.linspace(0, 1) + intercept, color='tab:orange')\n",
    "plt.xlabel('College')\n",
    "plt.ylabel('Log Earnings')\n",
    "plt.title('Log Earnings vs. College Completion')\n",
    "plt.xticks([0,1]);"
   ]
  },
  {
   "cell_type": "code",
   "execution_count": 34,
   "metadata": {
    "tags": [
     "remove_input"
    ]
   },
   "outputs": [
    {
     "data": {
      "image/png": "[encoded data removed]",
      "text/plain": [
       "<Figure size 576x432 with 1 Axes>"
      ]
     },
     "metadata": {
      "needs_background": "light"
     },
     "output_type": "display_data"
    }
   ],
   "source": [
    "no_college = nlsy.where('college', 0).column(\"log_earn_1999\")\n",
    "has_college = nlsy.where('college', 1).column(\"log_earn_1999\")\n",
    "\n",
    "plt.figure(figsize=(8,6))\n",
    "plt.plot(np.linspace(0, 1), slope * np.linspace(0, 1) + intercept, color='tab:green')\n",
    "plt.xlabel('College')\n",
    "plt.ylabel('Log Earnings')\n",
    "plt.title('Log Earnings vs. College Completion')\n",
    "plt.violinplot(no_college, positions = [0], points=20, widths=0.3, showmeans=True, showextrema=True, showmedians=False)\n",
    "plt.violinplot(has_college, positions = [1], points=20, widths=0.3, showmeans=True, showextrema=True, showmedians=False);"
   ]
  },
  {
   "cell_type": "markdown",
   "metadata": {},
   "source": [
    "When we perform a simple regression onto just a dummy variable, it is an important fact that $\\hat{\\alpha}$ is the mean value of $y$ for all observations in the sample where $x = 0$, and $\\hat{\\beta}$ is the difference between the mean value of $y$ for observations in the sample where $x = 1$ and observations where $x = 0$. Proving this claim is beyond our scope this week, but let's verify it with our data:"
   ]
  },
  {
   "cell_type": "code",
   "execution_count": 31,
   "metadata": {},
   "outputs": [
    {
     "name": "stdout",
     "output_type": "stream",
     "text": [
      "Avg logearn for coll = 1:  11.002722859240283\n",
      "Avg logearn for coll = 0:  10.278831734712744\n",
      "Difference between the two:  0.7238911245275386\n"
     ]
    }
   ],
   "source": [
    "avg_logearn_coll = np.mean(logearn[coll == 1])\n",
    "avg_logearn_nocoll = np.mean(logearn[coll == 0])\n",
    "\n",
    "print('Avg logearn for coll = 1: ', avg_logearn_coll)\n",
    "print('Avg logearn for coll = 0: ', avg_logearn_nocoll)\n",
    "print('Difference between the two: ', avg_logearn_coll - avg_logearn_nocoll)"
   ]
  },
  {
   "cell_type": "code",
   "execution_count": 32,
   "metadata": {},
   "outputs": [
    {
     "name": "stdout",
     "output_type": "stream",
     "text": [
      "Intercept:  10.278831734712744\n",
      "Slope:  0.72389112452754\n"
     ]
    }
   ],
   "source": [
    "print('Intercept: ', intercept)\n",
    "print('Slope: ', slope)"
   ]
  },
  {
   "cell_type": "markdown",
   "metadata": {},
   "source": [
    " "
   ]
  }
 ],
 "metadata": {
  "celltoolbar": "Tags",
  "kernelspec": {
   "display_name": "Python 3",
   "language": "python",
   "name": "python3"
  },
  "language_info": {
   "codemirror_mode": {
    "name": "ipython",
    "version": 3
   },
   "file_extension": ".py",
   "mimetype": "text/x-python",
   "name": "python",
   "nbconvert_exporter": "python",
   "pygments_lexer": "ipython3",
   "version": "3.8.8"
  },
  "varInspector": {
   "cols": {
    "lenName": 16,
    "lenType": 16,
    "lenVar": 40
   },
   "kernels_config": {
    "python": {
     "delete_cmd_postfix": "",
     "delete_cmd_prefix": "del ",
     "library": "var_list.py",
     "varRefreshCmd": "print(var_dic_list())"
    },
    "r": {
     "delete_cmd_postfix": ") ",
     "delete_cmd_prefix": "rm(",
     "library": "var_list.r",
     "varRefreshCmd": "cat(var_dic_list()) "
    }
   },
   "types_to_exclude": [
    "module",
    "function",
    "builtin_function_or_method",
    "instance",
    "_Feature"
   ],
   "window_display": false
  }
 },
 "nbformat": 4,
 "nbformat_minor": 4
}
