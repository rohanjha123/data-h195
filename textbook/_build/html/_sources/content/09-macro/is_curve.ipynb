{
 "cells": [
  {
   "cell_type": "markdown",
   "id": "168d941e",
   "metadata": {},
   "source": [
    "# IS-Curve"
   ]
  },
  {
   "cell_type": "markdown",
   "id": "83647a26",
   "metadata": {},
   "source": [
    "In this section we will introduce the IS curve (“investment–saving” curve), an important macroeconomics model that characterizes the relationship between real interest rates and output. **The IS curve is downward sloping. When the real interest rate falls, output will increase.** We will see why this inverse relationship is true and what this relationship implies for the economy. "
   ]
  },
  {
   "cell_type": "markdown",
   "id": "cf2d05ad",
   "metadata": {},
   "source": [
    "![is_curve.png](is_curve.png)\n",
    "<center> IS Curve </center>"
   ]
  },
  {
   "cell_type": "markdown",
   "id": "8f079639",
   "metadata": {},
   "source": [
    "## Keynesian Cross"
   ]
  },
  {
   "cell_type": "markdown",
   "id": "514a3451",
   "metadata": {},
   "source": [
    "First, we will discuss a model of aggregate demand and aggregate output. The Keynesian cross diagram, determines the equilibrium level of real GDP by the point where the total or aggregate demand in the economy is equal to the amount of output produced. \n"
   ]
  },
  {
   "cell_type": "markdown",
   "id": "393568ec",
   "metadata": {},
   "source": [
    "![keynesian_cross.png](keynesian_cross.png)\n",
    "<center> Keynesian Cross Diagram </center>"
   ]
  },
  {
   "cell_type": "markdown",
   "id": "c9e21fab",
   "metadata": {},
   "source": [
    "The axes of the Keynesian cross diagram show output / national income (or real GDP) on the horizontal axis and output / aggregate demand on the vertical axis. The blue line represents the aggregate demand, and the black 45° line represents the aggregate output. "
   ]
  },
  {
   "cell_type": "markdown",
   "id": "b5a1a8e1",
   "metadata": {},
   "source": [
    "- **Why is the slope of the aggregate output line equal to 1?**   \n",
    "Both the horizontal axis and the vertical axis are the output of the economy, so they should be the same. \n",
    "\n",
    "\n",
    "- **Why is the slope of the aggregate demand line less than 1, and the intercept greater than 0?**  \n",
    "We will first consider how demand increases when national income rises. People can do two things with their income: consume it or save it (let’s ignore taxes for now). Each person who receives an additional dollar faces this choice. \n",
    "The marginal propensity to consume (MPC), is the share of the additional dollar of income a person decides to devote to consumption expenditures. Since the marginal propensity to consume is usually less than 1 (which means not all income is consumed), for every unit increase in national income, we will expect the aggregate demand to increase by less than 1 unit. So, the slope is less than 1.   \n",
    "However, even when the economy is not producing any output, people still need to consume. They may do so by using their savings or borrowing. So we have a positive intercept. "
   ]
  },
  {
   "cell_type": "markdown",
   "id": "8fbe14e8",
   "metadata": {},
   "source": [
    "## Dynamics of Keynesian Cross and Derivation of IS Curve"
   ]
  },
  {
   "cell_type": "markdown",
   "id": "99cc56d8",
   "metadata": {},
   "source": [
    "Now, we are ready to derive the IS curve. \n",
    "\n",
    "What will happen if the real interest rate decreases? First, people have less incentive to save money, since the gains from interest income are lower. Second, people have more incentive to spend (especially borrow money to spend) because the opportunity costs of spending are lower. \n",
    "\n",
    "**So, when the real interest rate decreases, people will tend to save less and consume more, shifting the aggregate demand curve in the Keynesian Cross upward. The equilibrium output level will therefore increase. The opposite direction will also hold true.** \n",
    "\n",
    "This precisely describes the inverse relationship between real interest rate and output. \n"
   ]
  },
  {
   "cell_type": "markdown",
   "id": "e924ea3b",
   "metadata": {},
   "source": [
    "![is_derivation.png](is_derivation.png)\n",
    "<center> Keynesian Cross and IS Curve </center>"
   ]
  },
  {
   "cell_type": "markdown",
   "id": "1372f5c1",
   "metadata": {},
   "source": [
    "## Implication of IS Curve"
   ]
  },
  {
   "cell_type": "markdown",
   "id": "903e5517",
   "metadata": {},
   "source": [
    "The IS curve explains the inverse relationship between real interest rate and output. \n",
    "\n",
    "A more comprehensive model of how the money markets interact with the goods market can be illustrated by the IS–LM model. The IS–LM model, or Hicks–Hansen model, is a two-dimensional macroeconomic tool that shows the relationship between interest rates and the asset market (also known as real output in goods and services market plus money market). The intersection of the \"investment–saving\" (IS) and \"liquidity preference–money supply\" (LM) curves models a \"general equilibrium\" where equilibria simultaneously occur in both the goods and the asset markets. Hence, this tool is sometimes used not only to analyze economic fluctuations but also to suggest potential levels for appropriate stabilization policies. \n",
    "\n",
    "The chart below illustates how each monetary and fiscal policy will affect the economy. \n"
   ]
  },
  {
   "cell_type": "markdown",
   "id": "04b0cf3e",
   "metadata": {},
   "source": [
    "![islm_fiscalmonetarypolicy.png](islm_fiscalmonetarypolicy.png)\n",
    "\n",
    "\n",
    "<center> Source: Lev Lafayette, http://levlafayette.com/node/629 </center>"
   ]
  },
  {
   "cell_type": "code",
   "execution_count": null,
   "id": "4fb45066",
   "metadata": {},
   "outputs": [],
   "source": []
  }
 ],
 "metadata": {
  "kernelspec": {
   "display_name": "Python 3",
   "language": "python",
   "name": "python3"
  },
  "language_info": {
   "codemirror_mode": {
    "name": "ipython",
    "version": 3
   },
   "file_extension": ".py",
   "mimetype": "text/x-python",
   "name": "python",
   "nbconvert_exporter": "python",
   "pygments_lexer": "ipython3",
   "version": "3.8.8"
  }
 },
 "nbformat": 4,
 "nbformat_minor": 5
}
