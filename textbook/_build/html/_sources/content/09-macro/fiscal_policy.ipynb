{
 "cells": [
  {
   "cell_type": "markdown",
   "id": "38106604",
   "metadata": {},
   "source": [
    "# Fiscal Policy"
   ]
  },
  {
   "cell_type": "markdown",
   "id": "76d010b0",
   "metadata": {},
   "source": [
    "In this section, we will give a broad overview of fiscal policy. \n",
    "\n",
    "Fiscal policy is the use of government spending and taxation to influence the economy. Governments typically use fiscal policy to promote strong and sustainable growth and reduce poverty. \n",
    "\n",
    "$$ Y = C + I + G + NX $$\n",
    "\n",
    "**There are many fiscal policy tools at the hands of the government to stabilize the economy. These primarily include changes to levels of taxation and government spending. To stimulate growth, taxes are lowered and government spending is increased, often involving borrowing through issuing government debt. To cool down an overheated economy, the government can use the opposite tools.** \n"
   ]
  },
  {
   "cell_type": "markdown",
   "id": "e946405d",
   "metadata": {},
   "source": [
    "## Classical vs Keynesian View"
   ]
  },
  {
   "cell_type": "markdown",
   "id": "0633a815",
   "metadata": {},
   "source": [
    "Why is fiscal policy an effective tool to stabilize the economy? We must first look at two views of macroeconomics and what each of them implies for fiscal policy. \n",
    "\n",
    "**Classical economics** claims economic fluctuations arise from “supply \n",
    "shocks'' such as fluctuations in productivity, and the aggregate supply is the determinant of economic output. So, the Classical view places little emphasis on the use of fiscal policy to manage aggregate demand. Classical theory is the basis for Monetarism, which only concentrates on managing the money supply, through monetary policy.\n",
    "\n",
    "**Keynesian economics** suggests recessions often arise from “aggregate demand” shocks, and governments need to use fiscal policy, especially in a recession.\n",
    "\n",
    "In the AD–AS diagram below, we can see a visual comparison between the economy under the Classical view and the Keynesian view. In the Classical view, the AS curve is vertical. So any increase or decrease in aggregate demand (such as government spending) will not affect the output. On the other hand, in the Keynesian view, increase or decrease in aggregate demand will result in a corresponding change in the output. \n"
   ]
  },
  {
   "cell_type": "markdown",
   "id": "a3a678e5",
   "metadata": {},
   "source": [
    "![classical_vs_keynesian.png](classical_vs_keynesian.png)\n",
    "<center> Classical view vs. Keynesian view </center>"
   ]
  },
  {
   "cell_type": "markdown",
   "id": "11ae6d8f",
   "metadata": {},
   "source": [
    "Empirically speaking, our economy lies between the Classical view and the Keynesian view. So fiscal policy has the ability to adjust the economy to some extent. "
   ]
  },
  {
   "cell_type": "code",
   "execution_count": null,
   "id": "7587844c",
   "metadata": {},
   "outputs": [],
   "source": []
  }
 ],
 "metadata": {
  "kernelspec": {
   "display_name": "Python 3",
   "language": "python",
   "name": "python3"
  },
  "language_info": {
   "codemirror_mode": {
    "name": "ipython",
    "version": 3
   },
   "file_extension": ".py",
   "mimetype": "text/x-python",
   "name": "python",
   "nbconvert_exporter": "python",
   "pygments_lexer": "ipython3",
   "version": "3.8.8"
  }
 },
 "nbformat": 4,
 "nbformat_minor": 5
}
