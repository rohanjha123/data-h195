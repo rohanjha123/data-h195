{
 "cells": [
  {
   "cell_type": "code",
   "execution_count": 1,
   "id": "3ab2a718-b1b4-46ca-a65f-dbb2e56ee012",
   "metadata": {},
   "outputs": [],
   "source": [
    "import pandas as pd\n",
    "import requests\n",
    "from urllib.parse import urlencode"
   ]
  },
  {
   "cell_type": "markdown",
   "id": "0eef9810-9fdb-4dc1-88ef-944ed51791bf",
   "metadata": {},
   "source": [
    "# APIs"
   ]
  },
  {
   "cell_type": "markdown",
   "id": "31880f9c-f4d3-4e4a-97a8-95880681c3da",
   "metadata": {},
   "source": [
    "Application Programming Interfaces, commonly known as APIs, are tools that allow different softwares to communicate with each other. Organizations may choose to maintain APIs to provide easy access to their data, in the interest of research. As economists, we may be interested in using these APIs to access their data for further research. A famous example of such an API is the [Fred API](https://fred.stlouisfed.org/docs/api/fred/), which is maintained by the Federal Reserve Bank of St. Louis and allows us to easily retrieve Federal Reserve Data.\n",
    "\n",
    "Ultimately, there are thousands of APIs and they all have different ways you can interact with them. It is impossible to learn how to interact with every API. Instead, the key skill you should focus on is learning how to read the documentation of APIs. Once you can successfully read and understand an API's documentation, you will have no trouble working with that API. This chapter will use the Fred API as an example for how to read an APIs documentation. Let us get started. We will be referencing the relevant [documentation](https://fred.stlouisfed.org/docs/api/fred/series_observations.html) a lot during this chapter, we recommend you also keep it open for easy reference."
   ]
  },
  {
   "cell_type": "markdown",
   "id": "5c9c696c-6fd7-46e6-82d3-e818766ac8fc",
   "metadata": {},
   "source": [
    "## Requests"
   ]
  },
  {
   "cell_type": "markdown",
   "id": "ccc90af0-52b9-4d24-8170-82a9421ae128",
   "metadata": {},
   "source": [
    "As you can see at the top of the [documentation](https://fred.stlouisfed.org/docs/api/fred/series_observations.html), in order to access the Fred API, we must 'request' URLs. Python's [`requests`](https://requests.readthedocs.io/en/latest/) library is incredibly popular for making such requests. A very simple example of a request is shown below."
   ]
  },
  {
   "cell_type": "code",
   "execution_count": 37,
   "id": "01e72c0a-5ef7-4770-ae9c-c672a7196ba7",
   "metadata": {},
   "outputs": [
    {
     "data": {
      "text/plain": [
       "<Response [200]>"
      ]
     },
     "execution_count": 37,
     "metadata": {},
     "output_type": "execute_result"
    }
   ],
   "source": [
    "requests.get('https://www.google.com')"
   ]
  },
  {
   "cell_type": "markdown",
   "id": "9f40652d-f4cb-40db-ab79-42260ef8a68f",
   "metadata": {},
   "source": [
    "As you can see, this request returned a response with a status code of 200. You can read more about the various status codes [here](https://developer.mozilla.org/en-US/docs/Web/HTTP/Status). In general, a status code in the 200s represents a success and a status code in the 400s or 500s represents a failure.\n",
    "\n",
    "In order to make a successful request, you need an API key. We talk more about them in the next section."
   ]
  },
  {
   "cell_type": "markdown",
   "id": "4905f7f2-06de-45b2-aaa0-8e002a0faa8f",
   "metadata": {},
   "source": [
    "## Parameters"
   ]
  },
  {
   "cell_type": "markdown",
   "id": "49ef5c8c-bba8-4771-952f-354b9c9d0db9",
   "metadata": {},
   "source": [
    "This section will go through and describe all the parameters in the [documentation](https://fred.stlouisfed.org/docs/api/fred/series_observations.html)."
   ]
  },
  {
   "cell_type": "markdown",
   "id": "01c1927e-841d-486b-83c0-f075f8292a47",
   "metadata": {},
   "source": [
    "### API Key\n",
    "\n",
    "In order to make a request, you need an API key. An API key is a unique identifier used to connect to, or perform, an API call. It shows that you are using the software legitimately and are not violating the platforms terms and conditions. For the Fred API, you can easily request an API key [here](https://fred.stlouisfed.org/docs/api/api_key.html).\n",
    "\n",
    "If someone else obtains your API key, they can effectively pretend to be you. They can misuse your API key, using it to violate the platforms terms and conditions, and get you banned or worse. Therefore, it is good practice to keep your API keys secret to yourself. In keeping with this practice, we shall not share the API key we used for this notebook, and you must request your own API key if you wish to replicate the results."
   ]
  },
  {
   "cell_type": "code",
   "execution_count": 38,
   "id": "d24629aa-3174-4408-b9b0-4a8756086c11",
   "metadata": {},
   "outputs": [],
   "source": [
    "api_key = \"...\" # We have deliberately omitted our API key"
   ]
  },
  {
   "cell_type": "markdown",
   "id": "00b16fe9-ce1c-4a2a-b1b0-06fe44e17961",
   "metadata": {},
   "source": [
    "### File Type"
   ]
  },
  {
   "cell_type": "markdown",
   "id": "1972d23b-5367-4d02-a91b-16c748f43544",
   "metadata": {},
   "source": [
    "This parameter indicates which type of file to return as the output. For the Fred API, it is often easiest to work with [JSON files](https://www.json.org/json-en.html) as the output. JSON files are an example of [semi-structured data](https://www.teradata.com/glossary/what-is-semi-structured-data#:~:text=Semi%2Dstructured%20data%20refers%20to,not%20have%20a%20fixed%20schema.), an alternative to structured csv's we have been using so far. We will not delve into json's too much for now, other than noting that `pandas` has an easy to use [`.read_json()`](https://pandas.pydata.org/docs/reference/api/pandas.read_json.html) method. The API notes that if we choose to return a `txt` or `xls` file, an application/zip file will be returned to compress the data. So, it is easiest to return a `json` file and directly read it in."
   ]
  },
  {
   "cell_type": "markdown",
   "id": "99d92c79-c5b9-479c-b32c-8e99c87ddc72",
   "metadata": {},
   "source": [
    "### Series ID"
   ]
  },
  {
   "cell_type": "markdown",
   "id": "3aedd687-e471-47e4-9d1c-b735d92f81c5",
   "metadata": {},
   "source": [
    "The series ID lets the Fred API know which data you are interested in. The Fred API supports over 800,000 different series, you can view the list [here](https://fred.stlouisfed.org/tags/series?t=id&rt=id&ob=pv&od=desc). "
   ]
  },
  {
   "cell_type": "markdown",
   "id": "12c8ac9f-b902-4151-a19d-6b209160f966",
   "metadata": {},
   "source": [
    "### Real-Time\n",
    "\n",
    "It is a very difficult job calculating metrics like a country's real GDP. For example, read [this article](https://www.econstor.eu/bitstream/10419/200206/1/20180700_fix_nitzan_bichler_real_gdp_rwer.pdf) on difficulties people encounter when calculating real GDP. Often, economists review old data and revise it based on new findings or updated ways of calculating a metric. When this happens, the FRED keeps a record of the new data as well as old data and how long people believed in those numbers.\n",
    "\n",
    "For example, the API call below extracts real-time data for the US real GDP in 1947 (series ID: [GDPC1](https://fred.stlouisfed.org/series/GDPC1)). \n"
   ]
  },
  {
   "cell_type": "code",
   "execution_count": 71,
   "id": "3c9a84e4-221c-4328-80f7-d14099b8cebb",
   "metadata": {},
   "outputs": [
    {
     "data": {
      "text/plain": [
       "[{'realtime_start': '1992-12-22',\n",
       "  'realtime_end': '1996-01-18',\n",
       "  'date': '1947-01-01',\n",
       "  'value': '1239.5'},\n",
       " {'realtime_start': '1996-01-19',\n",
       "  'realtime_end': '1997-05-06',\n",
       "  'date': '1947-01-01',\n",
       "  'value': '.'},\n",
       " {'realtime_start': '1997-05-07',\n",
       "  'realtime_end': '1999-10-27',\n",
       "  'date': '1947-01-01',\n",
       "  'value': '1402.5'},\n",
       " {'realtime_start': '1999-10-28',\n",
       "  'realtime_end': '2000-04-26',\n",
       "  'date': '1947-01-01',\n",
       "  'value': '.'},\n",
       " {'realtime_start': '2000-04-27',\n",
       "  'realtime_end': '2003-12-09',\n",
       "  'date': '1947-01-01',\n",
       "  'value': '1481.7'},\n",
       " {'realtime_start': '2003-12-10',\n",
       "  'realtime_end': '2009-07-30',\n",
       "  'date': '1947-01-01',\n",
       "  'value': '1570.5'},\n",
       " {'realtime_start': '2009-07-31',\n",
       "  'realtime_end': '2011-07-28',\n",
       "  'date': '1947-01-01',\n",
       "  'value': '1772.2'},\n",
       " {'realtime_start': '2011-07-29',\n",
       "  'realtime_end': '2013-07-30',\n",
       "  'date': '1947-01-01',\n",
       "  'value': '1770.7'},\n",
       " {'realtime_start': '2013-07-31',\n",
       "  'realtime_end': '2014-07-29',\n",
       "  'date': '1947-01-01',\n",
       "  'value': '1932.6'},\n",
       " {'realtime_start': '2014-07-30',\n",
       "  'realtime_end': '2017-10-26',\n",
       "  'date': '1947-01-01',\n",
       "  'value': '1934.5'},\n",
       " {'realtime_start': '2017-10-27',\n",
       "  'realtime_end': '2018-07-26',\n",
       "  'date': '1947-01-01',\n",
       "  'value': '1934.471'},\n",
       " {'realtime_start': '2018-07-27',\n",
       "  'realtime_end': '2021-07-28',\n",
       "  'date': '1947-01-01',\n",
       "  'value': '2033.061'},\n",
       " {'realtime_start': '2021-07-29',\n",
       "  'realtime_end': '2023-09-27',\n",
       "  'date': '1947-01-01',\n",
       "  'value': '2034.45'},\n",
       " {'realtime_start': '2023-09-28',\n",
       "  'realtime_end': '9999-12-31',\n",
       "  'date': '1947-01-01',\n",
       "  'value': '2182.681'}]"
      ]
     },
     "execution_count": 71,
     "metadata": {},
     "output_type": "execute_result"
    }
   ],
   "source": [
    "res = requests.get(f'https://api.stlouisfed.org/fred/series/observations?series_id=GDPC1&realtime_start=1776-07-04&realtime_end=9999-12-31&observation_start=1947-01-01&observation_end=1947-01-01&api_key={api_key}&file_type=json')\n",
    "res.json()['observations']\n"
   ]
  },
  {
   "cell_type": "markdown",
   "id": "4a607dd4-b114-498b-a6ee-e5e0f9fcea47",
   "metadata": {},
   "source": [
    "Looking at the first entry, you can see that between 22nd December 1992 and 18th January 1996, economists believed the 1947 real GDP to be around 1239.5 billions of dollars. However, between 19th January 1996 and 6th May 1997, the old estimate was disproven but no new estimate was calculated. When the new estimate was calculated on 7th May 1997, it was 1402.5 billions of dollars. Updates were continually made in this fasion, with the most recent update being made in September 2023 and bringing the value up to 2182.681 billions of dollars!\n",
    "\n",
    "The default value of both `realtime_start` and `realtime_end` is the current date, so you will only get the most up-to-date figures and estimates. However, if you wish, you can also access older data by setting `realtime_start` and `realtime_end` to span the time period whose data you are interested in."
   ]
  },
  {
   "cell_type": "markdown",
   "id": "09f2d15b-4470-49c7-ad6a-de26414794b3",
   "metadata": {},
   "source": [
    "### Limit\n",
    "\n",
    "The limit is the maximum number of results you can return with the API call. As you can see, the Fred API does not allow you to return more than 100,000 results at once, out of fear of crashing the API. Abusing the limit rate of the API often gets you banned. This is another reason to keep your API key secret, you don't want someone pretending to be you and then abusing the limit rate."
   ]
  },
  {
   "cell_type": "markdown",
   "id": "930c4f30-5158-44b8-895c-91c2bfb69fcc",
   "metadata": {},
   "source": [
    "### Offset\n",
    "\n",
    "Skips the first $n$ data points, where $n$ is a whole number. The default value is 0, or skipping no data points."
   ]
  },
  {
   "cell_type": "markdown",
   "id": "d78b0502-b85f-415f-82ad-f0a9a40facb2",
   "metadata": {},
   "source": [
    "### Sort Order\n",
    "\n",
    "Sorts by date in ascending or descending fashion."
   ]
  },
  {
   "cell_type": "markdown",
   "id": "6444983a-2636-47c5-b4b5-5d22ce013638",
   "metadata": {},
   "source": [
    "### Observation Period\n",
    "\n",
    "The period whose data you are interested in. While the real-time looks at when an estimate was made, the observation time looks at which year/quarter the estimate is being made for. For example, if you want the most recent/up-to-date data on US GDP over time, your observation period will be 1776 to present while your real-time period will be today. We have made this sample API call below and returned the first 5 rows, how does it compare to the sample API call in the real-time section?\n"
   ]
  },
  {
   "cell_type": "code",
   "execution_count": 74,
   "id": "3e3f1cb7-b235-44ee-ac7d-36c57b1f60a2",
   "metadata": {},
   "outputs": [
    {
     "data": {
      "text/plain": [
       "[{'realtime_start': '2024-01-08',\n",
       "  'realtime_end': '2024-01-08',\n",
       "  'date': '1947-01-01',\n",
       "  'value': '2182.681'},\n",
       " {'realtime_start': '2024-01-08',\n",
       "  'realtime_end': '2024-01-08',\n",
       "  'date': '1947-04-01',\n",
       "  'value': '2176.892'},\n",
       " {'realtime_start': '2024-01-08',\n",
       "  'realtime_end': '2024-01-08',\n",
       "  'date': '1947-07-01',\n",
       "  'value': '2172.432'},\n",
       " {'realtime_start': '2024-01-08',\n",
       "  'realtime_end': '2024-01-08',\n",
       "  'date': '1947-10-01',\n",
       "  'value': '2206.452'},\n",
       " {'realtime_start': '2024-01-08',\n",
       "  'realtime_end': '2024-01-08',\n",
       "  'date': '1948-01-01',\n",
       "  'value': '2239.682'}]"
      ]
     },
     "execution_count": 74,
     "metadata": {},
     "output_type": "execute_result"
    }
   ],
   "source": [
    "res = requests.get(f'https://api.stlouisfed.org/fred/series/observations?series_id=GDPC1&observation_start=1776-07-04&observation_end=9999-12-31&api_key={api_key}&file_type=json')\n",
    "res.json()['observations'][:5]\n"
   ]
  },
  {
   "cell_type": "markdown",
   "id": "746abd69-2809-4ee5-9d03-0230323514a5",
   "metadata": {},
   "source": [
    "### Units\n",
    "\n",
    "The units to return your data in; examples include just the raw data, change in data from the previous year, percent change from the previous year, etc. Read the [documentation](https://fred.stlouisfed.org/docs/api/fred/series_observations.html#units) to see all the available options."
   ]
  },
  {
   "cell_type": "markdown",
   "id": "23d3f522-eb2e-431b-ba84-bf6eae577b94",
   "metadata": {},
   "source": [
    "### Frequency\n",
    "\n",
    "How frequent should your returned data be? Do you want estimates from every year or every quarter? Read the [documentation](https://fred.stlouisfed.org/docs/api/fred/series_observations.html#units) to see all the possible frequencies (but note that not every series supports all these frequencies). \n",
    "\n",
    "*Important Note:* If a series is calculated every year, you cannot get quarterly estimates. However, if a series is calculated every quarter, you can get yearly estimates. To see how to specify how to calculate the yearly estimates, look at aggregation methods below. If you try to get an estimate from a frequency which is not possible with the given series data, your API call will error."
   ]
  },
  {
   "cell_type": "markdown",
   "id": "946ca477-3939-41e7-8fa3-636284a4c13c",
   "metadata": {},
   "source": [
    "### Aggregation Method\n",
    "\n",
    "If you are converting a series from higher frequency data (more frequent datapoints) to lower frequency data (more spaced out datapoints), how do you want to aggregate the results? For example, if inflation is calculated every month but you want annual inflation, do you want to take the average of all the months or just look at the last month? In general, there are 3 options: average all the lower frequency data points, sum all the lower frequency data points or just look at the last lowest frequency data point from the relevant period."
   ]
  },
  {
   "cell_type": "markdown",
   "id": "3593124b-2228-474d-b28f-d135ffd1cf14",
   "metadata": {},
   "source": [
    "### Vintage Dates (and Output Type)\n",
    "\n",
    "A form of real time data, read the [documentation](https://fred.stlouisfed.org/docs/api/fred/series_observations.html#units) for more information."
   ]
  },
  {
   "cell_type": "markdown",
   "id": "3a52e343-b672-4270-a896-bba84c8176c2",
   "metadata": {},
   "source": [
    "## Putting it all Together"
   ]
  },
  {
   "cell_type": "markdown",
   "id": "a35c0c8d-c286-4739-8894-d68e621e32b0",
   "metadata": {},
   "source": [
    "To put it all together, look at the [sample requests](https://fred.stlouisfed.org/docs/api/fred/series_observations.html#example_json) in the documentation. You want to make a request to the a URL which begins with `https://api.stlouisfed.org/fred/series/observations` and then includes all the specified parameters. For example, let us all possible extract data from the series for _Estimated Percent of People of All Ages in Poverty for United States_ (series ID: [PPAAUS00000A156NCEN](https://fred.stlouisfed.org/series/PPAAUS00000A156NCEN))."
   ]
  },
  {
   "cell_type": "markdown",
   "id": "7903f131-748a-4fa6-8c7a-6ad640029843",
   "metadata": {},
   "source": [
    "### `urlencode()`\n",
    "\n",
    "To put all the parameters together easily, Python's [`urllib`](https://docs.python.org/3/library/urllib.html) package has a great [`parse.urlencode()`](https://docs.python.org/3/library/urllib.parse.html#urllib.parse.urlencode) method. This method takes in a dictionary with has the names of the parameters as the keys and their settings as the values. It outputs a string which encodes all the parameters. Let us look at an example below."
   ]
  },
  {
   "cell_type": "code",
   "execution_count": 101,
   "id": "b20b5f3b-a358-4e63-8801-cba973a9481b",
   "metadata": {},
   "outputs": [],
   "source": [
    "params = {\"series_id\": \"PPAAUS00000A156NCEN\", \"api_key\": api_key, \"file_type\": \"json\"}\n",
    "params_string = urlencode(params)\n",
    "# We do not show params_string here to prevent revealing our api_key"
   ]
  },
  {
   "cell_type": "markdown",
   "id": "e0b589da-c72d-4ad8-b410-21657b3c30e5",
   "metadata": {},
   "source": [
    "For our example, we only need to define the series ID, API key and `file_type = json` as our parameters. We make a dictionary with those key-value pairs, pass it in to `urlencode()` and voila, we have our string with all the parameters!"
   ]
  },
  {
   "cell_type": "markdown",
   "id": "fe098b07-73d5-4d62-8208-3819150894d8",
   "metadata": {},
   "source": [
    "Now, we just need to combine this string with `https://api.stlouisfed.org/fred/series/observations` to get the URL we must request!"
   ]
  },
  {
   "cell_type": "code",
   "execution_count": 94,
   "id": "0e773238-7e4d-4031-80c7-b19b620ab1cf",
   "metadata": {},
   "outputs": [],
   "source": [
    "url_request = 'https://api.stlouisfed.org/fred/series/observations' + '?' + params_string\n",
    "# The ? symbol specifies that the parameters are beginning"
   ]
  },
  {
   "cell_type": "markdown",
   "id": "01235d19-a98d-429a-90fa-89749d85072e",
   "metadata": {},
   "source": [
    "### Making the Request and Converting to DataFrame"
   ]
  },
  {
   "cell_type": "markdown",
   "id": "4dae5f83-175b-4f74-b9c9-b9069ba3f84d",
   "metadata": {},
   "source": [
    "So, let's make the request!"
   ]
  },
  {
   "cell_type": "code",
   "execution_count": 97,
   "id": "b9b2dd37-ab9c-4211-b946-d45721a2046a",
   "metadata": {},
   "outputs": [
    {
     "data": {
      "text/plain": [
       "<Response [200]>"
      ]
     },
     "execution_count": 97,
     "metadata": {},
     "output_type": "execute_result"
    }
   ],
   "source": [
    "req = requests.get(url_request)\n",
    "req"
   ]
  },
  {
   "cell_type": "markdown",
   "id": "d4f2a2ae-305f-4131-90ec-9c3171617d4f",
   "metadata": {},
   "source": [
    "We got a response with a status code of 200, so it worked! As we returned a `.json()` output, we can use `req.json()` to access our output."
   ]
  },
  {
   "cell_type": "code",
   "execution_count": 104,
   "id": "e4c70574-6a98-4bfb-bcb1-6960779a9af7",
   "metadata": {},
   "outputs": [
    {
     "data": {
      "text/plain": [
       "{'realtime_start': '2024-01-08',\n",
       " 'realtime_end': '2024-01-08',\n",
       " 'observation_start': '1600-01-01',\n",
       " 'observation_end': '9999-12-31',\n",
       " 'units': 'lin',\n",
       " 'output_type': 1,\n",
       " 'file_type': 'json',\n",
       " 'order_by': 'observation_date',\n",
       " 'sort_order': 'asc',\n",
       " 'count': 34,\n",
       " 'offset': 0,\n",
       " 'limit': 100000,\n",
       " 'observations': [{'realtime_start': '2024-01-08',\n",
       "   'realtime_end': '2024-01-08',\n",
       "   'date': '1989-01-01',\n",
       "   'value': '12.8'},\n",
       "  {'realtime_start': '2024-01-08',\n",
       "   'realtime_end': '2024-01-08',\n",
       "   'date': '1990-01-01',\n",
       "   'value': '.'},\n",
       "  {'realtime_start': '2024-01-08',\n",
       "   'realtime_end': '2024-01-08',\n",
       "   'date': '1991-01-01',\n",
       "   'value': '.'},\n",
       "  {'realtime_start': '2024-01-08',\n",
       "   'realtime_end': '2024-01-08',\n",
       "   'date': '1992-01-01',\n",
       "   'value': '.'},\n",
       "  {'realtime_start': '2024-01-08',\n",
       "   'realtime_end': '2024-01-08',\n",
       "   'date': '1993-01-01',\n",
       "   'value': '15.1'},\n",
       "  {'realtime_start': '2024-01-08',\n",
       "   'realtime_end': '2024-01-08',\n",
       "   'date': '1994-01-01',\n",
       "   'value': '.'},\n",
       "  {'realtime_start': '2024-01-08',\n",
       "   'realtime_end': '2024-01-08',\n",
       "   'date': '1995-01-01',\n",
       "   'value': '13.8'},\n",
       "  {'realtime_start': '2024-01-08',\n",
       "   'realtime_end': '2024-01-08',\n",
       "   'date': '1996-01-01',\n",
       "   'value': '13.7'},\n",
       "  {'realtime_start': '2024-01-08',\n",
       "   'realtime_end': '2024-01-08',\n",
       "   'date': '1997-01-01',\n",
       "   'value': '13.3'},\n",
       "  {'realtime_start': '2024-01-08',\n",
       "   'realtime_end': '2024-01-08',\n",
       "   'date': '1998-01-01',\n",
       "   'value': '12.7'},\n",
       "  {'realtime_start': '2024-01-08',\n",
       "   'realtime_end': '2024-01-08',\n",
       "   'date': '1999-01-01',\n",
       "   'value': '11.9'},\n",
       "  {'realtime_start': '2024-01-08',\n",
       "   'realtime_end': '2024-01-08',\n",
       "   'date': '2000-01-01',\n",
       "   'value': '11.3'},\n",
       "  {'realtime_start': '2024-01-08',\n",
       "   'realtime_end': '2024-01-08',\n",
       "   'date': '2001-01-01',\n",
       "   'value': '11.7'},\n",
       "  {'realtime_start': '2024-01-08',\n",
       "   'realtime_end': '2024-01-08',\n",
       "   'date': '2002-01-01',\n",
       "   'value': '12.1'},\n",
       "  {'realtime_start': '2024-01-08',\n",
       "   'realtime_end': '2024-01-08',\n",
       "   'date': '2003-01-01',\n",
       "   'value': '12.5'},\n",
       "  {'realtime_start': '2024-01-08',\n",
       "   'realtime_end': '2024-01-08',\n",
       "   'date': '2004-01-01',\n",
       "   'value': '12.7'},\n",
       "  {'realtime_start': '2024-01-08',\n",
       "   'realtime_end': '2024-01-08',\n",
       "   'date': '2005-01-01',\n",
       "   'value': '13.3'},\n",
       "  {'realtime_start': '2024-01-08',\n",
       "   'realtime_end': '2024-01-08',\n",
       "   'date': '2006-01-01',\n",
       "   'value': '13.3'},\n",
       "  {'realtime_start': '2024-01-08',\n",
       "   'realtime_end': '2024-01-08',\n",
       "   'date': '2007-01-01',\n",
       "   'value': '13.0'},\n",
       "  {'realtime_start': '2024-01-08',\n",
       "   'realtime_end': '2024-01-08',\n",
       "   'date': '2008-01-01',\n",
       "   'value': '13.2'},\n",
       "  {'realtime_start': '2024-01-08',\n",
       "   'realtime_end': '2024-01-08',\n",
       "   'date': '2009-01-01',\n",
       "   'value': '14.3'},\n",
       "  {'realtime_start': '2024-01-08',\n",
       "   'realtime_end': '2024-01-08',\n",
       "   'date': '2010-01-01',\n",
       "   'value': '15.3'},\n",
       "  {'realtime_start': '2024-01-08',\n",
       "   'realtime_end': '2024-01-08',\n",
       "   'date': '2011-01-01',\n",
       "   'value': '15.9'},\n",
       "  {'realtime_start': '2024-01-08',\n",
       "   'realtime_end': '2024-01-08',\n",
       "   'date': '2012-01-01',\n",
       "   'value': '15.9'},\n",
       "  {'realtime_start': '2024-01-08',\n",
       "   'realtime_end': '2024-01-08',\n",
       "   'date': '2013-01-01',\n",
       "   'value': '15.8'},\n",
       "  {'realtime_start': '2024-01-08',\n",
       "   'realtime_end': '2024-01-08',\n",
       "   'date': '2014-01-01',\n",
       "   'value': '15.5'},\n",
       "  {'realtime_start': '2024-01-08',\n",
       "   'realtime_end': '2024-01-08',\n",
       "   'date': '2015-01-01',\n",
       "   'value': '14.7'},\n",
       "  {'realtime_start': '2024-01-08',\n",
       "   'realtime_end': '2024-01-08',\n",
       "   'date': '2016-01-01',\n",
       "   'value': '14'},\n",
       "  {'realtime_start': '2024-01-08',\n",
       "   'realtime_end': '2024-01-08',\n",
       "   'date': '2017-01-01',\n",
       "   'value': '13.4'},\n",
       "  {'realtime_start': '2024-01-08',\n",
       "   'realtime_end': '2024-01-08',\n",
       "   'date': '2018-01-01',\n",
       "   'value': '13.1'},\n",
       "  {'realtime_start': '2024-01-08',\n",
       "   'realtime_end': '2024-01-08',\n",
       "   'date': '2019-01-01',\n",
       "   'value': '12.3'},\n",
       "  {'realtime_start': '2024-01-08',\n",
       "   'realtime_end': '2024-01-08',\n",
       "   'date': '2020-01-01',\n",
       "   'value': '11.9'},\n",
       "  {'realtime_start': '2024-01-08',\n",
       "   'realtime_end': '2024-01-08',\n",
       "   'date': '2021-01-01',\n",
       "   'value': '12.8'},\n",
       "  {'realtime_start': '2024-01-08',\n",
       "   'realtime_end': '2024-01-08',\n",
       "   'date': '2022-01-01',\n",
       "   'value': '12.6'}]}"
      ]
     },
     "execution_count": 104,
     "metadata": {},
     "output_type": "execute_result"
    }
   ],
   "source": [
    "req.json()"
   ]
  },
  {
   "cell_type": "markdown",
   "id": "b7041045-5b3e-40ca-afcb-59134c2b9403",
   "metadata": {},
   "source": [
    "Looks like all the data we're interested in is in the `observations` key! Let's read that key into a `pandas` DataFrame."
   ]
  },
  {
   "cell_type": "code",
   "execution_count": 109,
   "id": "83a0d883-9222-4b31-9a12-c485297d21f8",
   "metadata": {},
   "outputs": [
    {
     "data": {
      "text/html": [
       "<div>\n",
       "<style scoped>\n",
       "    .dataframe tbody tr th:only-of-type {\n",
       "        vertical-align: middle;\n",
       "    }\n",
       "\n",
       "    .dataframe tbody tr th {\n",
       "        vertical-align: top;\n",
       "    }\n",
       "\n",
       "    .dataframe thead th {\n",
       "        text-align: right;\n",
       "    }\n",
       "</style>\n",
       "<table border=\"1\" class=\"dataframe\">\n",
       "  <thead>\n",
       "    <tr style=\"text-align: right;\">\n",
       "      <th></th>\n",
       "      <th>realtime_start</th>\n",
       "      <th>realtime_end</th>\n",
       "      <th>date</th>\n",
       "      <th>value</th>\n",
       "    </tr>\n",
       "  </thead>\n",
       "  <tbody>\n",
       "    <tr>\n",
       "      <th>0</th>\n",
       "      <td>2024-01-08</td>\n",
       "      <td>2024-01-08</td>\n",
       "      <td>1989-01-01</td>\n",
       "      <td>12.8</td>\n",
       "    </tr>\n",
       "    <tr>\n",
       "      <th>1</th>\n",
       "      <td>2024-01-08</td>\n",
       "      <td>2024-01-08</td>\n",
       "      <td>1990-01-01</td>\n",
       "      <td>.</td>\n",
       "    </tr>\n",
       "    <tr>\n",
       "      <th>2</th>\n",
       "      <td>2024-01-08</td>\n",
       "      <td>2024-01-08</td>\n",
       "      <td>1991-01-01</td>\n",
       "      <td>.</td>\n",
       "    </tr>\n",
       "    <tr>\n",
       "      <th>3</th>\n",
       "      <td>2024-01-08</td>\n",
       "      <td>2024-01-08</td>\n",
       "      <td>1992-01-01</td>\n",
       "      <td>.</td>\n",
       "    </tr>\n",
       "    <tr>\n",
       "      <th>4</th>\n",
       "      <td>2024-01-08</td>\n",
       "      <td>2024-01-08</td>\n",
       "      <td>1993-01-01</td>\n",
       "      <td>15.1</td>\n",
       "    </tr>\n",
       "  </tbody>\n",
       "</table>\n",
       "</div>"
      ],
      "text/plain": [
       "  realtime_start realtime_end        date value\n",
       "0     2024-01-08   2024-01-08  1989-01-01  12.8\n",
       "1     2024-01-08   2024-01-08  1990-01-01     .\n",
       "2     2024-01-08   2024-01-08  1991-01-01     .\n",
       "3     2024-01-08   2024-01-08  1992-01-01     .\n",
       "4     2024-01-08   2024-01-08  1993-01-01  15.1"
      ]
     },
     "execution_count": 109,
     "metadata": {},
     "output_type": "execute_result"
    }
   ],
   "source": [
    "pov_prcnt_df = pd.DataFrame(req.json()['observations'])\n",
    "pov_prcnt_df.head()"
   ]
  },
  {
   "cell_type": "markdown",
   "id": "018c5681-3cc1-4467-a0fc-d7c8cc821550",
   "metadata": {},
   "source": [
    "Seems like we're just interested in the `date` and `value` columns."
   ]
  },
  {
   "cell_type": "code",
   "execution_count": 108,
   "id": "3b8530c2-e950-41c3-a0ae-e5821e52c949",
   "metadata": {},
   "outputs": [
    {
     "data": {
      "text/html": [
       "<div>\n",
       "<style scoped>\n",
       "    .dataframe tbody tr th:only-of-type {\n",
       "        vertical-align: middle;\n",
       "    }\n",
       "\n",
       "    .dataframe tbody tr th {\n",
       "        vertical-align: top;\n",
       "    }\n",
       "\n",
       "    .dataframe thead th {\n",
       "        text-align: right;\n",
       "    }\n",
       "</style>\n",
       "<table border=\"1\" class=\"dataframe\">\n",
       "  <thead>\n",
       "    <tr style=\"text-align: right;\">\n",
       "      <th></th>\n",
       "      <th>date</th>\n",
       "      <th>value</th>\n",
       "    </tr>\n",
       "  </thead>\n",
       "  <tbody>\n",
       "    <tr>\n",
       "      <th>0</th>\n",
       "      <td>1989-01-01</td>\n",
       "      <td>12.8</td>\n",
       "    </tr>\n",
       "    <tr>\n",
       "      <th>1</th>\n",
       "      <td>1990-01-01</td>\n",
       "      <td>.</td>\n",
       "    </tr>\n",
       "    <tr>\n",
       "      <th>2</th>\n",
       "      <td>1991-01-01</td>\n",
       "      <td>.</td>\n",
       "    </tr>\n",
       "    <tr>\n",
       "      <th>3</th>\n",
       "      <td>1992-01-01</td>\n",
       "      <td>.</td>\n",
       "    </tr>\n",
       "    <tr>\n",
       "      <th>4</th>\n",
       "      <td>1993-01-01</td>\n",
       "      <td>15.1</td>\n",
       "    </tr>\n",
       "    <tr>\n",
       "      <th>5</th>\n",
       "      <td>1994-01-01</td>\n",
       "      <td>.</td>\n",
       "    </tr>\n",
       "    <tr>\n",
       "      <th>6</th>\n",
       "      <td>1995-01-01</td>\n",
       "      <td>13.8</td>\n",
       "    </tr>\n",
       "    <tr>\n",
       "      <th>7</th>\n",
       "      <td>1996-01-01</td>\n",
       "      <td>13.7</td>\n",
       "    </tr>\n",
       "    <tr>\n",
       "      <th>8</th>\n",
       "      <td>1997-01-01</td>\n",
       "      <td>13.3</td>\n",
       "    </tr>\n",
       "    <tr>\n",
       "      <th>9</th>\n",
       "      <td>1998-01-01</td>\n",
       "      <td>12.7</td>\n",
       "    </tr>\n",
       "    <tr>\n",
       "      <th>10</th>\n",
       "      <td>1999-01-01</td>\n",
       "      <td>11.9</td>\n",
       "    </tr>\n",
       "    <tr>\n",
       "      <th>11</th>\n",
       "      <td>2000-01-01</td>\n",
       "      <td>11.3</td>\n",
       "    </tr>\n",
       "    <tr>\n",
       "      <th>12</th>\n",
       "      <td>2001-01-01</td>\n",
       "      <td>11.7</td>\n",
       "    </tr>\n",
       "    <tr>\n",
       "      <th>13</th>\n",
       "      <td>2002-01-01</td>\n",
       "      <td>12.1</td>\n",
       "    </tr>\n",
       "    <tr>\n",
       "      <th>14</th>\n",
       "      <td>2003-01-01</td>\n",
       "      <td>12.5</td>\n",
       "    </tr>\n",
       "    <tr>\n",
       "      <th>15</th>\n",
       "      <td>2004-01-01</td>\n",
       "      <td>12.7</td>\n",
       "    </tr>\n",
       "    <tr>\n",
       "      <th>16</th>\n",
       "      <td>2005-01-01</td>\n",
       "      <td>13.3</td>\n",
       "    </tr>\n",
       "    <tr>\n",
       "      <th>17</th>\n",
       "      <td>2006-01-01</td>\n",
       "      <td>13.3</td>\n",
       "    </tr>\n",
       "    <tr>\n",
       "      <th>18</th>\n",
       "      <td>2007-01-01</td>\n",
       "      <td>13.0</td>\n",
       "    </tr>\n",
       "    <tr>\n",
       "      <th>19</th>\n",
       "      <td>2008-01-01</td>\n",
       "      <td>13.2</td>\n",
       "    </tr>\n",
       "    <tr>\n",
       "      <th>20</th>\n",
       "      <td>2009-01-01</td>\n",
       "      <td>14.3</td>\n",
       "    </tr>\n",
       "    <tr>\n",
       "      <th>21</th>\n",
       "      <td>2010-01-01</td>\n",
       "      <td>15.3</td>\n",
       "    </tr>\n",
       "    <tr>\n",
       "      <th>22</th>\n",
       "      <td>2011-01-01</td>\n",
       "      <td>15.9</td>\n",
       "    </tr>\n",
       "    <tr>\n",
       "      <th>23</th>\n",
       "      <td>2012-01-01</td>\n",
       "      <td>15.9</td>\n",
       "    </tr>\n",
       "    <tr>\n",
       "      <th>24</th>\n",
       "      <td>2013-01-01</td>\n",
       "      <td>15.8</td>\n",
       "    </tr>\n",
       "    <tr>\n",
       "      <th>25</th>\n",
       "      <td>2014-01-01</td>\n",
       "      <td>15.5</td>\n",
       "    </tr>\n",
       "    <tr>\n",
       "      <th>26</th>\n",
       "      <td>2015-01-01</td>\n",
       "      <td>14.7</td>\n",
       "    </tr>\n",
       "    <tr>\n",
       "      <th>27</th>\n",
       "      <td>2016-01-01</td>\n",
       "      <td>14</td>\n",
       "    </tr>\n",
       "    <tr>\n",
       "      <th>28</th>\n",
       "      <td>2017-01-01</td>\n",
       "      <td>13.4</td>\n",
       "    </tr>\n",
       "    <tr>\n",
       "      <th>29</th>\n",
       "      <td>2018-01-01</td>\n",
       "      <td>13.1</td>\n",
       "    </tr>\n",
       "    <tr>\n",
       "      <th>30</th>\n",
       "      <td>2019-01-01</td>\n",
       "      <td>12.3</td>\n",
       "    </tr>\n",
       "    <tr>\n",
       "      <th>31</th>\n",
       "      <td>2020-01-01</td>\n",
       "      <td>11.9</td>\n",
       "    </tr>\n",
       "    <tr>\n",
       "      <th>32</th>\n",
       "      <td>2021-01-01</td>\n",
       "      <td>12.8</td>\n",
       "    </tr>\n",
       "    <tr>\n",
       "      <th>33</th>\n",
       "      <td>2022-01-01</td>\n",
       "      <td>12.6</td>\n",
       "    </tr>\n",
       "  </tbody>\n",
       "</table>\n",
       "</div>"
      ],
      "text/plain": [
       "          date value\n",
       "0   1989-01-01  12.8\n",
       "1   1990-01-01     .\n",
       "2   1991-01-01     .\n",
       "3   1992-01-01     .\n",
       "4   1993-01-01  15.1\n",
       "5   1994-01-01     .\n",
       "6   1995-01-01  13.8\n",
       "7   1996-01-01  13.7\n",
       "8   1997-01-01  13.3\n",
       "9   1998-01-01  12.7\n",
       "10  1999-01-01  11.9\n",
       "11  2000-01-01  11.3\n",
       "12  2001-01-01  11.7\n",
       "13  2002-01-01  12.1\n",
       "14  2003-01-01  12.5\n",
       "15  2004-01-01  12.7\n",
       "16  2005-01-01  13.3\n",
       "17  2006-01-01  13.3\n",
       "18  2007-01-01  13.0\n",
       "19  2008-01-01  13.2\n",
       "20  2009-01-01  14.3\n",
       "21  2010-01-01  15.3\n",
       "22  2011-01-01  15.9\n",
       "23  2012-01-01  15.9\n",
       "24  2013-01-01  15.8\n",
       "25  2014-01-01  15.5\n",
       "26  2015-01-01  14.7\n",
       "27  2016-01-01    14\n",
       "28  2017-01-01  13.4\n",
       "29  2018-01-01  13.1\n",
       "30  2019-01-01  12.3\n",
       "31  2020-01-01  11.9\n",
       "32  2021-01-01  12.8\n",
       "33  2022-01-01  12.6"
      ]
     },
     "execution_count": 108,
     "metadata": {},
     "output_type": "execute_result"
    }
   ],
   "source": [
    "pov_prcnt_df[['date','value']]"
   ]
  },
  {
   "cell_type": "markdown",
   "id": "6ffedd62-7324-40d8-a82b-ac55b0a96c73",
   "metadata": {},
   "source": [
    "We're finished! We have gotten all of the data from [the relevant series](https://fred.stlouisfed.org/series/PPAAUS00000A156NCEN)."
   ]
  },
  {
   "cell_type": "markdown",
   "id": "0dc0226e-49dc-4314-9309-b80b18922e91",
   "metadata": {},
   "source": [
    "Once again, this entire chapter was an exercise in reading the documentation of an API. You may come across many APIs in your career; reading their documentation (and perhaps StackOverflow) is the best way to learn how to work with them."
   ]
  }
 ],
 "metadata": {
  "kernelspec": {
   "display_name": "Python [conda env:sklearn-env]",
   "language": "python",
   "name": "conda-env-sklearn-env-py"
  },
  "language_info": {
   "codemirror_mode": {
    "name": "ipython",
    "version": 3
   },
   "file_extension": ".py",
   "mimetype": "text/x-python",
   "name": "python",
   "nbconvert_exporter": "python",
   "pygments_lexer": "ipython3",
   "version": "3.11.0"
  }
 },
 "nbformat": 4,
 "nbformat_minor": 5
}
