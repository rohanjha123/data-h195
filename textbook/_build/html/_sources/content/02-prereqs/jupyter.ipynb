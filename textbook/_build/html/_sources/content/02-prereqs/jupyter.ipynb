{
 "cells": [
  {
   "cell_type": "markdown",
   "id": "73656491-d0c1-49b0-8b32-ab92f0f3de56",
   "metadata": {},
   "source": [
    "## Jupyter Notebooks\n",
    "\n",
    "Throughout this textbook, we will be using [Jupyter notebooks](https://jupyter.org/) to work with data. While you can use `pandas` without Jupyter notebooks, using notebooks is highly encouraged as it helps you interactively view datasets and easily see the results of multiple small iterations of data processing. If you do not already have Jupyter notebooks installed, you can see installation instructions [here](../01-python_v_stata/install.md)."
   ]
  },
  {
   "cell_type": "markdown",
   "id": "62c2ba61-d3b9-40f1-8c83-fdc6a0e452aa",
   "metadata": {},
   "source": [
    "## Basic Layout\n",
    "\n",
    "The basic layout of a Jupyter notebook is fairly intuitive. You can open multiple cells and perform different tasks in them. Each cell can either be a code cell, a markdown cell (often used for writing text, like the cell containing this paragraph), or a raw cell (don't worry about these for now). You can run each code cell, and you can also run the entire notebook in one go via the menu bar at the top. Feel free to explore the menu bar at the top to get a better idea of what all you can do!\n",
    "\n",
    "Each time you open a Jupyter notebook, you are assigned a kernel, which is a computational engine that executes the code contained in a notebook document. Each kernel has a RAM limit, be careful you don't exceed it! If you exceed it, your code will stop working. You can restart your kernel from the menu bar.\n",
    "\n",
    "If you're interested, you can find a detailed guide [here](https://www.youtube.com/watch?v=HW29067qVWk&ab_channel=CoreySchafer)."
   ]
  },
  {
   "cell_type": "markdown",
   "id": "6ea83480-29aa-443b-a8e5-63a335821d7f",
   "metadata": {},
   "source": [
    "## Tips and Tricks"
   ]
  },
  {
   "cell_type": "markdown",
   "id": "d510689f-6773-4b91-b687-ac952743a6e4",
   "metadata": {},
   "source": [
    "The rest of this subchapter will be focused on tips and tricks you can use to make life easier when working with Jupyter notebooks. "
   ]
  },
  {
   "cell_type": "markdown",
   "id": "ff7a62d2-1aa8-44a6-ae09-04c3dbbc46b0",
   "metadata": {},
   "source": [
    "### Viewing Documentation\n",
    "\n",
    "You can use Jupyter to view the documentation of functions inside your notebook. The function must already be defined in the kernel (aka the cell defining the function must have already been run) for this to work.\n",
    "\n",
    "Below, click your mouse anywhere on the `print` block below and use `Shift` + `Tab` to view the function's documentation. "
   ]
  },
  {
   "cell_type": "code",
   "execution_count": 1,
   "id": "132998cf-cdc8-4e22-97a4-4d3a6c58064f",
   "metadata": {},
   "outputs": [
    {
     "name": "stdout",
     "output_type": "stream",
     "text": [
      "I hope you have a great day :)\n"
     ]
    }
   ],
   "source": [
    "print('I hope you have a great day :)')"
   ]
  },
  {
   "cell_type": "markdown",
   "id": "3c31df35-6455-4cfa-bbef-0a6b43eaaebf",
   "metadata": {},
   "source": [
    "### Importing Libraries\n",
    "\n",
    "In Jupyter notebooks, we often work with functions from multiple libraries. It is a good practice to import any libraries you will be using at the top of the notebook. We have followed this practice throughout every chapter/subchapter in the course. Since we do not need any libraries for this subchapter, we have not imported anything."
   ]
  },
  {
   "cell_type": "markdown",
   "id": "01e8c708-b691-4cc3-ae92-9a8b96a040ec",
   "metadata": {},
   "source": [
    "### Keyboard Shortcuts\n",
    "\n",
    "Even if you are familiar with Jupyter, we strongly encourage you to become proficient with keyboard shortcuts (this will save you time in the future). To learn about keyboard shortcuts, go to **Help --> Keyboard Shortcuts** in the menu above. \n",
    "\n",
    "Here are a few that we like:\n",
    "1. `Ctrl`/`Cmd` + `Return`: *Evaluate the current cell*\n",
    "1. `Shift` + `Return`: *Evaluate the current cell and move to the next*\n",
    "1. `Ctrl`/`Cmd` + `+` or `-`: *Zoom in or out*\n",
    "1. `Ctrl`/`Cmd` + `/`: *Comment or uncomment the selected code at once*\n",
    "1. `ESC` : *command mode* (press before using any of the commands below)\n",
    "    1. `a` : *create a cell above*\n",
    "    1. `b` : *create a cell below*\n",
    "    1. `dd` : *delete a cell*\n",
    "    1. `z` : *undo the last cell operation*\n",
    "    1. `m` : *convert a cell to markdown*\n",
    "    1. `y` : *convert a cell to code*"
   ]
  },
  {
   "cell_type": "markdown",
   "id": "a5ad236a-e2b4-45d6-b2e6-694b2da63f9e",
   "metadata": {},
   "source": [
    "### Running Cells \n",
    "\n",
    "Aside from keyboard shortcuts (specifically `Shift` + `Return`), you can also run a single cell by clicking the `Run` button in the menu bar at the top of your notebook. If you hover over the button, you will also find some other options that allow you to run multiple cells. Specifically, restarting your kernel clears all saved variables and frees up memory. The `Restart Kernel and Run upto Selected Cell` option is particularly useful for situations where you believe your code is fine but you're running into stange memory issues. "
   ]
  }
 ],
 "metadata": {
  "kernelspec": {
   "display_name": "Python [conda env:sklearn-env]",
   "language": "python",
   "name": "conda-env-sklearn-env-py"
  },
  "language_info": {
   "codemirror_mode": {
    "name": "ipython",
    "version": 3
   },
   "file_extension": ".py",
   "mimetype": "text/x-python",
   "name": "python",
   "nbconvert_exporter": "python",
   "pygments_lexer": "ipython3",
   "version": "3.11.0"
  }
 },
 "nbformat": 4,
 "nbformat_minor": 5
}
