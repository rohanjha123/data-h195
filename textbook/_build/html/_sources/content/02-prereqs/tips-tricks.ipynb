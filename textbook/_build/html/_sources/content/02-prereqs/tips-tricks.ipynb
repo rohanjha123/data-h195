{
 "cells": [
  {
   "cell_type": "markdown",
   "id": "84204d03-0920-4cf6-8bb7-c92f96748ed4",
   "metadata": {},
   "source": [
    "# Prerequisites and Tips"
   ]
  },
  {
   "cell_type": "markdown",
   "id": "17d923e4-16a5-4a90-8437-940d9a590d55",
   "metadata": {},
   "source": [
    "This subchapter will familiarize you with the tools we will be using throughout the course to conduct data analysis."
   ]
  },
  {
   "cell_type": "markdown",
   "id": "80d289d4-f5dc-4547-b0b0-45019533dc24",
   "metadata": {},
   "source": [
    "# Python\n",
    "\n",
    "While this sections "
   ]
  },
  {
   "cell_type": "code",
   "execution_count": null,
   "id": "2e7a6a26-5229-4abf-bd53-1c7cfea3967f",
   "metadata": {},
   "outputs": [],
   "source": []
  },
  {
   "cell_type": "markdown",
   "id": "cfeb6ce9-22a5-4623-9197-2c5b40fc3e7d",
   "metadata": {},
   "source": [
    "## Jupyter Notebooks\n",
    "\n",
    "Throughout this textbook, we will be using [Jupyter notebooks](https://jupyter.org/) to work with data. While you can use `pandas` without Jupyter notebooks, using notebooks is highly encouraged as it helps you interactively view datasets and easily see the results of multiple small iterations of data processing. If you do not already have Jupyter notebooks installed, you can see installation instructions [here](../01-python_v_stata/install.md)."
   ]
  },
  {
   "cell_type": "code",
   "execution_count": null,
   "id": "e7b94d5e-daf3-4632-b10f-3c030b1094e5",
   "metadata": {},
   "outputs": [],
   "source": []
  }
 ],
 "metadata": {
  "kernelspec": {
   "display_name": "Python [conda env:sklearn-env]",
   "language": "python",
   "name": "conda-env-sklearn-env-py"
  },
  "language_info": {
   "codemirror_mode": {
    "name": "ipython",
    "version": 3
   },
   "file_extension": ".py",
   "mimetype": "text/x-python",
   "name": "python",
   "nbconvert_exporter": "python",
   "pygments_lexer": "ipython3",
   "version": "3.11.0"
  }
 },
 "nbformat": 4,
 "nbformat_minor": 5
}
