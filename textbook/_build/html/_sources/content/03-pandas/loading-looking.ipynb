{
 "cells": [
  {
   "cell_type": "code",
   "execution_count": 1,
   "id": "562252d3-109e-4560-8134-c13554721da2",
   "metadata": {},
   "outputs": [],
   "source": [
    "import pandas as pd"
   ]
  },
  {
   "cell_type": "markdown",
   "id": "a0d0a2c1-97df-4f60-8579-94bbfa486b46",
   "metadata": {},
   "source": [
    "# Loading in and Looking at the Data"
   ]
  },
  {
   "cell_type": "markdown",
   "id": "f50dfd03-53ac-482a-9b15-fee83d5750b9",
   "metadata": {},
   "source": [
    "Throughout this chapter, we will use `pandas` to explore a dataset on beer sales across 50 continental states in the US. \n",
    "Above, we have already imported in `pandas` as `pd`, a common nickname for `pandas` (similar to how `numpy` is often abbreviated to `np`).\n",
    "\n",
    "The dataset we're using is sourced from [_Salience and Taxation: Theory and Evidence_](https://www.aeaweb.org/articles?id=10.1257/aer.99.4.1145) by Chetty, Looney, and Kroft (AER 2010).  The dataset includes 7 columns:\n",
    "- `st_name`: the state abbreviation\n",
    "- `year`: the year the data was recorded\n",
    "- `c_beer`: the quantity of beer consumed, in thousands of gallons\n",
    "- `beer_tax`: the ad valorem tax, as a percentage\n",
    "- `btax_dollars`: the excise tax, represented in dollars per case (24 cans) of beer \n",
    "- `population`: the population of the state, in thousands\n",
    "- `salestax`: the sales tax percentage\n",
    "\n",
    "In this subchapter, we load in the dataset and learn about different ways of viewing the data. Let us begin by loading in the dataset. "
   ]
  },
  {
   "cell_type": "markdown",
   "id": "70e2874b-fc02-4dd7-96c0-937621ed0bb8",
   "metadata": {},
   "source": [
    "## Loading in the dataset\n",
    "\n",
    "Right now, we have the dataset stored as a [comma-separated values (csv) file](https://www.lifewire.com/csv-file-2622708), in the location `data/beer_tax.csv`. We can load it in using `panda`'s [`read_csv` method](https://pandas.pydata.org/docs/reference/api/pandas.read_csv.html). Below, we load it in and set it equal to the variable `df` (short for DataFrame)."
   ]
  },
  {
   "cell_type": "code",
   "execution_count": 4,
   "id": "f70efb8c-5a28-4fdd-aad7-56939749a235",
   "metadata": {},
   "outputs": [
    {
     "data": {
      "text/html": [
       "<div>\n",
       "<style scoped>\n",
       "    .dataframe tbody tr th:only-of-type {\n",
       "        vertical-align: middle;\n",
       "    }\n",
       "\n",
       "    .dataframe tbody tr th {\n",
       "        vertical-align: top;\n",
       "    }\n",
       "\n",
       "    .dataframe thead th {\n",
       "        text-align: right;\n",
       "    }\n",
       "</style>\n",
       "<table border=\"1\" class=\"dataframe\">\n",
       "  <thead>\n",
       "    <tr style=\"text-align: right;\">\n",
       "      <th></th>\n",
       "      <th>st_name</th>\n",
       "      <th>year</th>\n",
       "      <th>c_beer</th>\n",
       "      <th>beer_tax</th>\n",
       "      <th>btax_dollars</th>\n",
       "      <th>population</th>\n",
       "      <th>salestax</th>\n",
       "    </tr>\n",
       "  </thead>\n",
       "  <tbody>\n",
       "    <tr>\n",
       "      <th>0</th>\n",
       "      <td>AL</td>\n",
       "      <td>1970</td>\n",
       "      <td>33098</td>\n",
       "      <td>72.341130</td>\n",
       "      <td>2.370</td>\n",
       "      <td>3450</td>\n",
       "      <td>4.0</td>\n",
       "    </tr>\n",
       "    <tr>\n",
       "      <th>1</th>\n",
       "      <td>AL</td>\n",
       "      <td>1971</td>\n",
       "      <td>37598</td>\n",
       "      <td>69.304600</td>\n",
       "      <td>2.370</td>\n",
       "      <td>3497</td>\n",
       "      <td>4.0</td>\n",
       "    </tr>\n",
       "    <tr>\n",
       "      <th>2</th>\n",
       "      <td>AL</td>\n",
       "      <td>1972</td>\n",
       "      <td>42719</td>\n",
       "      <td>67.149190</td>\n",
       "      <td>2.370</td>\n",
       "      <td>3539</td>\n",
       "      <td>4.0</td>\n",
       "    </tr>\n",
       "    <tr>\n",
       "      <th>3</th>\n",
       "      <td>AL</td>\n",
       "      <td>1973</td>\n",
       "      <td>46203</td>\n",
       "      <td>63.217026</td>\n",
       "      <td>2.370</td>\n",
       "      <td>3580</td>\n",
       "      <td>4.0</td>\n",
       "    </tr>\n",
       "    <tr>\n",
       "      <th>4</th>\n",
       "      <td>AL</td>\n",
       "      <td>1974</td>\n",
       "      <td>49769</td>\n",
       "      <td>56.933796</td>\n",
       "      <td>2.370</td>\n",
       "      <td>3627</td>\n",
       "      <td>4.0</td>\n",
       "    </tr>\n",
       "    <tr>\n",
       "      <th>...</th>\n",
       "      <td>...</td>\n",
       "      <td>...</td>\n",
       "      <td>...</td>\n",
       "      <td>...</td>\n",
       "      <td>...</td>\n",
       "      <td>...</td>\n",
       "      <td>...</td>\n",
       "    </tr>\n",
       "    <tr>\n",
       "      <th>1703</th>\n",
       "      <td>WY</td>\n",
       "      <td>1999</td>\n",
       "      <td>12423</td>\n",
       "      <td>0.319894</td>\n",
       "      <td>0.045</td>\n",
       "      <td>492</td>\n",
       "      <td>4.0</td>\n",
       "    </tr>\n",
       "    <tr>\n",
       "      <th>1704</th>\n",
       "      <td>WY</td>\n",
       "      <td>2000</td>\n",
       "      <td>12595</td>\n",
       "      <td>0.309491</td>\n",
       "      <td>0.045</td>\n",
       "      <td>494</td>\n",
       "      <td>4.0</td>\n",
       "    </tr>\n",
       "    <tr>\n",
       "      <th>1705</th>\n",
       "      <td>WY</td>\n",
       "      <td>2001</td>\n",
       "      <td>12808</td>\n",
       "      <td>0.300928</td>\n",
       "      <td>0.045</td>\n",
       "      <td>494</td>\n",
       "      <td>4.0</td>\n",
       "    </tr>\n",
       "    <tr>\n",
       "      <th>1706</th>\n",
       "      <td>WY</td>\n",
       "      <td>2002</td>\n",
       "      <td>13191</td>\n",
       "      <td>0.296244</td>\n",
       "      <td>0.045</td>\n",
       "      <td>499</td>\n",
       "      <td>4.0</td>\n",
       "    </tr>\n",
       "    <tr>\n",
       "      <th>1707</th>\n",
       "      <td>WY</td>\n",
       "      <td>2003</td>\n",
       "      <td>15535</td>\n",
       "      <td>0.289643</td>\n",
       "      <td>0.045</td>\n",
       "      <td>501</td>\n",
       "      <td>4.0</td>\n",
       "    </tr>\n",
       "  </tbody>\n",
       "</table>\n",
       "<p>1708 rows × 7 columns</p>\n",
       "</div>"
      ],
      "text/plain": [
       "     st_name  year  c_beer   beer_tax  btax_dollars  population  salestax\n",
       "0         AL  1970   33098  72.341130         2.370        3450       4.0\n",
       "1         AL  1971   37598  69.304600         2.370        3497       4.0\n",
       "2         AL  1972   42719  67.149190         2.370        3539       4.0\n",
       "3         AL  1973   46203  63.217026         2.370        3580       4.0\n",
       "4         AL  1974   49769  56.933796         2.370        3627       4.0\n",
       "...      ...   ...     ...        ...           ...         ...       ...\n",
       "1703      WY  1999   12423   0.319894         0.045         492       4.0\n",
       "1704      WY  2000   12595   0.309491         0.045         494       4.0\n",
       "1705      WY  2001   12808   0.300928         0.045         494       4.0\n",
       "1706      WY  2002   13191   0.296244         0.045         499       4.0\n",
       "1707      WY  2003   15535   0.289643         0.045         501       4.0\n",
       "\n",
       "[1708 rows x 7 columns]"
      ]
     },
     "execution_count": 4,
     "metadata": {},
     "output_type": "execute_result"
    }
   ],
   "source": [
    "df = pd.read_csv('data/beer_tax.csv')\n",
    "df"
   ]
  },
  {
   "cell_type": "markdown",
   "id": "beb3e3bb-015b-472f-ab80-5c4cd8ed1ccf",
   "metadata": {},
   "source": [
    "## DataFrames, Series and Indices"
   ]
  },
  {
   "cell_type": "markdown",
   "id": "af5bce03-1978-4b1b-a80f-28910b015013",
   "metadata": {},
   "source": [
    "In `pandas`, all tables are stored as data structures called as `DataFrames`. Each DataFrame has an index (the bolded column on the left), as well as columns, called as `Series`. \n",
    "\n",
    "While the index in our DataFrame is a numbering from 0 to 1707, this does not have to be the case. In an index, indices don't have to be numbers and they don't have to be unique. For example, let us create a DataFrame `df2` with an index that contains neither numbers nor unique values. Instead, the index is simply `a` for the first 854 rows and `b` for the last 854 rows.\n"
   ]
  },
  {
   "cell_type": "code",
   "execution_count": 34,
   "id": "318a8eb2-4b0c-429d-8969-b9fda1956399",
   "metadata": {},
   "outputs": [
    {
     "data": {
      "text/html": [
       "<div>\n",
       "<style scoped>\n",
       "    .dataframe tbody tr th:only-of-type {\n",
       "        vertical-align: middle;\n",
       "    }\n",
       "\n",
       "    .dataframe tbody tr th {\n",
       "        vertical-align: top;\n",
       "    }\n",
       "\n",
       "    .dataframe thead th {\n",
       "        text-align: right;\n",
       "    }\n",
       "</style>\n",
       "<table border=\"1\" class=\"dataframe\">\n",
       "  <thead>\n",
       "    <tr style=\"text-align: right;\">\n",
       "      <th></th>\n",
       "      <th>st_name</th>\n",
       "      <th>year</th>\n",
       "      <th>c_beer</th>\n",
       "      <th>beer_tax</th>\n",
       "      <th>btax_dollars</th>\n",
       "      <th>population</th>\n",
       "      <th>salestax</th>\n",
       "    </tr>\n",
       "  </thead>\n",
       "  <tbody>\n",
       "    <tr>\n",
       "      <th>a</th>\n",
       "      <td>AL</td>\n",
       "      <td>1970</td>\n",
       "      <td>33098</td>\n",
       "      <td>72.341130</td>\n",
       "      <td>2.370</td>\n",
       "      <td>3450</td>\n",
       "      <td>4.0</td>\n",
       "    </tr>\n",
       "    <tr>\n",
       "      <th>a</th>\n",
       "      <td>AL</td>\n",
       "      <td>1971</td>\n",
       "      <td>37598</td>\n",
       "      <td>69.304600</td>\n",
       "      <td>2.370</td>\n",
       "      <td>3497</td>\n",
       "      <td>4.0</td>\n",
       "    </tr>\n",
       "    <tr>\n",
       "      <th>a</th>\n",
       "      <td>AL</td>\n",
       "      <td>1972</td>\n",
       "      <td>42719</td>\n",
       "      <td>67.149190</td>\n",
       "      <td>2.370</td>\n",
       "      <td>3539</td>\n",
       "      <td>4.0</td>\n",
       "    </tr>\n",
       "    <tr>\n",
       "      <th>a</th>\n",
       "      <td>AL</td>\n",
       "      <td>1973</td>\n",
       "      <td>46203</td>\n",
       "      <td>63.217026</td>\n",
       "      <td>2.370</td>\n",
       "      <td>3580</td>\n",
       "      <td>4.0</td>\n",
       "    </tr>\n",
       "    <tr>\n",
       "      <th>a</th>\n",
       "      <td>AL</td>\n",
       "      <td>1974</td>\n",
       "      <td>49769</td>\n",
       "      <td>56.933796</td>\n",
       "      <td>2.370</td>\n",
       "      <td>3627</td>\n",
       "      <td>4.0</td>\n",
       "    </tr>\n",
       "    <tr>\n",
       "      <th>...</th>\n",
       "      <td>...</td>\n",
       "      <td>...</td>\n",
       "      <td>...</td>\n",
       "      <td>...</td>\n",
       "      <td>...</td>\n",
       "      <td>...</td>\n",
       "      <td>...</td>\n",
       "    </tr>\n",
       "    <tr>\n",
       "      <th>b</th>\n",
       "      <td>WY</td>\n",
       "      <td>1999</td>\n",
       "      <td>12423</td>\n",
       "      <td>0.319894</td>\n",
       "      <td>0.045</td>\n",
       "      <td>492</td>\n",
       "      <td>4.0</td>\n",
       "    </tr>\n",
       "    <tr>\n",
       "      <th>b</th>\n",
       "      <td>WY</td>\n",
       "      <td>2000</td>\n",
       "      <td>12595</td>\n",
       "      <td>0.309491</td>\n",
       "      <td>0.045</td>\n",
       "      <td>494</td>\n",
       "      <td>4.0</td>\n",
       "    </tr>\n",
       "    <tr>\n",
       "      <th>b</th>\n",
       "      <td>WY</td>\n",
       "      <td>2001</td>\n",
       "      <td>12808</td>\n",
       "      <td>0.300928</td>\n",
       "      <td>0.045</td>\n",
       "      <td>494</td>\n",
       "      <td>4.0</td>\n",
       "    </tr>\n",
       "    <tr>\n",
       "      <th>b</th>\n",
       "      <td>WY</td>\n",
       "      <td>2002</td>\n",
       "      <td>13191</td>\n",
       "      <td>0.296244</td>\n",
       "      <td>0.045</td>\n",
       "      <td>499</td>\n",
       "      <td>4.0</td>\n",
       "    </tr>\n",
       "    <tr>\n",
       "      <th>b</th>\n",
       "      <td>WY</td>\n",
       "      <td>2003</td>\n",
       "      <td>15535</td>\n",
       "      <td>0.289643</td>\n",
       "      <td>0.045</td>\n",
       "      <td>501</td>\n",
       "      <td>4.0</td>\n",
       "    </tr>\n",
       "  </tbody>\n",
       "</table>\n",
       "<p>1708 rows × 7 columns</p>\n",
       "</div>"
      ],
      "text/plain": [
       "   st_name  year  c_beer   beer_tax  btax_dollars  population  salestax\n",
       "a       AL  1970   33098  72.341130         2.370        3450       4.0\n",
       "a       AL  1971   37598  69.304600         2.370        3497       4.0\n",
       "a       AL  1972   42719  67.149190         2.370        3539       4.0\n",
       "a       AL  1973   46203  63.217026         2.370        3580       4.0\n",
       "a       AL  1974   49769  56.933796         2.370        3627       4.0\n",
       "..     ...   ...     ...        ...           ...         ...       ...\n",
       "b       WY  1999   12423   0.319894         0.045         492       4.0\n",
       "b       WY  2000   12595   0.309491         0.045         494       4.0\n",
       "b       WY  2001   12808   0.300928         0.045         494       4.0\n",
       "b       WY  2002   13191   0.296244         0.045         499       4.0\n",
       "b       WY  2003   15535   0.289643         0.045         501       4.0\n",
       "\n",
       "[1708 rows x 7 columns]"
      ]
     },
     "execution_count": 34,
     "metadata": {},
     "output_type": "execute_result"
    }
   ],
   "source": [
    "df2 = df.copy() # Making a copy of the DataFrame df\n",
    "df2.index = ['a' for _ in range(int(len(df)/2))] + ['b' for _ in range(int(len(df)/2))]\n",
    "df2"
   ]
  },
  {
   "cell_type": "markdown",
   "id": "36f3bf36-59fe-45a2-8405-3ac97b853a04",
   "metadata": {},
   "source": [
    "\n",
    "Each Series is simply a 1D ordering of data, similar to a NumPy array. For example, we pull out the Series of `btax_dollars` in `df` in the cell below."
   ]
  },
  {
   "cell_type": "code",
   "execution_count": 5,
   "id": "144a69b3-863c-4652-8a14-e95b1f2ba251",
   "metadata": {},
   "outputs": [
    {
     "data": {
      "text/plain": [
       "0       2.370\n",
       "1       2.370\n",
       "2       2.370\n",
       "3       2.370\n",
       "4       2.370\n",
       "        ...  \n",
       "1703    0.045\n",
       "1704    0.045\n",
       "1705    0.045\n",
       "1706    0.045\n",
       "1707    0.045\n",
       "Name: btax_dollars, Length: 1708, dtype: float64"
      ]
     },
     "execution_count": 5,
     "metadata": {},
     "output_type": "execute_result"
    }
   ],
   "source": [
    "df['btax_dollars']"
   ]
  },
  {
   "cell_type": "markdown",
   "id": "77bea31a-112e-462b-a191-2b9d1a82e6fe",
   "metadata": {},
   "source": [
    "As you can see above, to pull out a singular Series from a DataFrame, we simply need to follow the notation `DataFrame_Name[Series_Name]`.\n",
    "\n",
    "However, if we're instead interested in pulling out multiple Series from our DataFrame, we're essentially interested in pulling out another, smaller DataFrame from the first DataFrame (since multiple Series = DataFrame). So, instead of passing in a single Series name into the notation `df[...]`, we instead pass in a list containing the names of the Series we're interested in. An example is below."
   ]
  },
  {
   "cell_type": "code",
   "execution_count": 7,
   "id": "6df5d0df-f40a-4eff-be8e-6db12fd6ea10",
   "metadata": {},
   "outputs": [
    {
     "data": {
      "text/html": [
       "<div>\n",
       "<style scoped>\n",
       "    .dataframe tbody tr th:only-of-type {\n",
       "        vertical-align: middle;\n",
       "    }\n",
       "\n",
       "    .dataframe tbody tr th {\n",
       "        vertical-align: top;\n",
       "    }\n",
       "\n",
       "    .dataframe thead th {\n",
       "        text-align: right;\n",
       "    }\n",
       "</style>\n",
       "<table border=\"1\" class=\"dataframe\">\n",
       "  <thead>\n",
       "    <tr style=\"text-align: right;\">\n",
       "      <th></th>\n",
       "      <th>st_name</th>\n",
       "      <th>year</th>\n",
       "      <th>btax_dollars</th>\n",
       "    </tr>\n",
       "  </thead>\n",
       "  <tbody>\n",
       "    <tr>\n",
       "      <th>0</th>\n",
       "      <td>AL</td>\n",
       "      <td>1970</td>\n",
       "      <td>2.370</td>\n",
       "    </tr>\n",
       "    <tr>\n",
       "      <th>1</th>\n",
       "      <td>AL</td>\n",
       "      <td>1971</td>\n",
       "      <td>2.370</td>\n",
       "    </tr>\n",
       "    <tr>\n",
       "      <th>2</th>\n",
       "      <td>AL</td>\n",
       "      <td>1972</td>\n",
       "      <td>2.370</td>\n",
       "    </tr>\n",
       "    <tr>\n",
       "      <th>3</th>\n",
       "      <td>AL</td>\n",
       "      <td>1973</td>\n",
       "      <td>2.370</td>\n",
       "    </tr>\n",
       "    <tr>\n",
       "      <th>4</th>\n",
       "      <td>AL</td>\n",
       "      <td>1974</td>\n",
       "      <td>2.370</td>\n",
       "    </tr>\n",
       "    <tr>\n",
       "      <th>...</th>\n",
       "      <td>...</td>\n",
       "      <td>...</td>\n",
       "      <td>...</td>\n",
       "    </tr>\n",
       "    <tr>\n",
       "      <th>1703</th>\n",
       "      <td>WY</td>\n",
       "      <td>1999</td>\n",
       "      <td>0.045</td>\n",
       "    </tr>\n",
       "    <tr>\n",
       "      <th>1704</th>\n",
       "      <td>WY</td>\n",
       "      <td>2000</td>\n",
       "      <td>0.045</td>\n",
       "    </tr>\n",
       "    <tr>\n",
       "      <th>1705</th>\n",
       "      <td>WY</td>\n",
       "      <td>2001</td>\n",
       "      <td>0.045</td>\n",
       "    </tr>\n",
       "    <tr>\n",
       "      <th>1706</th>\n",
       "      <td>WY</td>\n",
       "      <td>2002</td>\n",
       "      <td>0.045</td>\n",
       "    </tr>\n",
       "    <tr>\n",
       "      <th>1707</th>\n",
       "      <td>WY</td>\n",
       "      <td>2003</td>\n",
       "      <td>0.045</td>\n",
       "    </tr>\n",
       "  </tbody>\n",
       "</table>\n",
       "<p>1708 rows × 3 columns</p>\n",
       "</div>"
      ],
      "text/plain": [
       "     st_name  year  btax_dollars\n",
       "0         AL  1970         2.370\n",
       "1         AL  1971         2.370\n",
       "2         AL  1972         2.370\n",
       "3         AL  1973         2.370\n",
       "4         AL  1974         2.370\n",
       "...      ...   ...           ...\n",
       "1703      WY  1999         0.045\n",
       "1704      WY  2000         0.045\n",
       "1705      WY  2001         0.045\n",
       "1706      WY  2002         0.045\n",
       "1707      WY  2003         0.045\n",
       "\n",
       "[1708 rows x 3 columns]"
      ]
     },
     "execution_count": 7,
     "metadata": {},
     "output_type": "execute_result"
    }
   ],
   "source": [
    "df[['st_name','year','btax_dollars']]"
   ]
  },
  {
   "cell_type": "markdown",
   "id": "30347266-fe61-496c-a506-dbedb9eaf64c",
   "metadata": {},
   "source": [
    "### Series Attributes"
   ]
  },
  {
   "cell_type": "markdown",
   "id": "06309f29-8447-45f9-8589-0b4c1bcb1164",
   "metadata": {},
   "source": [
    "When we look at a Series, we get the index on the left and the corresponding values on the right. You can view the index via the attribute `index` and the values via the attribute `values`. Examples are shown below."
   ]
  },
  {
   "cell_type": "code",
   "execution_count": 8,
   "id": "b5895d1a-189b-48df-a6ab-b7cf73779bb0",
   "metadata": {},
   "outputs": [
    {
     "data": {
      "text/plain": [
       "RangeIndex(start=0, stop=1708, step=1)"
      ]
     },
     "execution_count": 8,
     "metadata": {},
     "output_type": "execute_result"
    }
   ],
   "source": [
    "df['btax_dollars'].index \n",
    "# How can you interpret the index here? Hint: look at the prerequiste chapter on NumPy."
   ]
  },
  {
   "cell_type": "code",
   "execution_count": 9,
   "id": "89f8777c-4c92-48bc-b398-5c9ebb9c0b1c",
   "metadata": {},
   "outputs": [
    {
     "data": {
      "text/plain": [
       "array([2.37 , 2.37 , 2.37 , ..., 0.045, 0.045, 0.045])"
      ]
     },
     "execution_count": 9,
     "metadata": {},
     "output_type": "execute_result"
    }
   ],
   "source": [
    "df['btax_dollars'].values"
   ]
  },
  {
   "cell_type": "markdown",
   "id": "db17f601-65d1-482e-806b-fdef46f72e9b",
   "metadata": {},
   "source": [
    "### DataFrame Attributes"
   ]
  },
  {
   "cell_type": "markdown",
   "id": "5c82db61-d395-4a93-b29a-8844ec4cc9b3",
   "metadata": {},
   "source": [
    "Three important DataFrame attributes are `index`, `columns`, and `shape`. `index` simply returns the index of the dataset, as shown below."
   ]
  },
  {
   "cell_type": "code",
   "execution_count": 10,
   "id": "936a008d-3019-451b-8859-97b9bc7417a8",
   "metadata": {},
   "outputs": [
    {
     "data": {
      "text/plain": [
       "RangeIndex(start=0, stop=1708, step=1)"
      ]
     },
     "execution_count": 10,
     "metadata": {},
     "output_type": "execute_result"
    }
   ],
   "source": [
    "df.index"
   ]
  },
  {
   "cell_type": "markdown",
   "id": "61420c25-6d01-42df-ac1f-a7ab3c37f6c7",
   "metadata": {},
   "source": [
    "`columns` returns the name of the columns/Series that make up the dataset. Note that each column/Series name must be unique."
   ]
  },
  {
   "cell_type": "code",
   "execution_count": 11,
   "id": "0ed2f601-4002-4afd-9f9a-7f183cf2e90e",
   "metadata": {},
   "outputs": [
    {
     "data": {
      "text/plain": [
       "Index(['st_name', 'year', 'c_beer', 'beer_tax', 'btax_dollars', 'population',\n",
       "       'salestax'],\n",
       "      dtype='object')"
      ]
     },
     "execution_count": 11,
     "metadata": {},
     "output_type": "execute_result"
    }
   ],
   "source": [
    "df.columns"
   ]
  },
  {
   "cell_type": "markdown",
   "id": "aeb64c30-f47f-4d73-8e55-6afb1fab734c",
   "metadata": {},
   "source": [
    "`shape` returns the dimensions, or the number of rows and the number of columns (in that order), of the dataset."
   ]
  },
  {
   "cell_type": "code",
   "execution_count": 12,
   "id": "0ab51c5b-8fac-4418-993c-f7b5fab0eda6",
   "metadata": {},
   "outputs": [
    {
     "data": {
      "text/plain": [
       "(1708, 7)"
      ]
     },
     "execution_count": 12,
     "metadata": {},
     "output_type": "execute_result"
    }
   ],
   "source": [
    "df.shape"
   ]
  },
  {
   "cell_type": "markdown",
   "id": "3ee99929-2f5d-405b-b7f3-b157da99c380",
   "metadata": {},
   "source": [
    "Moreover, `size` is another attributes that returns the number of rows times the number of columns, or the total number of datapoints, in the dataset."
   ]
  },
  {
   "cell_type": "code",
   "execution_count": 49,
   "id": "a6d19b6c-1909-47ae-9219-158ab1cce9c3",
   "metadata": {},
   "outputs": [
    {
     "data": {
      "text/plain": [
       "11956"
      ]
     },
     "execution_count": 49,
     "metadata": {},
     "output_type": "execute_result"
    }
   ],
   "source": [
    "df.size"
   ]
  },
  {
   "cell_type": "markdown",
   "id": "d6389462-175e-4d55-b31b-6f7917a4a9dd",
   "metadata": {},
   "source": [
    "Finally, `dtypes` returns the data type of each column in the DataFrame."
   ]
  },
  {
   "cell_type": "code",
   "execution_count": 50,
   "id": "fb7ae3b3-3b07-4593-a776-292f3d0967d2",
   "metadata": {},
   "outputs": [
    {
     "data": {
      "text/plain": [
       "st_name          object\n",
       "year              int64\n",
       "c_beer            int64\n",
       "beer_tax        float64\n",
       "btax_dollars    float64\n",
       "population        int64\n",
       "salestax        float64\n",
       "dtype: object"
      ]
     },
     "execution_count": 50,
     "metadata": {},
     "output_type": "execute_result"
    }
   ],
   "source": [
    "df.dtypes"
   ]
  },
  {
   "cell_type": "markdown",
   "id": "11dbde3f-4b97-48bf-97f6-1e0833bc1f5d",
   "metadata": {},
   "source": [
    "Note: the data type for the `st_name` column is `object` even though the column contains strings. Click [here](https://stackoverflow.com/a/21020411) to learn why this happens."
   ]
  },
  {
   "cell_type": "markdown",
   "id": "32164a23-81f7-485c-b7fe-9195abdeb114",
   "metadata": {},
   "source": [
    "## Extracting Data using Labels and Indices"
   ]
  },
  {
   "cell_type": "markdown",
   "id": "0b1b9dce-3e8d-4274-81f7-e223a85e50ed",
   "metadata": {},
   "source": [
    "There are four primary methods of looking at extracting specific information from/looking at subsets of DataFrames. They are :-\n",
    "- `.head` and `.tail` \n",
    "- `.loc` \n",
    "- `.iloc`\n",
    "- `[]`"
   ]
  },
  {
   "cell_type": "markdown",
   "id": "5c71e606-3be4-4d00-b509-ae447cbd0d4d",
   "metadata": {},
   "source": [
    "### 1. `.head` and `.tail`"
   ]
  },
  {
   "cell_type": "markdown",
   "id": "a404c4cc-6717-4489-b30b-180ff3aaf92e",
   "metadata": {},
   "source": [
    "If we just want to select the first or last n rows from a dataset, we can use `DataFrame_Name.head(n)` (for the first n rows) or `DataFrame_Name.tail(n)` (for the last n rows)."
   ]
  },
  {
   "cell_type": "code",
   "execution_count": 13,
   "id": "c83cb76d-4185-4fb3-bdf8-2ef306ebb7e5",
   "metadata": {},
   "outputs": [
    {
     "data": {
      "text/html": [
       "<div>\n",
       "<style scoped>\n",
       "    .dataframe tbody tr th:only-of-type {\n",
       "        vertical-align: middle;\n",
       "    }\n",
       "\n",
       "    .dataframe tbody tr th {\n",
       "        vertical-align: top;\n",
       "    }\n",
       "\n",
       "    .dataframe thead th {\n",
       "        text-align: right;\n",
       "    }\n",
       "</style>\n",
       "<table border=\"1\" class=\"dataframe\">\n",
       "  <thead>\n",
       "    <tr style=\"text-align: right;\">\n",
       "      <th></th>\n",
       "      <th>st_name</th>\n",
       "      <th>year</th>\n",
       "      <th>c_beer</th>\n",
       "      <th>beer_tax</th>\n",
       "      <th>btax_dollars</th>\n",
       "      <th>population</th>\n",
       "      <th>salestax</th>\n",
       "    </tr>\n",
       "  </thead>\n",
       "  <tbody>\n",
       "    <tr>\n",
       "      <th>0</th>\n",
       "      <td>AL</td>\n",
       "      <td>1970</td>\n",
       "      <td>33098</td>\n",
       "      <td>72.341130</td>\n",
       "      <td>2.37</td>\n",
       "      <td>3450</td>\n",
       "      <td>4.0</td>\n",
       "    </tr>\n",
       "    <tr>\n",
       "      <th>1</th>\n",
       "      <td>AL</td>\n",
       "      <td>1971</td>\n",
       "      <td>37598</td>\n",
       "      <td>69.304600</td>\n",
       "      <td>2.37</td>\n",
       "      <td>3497</td>\n",
       "      <td>4.0</td>\n",
       "    </tr>\n",
       "    <tr>\n",
       "      <th>2</th>\n",
       "      <td>AL</td>\n",
       "      <td>1972</td>\n",
       "      <td>42719</td>\n",
       "      <td>67.149190</td>\n",
       "      <td>2.37</td>\n",
       "      <td>3539</td>\n",
       "      <td>4.0</td>\n",
       "    </tr>\n",
       "    <tr>\n",
       "      <th>3</th>\n",
       "      <td>AL</td>\n",
       "      <td>1973</td>\n",
       "      <td>46203</td>\n",
       "      <td>63.217026</td>\n",
       "      <td>2.37</td>\n",
       "      <td>3580</td>\n",
       "      <td>4.0</td>\n",
       "    </tr>\n",
       "    <tr>\n",
       "      <th>4</th>\n",
       "      <td>AL</td>\n",
       "      <td>1974</td>\n",
       "      <td>49769</td>\n",
       "      <td>56.933796</td>\n",
       "      <td>2.37</td>\n",
       "      <td>3627</td>\n",
       "      <td>4.0</td>\n",
       "    </tr>\n",
       "  </tbody>\n",
       "</table>\n",
       "</div>"
      ],
      "text/plain": [
       "  st_name  year  c_beer   beer_tax  btax_dollars  population  salestax\n",
       "0      AL  1970   33098  72.341130          2.37        3450       4.0\n",
       "1      AL  1971   37598  69.304600          2.37        3497       4.0\n",
       "2      AL  1972   42719  67.149190          2.37        3539       4.0\n",
       "3      AL  1973   46203  63.217026          2.37        3580       4.0\n",
       "4      AL  1974   49769  56.933796          2.37        3627       4.0"
      ]
     },
     "execution_count": 13,
     "metadata": {},
     "output_type": "execute_result"
    }
   ],
   "source": [
    "df.head(5) # Extract the first 5 rows"
   ]
  },
  {
   "cell_type": "code",
   "execution_count": 14,
   "id": "812258ba-fbb5-48bf-a8b4-f36b28186b6d",
   "metadata": {},
   "outputs": [
    {
     "data": {
      "text/html": [
       "<div>\n",
       "<style scoped>\n",
       "    .dataframe tbody tr th:only-of-type {\n",
       "        vertical-align: middle;\n",
       "    }\n",
       "\n",
       "    .dataframe tbody tr th {\n",
       "        vertical-align: top;\n",
       "    }\n",
       "\n",
       "    .dataframe thead th {\n",
       "        text-align: right;\n",
       "    }\n",
       "</style>\n",
       "<table border=\"1\" class=\"dataframe\">\n",
       "  <thead>\n",
       "    <tr style=\"text-align: right;\">\n",
       "      <th></th>\n",
       "      <th>st_name</th>\n",
       "      <th>year</th>\n",
       "      <th>c_beer</th>\n",
       "      <th>beer_tax</th>\n",
       "      <th>btax_dollars</th>\n",
       "      <th>population</th>\n",
       "      <th>salestax</th>\n",
       "    </tr>\n",
       "  </thead>\n",
       "  <tbody>\n",
       "    <tr>\n",
       "      <th>1703</th>\n",
       "      <td>WY</td>\n",
       "      <td>1999</td>\n",
       "      <td>12423</td>\n",
       "      <td>0.319894</td>\n",
       "      <td>0.045</td>\n",
       "      <td>492</td>\n",
       "      <td>4.0</td>\n",
       "    </tr>\n",
       "    <tr>\n",
       "      <th>1704</th>\n",
       "      <td>WY</td>\n",
       "      <td>2000</td>\n",
       "      <td>12595</td>\n",
       "      <td>0.309491</td>\n",
       "      <td>0.045</td>\n",
       "      <td>494</td>\n",
       "      <td>4.0</td>\n",
       "    </tr>\n",
       "    <tr>\n",
       "      <th>1705</th>\n",
       "      <td>WY</td>\n",
       "      <td>2001</td>\n",
       "      <td>12808</td>\n",
       "      <td>0.300928</td>\n",
       "      <td>0.045</td>\n",
       "      <td>494</td>\n",
       "      <td>4.0</td>\n",
       "    </tr>\n",
       "    <tr>\n",
       "      <th>1706</th>\n",
       "      <td>WY</td>\n",
       "      <td>2002</td>\n",
       "      <td>13191</td>\n",
       "      <td>0.296244</td>\n",
       "      <td>0.045</td>\n",
       "      <td>499</td>\n",
       "      <td>4.0</td>\n",
       "    </tr>\n",
       "    <tr>\n",
       "      <th>1707</th>\n",
       "      <td>WY</td>\n",
       "      <td>2003</td>\n",
       "      <td>15535</td>\n",
       "      <td>0.289643</td>\n",
       "      <td>0.045</td>\n",
       "      <td>501</td>\n",
       "      <td>4.0</td>\n",
       "    </tr>\n",
       "  </tbody>\n",
       "</table>\n",
       "</div>"
      ],
      "text/plain": [
       "     st_name  year  c_beer  beer_tax  btax_dollars  population  salestax\n",
       "1703      WY  1999   12423  0.319894         0.045         492       4.0\n",
       "1704      WY  2000   12595  0.309491         0.045         494       4.0\n",
       "1705      WY  2001   12808  0.300928         0.045         494       4.0\n",
       "1706      WY  2002   13191  0.296244         0.045         499       4.0\n",
       "1707      WY  2003   15535  0.289643         0.045         501       4.0"
      ]
     },
     "execution_count": 14,
     "metadata": {},
     "output_type": "execute_result"
    }
   ],
   "source": [
    "df.tail(5) # Extract the last 5 rows"
   ]
  },
  {
   "cell_type": "markdown",
   "id": "c0782302-614a-49e5-82f1-471d9aecd806",
   "metadata": {},
   "source": [
    "### 2. `.loc`"
   ]
  },
  {
   "cell_type": "markdown",
   "id": "a9bf886f-6235-4143-9d11-cba6f35eb2e8",
   "metadata": {},
   "source": [
    "To better illustrate the difference between `.loc` and `iloc`, we will use the DataFrame `df2`, as created earlier. We've reposted it here for ease of access."
   ]
  },
  {
   "cell_type": "code",
   "execution_count": 35,
   "id": "44409948-8e5c-4e19-adc1-aebc13667161",
   "metadata": {},
   "outputs": [
    {
     "data": {
      "text/html": [
       "<div>\n",
       "<style scoped>\n",
       "    .dataframe tbody tr th:only-of-type {\n",
       "        vertical-align: middle;\n",
       "    }\n",
       "\n",
       "    .dataframe tbody tr th {\n",
       "        vertical-align: top;\n",
       "    }\n",
       "\n",
       "    .dataframe thead th {\n",
       "        text-align: right;\n",
       "    }\n",
       "</style>\n",
       "<table border=\"1\" class=\"dataframe\">\n",
       "  <thead>\n",
       "    <tr style=\"text-align: right;\">\n",
       "      <th></th>\n",
       "      <th>st_name</th>\n",
       "      <th>year</th>\n",
       "      <th>c_beer</th>\n",
       "      <th>beer_tax</th>\n",
       "      <th>btax_dollars</th>\n",
       "      <th>population</th>\n",
       "      <th>salestax</th>\n",
       "    </tr>\n",
       "  </thead>\n",
       "  <tbody>\n",
       "    <tr>\n",
       "      <th>a</th>\n",
       "      <td>AL</td>\n",
       "      <td>1970</td>\n",
       "      <td>33098</td>\n",
       "      <td>72.341130</td>\n",
       "      <td>2.370</td>\n",
       "      <td>3450</td>\n",
       "      <td>4.0</td>\n",
       "    </tr>\n",
       "    <tr>\n",
       "      <th>a</th>\n",
       "      <td>AL</td>\n",
       "      <td>1971</td>\n",
       "      <td>37598</td>\n",
       "      <td>69.304600</td>\n",
       "      <td>2.370</td>\n",
       "      <td>3497</td>\n",
       "      <td>4.0</td>\n",
       "    </tr>\n",
       "    <tr>\n",
       "      <th>a</th>\n",
       "      <td>AL</td>\n",
       "      <td>1972</td>\n",
       "      <td>42719</td>\n",
       "      <td>67.149190</td>\n",
       "      <td>2.370</td>\n",
       "      <td>3539</td>\n",
       "      <td>4.0</td>\n",
       "    </tr>\n",
       "    <tr>\n",
       "      <th>a</th>\n",
       "      <td>AL</td>\n",
       "      <td>1973</td>\n",
       "      <td>46203</td>\n",
       "      <td>63.217026</td>\n",
       "      <td>2.370</td>\n",
       "      <td>3580</td>\n",
       "      <td>4.0</td>\n",
       "    </tr>\n",
       "    <tr>\n",
       "      <th>a</th>\n",
       "      <td>AL</td>\n",
       "      <td>1974</td>\n",
       "      <td>49769</td>\n",
       "      <td>56.933796</td>\n",
       "      <td>2.370</td>\n",
       "      <td>3627</td>\n",
       "      <td>4.0</td>\n",
       "    </tr>\n",
       "    <tr>\n",
       "      <th>...</th>\n",
       "      <td>...</td>\n",
       "      <td>...</td>\n",
       "      <td>...</td>\n",
       "      <td>...</td>\n",
       "      <td>...</td>\n",
       "      <td>...</td>\n",
       "      <td>...</td>\n",
       "    </tr>\n",
       "    <tr>\n",
       "      <th>b</th>\n",
       "      <td>WY</td>\n",
       "      <td>1999</td>\n",
       "      <td>12423</td>\n",
       "      <td>0.319894</td>\n",
       "      <td>0.045</td>\n",
       "      <td>492</td>\n",
       "      <td>4.0</td>\n",
       "    </tr>\n",
       "    <tr>\n",
       "      <th>b</th>\n",
       "      <td>WY</td>\n",
       "      <td>2000</td>\n",
       "      <td>12595</td>\n",
       "      <td>0.309491</td>\n",
       "      <td>0.045</td>\n",
       "      <td>494</td>\n",
       "      <td>4.0</td>\n",
       "    </tr>\n",
       "    <tr>\n",
       "      <th>b</th>\n",
       "      <td>WY</td>\n",
       "      <td>2001</td>\n",
       "      <td>12808</td>\n",
       "      <td>0.300928</td>\n",
       "      <td>0.045</td>\n",
       "      <td>494</td>\n",
       "      <td>4.0</td>\n",
       "    </tr>\n",
       "    <tr>\n",
       "      <th>b</th>\n",
       "      <td>WY</td>\n",
       "      <td>2002</td>\n",
       "      <td>13191</td>\n",
       "      <td>0.296244</td>\n",
       "      <td>0.045</td>\n",
       "      <td>499</td>\n",
       "      <td>4.0</td>\n",
       "    </tr>\n",
       "    <tr>\n",
       "      <th>b</th>\n",
       "      <td>WY</td>\n",
       "      <td>2003</td>\n",
       "      <td>15535</td>\n",
       "      <td>0.289643</td>\n",
       "      <td>0.045</td>\n",
       "      <td>501</td>\n",
       "      <td>4.0</td>\n",
       "    </tr>\n",
       "  </tbody>\n",
       "</table>\n",
       "<p>1708 rows × 7 columns</p>\n",
       "</div>"
      ],
      "text/plain": [
       "   st_name  year  c_beer   beer_tax  btax_dollars  population  salestax\n",
       "a       AL  1970   33098  72.341130         2.370        3450       4.0\n",
       "a       AL  1971   37598  69.304600         2.370        3497       4.0\n",
       "a       AL  1972   42719  67.149190         2.370        3539       4.0\n",
       "a       AL  1973   46203  63.217026         2.370        3580       4.0\n",
       "a       AL  1974   49769  56.933796         2.370        3627       4.0\n",
       "..     ...   ...     ...        ...           ...         ...       ...\n",
       "b       WY  1999   12423   0.319894         0.045         492       4.0\n",
       "b       WY  2000   12595   0.309491         0.045         494       4.0\n",
       "b       WY  2001   12808   0.300928         0.045         494       4.0\n",
       "b       WY  2002   13191   0.296244         0.045         499       4.0\n",
       "b       WY  2003   15535   0.289643         0.045         501       4.0\n",
       "\n",
       "[1708 rows x 7 columns]"
      ]
     },
     "execution_count": 35,
     "metadata": {},
     "output_type": "execute_result"
    }
   ],
   "source": [
    "df2"
   ]
  },
  {
   "cell_type": "markdown",
   "id": "be5794fd-5d8a-48b2-9e63-ba7f04bf0057",
   "metadata": {},
   "source": [
    "`.loc` helps us get values based on the index/column labels associated with them. For example, let's say we're interested in all the `btax_dollars` values associated with an index label of `a`. We can use `.loc` to get all such values, as shown below."
   ]
  },
  {
   "cell_type": "code",
   "execution_count": 36,
   "id": "0cdcac63-0a0a-4368-8bd4-6113f9cf2294",
   "metadata": {},
   "outputs": [
    {
     "data": {
      "text/plain": [
       "a    2.370\n",
       "a    2.370\n",
       "a    2.370\n",
       "a    2.370\n",
       "a    2.370\n",
       "     ...  \n",
       "a    0.135\n",
       "a    0.135\n",
       "a    0.135\n",
       "a    0.135\n",
       "a    0.135\n",
       "Name: btax_dollars, Length: 854, dtype: float64"
      ]
     },
     "execution_count": 36,
     "metadata": {},
     "output_type": "execute_result"
    }
   ],
   "source": [
    "df2.loc['a','btax_dollars'] "
   ]
  },
  {
   "cell_type": "markdown",
   "id": "a7249508-c442-4db4-bc56-a4d5186f42f7",
   "metadata": {},
   "source": [
    "Above, we first passed in the row labels (or index labels) we're interested in, followed by the column labels we're interested in. If we're interested in multiple row/column labels, we must pass in a list of the labels we're interested in. An example is shown below."
   ]
  },
  {
   "cell_type": "code",
   "execution_count": 38,
   "id": "032d8512-35dd-45f3-9808-935a68a0a7da",
   "metadata": {},
   "outputs": [
    {
     "data": {
      "text/html": [
       "<div>\n",
       "<style scoped>\n",
       "    .dataframe tbody tr th:only-of-type {\n",
       "        vertical-align: middle;\n",
       "    }\n",
       "\n",
       "    .dataframe tbody tr th {\n",
       "        vertical-align: top;\n",
       "    }\n",
       "\n",
       "    .dataframe thead th {\n",
       "        text-align: right;\n",
       "    }\n",
       "</style>\n",
       "<table border=\"1\" class=\"dataframe\">\n",
       "  <thead>\n",
       "    <tr style=\"text-align: right;\">\n",
       "      <th></th>\n",
       "      <th>st_name</th>\n",
       "      <th>year</th>\n",
       "      <th>btax_dollars</th>\n",
       "    </tr>\n",
       "  </thead>\n",
       "  <tbody>\n",
       "    <tr>\n",
       "      <th>a</th>\n",
       "      <td>AL</td>\n",
       "      <td>1970</td>\n",
       "      <td>2.370</td>\n",
       "    </tr>\n",
       "    <tr>\n",
       "      <th>a</th>\n",
       "      <td>AL</td>\n",
       "      <td>1971</td>\n",
       "      <td>2.370</td>\n",
       "    </tr>\n",
       "    <tr>\n",
       "      <th>a</th>\n",
       "      <td>AL</td>\n",
       "      <td>1972</td>\n",
       "      <td>2.370</td>\n",
       "    </tr>\n",
       "    <tr>\n",
       "      <th>a</th>\n",
       "      <td>AL</td>\n",
       "      <td>1973</td>\n",
       "      <td>2.370</td>\n",
       "    </tr>\n",
       "    <tr>\n",
       "      <th>a</th>\n",
       "      <td>AL</td>\n",
       "      <td>1974</td>\n",
       "      <td>2.370</td>\n",
       "    </tr>\n",
       "    <tr>\n",
       "      <th>...</th>\n",
       "      <td>...</td>\n",
       "      <td>...</td>\n",
       "      <td>...</td>\n",
       "    </tr>\n",
       "    <tr>\n",
       "      <th>a</th>\n",
       "      <td>MO</td>\n",
       "      <td>1993</td>\n",
       "      <td>0.135</td>\n",
       "    </tr>\n",
       "    <tr>\n",
       "      <th>a</th>\n",
       "      <td>MO</td>\n",
       "      <td>1994</td>\n",
       "      <td>0.135</td>\n",
       "    </tr>\n",
       "    <tr>\n",
       "      <th>a</th>\n",
       "      <td>MO</td>\n",
       "      <td>1995</td>\n",
       "      <td>0.135</td>\n",
       "    </tr>\n",
       "    <tr>\n",
       "      <th>a</th>\n",
       "      <td>MO</td>\n",
       "      <td>1996</td>\n",
       "      <td>0.135</td>\n",
       "    </tr>\n",
       "    <tr>\n",
       "      <th>a</th>\n",
       "      <td>MO</td>\n",
       "      <td>1997</td>\n",
       "      <td>0.135</td>\n",
       "    </tr>\n",
       "  </tbody>\n",
       "</table>\n",
       "<p>854 rows × 3 columns</p>\n",
       "</div>"
      ],
      "text/plain": [
       "   st_name  year  btax_dollars\n",
       "a       AL  1970         2.370\n",
       "a       AL  1971         2.370\n",
       "a       AL  1972         2.370\n",
       "a       AL  1973         2.370\n",
       "a       AL  1974         2.370\n",
       "..     ...   ...           ...\n",
       "a       MO  1993         0.135\n",
       "a       MO  1994         0.135\n",
       "a       MO  1995         0.135\n",
       "a       MO  1996         0.135\n",
       "a       MO  1997         0.135\n",
       "\n",
       "[854 rows x 3 columns]"
      ]
     },
     "execution_count": 38,
     "metadata": {},
     "output_type": "execute_result"
    }
   ],
   "source": [
    "df2.loc['a',['st_name','year','btax_dollars']]"
   ]
  },
  {
   "cell_type": "markdown",
   "id": "f41f1614-757a-4cbc-ad73-a0afbd9393e7",
   "metadata": {},
   "source": [
    "We can also use a slice (`:`) to specify that we're interested in all the labels."
   ]
  },
  {
   "cell_type": "code",
   "execution_count": 41,
   "id": "e38ca321-0f28-41d8-8bd4-84c458124a09",
   "metadata": {},
   "outputs": [
    {
     "data": {
      "text/html": [
       "<div>\n",
       "<style scoped>\n",
       "    .dataframe tbody tr th:only-of-type {\n",
       "        vertical-align: middle;\n",
       "    }\n",
       "\n",
       "    .dataframe tbody tr th {\n",
       "        vertical-align: top;\n",
       "    }\n",
       "\n",
       "    .dataframe thead th {\n",
       "        text-align: right;\n",
       "    }\n",
       "</style>\n",
       "<table border=\"1\" class=\"dataframe\">\n",
       "  <thead>\n",
       "    <tr style=\"text-align: right;\">\n",
       "      <th></th>\n",
       "      <th>st_name</th>\n",
       "      <th>year</th>\n",
       "      <th>btax_dollars</th>\n",
       "    </tr>\n",
       "  </thead>\n",
       "  <tbody>\n",
       "    <tr>\n",
       "      <th>a</th>\n",
       "      <td>AL</td>\n",
       "      <td>1970</td>\n",
       "      <td>2.370</td>\n",
       "    </tr>\n",
       "    <tr>\n",
       "      <th>a</th>\n",
       "      <td>AL</td>\n",
       "      <td>1971</td>\n",
       "      <td>2.370</td>\n",
       "    </tr>\n",
       "    <tr>\n",
       "      <th>a</th>\n",
       "      <td>AL</td>\n",
       "      <td>1972</td>\n",
       "      <td>2.370</td>\n",
       "    </tr>\n",
       "    <tr>\n",
       "      <th>a</th>\n",
       "      <td>AL</td>\n",
       "      <td>1973</td>\n",
       "      <td>2.370</td>\n",
       "    </tr>\n",
       "    <tr>\n",
       "      <th>a</th>\n",
       "      <td>AL</td>\n",
       "      <td>1974</td>\n",
       "      <td>2.370</td>\n",
       "    </tr>\n",
       "    <tr>\n",
       "      <th>...</th>\n",
       "      <td>...</td>\n",
       "      <td>...</td>\n",
       "      <td>...</td>\n",
       "    </tr>\n",
       "    <tr>\n",
       "      <th>b</th>\n",
       "      <td>WY</td>\n",
       "      <td>1999</td>\n",
       "      <td>0.045</td>\n",
       "    </tr>\n",
       "    <tr>\n",
       "      <th>b</th>\n",
       "      <td>WY</td>\n",
       "      <td>2000</td>\n",
       "      <td>0.045</td>\n",
       "    </tr>\n",
       "    <tr>\n",
       "      <th>b</th>\n",
       "      <td>WY</td>\n",
       "      <td>2001</td>\n",
       "      <td>0.045</td>\n",
       "    </tr>\n",
       "    <tr>\n",
       "      <th>b</th>\n",
       "      <td>WY</td>\n",
       "      <td>2002</td>\n",
       "      <td>0.045</td>\n",
       "    </tr>\n",
       "    <tr>\n",
       "      <th>b</th>\n",
       "      <td>WY</td>\n",
       "      <td>2003</td>\n",
       "      <td>0.045</td>\n",
       "    </tr>\n",
       "  </tbody>\n",
       "</table>\n",
       "<p>1708 rows × 3 columns</p>\n",
       "</div>"
      ],
      "text/plain": [
       "   st_name  year  btax_dollars\n",
       "a       AL  1970         2.370\n",
       "a       AL  1971         2.370\n",
       "a       AL  1972         2.370\n",
       "a       AL  1973         2.370\n",
       "a       AL  1974         2.370\n",
       "..     ...   ...           ...\n",
       "b       WY  1999         0.045\n",
       "b       WY  2000         0.045\n",
       "b       WY  2001         0.045\n",
       "b       WY  2002         0.045\n",
       "b       WY  2003         0.045\n",
       "\n",
       "[1708 rows x 3 columns]"
      ]
     },
     "execution_count": 41,
     "metadata": {},
     "output_type": "execute_result"
    }
   ],
   "source": [
    "df2.loc[:,['st_name','year','btax_dollars']]"
   ]
  },
  {
   "cell_type": "markdown",
   "id": "e6f2378f-fb45-421f-ae91-a96ff76e059a",
   "metadata": {},
   "source": [
    "### 3. `.iloc`"
   ]
  },
  {
   "cell_type": "markdown",
   "id": "0604319e-292a-4c96-bed0-e36cf7be9401",
   "metadata": {},
   "source": [
    "`.iloc` works similarly to `.loc`, but it looks at the integers associated with each label rather than the label itself. For example, let's extract all the `btax_dollars` values associated with an index label of `a` using `.iloc`."
   ]
  },
  {
   "cell_type": "code",
   "execution_count": 42,
   "id": "bbf1f6f7-ee1e-42f8-bd4a-cd44cf4de68f",
   "metadata": {},
   "outputs": [
    {
     "data": {
      "text/plain": [
       "a    2.370\n",
       "a    2.370\n",
       "a    2.370\n",
       "a    2.370\n",
       "a    2.370\n",
       "     ...  \n",
       "a    0.135\n",
       "a    0.135\n",
       "a    0.135\n",
       "a    0.135\n",
       "a    0.135\n",
       "Name: btax_dollars, Length: 854, dtype: float64"
      ]
     },
     "execution_count": 42,
     "metadata": {},
     "output_type": "execute_result"
    }
   ],
   "source": [
    "df2.iloc[0:854,4]"
   ]
  },
  {
   "cell_type": "markdown",
   "id": "70304755-6688-4fb2-96c1-cbc9c93f60b1",
   "metadata": {},
   "source": [
    "Here, we extracted the same Series as with `.loc`, but needed to specify the index positions of the rows/columns we were interested in rather than their labels. We passed in `0:854` to indicate that we were interested in the first 854 rows, and `4` to indicate that we were interested in the fifth column.\n",
    "\n",
    "Similar to `.loc`, we can pass in single values, lists or slices to the arguments of `.iloc`. However, everything we pass in must be an integer (as we're looking at the index positions). Another example is below."
   ]
  },
  {
   "cell_type": "code",
   "execution_count": 43,
   "id": "edd316f1-9cd9-46a6-91c1-e0489e8a0d65",
   "metadata": {},
   "outputs": [
    {
     "data": {
      "text/html": [
       "<div>\n",
       "<style scoped>\n",
       "    .dataframe tbody tr th:only-of-type {\n",
       "        vertical-align: middle;\n",
       "    }\n",
       "\n",
       "    .dataframe tbody tr th {\n",
       "        vertical-align: top;\n",
       "    }\n",
       "\n",
       "    .dataframe thead th {\n",
       "        text-align: right;\n",
       "    }\n",
       "</style>\n",
       "<table border=\"1\" class=\"dataframe\">\n",
       "  <thead>\n",
       "    <tr style=\"text-align: right;\">\n",
       "      <th></th>\n",
       "      <th>st_name</th>\n",
       "      <th>year</th>\n",
       "      <th>btax_dollars</th>\n",
       "    </tr>\n",
       "  </thead>\n",
       "  <tbody>\n",
       "    <tr>\n",
       "      <th>a</th>\n",
       "      <td>AL</td>\n",
       "      <td>1970</td>\n",
       "      <td>2.370</td>\n",
       "    </tr>\n",
       "    <tr>\n",
       "      <th>a</th>\n",
       "      <td>AL</td>\n",
       "      <td>1971</td>\n",
       "      <td>2.370</td>\n",
       "    </tr>\n",
       "    <tr>\n",
       "      <th>a</th>\n",
       "      <td>AL</td>\n",
       "      <td>1972</td>\n",
       "      <td>2.370</td>\n",
       "    </tr>\n",
       "    <tr>\n",
       "      <th>a</th>\n",
       "      <td>AL</td>\n",
       "      <td>1973</td>\n",
       "      <td>2.370</td>\n",
       "    </tr>\n",
       "    <tr>\n",
       "      <th>a</th>\n",
       "      <td>AL</td>\n",
       "      <td>1974</td>\n",
       "      <td>2.370</td>\n",
       "    </tr>\n",
       "    <tr>\n",
       "      <th>...</th>\n",
       "      <td>...</td>\n",
       "      <td>...</td>\n",
       "      <td>...</td>\n",
       "    </tr>\n",
       "    <tr>\n",
       "      <th>a</th>\n",
       "      <td>MO</td>\n",
       "      <td>1993</td>\n",
       "      <td>0.135</td>\n",
       "    </tr>\n",
       "    <tr>\n",
       "      <th>a</th>\n",
       "      <td>MO</td>\n",
       "      <td>1994</td>\n",
       "      <td>0.135</td>\n",
       "    </tr>\n",
       "    <tr>\n",
       "      <th>a</th>\n",
       "      <td>MO</td>\n",
       "      <td>1995</td>\n",
       "      <td>0.135</td>\n",
       "    </tr>\n",
       "    <tr>\n",
       "      <th>a</th>\n",
       "      <td>MO</td>\n",
       "      <td>1996</td>\n",
       "      <td>0.135</td>\n",
       "    </tr>\n",
       "    <tr>\n",
       "      <th>a</th>\n",
       "      <td>MO</td>\n",
       "      <td>1997</td>\n",
       "      <td>0.135</td>\n",
       "    </tr>\n",
       "  </tbody>\n",
       "</table>\n",
       "<p>854 rows × 3 columns</p>\n",
       "</div>"
      ],
      "text/plain": [
       "   st_name  year  btax_dollars\n",
       "a       AL  1970         2.370\n",
       "a       AL  1971         2.370\n",
       "a       AL  1972         2.370\n",
       "a       AL  1973         2.370\n",
       "a       AL  1974         2.370\n",
       "..     ...   ...           ...\n",
       "a       MO  1993         0.135\n",
       "a       MO  1994         0.135\n",
       "a       MO  1995         0.135\n",
       "a       MO  1996         0.135\n",
       "a       MO  1997         0.135\n",
       "\n",
       "[854 rows x 3 columns]"
      ]
     },
     "execution_count": 43,
     "metadata": {},
     "output_type": "execute_result"
    }
   ],
   "source": [
    "df2.iloc[0:854,[0, 1, 4]]"
   ]
  },
  {
   "cell_type": "markdown",
   "id": "ed468ec4-8aed-4ce7-916f-14cdf8741e05",
   "metadata": {},
   "source": [
    "### 4. `[]`"
   ]
  },
  {
   "cell_type": "markdown",
   "id": "db4ad89d-719b-454b-a616-043fb885ed49",
   "metadata": {},
   "source": [
    "The `[]` is the hardest to describe, but the easiest to write and for many, the easiest to use. The `[]` simply follows the notation `DataFrame_Name[...]`, where `...` can be a single column label (similar to `.loc`), a list of column labels (similar to `.loc`) or a slice of row index positions (similar to `.iloc`). We've included examples for all three below. Do not worry if this seems confusing at first, feel free to use one of the first three methods instead."
   ]
  },
  {
   "cell_type": "markdown",
   "id": "8aec04e2-2391-4949-bed0-82c4279ddc42",
   "metadata": {},
   "source": [
    "#### Single Column Label"
   ]
  },
  {
   "cell_type": "code",
   "execution_count": 46,
   "id": "b4353c93-c685-4573-bff4-968fe90509c1",
   "metadata": {},
   "outputs": [
    {
     "data": {
      "text/plain": [
       "a    2.370\n",
       "a    2.370\n",
       "a    2.370\n",
       "a    2.370\n",
       "a    2.370\n",
       "     ...  \n",
       "b    0.045\n",
       "b    0.045\n",
       "b    0.045\n",
       "b    0.045\n",
       "b    0.045\n",
       "Name: btax_dollars, Length: 1708, dtype: float64"
      ]
     },
     "execution_count": 46,
     "metadata": {},
     "output_type": "execute_result"
    }
   ],
   "source": [
    "df2['btax_dollars']"
   ]
  },
  {
   "cell_type": "markdown",
   "id": "fbe444d9-9ca8-4f1a-9b00-0548065ecd13",
   "metadata": {},
   "source": [
    "#### List of Column Labels"
   ]
  },
  {
   "cell_type": "code",
   "execution_count": 47,
   "id": "ed2a4585-4a3e-4cd4-b65e-9b4ff1120da6",
   "metadata": {},
   "outputs": [
    {
     "data": {
      "text/html": [
       "<div>\n",
       "<style scoped>\n",
       "    .dataframe tbody tr th:only-of-type {\n",
       "        vertical-align: middle;\n",
       "    }\n",
       "\n",
       "    .dataframe tbody tr th {\n",
       "        vertical-align: top;\n",
       "    }\n",
       "\n",
       "    .dataframe thead th {\n",
       "        text-align: right;\n",
       "    }\n",
       "</style>\n",
       "<table border=\"1\" class=\"dataframe\">\n",
       "  <thead>\n",
       "    <tr style=\"text-align: right;\">\n",
       "      <th></th>\n",
       "      <th>st_name</th>\n",
       "      <th>year</th>\n",
       "      <th>btax_dollars</th>\n",
       "    </tr>\n",
       "  </thead>\n",
       "  <tbody>\n",
       "    <tr>\n",
       "      <th>a</th>\n",
       "      <td>AL</td>\n",
       "      <td>1970</td>\n",
       "      <td>2.370</td>\n",
       "    </tr>\n",
       "    <tr>\n",
       "      <th>a</th>\n",
       "      <td>AL</td>\n",
       "      <td>1971</td>\n",
       "      <td>2.370</td>\n",
       "    </tr>\n",
       "    <tr>\n",
       "      <th>a</th>\n",
       "      <td>AL</td>\n",
       "      <td>1972</td>\n",
       "      <td>2.370</td>\n",
       "    </tr>\n",
       "    <tr>\n",
       "      <th>a</th>\n",
       "      <td>AL</td>\n",
       "      <td>1973</td>\n",
       "      <td>2.370</td>\n",
       "    </tr>\n",
       "    <tr>\n",
       "      <th>a</th>\n",
       "      <td>AL</td>\n",
       "      <td>1974</td>\n",
       "      <td>2.370</td>\n",
       "    </tr>\n",
       "    <tr>\n",
       "      <th>...</th>\n",
       "      <td>...</td>\n",
       "      <td>...</td>\n",
       "      <td>...</td>\n",
       "    </tr>\n",
       "    <tr>\n",
       "      <th>b</th>\n",
       "      <td>WY</td>\n",
       "      <td>1999</td>\n",
       "      <td>0.045</td>\n",
       "    </tr>\n",
       "    <tr>\n",
       "      <th>b</th>\n",
       "      <td>WY</td>\n",
       "      <td>2000</td>\n",
       "      <td>0.045</td>\n",
       "    </tr>\n",
       "    <tr>\n",
       "      <th>b</th>\n",
       "      <td>WY</td>\n",
       "      <td>2001</td>\n",
       "      <td>0.045</td>\n",
       "    </tr>\n",
       "    <tr>\n",
       "      <th>b</th>\n",
       "      <td>WY</td>\n",
       "      <td>2002</td>\n",
       "      <td>0.045</td>\n",
       "    </tr>\n",
       "    <tr>\n",
       "      <th>b</th>\n",
       "      <td>WY</td>\n",
       "      <td>2003</td>\n",
       "      <td>0.045</td>\n",
       "    </tr>\n",
       "  </tbody>\n",
       "</table>\n",
       "<p>1708 rows × 3 columns</p>\n",
       "</div>"
      ],
      "text/plain": [
       "   st_name  year  btax_dollars\n",
       "a       AL  1970         2.370\n",
       "a       AL  1971         2.370\n",
       "a       AL  1972         2.370\n",
       "a       AL  1973         2.370\n",
       "a       AL  1974         2.370\n",
       "..     ...   ...           ...\n",
       "b       WY  1999         0.045\n",
       "b       WY  2000         0.045\n",
       "b       WY  2001         0.045\n",
       "b       WY  2002         0.045\n",
       "b       WY  2003         0.045\n",
       "\n",
       "[1708 rows x 3 columns]"
      ]
     },
     "execution_count": 47,
     "metadata": {},
     "output_type": "execute_result"
    }
   ],
   "source": [
    "df2[['st_name','year','btax_dollars']]"
   ]
  },
  {
   "cell_type": "markdown",
   "id": "ac0a719a-d4d9-4bd9-9bfd-ae0d83f47fe7",
   "metadata": {},
   "source": [
    "#### Slice of Row Index Positions"
   ]
  },
  {
   "cell_type": "code",
   "execution_count": 48,
   "id": "7de05898-b440-4a44-9d8c-7549b046f150",
   "metadata": {},
   "outputs": [
    {
     "data": {
      "text/html": [
       "<div>\n",
       "<style scoped>\n",
       "    .dataframe tbody tr th:only-of-type {\n",
       "        vertical-align: middle;\n",
       "    }\n",
       "\n",
       "    .dataframe tbody tr th {\n",
       "        vertical-align: top;\n",
       "    }\n",
       "\n",
       "    .dataframe thead th {\n",
       "        text-align: right;\n",
       "    }\n",
       "</style>\n",
       "<table border=\"1\" class=\"dataframe\">\n",
       "  <thead>\n",
       "    <tr style=\"text-align: right;\">\n",
       "      <th></th>\n",
       "      <th>st_name</th>\n",
       "      <th>year</th>\n",
       "      <th>c_beer</th>\n",
       "      <th>beer_tax</th>\n",
       "      <th>btax_dollars</th>\n",
       "      <th>population</th>\n",
       "      <th>salestax</th>\n",
       "    </tr>\n",
       "  </thead>\n",
       "  <tbody>\n",
       "    <tr>\n",
       "      <th>a</th>\n",
       "      <td>AL</td>\n",
       "      <td>1970</td>\n",
       "      <td>33098</td>\n",
       "      <td>72.341130</td>\n",
       "      <td>2.37</td>\n",
       "      <td>3450</td>\n",
       "      <td>4.0</td>\n",
       "    </tr>\n",
       "    <tr>\n",
       "      <th>a</th>\n",
       "      <td>AL</td>\n",
       "      <td>1971</td>\n",
       "      <td>37598</td>\n",
       "      <td>69.304600</td>\n",
       "      <td>2.37</td>\n",
       "      <td>3497</td>\n",
       "      <td>4.0</td>\n",
       "    </tr>\n",
       "    <tr>\n",
       "      <th>a</th>\n",
       "      <td>AL</td>\n",
       "      <td>1972</td>\n",
       "      <td>42719</td>\n",
       "      <td>67.149190</td>\n",
       "      <td>2.37</td>\n",
       "      <td>3539</td>\n",
       "      <td>4.0</td>\n",
       "    </tr>\n",
       "    <tr>\n",
       "      <th>a</th>\n",
       "      <td>AL</td>\n",
       "      <td>1973</td>\n",
       "      <td>46203</td>\n",
       "      <td>63.217026</td>\n",
       "      <td>2.37</td>\n",
       "      <td>3580</td>\n",
       "      <td>4.0</td>\n",
       "    </tr>\n",
       "    <tr>\n",
       "      <th>a</th>\n",
       "      <td>AL</td>\n",
       "      <td>1974</td>\n",
       "      <td>49769</td>\n",
       "      <td>56.933796</td>\n",
       "      <td>2.37</td>\n",
       "      <td>3627</td>\n",
       "      <td>4.0</td>\n",
       "    </tr>\n",
       "  </tbody>\n",
       "</table>\n",
       "</div>"
      ],
      "text/plain": [
       "  st_name  year  c_beer   beer_tax  btax_dollars  population  salestax\n",
       "a      AL  1970   33098  72.341130          2.37        3450       4.0\n",
       "a      AL  1971   37598  69.304600          2.37        3497       4.0\n",
       "a      AL  1972   42719  67.149190          2.37        3539       4.0\n",
       "a      AL  1973   46203  63.217026          2.37        3580       4.0\n",
       "a      AL  1974   49769  56.933796          2.37        3627       4.0"
      ]
     },
     "execution_count": 48,
     "metadata": {},
     "output_type": "execute_result"
    }
   ],
   "source": [
    "df2[0:5]"
   ]
  },
  {
   "cell_type": "markdown",
   "id": "358031f5-c93a-4d63-9a89-fcdecbe7027f",
   "metadata": {},
   "source": [
    "In the next subchapter, we will talk about conditional selection, which allows us to view all rows that satisfy a certain condition."
   ]
  }
 ],
 "metadata": {
  "kernelspec": {
   "display_name": "Python [conda env:sklearn-env]",
   "language": "python",
   "name": "conda-env-sklearn-env-py"
  },
  "language_info": {
   "codemirror_mode": {
    "name": "ipython",
    "version": 3
   },
   "file_extension": ".py",
   "mimetype": "text/x-python",
   "name": "python",
   "nbconvert_exporter": "python",
   "pygments_lexer": "ipython3",
   "version": "3.11.0"
  }
 },
 "nbformat": 4,
 "nbformat_minor": 5
}
