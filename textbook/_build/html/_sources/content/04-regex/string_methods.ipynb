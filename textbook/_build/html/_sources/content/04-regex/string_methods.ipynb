{
 "cells": [
  {
   "cell_type": "code",
   "execution_count": 14,
   "id": "19528d90-2817-483c-8d39-3d13b58b502c",
   "metadata": {},
   "outputs": [],
   "source": [
    "import pandas as pd"
   ]
  },
  {
   "cell_type": "markdown",
   "id": "0dc3dc82-e95c-4df5-bd26-5137c1265ba8",
   "metadata": {},
   "source": [
    "# Python String Methods\n",
    "\n",
    "First, we'll introduce a few methods useful for string manipulation. The following table includes a number of string operations supported by Python and `pandas`. The Python functions operate on a single string, while their equivalent in `pandas` are  **vectorized** - they operate on a Series of string data.\n",
    "\n",
    "| Operation             | Python String Methods | Series (Dataframe Columns) String Methods | Explanation|\n",
    "|-----------------------|-----------------|---------------------------|-- |\n",
    "| Transformation        | - `s.lower()`, `s.upper()`  | - `ser.str.lower()`, `ser.str.upper()`      | The first command turns all characters lowercase, the second command turns all characters upper case|\n",
    "| Replacement/Deletion| - `s.replace(_)`| - `ser.str.replace(_)`    |Replaces the first string with the second string. If the string argument is the empty string (`''`), effectively removes the first string.|\n",
    "| Split                 | - `s.split(_)`  | - `ser.str.split(_)`      | Splits the string into separate strings, forming a new string everytime the argument inside `.split(_)` is found. Output is a list of strings|\n",
    "| Substring             | - `s[1:4]`      | - `ser.str[1:4]`          | Outputs the subset of the string from the 1st character to the 4th character (uses 0-indexing)|\n",
    "| Membership            | - `'_' in s`    | - `ser.str.contains(_)`   | Returns true/false depending on whether or not the string contains the value |\n",
    "| Length                | - `len(s)`      | - `ser.str.len()`         | Returns the length of the string|"
   ]
  },
  {
   "cell_type": "markdown",
   "id": "384660b6-1ba1-4060-b26a-1cd51c4325ad",
   "metadata": {},
   "source": [
    "## Example of Cleaning Data"
   ]
  },
  {
   "cell_type": "code",
   "execution_count": 15,
   "id": "b9d03588-9e5a-44d1-9e30-61387c5b128f",
   "metadata": {},
   "outputs": [
    {
     "data": {
      "text/html": [
       "<div>\n",
       "<style scoped>\n",
       "    .dataframe tbody tr th:only-of-type {\n",
       "        vertical-align: middle;\n",
       "    }\n",
       "\n",
       "    .dataframe tbody tr th {\n",
       "        vertical-align: top;\n",
       "    }\n",
       "\n",
       "    .dataframe thead th {\n",
       "        text-align: right;\n",
       "    }\n",
       "</style>\n",
       "<table border=\"1\" class=\"dataframe\">\n",
       "  <thead>\n",
       "    <tr style=\"text-align: right;\">\n",
       "      <th></th>\n",
       "      <th>County</th>\n",
       "      <th>State</th>\n",
       "    </tr>\n",
       "  </thead>\n",
       "  <tbody>\n",
       "    <tr>\n",
       "      <th>0</th>\n",
       "      <td>De Witt County</td>\n",
       "      <td>IL</td>\n",
       "    </tr>\n",
       "    <tr>\n",
       "      <th>1</th>\n",
       "      <td>Lac qui Parle County</td>\n",
       "      <td>MN</td>\n",
       "    </tr>\n",
       "    <tr>\n",
       "      <th>2</th>\n",
       "      <td>Lewis and Clark County</td>\n",
       "      <td>MT</td>\n",
       "    </tr>\n",
       "    <tr>\n",
       "      <th>3</th>\n",
       "      <td>St John the Baptist Parish</td>\n",
       "      <td>LS</td>\n",
       "    </tr>\n",
       "  </tbody>\n",
       "</table>\n",
       "</div>"
      ],
      "text/plain": [
       "                       County State\n",
       "0              De Witt County    IL\n",
       "1        Lac qui Parle County    MN\n",
       "2      Lewis and Clark County    MT\n",
       "3  St John the Baptist Parish    LS"
      ]
     },
     "metadata": {},
     "output_type": "display_data"
    },
    {
     "data": {
      "text/html": [
       "<div>\n",
       "<style scoped>\n",
       "    .dataframe tbody tr th:only-of-type {\n",
       "        vertical-align: middle;\n",
       "    }\n",
       "\n",
       "    .dataframe tbody tr th {\n",
       "        vertical-align: top;\n",
       "    }\n",
       "\n",
       "    .dataframe thead th {\n",
       "        text-align: right;\n",
       "    }\n",
       "</style>\n",
       "<table border=\"1\" class=\"dataframe\">\n",
       "  <thead>\n",
       "    <tr style=\"text-align: right;\">\n",
       "      <th></th>\n",
       "      <th>County</th>\n",
       "      <th>Population</th>\n",
       "    </tr>\n",
       "  </thead>\n",
       "  <tbody>\n",
       "    <tr>\n",
       "      <th>0</th>\n",
       "      <td>DeWitt</td>\n",
       "      <td>16798</td>\n",
       "    </tr>\n",
       "    <tr>\n",
       "      <th>1</th>\n",
       "      <td>Lac Qui Parle</td>\n",
       "      <td>8067</td>\n",
       "    </tr>\n",
       "    <tr>\n",
       "      <th>2</th>\n",
       "      <td>Lewis &amp; Clark</td>\n",
       "      <td>55716</td>\n",
       "    </tr>\n",
       "    <tr>\n",
       "      <th>3</th>\n",
       "      <td>St. John the Baptist</td>\n",
       "      <td>43044</td>\n",
       "    </tr>\n",
       "  </tbody>\n",
       "</table>\n",
       "</div>"
      ],
      "text/plain": [
       "                 County  Population\n",
       "0                DeWitt       16798\n",
       "1         Lac Qui Parle        8067\n",
       "2         Lewis & Clark       55716\n",
       "3  St. John the Baptist       43044"
      ]
     },
     "metadata": {},
     "output_type": "display_data"
    }
   ],
   "source": [
    "with open('data/county_and_state.csv') as f:\n",
    "    county_and_state = pd.read_csv(f)\n",
    "    \n",
    "with open('data/county_and_population.csv') as f:\n",
    "    county_and_pop = pd.read_csv(f)\n",
    "\n",
    "display(county_and_state), display(county_and_pop);"
   ]
  },
  {
   "cell_type": "markdown",
   "id": "7eab9333-edb0-4c0c-94aa-19b3f3316e72",
   "metadata": {},
   "source": [
    "If we want to join the two tables above, we would run into issues as the `County` column is not standardized across both tables. To merge them on the `County`, we would want to do some data cleaning. Specifically, we would want to: -\n",
    "- Convert all strings to lower case (to deal with the difference between `Lac qui Parle` and `Lac Qui Parle`)\n",
    "- Remove all spaces (to deal with the difference between `DeWitt` and `De Witt`)\n",
    "- Replace all '&' with 'and' (for standardization)\n",
    "- Remove all full stops (to deal with the difference between `St. John` and `St John`)\n",
    "- Remove all instances of the words `county` and `parish`\n",
    "\n",
    "The code below performs all these actions for us with the series string methods mentioned above."
   ]
  },
  {
   "cell_type": "code",
   "execution_count": 16,
   "id": "0073ea80-ec89-4850-9ecf-470f101c7f8e",
   "metadata": {},
   "outputs": [
    {
     "name": "stderr",
     "output_type": "stream",
     "text": [
      "/var/folders/td/dtym05z13119cjklqb5tyd040000gn/T/ipykernel_42119/2523629438.py:7: FutureWarning: The default value of regex will change from True to False in a future version. In addition, single character regular expressions will *not* be treated as literal strings when regex=True.\n",
      "  .str.replace('.', '')\n",
      "/var/folders/td/dtym05z13119cjklqb5tyd040000gn/T/ipykernel_42119/2523629438.py:7: FutureWarning: The default value of regex will change from True to False in a future version. In addition, single character regular expressions will *not* be treated as literal strings when regex=True.\n",
      "  .str.replace('.', '')\n"
     ]
    },
    {
     "data": {
      "text/html": [
       "<div>\n",
       "<style scoped>\n",
       "    .dataframe tbody tr th:only-of-type {\n",
       "        vertical-align: middle;\n",
       "    }\n",
       "\n",
       "    .dataframe tbody tr th {\n",
       "        vertical-align: top;\n",
       "    }\n",
       "\n",
       "    .dataframe thead th {\n",
       "        text-align: right;\n",
       "    }\n",
       "</style>\n",
       "<table border=\"1\" class=\"dataframe\">\n",
       "  <thead>\n",
       "    <tr style=\"text-align: right;\">\n",
       "      <th></th>\n",
       "      <th>County</th>\n",
       "      <th>Population</th>\n",
       "      <th>clean_county_pandas</th>\n",
       "    </tr>\n",
       "  </thead>\n",
       "  <tbody>\n",
       "    <tr>\n",
       "      <th>0</th>\n",
       "      <td>DeWitt</td>\n",
       "      <td>16798</td>\n",
       "      <td>dewitt</td>\n",
       "    </tr>\n",
       "    <tr>\n",
       "      <th>1</th>\n",
       "      <td>Lac Qui Parle</td>\n",
       "      <td>8067</td>\n",
       "      <td>lacquiparle</td>\n",
       "    </tr>\n",
       "    <tr>\n",
       "      <th>2</th>\n",
       "      <td>Lewis &amp; Clark</td>\n",
       "      <td>55716</td>\n",
       "      <td>lewisandclark</td>\n",
       "    </tr>\n",
       "    <tr>\n",
       "      <th>3</th>\n",
       "      <td>St. John the Baptist</td>\n",
       "      <td>43044</td>\n",
       "      <td>stjohnthebaptist</td>\n",
       "    </tr>\n",
       "  </tbody>\n",
       "</table>\n",
       "</div>"
      ],
      "text/plain": [
       "                 County  Population clean_county_pandas\n",
       "0                DeWitt       16798              dewitt\n",
       "1         Lac Qui Parle        8067         lacquiparle\n",
       "2         Lewis & Clark       55716       lewisandclark\n",
       "3  St. John the Baptist       43044    stjohnthebaptist"
      ]
     },
     "metadata": {},
     "output_type": "display_data"
    },
    {
     "data": {
      "text/html": [
       "<div>\n",
       "<style scoped>\n",
       "    .dataframe tbody tr th:only-of-type {\n",
       "        vertical-align: middle;\n",
       "    }\n",
       "\n",
       "    .dataframe tbody tr th {\n",
       "        vertical-align: top;\n",
       "    }\n",
       "\n",
       "    .dataframe thead th {\n",
       "        text-align: right;\n",
       "    }\n",
       "</style>\n",
       "<table border=\"1\" class=\"dataframe\">\n",
       "  <thead>\n",
       "    <tr style=\"text-align: right;\">\n",
       "      <th></th>\n",
       "      <th>County</th>\n",
       "      <th>State</th>\n",
       "      <th>clean_county_pandas</th>\n",
       "    </tr>\n",
       "  </thead>\n",
       "  <tbody>\n",
       "    <tr>\n",
       "      <th>0</th>\n",
       "      <td>De Witt County</td>\n",
       "      <td>IL</td>\n",
       "      <td>dewitt</td>\n",
       "    </tr>\n",
       "    <tr>\n",
       "      <th>1</th>\n",
       "      <td>Lac qui Parle County</td>\n",
       "      <td>MN</td>\n",
       "      <td>lacquiparle</td>\n",
       "    </tr>\n",
       "    <tr>\n",
       "      <th>2</th>\n",
       "      <td>Lewis and Clark County</td>\n",
       "      <td>MT</td>\n",
       "      <td>lewisandclark</td>\n",
       "    </tr>\n",
       "    <tr>\n",
       "      <th>3</th>\n",
       "      <td>St John the Baptist Parish</td>\n",
       "      <td>LS</td>\n",
       "      <td>stjohnthebaptist</td>\n",
       "    </tr>\n",
       "  </tbody>\n",
       "</table>\n",
       "</div>"
      ],
      "text/plain": [
       "                       County State clean_county_pandas\n",
       "0              De Witt County    IL              dewitt\n",
       "1        Lac qui Parle County    MN         lacquiparle\n",
       "2      Lewis and Clark County    MT       lewisandclark\n",
       "3  St John the Baptist Parish    LS    stjohnthebaptist"
      ]
     },
     "metadata": {},
     "output_type": "display_data"
    }
   ],
   "source": [
    "def canonicalize_county_series(county_series):\n",
    "    return (\n",
    "        county_series\n",
    "            .str.lower()\n",
    "            .str.replace(' ', '')\n",
    "            .str.replace('&', 'and')\n",
    "            .str.replace('.', '')\n",
    "            .str.replace('county', '')\n",
    "            .str.replace('parish', '')\n",
    "    )\n",
    "\n",
    "county_and_pop['clean_county_pandas'] = canonicalize_county_series(county_and_pop['County'])\n",
    "county_and_state['clean_county_pandas'] = canonicalize_county_series(county_and_state['County'])\n",
    "display(county_and_pop), display(county_and_state);"
   ]
  },
  {
   "cell_type": "markdown",
   "id": "8ac5e09b-d5bc-4378-8be1-bcf7785b2fe4",
   "metadata": {},
   "source": [
    "We can now merge these datasets!"
   ]
  },
  {
   "cell_type": "code",
   "execution_count": 17,
   "id": "d0a3e19f-7dd2-4280-9f45-e281b39d9b88",
   "metadata": {},
   "outputs": [
    {
     "data": {
      "text/html": [
       "<div>\n",
       "<style scoped>\n",
       "    .dataframe tbody tr th:only-of-type {\n",
       "        vertical-align: middle;\n",
       "    }\n",
       "\n",
       "    .dataframe tbody tr th {\n",
       "        vertical-align: top;\n",
       "    }\n",
       "\n",
       "    .dataframe thead th {\n",
       "        text-align: right;\n",
       "    }\n",
       "</style>\n",
       "<table border=\"1\" class=\"dataframe\">\n",
       "  <thead>\n",
       "    <tr style=\"text-align: right;\">\n",
       "      <th></th>\n",
       "      <th>County_x</th>\n",
       "      <th>Population</th>\n",
       "      <th>clean_county_pandas</th>\n",
       "      <th>County_y</th>\n",
       "      <th>State</th>\n",
       "    </tr>\n",
       "  </thead>\n",
       "  <tbody>\n",
       "    <tr>\n",
       "      <th>0</th>\n",
       "      <td>DeWitt</td>\n",
       "      <td>16798</td>\n",
       "      <td>dewitt</td>\n",
       "      <td>De Witt County</td>\n",
       "      <td>IL</td>\n",
       "    </tr>\n",
       "    <tr>\n",
       "      <th>1</th>\n",
       "      <td>Lac Qui Parle</td>\n",
       "      <td>8067</td>\n",
       "      <td>lacquiparle</td>\n",
       "      <td>Lac qui Parle County</td>\n",
       "      <td>MN</td>\n",
       "    </tr>\n",
       "    <tr>\n",
       "      <th>2</th>\n",
       "      <td>Lewis &amp; Clark</td>\n",
       "      <td>55716</td>\n",
       "      <td>lewisandclark</td>\n",
       "      <td>Lewis and Clark County</td>\n",
       "      <td>MT</td>\n",
       "    </tr>\n",
       "    <tr>\n",
       "      <th>3</th>\n",
       "      <td>St. John the Baptist</td>\n",
       "      <td>43044</td>\n",
       "      <td>stjohnthebaptist</td>\n",
       "      <td>St John the Baptist Parish</td>\n",
       "      <td>LS</td>\n",
       "    </tr>\n",
       "  </tbody>\n",
       "</table>\n",
       "</div>"
      ],
      "text/plain": [
       "               County_x  Population clean_county_pandas  \\\n",
       "0                DeWitt       16798              dewitt   \n",
       "1         Lac Qui Parle        8067         lacquiparle   \n",
       "2         Lewis & Clark       55716       lewisandclark   \n",
       "3  St. John the Baptist       43044    stjohnthebaptist   \n",
       "\n",
       "                     County_y State  \n",
       "0              De Witt County    IL  \n",
       "1        Lac qui Parle County    MN  \n",
       "2      Lewis and Clark County    MT  \n",
       "3  St John the Baptist Parish    LS  "
      ]
     },
     "execution_count": 17,
     "metadata": {},
     "output_type": "execute_result"
    }
   ],
   "source": [
    "county_and_pop.merge(county_and_state, left_on='clean_county_pandas', right_on='clean_county_pandas', how='inner')"
   ]
  },
  {
   "cell_type": "markdown",
   "id": "8df968e2-0c52-4ec3-8f21-7a515cb97b5e",
   "metadata": {},
   "source": [
    "## Extraction\n",
    "\n",
    "Let's say want to read some data from a `.txt` file:"
   ]
  },
  {
   "cell_type": "code",
   "execution_count": 18,
   "id": "a83c7cac-eee1-4163-8328-b92eea3b4a02",
   "metadata": {},
   "outputs": [
    {
     "data": {
      "text/plain": [
       "['169.237.46.168 - - [26/Jan/2014:10:47:58 -0800] \"GET /stat141/Winter04/ HTTP/1.1\" 200 2585 \"http://anson.ucdavis.edu/courses/\"\\n',\n",
       " '193.205.203.3 - - [2/Feb/2005:17:23:6 -0800] \"GET /stat141/Notes/dim.html HTTP/1.0\" 404 302 \"http://eeyore.ucdavis.edu/stat141/Notes/session.html\"\\n',\n",
       " '169.237.46.240 - \"\" [3/Feb/2006:10:18:37 -0800] \"GET /stat141/homework/Solutions/hw1Sol.pdf HTTP/1.1\"\\n']"
      ]
     },
     "execution_count": 18,
     "metadata": {},
     "output_type": "execute_result"
    }
   ],
   "source": [
    "with open('data/log.txt', 'r') as f:\n",
    "    log_lines = f.readlines()\n",
    "\n",
    "log_lines"
   ]
  },
  {
   "cell_type": "markdown",
   "id": "529b1d1f-2eba-44c4-8ba6-f70f4dbf21f8",
   "metadata": {},
   "source": [
    "As you can see, it looks like this data seems to be of the format `'[IP Address] - - [Date and Time] \"GET and HTTP URLs\" number number \"web URL\"\\n'`. Let's say we want to read in the date and time. Unfortunately, the date and time starts at a different spot every time, so we can't just use subsets of the string.\n",
    "\n",
    "Instead, we can use Python's split function."
   ]
  },
  {
   "cell_type": "code",
   "execution_count": 19,
   "id": "71c23036-1fd9-4b60-b924-0c9b3cafee26",
   "metadata": {},
   "outputs": [
    {
     "name": "stdout",
     "output_type": "stream",
     "text": [
      "26 Jan 2014 10 47 58 -0800\n",
      "2 Feb 2005 17 23 6 -0800\n",
      "3 Feb 2006 10 18 37 -0800\n"
     ]
    }
   ],
   "source": [
    "for i in range(len(log_lines)):                   # Iterate through all the rows of the data\n",
    "    first = log_lines[i]                          # Consider row i of the data\n",
    "    pertinent = first.split(\"[\")[1].split(']')[0] # Isolate the values inside the first hard brackets []\n",
    "    day, month, rest = pertinent.split('/')       # Split on the slashes to get the day and month\n",
    "    year, hour, minute, rest = rest.split(':')    # Split on the semi-colons to get the year, hour and minute\n",
    "    seconds, time_zone = rest.split(' ')          # Split on the spaces to get the seconds and timezone\n",
    "    print(day, month, year, hour, minute, seconds, time_zone) # Print everything"
   ]
  },
  {
   "cell_type": "markdown",
   "id": "fb05bb89-95ef-4b94-9b15-9631eeadd4c7",
   "metadata": {},
   "source": [
    "Another tool we can use to solve this problem is regular expressions, which will be discussed in the next subchapter"
   ]
  },
  {
   "cell_type": "code",
   "execution_count": null,
   "id": "21e1dc51-4e41-48c1-8315-182657aea9d0",
   "metadata": {},
   "outputs": [],
   "source": []
  }
 ],
 "metadata": {
  "kernelspec": {
   "display_name": "Python [conda env:sklearn-env]",
   "language": "python",
   "name": "conda-env-sklearn-env-py"
  },
  "language_info": {
   "codemirror_mode": {
    "name": "ipython",
    "version": 3
   },
   "file_extension": ".py",
   "mimetype": "text/x-python",
   "name": "python",
   "nbconvert_exporter": "python",
   "pygments_lexer": "ipython3",
   "version": "3.11.0"
  }
 },
 "nbformat": 4,
 "nbformat_minor": 5
}
