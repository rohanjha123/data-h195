{
 "cells": [
  {
   "cell_type": "markdown",
   "id": "e7a03fc8-a272-4612-b5ec-91172d31c9de",
   "metadata": {},
   "source": [
    "# Choosing the Right Plot"
   ]
  },
  {
   "cell_type": "markdown",
   "id": "15930b4c-97d9-40a4-b199-47bb1ecceb10",
   "metadata": {},
   "source": [
    "Choosing the right plot to make to visualize your data is crucial for making good data visualizations. The type of plot you should make should be closely informed by the types of variables you're attempting to visualize. Here's a quick visualization from [UC Berkeley's Data 100](https://ds100.org/) on a few of the variable types.\n",
    "\n",
    "![vars](assets/var_types.png)\n",
    "\n",
    "Here's a quick description of each type of variable:\n",
    "- **Quantitative Continuous:** Numerical data that can take any value within a range. It has an infinite number of possible values within any given interval. Economic examples include [GDP](https://data.oecd.org/gdp/gross-domestic-product-gdp.htm#:~:text=Gross%20domestic%20product%20(GDP)%20is,and%20services%20(less%20imports).), [CPI](https://www.investopedia.com/terms/c/consumerpriceindex.asp), inflation rate, etc.\n",
    "- **Quantitative Discrete:** Numerical variables that take on distinct, separate values and do not have intermediate values. Economic examples include number of unemployed individuals, quantity of cars produced in a month, number of employees in a company, etc.\n",
    "- **Qualitative Ordinal:** Qualitative ordinal variables represent categories with a meaningful order or ranking. The intervals between the categories are not uniform or well-defined. Economic examples include [credit ratings](https://www.investopedia.com/terms/c/creditrating.asp#toc-credit-ratings-scale), income classes (low, middle or high), the [HDI](https://hdr.undp.org/data-center/human-development-index#/indicies/HDI), etc.\n",
    "- **Qualitative Nominal:** Qualitative nominal variables represent categories or groups with no inherent order or ranking. They are distinct and unrelated categories. Economic examples include the various types of industries, the names of various currencies, the names of countries in a trade agreement, etc.\n",
    "\n",
    "**Important Note:** Be careful between quantitative discrete and qualitative ordinal variables in particular. For example, someone may argue that the [HDI](https://hdr.undp.org/data-center/human-development-index#/indicies/HDI) is a quantitative discrete variable. However, the difference between countries with HDIs of 0.9 vs 0.7 is not necessairly the same as the difference between countries with HDIs of 0.7 vs 0.5, something that we would expect from a quantitative variable. In other words, for the HDI, intervals between the categories are not necessarily uniform or well-defined. Another example of a confusing variable could be a child's years in school, where the difference between year 12 and year 8 is not necessairly the same as the difference between year 8 and year 4."
   ]
  },
  {
   "cell_type": "markdown",
   "id": "7c390884-71cd-4c9d-b99d-0b79020fe457",
   "metadata": {},
   "source": []
  }
 ],
 "metadata": {
  "kernelspec": {
   "display_name": "Python [conda env:sklearn-env]",
   "language": "python",
   "name": "conda-env-sklearn-env-py"
  },
  "language_info": {
   "codemirror_mode": {
    "name": "ipython",
    "version": 3
   },
   "file_extension": ".py",
   "mimetype": "text/x-python",
   "name": "python",
   "nbconvert_exporter": "python",
   "pygments_lexer": "ipython3",
   "version": "3.11.0"
  }
 },
 "nbformat": 4,
 "nbformat_minor": 5
}
