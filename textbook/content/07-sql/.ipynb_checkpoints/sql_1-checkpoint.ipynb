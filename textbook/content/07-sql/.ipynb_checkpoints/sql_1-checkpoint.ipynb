{
 "cells": [
  {
   "cell_type": "code",
   "execution_count": 1,
   "id": "377353d8-6a90-4589-8c2e-1719b9a62d32",
   "metadata": {},
   "outputs": [],
   "source": [
    "import sqlalchemy\n",
    "import pandas as pd"
   ]
  },
  {
   "cell_type": "markdown",
   "id": "e416f5b4-de39-4fc8-9b6d-0b8d59e7195f",
   "metadata": {},
   "source": [
    "# SQL I"
   ]
  },
  {
   "cell_type": "markdown",
   "id": "7814720c-01a6-4a9a-a6c9-e0b0e1e096e7",
   "metadata": {},
   "source": [
    "The syntax below will seem unfamiliar to you; for now, just focus on understanding the output displayed. We will clarify the SQL code in a bit.\n",
    "\n",
    "To start, we'll look at a database called `basic_examples.db`. First, we load in the SQL extension."
   ]
  },
  {
   "cell_type": "code",
   "execution_count": 2,
   "id": "378d6f41-4b40-4baf-a034-25bbece458af",
   "metadata": {},
   "outputs": [],
   "source": [
    "%load_ext sql"
   ]
  },
  {
   "cell_type": "markdown",
   "id": "df514fa2-c289-4c3d-8d96-11c82afdf9da",
   "metadata": {},
   "source": [
    "Connect to the SQLite database `basic_examples.db`."
   ]
  },
  {
   "cell_type": "code",
   "execution_count": 3,
   "id": "f6cf5690-e87b-4457-bf83-69f0fdbda1a3",
   "metadata": {},
   "outputs": [
    {
     "data": {
      "text/html": [
       "<span style=\"None\">Connecting to &#x27;sqlite:///data/basic_examples.db&#x27;</span>"
      ],
      "text/plain": [
       "Connecting to 'sqlite:///data/basic_examples.db'"
      ]
     },
     "metadata": {},
     "output_type": "display_data"
    }
   ],
   "source": [
    "%%sql\n",
    "sqlite:///data/basic_examples.db "
   ]
  },
  {
   "cell_type": "code",
   "execution_count": 4,
   "id": "0f74b8e3-cbdd-4ad0-8863-2c4eacba6123",
   "metadata": {},
   "outputs": [
    {
     "data": {
      "text/html": [
       "<span style=\"None\">Running query in &#x27;sqlite:///data/basic_examples.db&#x27;</span>"
      ],
      "text/plain": [
       "Running query in 'sqlite:///data/basic_examples.db'"
      ]
     },
     "metadata": {},
     "output_type": "display_data"
    },
    {
     "data": {
      "text/html": [
       "<table>\n",
       "    <thead>\n",
       "        <tr>\n",
       "            <th>type</th>\n",
       "            <th>name</th>\n",
       "            <th>tbl_name</th>\n",
       "            <th>rootpage</th>\n",
       "            <th>sql</th>\n",
       "        </tr>\n",
       "    </thead>\n",
       "    <tbody>\n",
       "        <tr>\n",
       "            <td>table</td>\n",
       "            <td>sqlite_sequence</td>\n",
       "            <td>sqlite_sequence</td>\n",
       "            <td>7</td>\n",
       "            <td>CREATE TABLE sqlite_sequence(name,seq)</td>\n",
       "        </tr>\n",
       "        <tr>\n",
       "            <td>table</td>\n",
       "            <td>Dragon</td>\n",
       "            <td>Dragon</td>\n",
       "            <td>2</td>\n",
       "            <td>CREATE TABLE Dragon (<br>    name TEXT PRIMARY KEY,<br>    year INTEGER CHECK (year >= 2000),<br>    cute INTEGER<br>)</td>\n",
       "        </tr>\n",
       "        <tr>\n",
       "            <td>table</td>\n",
       "            <td>Dish</td>\n",
       "            <td>Dish</td>\n",
       "            <td>4</td>\n",
       "            <td>CREATE TABLE Dish (<br>    name TEXT PRIMARY KEY,<br>    type TEXT,<br>    cost INTEGER CHECK (cost >= 0)<br>)</td>\n",
       "        </tr>\n",
       "        <tr>\n",
       "            <td>table</td>\n",
       "            <td>Scene</td>\n",
       "            <td>Scene</td>\n",
       "            <td>6</td>\n",
       "            <td>CREATE TABLE Scene (<br>    id INTEGER PRIMARY KEY AUTOINCREMENT,<br>    biome TEXT NOT NULL,<br>    city TEXT NOT NULL,<br>    visitors INTEGER CHECK (visitors >= 0),<br>    created_at DATETIME DEFAULT (DATETIME('now'))<br>)</td>\n",
       "        </tr>\n",
       "    </tbody>\n",
       "</table>"
      ],
      "text/plain": [
       "+-------+-----------------+-----------------+----------+---------------------------------------------------+\n",
       "|  type |       name      |     tbl_name    | rootpage |                        sql                        |\n",
       "+-------+-----------------+-----------------+----------+---------------------------------------------------+\n",
       "| table | sqlite_sequence | sqlite_sequence |    7     |       CREATE TABLE sqlite_sequence(name,seq)      |\n",
       "| table |      Dragon     |      Dragon     |    2     |               CREATE TABLE Dragon (               |\n",
       "|       |                 |                 |          |                 name TEXT PRIMARY KEY,            |\n",
       "|       |                 |                 |          |           year INTEGER CHECK (year >= 2000),      |\n",
       "|       |                 |                 |          |                      cute INTEGER                 |\n",
       "|       |                 |                 |          |                         )                         |\n",
       "| table |       Dish      |       Dish      |    4     |                CREATE TABLE Dish (                |\n",
       "|       |                 |                 |          |                 name TEXT PRIMARY KEY,            |\n",
       "|       |                 |                 |          |                       type TEXT,                  |\n",
       "|       |                 |                 |          |             cost INTEGER CHECK (cost >= 0)        |\n",
       "|       |                 |                 |          |                         )                         |\n",
       "| table |      Scene      |      Scene      |    6     |                CREATE TABLE Scene (               |\n",
       "|       |                 |                 |          |         id INTEGER PRIMARY KEY AUTOINCREMENT,     |\n",
       "|       |                 |                 |          |                  biome TEXT NOT NULL,             |\n",
       "|       |                 |                 |          |                  city TEXT NOT NULL,              |\n",
       "|       |                 |                 |          |        visitors INTEGER CHECK (visitors >= 0),    |\n",
       "|       |                 |                 |          |     created_at DATETIME DEFAULT (DATETIME('now')) |\n",
       "|       |                 |                 |          |                         )                         |\n",
       "+-------+-----------------+-----------------+----------+---------------------------------------------------+"
      ]
     },
     "execution_count": 4,
     "metadata": {},
     "output_type": "execute_result"
    }
   ],
   "source": [
    "%%sql\n",
    "SELECT * \n",
    "FROM sqlite_master\n",
    "WHERE type=\"table\""
   ]
  },
  {
   "cell_type": "markdown",
   "id": "2dfcd863-2281-4a8d-9600-4e359f7f83e9",
   "metadata": {},
   "source": [
    "The summary above displays information about the database. The database contains four tables, named `sqlite_sequence`, `Dragon`, `Dish`, and `Scene`. The rightmost column above lists the command that was used to construct each table. \n",
    "\n",
    "Let's look more closely at the command used to create the `Dragon` table (the second entry above). \n",
    "\n",
    "    CREATE TABLE Dragon (name TEXT PRIMARY KEY,\n",
    "                         year INTEGER CHECK (year >= 2000),\n",
    "                         cute INTEGER)\n",
    "\n",
    "The statement `CREATE TABLE` is used to specify the **schema** of the table – a description of what logic is used to organize the table. Schema follows a set format:\n",
    "\n",
    "* `ColName`: the name of a column\n",
    "* `DataType`: the type of data to be stored in a column. Some of the most common SQL data types are `INT` (integers), `FLOAT` (floating point numbers), `TEXT` (strings), `BLOB` (arbitrary data, such as audio/video files), and `DATETIME` (a date and time).\n",
    "* `Constraint`: some restriction on the data to be stored in the column. Common constraints are `CHECK` (data must obey a certain condition), `PRIMARY KEY` (designate a column as the table's primary key), `NOT NULL` (data cannot be null), and `DEFAULT` (a default fill value if no specific entry is given).\n",
    "\n",
    "We see that `Dragon` contains three columns. The first of these, `\"name\"`, contains text data. It is designated as the **primary key** of the table; that is, the data contained in `\"name\"` uniquely identifies each entry in the table. Because `\"name\"` is the primary key of the table, no two entries in the table can have the same name – a given value of `\"name\"` is unique to each dragon. The `\"year\"` column contains integer data, with the constraint that year values must be greater than or equal to 2000. The final column, `\"cute\"`, contains integer data with no restrictions on allowable values. \n",
    "\n",
    "We can verify this by viewing `Dragon` itself."
   ]
  },
  {
   "cell_type": "code",
   "execution_count": 5,
   "id": "1df0bbdf-0b60-4d83-9059-11901a8811c3",
   "metadata": {},
   "outputs": [
    {
     "data": {
      "text/html": [
       "<span style=\"None\">Running query in &#x27;sqlite:///data/basic_examples.db&#x27;</span>"
      ],
      "text/plain": [
       "Running query in 'sqlite:///data/basic_examples.db'"
      ]
     },
     "metadata": {},
     "output_type": "display_data"
    },
    {
     "data": {
      "text/html": [
       "<table>\n",
       "    <thead>\n",
       "        <tr>\n",
       "            <th>name</th>\n",
       "            <th>year</th>\n",
       "            <th>cute</th>\n",
       "        </tr>\n",
       "    </thead>\n",
       "    <tbody>\n",
       "        <tr>\n",
       "            <td>hiccup</td>\n",
       "            <td>2010</td>\n",
       "            <td>10</td>\n",
       "        </tr>\n",
       "        <tr>\n",
       "            <td>drogon</td>\n",
       "            <td>2011</td>\n",
       "            <td>-100</td>\n",
       "        </tr>\n",
       "        <tr>\n",
       "            <td>dragon 2</td>\n",
       "            <td>2019</td>\n",
       "            <td>0</td>\n",
       "        </tr>\n",
       "    </tbody>\n",
       "</table>"
      ],
      "text/plain": [
       "+----------+------+------+\n",
       "|   name   | year | cute |\n",
       "+----------+------+------+\n",
       "|  hiccup  | 2010 |  10  |\n",
       "|  drogon  | 2011 | -100 |\n",
       "| dragon 2 | 2019 |  0   |\n",
       "+----------+------+------+"
      ]
     },
     "execution_count": 5,
     "metadata": {},
     "output_type": "execute_result"
    }
   ],
   "source": [
    "%%sql\n",
    "SELECT *\n",
    "FROM Dragon"
   ]
  },
  {
   "cell_type": "markdown",
   "id": "bc222b32-2d4d-4fb1-a9e6-6e239f061a32",
   "metadata": {},
   "source": [
    "Database tables (also referred to as **relations**) are structured much like `DataFrame`s in `pandas`. Each row, sometimes called a **tuple**, represents a single record in the dataset. Each column, sometimes called an **attribute** or **field**, describes some feature of the record. "
   ]
  },
  {
   "cell_type": "markdown",
   "id": "7c748aa2-b23b-47a2-8da4-3f21f41093d5",
   "metadata": {},
   "source": [
    "## `SELECT`ing From Tables\n",
    "\n",
    "To extract and manipulate data stored in a SQL table, we will need to familiarize ourselves with the syntax to write pieces of SQL code, which we call **queries**. \n",
    "\n",
    "The basic unit of a SQL query is the `SELECT` statement. `SELECT` specifies what columns we would like to extract from a given table. We use `FROM` to tell SQL the table from which we want to `SELECT` our data. "
   ]
  },
  {
   "cell_type": "code",
   "execution_count": 6,
   "id": "ead72c6a-c9af-4174-a016-cda994876267",
   "metadata": {},
   "outputs": [
    {
     "data": {
      "text/html": [
       "<span style=\"None\">Running query in &#x27;sqlite:///data/basic_examples.db&#x27;</span>"
      ],
      "text/plain": [
       "Running query in 'sqlite:///data/basic_examples.db'"
      ]
     },
     "metadata": {},
     "output_type": "display_data"
    },
    {
     "data": {
      "text/html": [
       "<table>\n",
       "    <thead>\n",
       "        <tr>\n",
       "            <th>name</th>\n",
       "            <th>year</th>\n",
       "            <th>cute</th>\n",
       "        </tr>\n",
       "    </thead>\n",
       "    <tbody>\n",
       "        <tr>\n",
       "            <td>hiccup</td>\n",
       "            <td>2010</td>\n",
       "            <td>10</td>\n",
       "        </tr>\n",
       "        <tr>\n",
       "            <td>drogon</td>\n",
       "            <td>2011</td>\n",
       "            <td>-100</td>\n",
       "        </tr>\n",
       "        <tr>\n",
       "            <td>dragon 2</td>\n",
       "            <td>2019</td>\n",
       "            <td>0</td>\n",
       "        </tr>\n",
       "    </tbody>\n",
       "</table>"
      ],
      "text/plain": [
       "+----------+------+------+\n",
       "|   name   | year | cute |\n",
       "+----------+------+------+\n",
       "|  hiccup  | 2010 |  10  |\n",
       "|  drogon  | 2011 | -100 |\n",
       "| dragon 2 | 2019 |  0   |\n",
       "+----------+------+------+"
      ]
     },
     "execution_count": 6,
     "metadata": {},
     "output_type": "execute_result"
    }
   ],
   "source": [
    "%%sql\n",
    "SELECT *\n",
    "FROM Dragon"
   ]
  },
  {
   "cell_type": "markdown",
   "id": "4046742f-8c17-490c-ba58-4010588b015c",
   "metadata": {},
   "source": [
    "In SQL, `*` means \"everything.\" The query above grabs *all* the columns in `Dragon` and displays them in the outputted table. We can also specify a specific subset of columns to be `SELECT`ed. Notice that the outputted columns appear in the order that they were `SELECT`ed."
   ]
  },
  {
   "cell_type": "code",
   "execution_count": 7,
   "id": "a73dc27f-56f4-4197-8a1d-090a8da5489a",
   "metadata": {},
   "outputs": [
    {
     "data": {
      "text/html": [
       "<span style=\"None\">Running query in &#x27;sqlite:///data/basic_examples.db&#x27;</span>"
      ],
      "text/plain": [
       "Running query in 'sqlite:///data/basic_examples.db'"
      ]
     },
     "metadata": {},
     "output_type": "display_data"
    },
    {
     "data": {
      "text/html": [
       "<table>\n",
       "    <thead>\n",
       "        <tr>\n",
       "            <th>cute</th>\n",
       "            <th>year</th>\n",
       "        </tr>\n",
       "    </thead>\n",
       "    <tbody>\n",
       "        <tr>\n",
       "            <td>10</td>\n",
       "            <td>2010</td>\n",
       "        </tr>\n",
       "        <tr>\n",
       "            <td>-100</td>\n",
       "            <td>2011</td>\n",
       "        </tr>\n",
       "        <tr>\n",
       "            <td>0</td>\n",
       "            <td>2019</td>\n",
       "        </tr>\n",
       "    </tbody>\n",
       "</table>"
      ],
      "text/plain": [
       "+------+------+\n",
       "| cute | year |\n",
       "+------+------+\n",
       "|  10  | 2010 |\n",
       "| -100 | 2011 |\n",
       "|  0   | 2019 |\n",
       "+------+------+"
      ]
     },
     "execution_count": 7,
     "metadata": {},
     "output_type": "execute_result"
    }
   ],
   "source": [
    "%%sql\n",
    "SELECT cute, year\n",
    "FROM Dragon"
   ]
  },
  {
   "cell_type": "markdown",
   "id": "9014478c-2708-4462-beac-b7a5bec7d3b7",
   "metadata": {},
   "source": [
    "And just like that, we've already written two SQL queries. There are a few points of note in the queries above. Firstly, notice that every \"verb\" is written in uppercase. It is convention to write SQL operations in capital letters, but your code will run just fine even if you choose to keep things in lowercase. Second, the query above separates each statement with a new line. SQL queries are not impacted by whitespace within the query; this means that SQL code is typically written with a new line after each statement to make things more readable. The semicolon (`;`) indicates the end of a query. There are some \"flavors\" of SQL in which a query will not run if no semicolon is present; however, in Data 100, the SQL version we will use works with or without an ending semicolon. Queries in these notes will end with semicolons to build up good habits.\n",
    "\n",
    "The `AS` keyword allows us to give a column a new name (called an **alias**) after it has been `SELECT`ed. The general syntax is:\n",
    "\n",
    "    SELECT column_name_in_database_table AS new_name_in_output_table"
   ]
  },
  {
   "cell_type": "code",
   "execution_count": 8,
   "id": "eca67f0a-f659-402d-8f05-2f1840d706cd",
   "metadata": {},
   "outputs": [
    {
     "data": {
      "text/html": [
       "<span style=\"None\">Running query in &#x27;sqlite:///data/basic_examples.db&#x27;</span>"
      ],
      "text/plain": [
       "Running query in 'sqlite:///data/basic_examples.db'"
      ]
     },
     "metadata": {},
     "output_type": "display_data"
    },
    {
     "data": {
      "text/html": [
       "<table>\n",
       "    <thead>\n",
       "        <tr>\n",
       "            <th>cuteness</th>\n",
       "            <th>birth</th>\n",
       "        </tr>\n",
       "    </thead>\n",
       "    <tbody>\n",
       "        <tr>\n",
       "            <td>10</td>\n",
       "            <td>2010</td>\n",
       "        </tr>\n",
       "        <tr>\n",
       "            <td>-100</td>\n",
       "            <td>2011</td>\n",
       "        </tr>\n",
       "        <tr>\n",
       "            <td>0</td>\n",
       "            <td>2019</td>\n",
       "        </tr>\n",
       "    </tbody>\n",
       "</table>"
      ],
      "text/plain": [
       "+----------+-------+\n",
       "| cuteness | birth |\n",
       "+----------+-------+\n",
       "|    10    |  2010 |\n",
       "|   -100   |  2011 |\n",
       "|    0     |  2019 |\n",
       "+----------+-------+"
      ]
     },
     "execution_count": 8,
     "metadata": {},
     "output_type": "execute_result"
    }
   ],
   "source": [
    "%%sql\n",
    "SELECT cute AS cuteness, year AS birth\n",
    "FROM Dragon"
   ]
  },
  {
   "cell_type": "markdown",
   "id": "d7b0e322-1f69-44e1-90b9-8fc5e1ba6f03",
   "metadata": {},
   "source": [
    "To `SELECT` only the *unique* values in a column, we use the `DISTINCT` keyword. This will cause any any duplicate entries in a column to be removed. If we want to find only the unique years in `Dragon`, without any repeats, we would write:"
   ]
  },
  {
   "cell_type": "code",
   "execution_count": 9,
   "id": "e7bee31d-c2a9-497f-9869-7b7e7c1b91d0",
   "metadata": {},
   "outputs": [
    {
     "data": {
      "text/html": [
       "<span style=\"None\">Running query in &#x27;sqlite:///data/basic_examples.db&#x27;</span>"
      ],
      "text/plain": [
       "Running query in 'sqlite:///data/basic_examples.db'"
      ]
     },
     "metadata": {},
     "output_type": "display_data"
    },
    {
     "data": {
      "text/html": [
       "<table>\n",
       "    <thead>\n",
       "        <tr>\n",
       "            <th>year</th>\n",
       "        </tr>\n",
       "    </thead>\n",
       "    <tbody>\n",
       "        <tr>\n",
       "            <td>2010</td>\n",
       "        </tr>\n",
       "        <tr>\n",
       "            <td>2011</td>\n",
       "        </tr>\n",
       "        <tr>\n",
       "            <td>2019</td>\n",
       "        </tr>\n",
       "    </tbody>\n",
       "</table>"
      ],
      "text/plain": [
       "+------+\n",
       "| year |\n",
       "+------+\n",
       "| 2010 |\n",
       "| 2011 |\n",
       "| 2019 |\n",
       "+------+"
      ]
     },
     "execution_count": 9,
     "metadata": {},
     "output_type": "execute_result"
    }
   ],
   "source": [
    "%%sql\n",
    "SELECT DISTINCT year\n",
    "FROM Dragon"
   ]
  },
  {
   "cell_type": "markdown",
   "id": "10276886-26fc-460f-9aaf-7129ab9987c6",
   "metadata": {},
   "source": [
    "**Every** SQL query must include both a `SELECT` and `FROM` statement. Intuitively, this makes sense – we know that we'll want to extract some piece of information from the table; to do so, we also need to indicate what table we want to consider. \n",
    "\n",
    "It is important to note that SQL enforces a strict \"order of operations\" – SQL clauses must *always* follow the same sequence. For example, the `SELECT` statement must always precede `FROM`. This means that any SQL query will follow the same structure. \n",
    "\n",
    "    SELECT <column list>\n",
    "    FROM <table>\n",
    "    [additional clauses]\n",
    "    \n",
    "The additional clauses that we use depend on the specific task trying to be achieved. We may refine our query to filter on a certain condition, aggregate a particular column, or join several tables together. We will spend the rest of this lecture outlining some useful clauses to build up our understanding of the order of operations."
   ]
  },
  {
   "cell_type": "markdown",
   "id": "9ae93ee8-2fa9-4637-a063-267e4d4ae0af",
   "metadata": {},
   "source": [
    "## Applying `WHERE` Conditions\n",
    "\n",
    "The `WHERE` keyword is used to select only some rows of a table, filtered on a given Boolean condition. "
   ]
  },
  {
   "cell_type": "code",
   "execution_count": 10,
   "id": "373cca35-7780-48d7-acae-dcdb404c7920",
   "metadata": {},
   "outputs": [
    {
     "data": {
      "text/html": [
       "<span style=\"None\">Running query in &#x27;sqlite:///data/basic_examples.db&#x27;</span>"
      ],
      "text/plain": [
       "Running query in 'sqlite:///data/basic_examples.db'"
      ]
     },
     "metadata": {},
     "output_type": "display_data"
    },
    {
     "data": {
      "text/html": [
       "<table>\n",
       "    <thead>\n",
       "        <tr>\n",
       "            <th>name</th>\n",
       "            <th>year</th>\n",
       "        </tr>\n",
       "    </thead>\n",
       "    <tbody>\n",
       "        <tr>\n",
       "            <td>hiccup</td>\n",
       "            <td>2010</td>\n",
       "        </tr>\n",
       "    </tbody>\n",
       "</table>"
      ],
      "text/plain": [
       "+--------+------+\n",
       "|  name  | year |\n",
       "+--------+------+\n",
       "| hiccup | 2010 |\n",
       "+--------+------+"
      ]
     },
     "execution_count": 10,
     "metadata": {},
     "output_type": "execute_result"
    }
   ],
   "source": [
    "%%sql\n",
    "SELECT name, year\n",
    "FROM Dragon\n",
    "WHERE cute > 0"
   ]
  },
  {
   "cell_type": "markdown",
   "id": "ac0128e6-ee86-4a0d-9d3e-797a7c9d000d",
   "metadata": {},
   "source": [
    "We can add complexity to the `WHERE` condition using the keywords `AND`, `OR`, and `NOT`, much like we would in Python."
   ]
  },
  {
   "cell_type": "code",
   "execution_count": 11,
   "id": "e5192b2c-15fa-41ae-8d5d-3c5331cc6f9c",
   "metadata": {},
   "outputs": [
    {
     "data": {
      "text/html": [
       "<span style=\"None\">Running query in &#x27;sqlite:///data/basic_examples.db&#x27;</span>"
      ],
      "text/plain": [
       "Running query in 'sqlite:///data/basic_examples.db'"
      ]
     },
     "metadata": {},
     "output_type": "display_data"
    },
    {
     "data": {
      "text/html": [
       "<table>\n",
       "    <thead>\n",
       "        <tr>\n",
       "            <th>name</th>\n",
       "            <th>year</th>\n",
       "        </tr>\n",
       "    </thead>\n",
       "    <tbody>\n",
       "        <tr>\n",
       "            <td>hiccup</td>\n",
       "            <td>2010</td>\n",
       "        </tr>\n",
       "        <tr>\n",
       "            <td>dragon 2</td>\n",
       "            <td>2019</td>\n",
       "        </tr>\n",
       "    </tbody>\n",
       "</table>"
      ],
      "text/plain": [
       "+----------+------+\n",
       "|   name   | year |\n",
       "+----------+------+\n",
       "|  hiccup  | 2010 |\n",
       "| dragon 2 | 2019 |\n",
       "+----------+------+"
      ]
     },
     "execution_count": 11,
     "metadata": {},
     "output_type": "execute_result"
    }
   ],
   "source": [
    "%%sql\n",
    "SELECT name, year\n",
    "FROM Dragon\n",
    "WHERE cute > 0 OR year > 2013"
   ]
  },
  {
   "cell_type": "markdown",
   "id": "03411727-876e-43f5-becc-c93044a2c0d2",
   "metadata": {},
   "source": [
    "\n",
    "To spare ourselves needing to write complicated logical expressions by combining several conditions, we can also filter for entries that are `IN` a specified list of values. This is similar to the use of `in` or `.isin` in Python."
   ]
  },
  {
   "cell_type": "code",
   "execution_count": 12,
   "id": "a02ae7ec-b8ae-467f-a928-620c0dfb8584",
   "metadata": {},
   "outputs": [
    {
     "data": {
      "text/html": [
       "<span style=\"None\">Running query in &#x27;sqlite:///data/basic_examples.db&#x27;</span>"
      ],
      "text/plain": [
       "Running query in 'sqlite:///data/basic_examples.db'"
      ]
     },
     "metadata": {},
     "output_type": "display_data"
    },
    {
     "data": {
      "text/html": [
       "<table>\n",
       "    <thead>\n",
       "        <tr>\n",
       "            <th>name</th>\n",
       "            <th>year</th>\n",
       "        </tr>\n",
       "    </thead>\n",
       "    <tbody>\n",
       "        <tr>\n",
       "            <td>hiccup</td>\n",
       "            <td>2010</td>\n",
       "        </tr>\n",
       "    </tbody>\n",
       "</table>"
      ],
      "text/plain": [
       "+--------+------+\n",
       "|  name  | year |\n",
       "+--------+------+\n",
       "| hiccup | 2010 |\n",
       "+--------+------+"
      ]
     },
     "execution_count": 12,
     "metadata": {},
     "output_type": "execute_result"
    }
   ],
   "source": [
    "%%sql\n",
    "SELECT name, year\n",
    "FROM Dragon\n",
    "WHERE name IN (\"hiccup\", \"puff\")"
   ]
  },
  {
   "cell_type": "markdown",
   "id": "2ef1d242-1715-4f5b-b286-74343dc3d9fc",
   "metadata": {},
   "source": [
    "You may have noticed earlier that our table actually has a missing value. In SQL, missing data is given the special value `NULL`. `NULL` behaves in a fundamentally different way to other data types. We can't use the typical operators (=, >, and <) on `NULL` values (in fact, `NULL == NULL` returns `False`!); instead, we check to see if a value `IS` or `IS NOT` `NULL`."
   ]
  },
  {
   "cell_type": "code",
   "execution_count": 14,
   "id": "b458405b-b143-4d6f-a06f-016ef0546877",
   "metadata": {},
   "outputs": [
    {
     "data": {
      "text/html": [
       "<span style=\"None\">Running query in &#x27;sqlite:///data/basic_examples.db&#x27;</span>"
      ],
      "text/plain": [
       "Running query in 'sqlite:///data/basic_examples.db'"
      ]
     },
     "metadata": {},
     "output_type": "display_data"
    },
    {
     "data": {
      "text/html": [
       "<table>\n",
       "    <thead>\n",
       "        <tr>\n",
       "            <th>name</th>\n",
       "            <th>year</th>\n",
       "            <th>cute</th>\n",
       "        </tr>\n",
       "    </thead>\n",
       "    <tbody>\n",
       "        <tr>\n",
       "            <td>hiccup</td>\n",
       "            <td>2010</td>\n",
       "            <td>10</td>\n",
       "        </tr>\n",
       "        <tr>\n",
       "            <td>drogon</td>\n",
       "            <td>2011</td>\n",
       "            <td>-100</td>\n",
       "        </tr>\n",
       "        <tr>\n",
       "            <td>dragon 2</td>\n",
       "            <td>2019</td>\n",
       "            <td>0</td>\n",
       "        </tr>\n",
       "    </tbody>\n",
       "</table>"
      ],
      "text/plain": [
       "+----------+------+------+\n",
       "|   name   | year | cute |\n",
       "+----------+------+------+\n",
       "|  hiccup  | 2010 |  10  |\n",
       "|  drogon  | 2011 | -100 |\n",
       "| dragon 2 | 2019 |  0   |\n",
       "+----------+------+------+"
      ]
     },
     "execution_count": 14,
     "metadata": {},
     "output_type": "execute_result"
    }
   ],
   "source": [
    "%%sql\n",
    "SELECT *\n",
    "FROM Dragon\n",
    "WHERE cute IS NOT NULL"
   ]
  },
  {
   "cell_type": "markdown",
   "id": "3188cd32-e373-4f49-b75a-2668224a679a",
   "metadata": {},
   "source": [
    "## Sorting and Restricting Output\n",
    "    \n",
    "What if we want the output table to appear in a certain order? The `ORDER BY` keyword behaves similarly to `.sort_values()` in `pandas`. "
   ]
  },
  {
   "cell_type": "code",
   "execution_count": 15,
   "id": "61463f74-8007-4f82-bb92-b370fd6d9239",
   "metadata": {},
   "outputs": [
    {
     "data": {
      "text/html": [
       "<span style=\"None\">Running query in &#x27;sqlite:///data/basic_examples.db&#x27;</span>"
      ],
      "text/plain": [
       "Running query in 'sqlite:///data/basic_examples.db'"
      ]
     },
     "metadata": {},
     "output_type": "display_data"
    },
    {
     "data": {
      "text/html": [
       "<table>\n",
       "    <thead>\n",
       "        <tr>\n",
       "            <th>name</th>\n",
       "            <th>year</th>\n",
       "            <th>cute</th>\n",
       "        </tr>\n",
       "    </thead>\n",
       "    <tbody>\n",
       "        <tr>\n",
       "            <td>drogon</td>\n",
       "            <td>2011</td>\n",
       "            <td>-100</td>\n",
       "        </tr>\n",
       "        <tr>\n",
       "            <td>dragon 2</td>\n",
       "            <td>2019</td>\n",
       "            <td>0</td>\n",
       "        </tr>\n",
       "        <tr>\n",
       "            <td>hiccup</td>\n",
       "            <td>2010</td>\n",
       "            <td>10</td>\n",
       "        </tr>\n",
       "    </tbody>\n",
       "</table>"
      ],
      "text/plain": [
       "+----------+------+------+\n",
       "|   name   | year | cute |\n",
       "+----------+------+------+\n",
       "|  drogon  | 2011 | -100 |\n",
       "| dragon 2 | 2019 |  0   |\n",
       "|  hiccup  | 2010 |  10  |\n",
       "+----------+------+------+"
      ]
     },
     "execution_count": 15,
     "metadata": {},
     "output_type": "execute_result"
    }
   ],
   "source": [
    "%%sql\n",
    "SELECT *\n",
    "FROM Dragon\n",
    "ORDER BY cute"
   ]
  },
  {
   "cell_type": "markdown",
   "id": "9d3c2f2e-b58b-4d3f-8065-845c19920dba",
   "metadata": {},
   "source": [
    "By default, `ORDER BY` will display results in ascending order (with the lowest values at the top of the table). To sort in descending order, we use the `DESC` keyword after specifying the column to be used for ordering."
   ]
  },
  {
   "cell_type": "code",
   "execution_count": 16,
   "id": "d4eb2064-947f-472b-b07c-e7e9fb51f19b",
   "metadata": {},
   "outputs": [
    {
     "data": {
      "text/html": [
       "<span style=\"None\">Running query in &#x27;sqlite:///data/basic_examples.db&#x27;</span>"
      ],
      "text/plain": [
       "Running query in 'sqlite:///data/basic_examples.db'"
      ]
     },
     "metadata": {},
     "output_type": "display_data"
    },
    {
     "data": {
      "text/html": [
       "<table>\n",
       "    <thead>\n",
       "        <tr>\n",
       "            <th>name</th>\n",
       "            <th>year</th>\n",
       "            <th>cute</th>\n",
       "        </tr>\n",
       "    </thead>\n",
       "    <tbody>\n",
       "        <tr>\n",
       "            <td>hiccup</td>\n",
       "            <td>2010</td>\n",
       "            <td>10</td>\n",
       "        </tr>\n",
       "        <tr>\n",
       "            <td>dragon 2</td>\n",
       "            <td>2019</td>\n",
       "            <td>0</td>\n",
       "        </tr>\n",
       "        <tr>\n",
       "            <td>drogon</td>\n",
       "            <td>2011</td>\n",
       "            <td>-100</td>\n",
       "        </tr>\n",
       "    </tbody>\n",
       "</table>"
      ],
      "text/plain": [
       "+----------+------+------+\n",
       "|   name   | year | cute |\n",
       "+----------+------+------+\n",
       "|  hiccup  | 2010 |  10  |\n",
       "| dragon 2 | 2019 |  0   |\n",
       "|  drogon  | 2011 | -100 |\n",
       "+----------+------+------+"
      ]
     },
     "execution_count": 16,
     "metadata": {},
     "output_type": "execute_result"
    }
   ],
   "source": [
    "%%sql\n",
    "SELECT *\n",
    "FROM Dragon\n",
    "ORDER BY cute DESC"
   ]
  },
  {
   "cell_type": "markdown",
   "id": "67ea952f-4747-47d2-a19f-51158bc19627",
   "metadata": {},
   "source": [
    "We can also tell SQL to `ORDER BY` two columns at once. This will sort the table by the first listed column, then use the values in the second listed column to break any ties."
   ]
  },
  {
   "cell_type": "code",
   "execution_count": 17,
   "id": "78fdcb8d-05d3-4b29-a9be-9c13c6bb8c9b",
   "metadata": {},
   "outputs": [
    {
     "data": {
      "text/html": [
       "<span style=\"None\">Running query in &#x27;sqlite:///data/basic_examples.db&#x27;</span>"
      ],
      "text/plain": [
       "Running query in 'sqlite:///data/basic_examples.db'"
      ]
     },
     "metadata": {},
     "output_type": "display_data"
    },
    {
     "data": {
      "text/html": [
       "<table>\n",
       "    <thead>\n",
       "        <tr>\n",
       "            <th>name</th>\n",
       "            <th>year</th>\n",
       "            <th>cute</th>\n",
       "        </tr>\n",
       "    </thead>\n",
       "    <tbody>\n",
       "        <tr>\n",
       "            <td>dragon 2</td>\n",
       "            <td>2019</td>\n",
       "            <td>0</td>\n",
       "        </tr>\n",
       "        <tr>\n",
       "            <td>drogon</td>\n",
       "            <td>2011</td>\n",
       "            <td>-100</td>\n",
       "        </tr>\n",
       "        <tr>\n",
       "            <td>hiccup</td>\n",
       "            <td>2010</td>\n",
       "            <td>10</td>\n",
       "        </tr>\n",
       "    </tbody>\n",
       "</table>"
      ],
      "text/plain": [
       "+----------+------+------+\n",
       "|   name   | year | cute |\n",
       "+----------+------+------+\n",
       "| dragon 2 | 2019 |  0   |\n",
       "|  drogon  | 2011 | -100 |\n",
       "|  hiccup  | 2010 |  10  |\n",
       "+----------+------+------+"
      ]
     },
     "execution_count": 17,
     "metadata": {},
     "output_type": "execute_result"
    }
   ],
   "source": [
    "%%sql\n",
    "SELECT *\n",
    "FROM Dragon\n",
    "ORDER BY name, cute"
   ]
  },
  {
   "cell_type": "markdown",
   "id": "35ab3296-73a2-48ef-a9a6-b695785c0b92",
   "metadata": {},
   "source": [
    "In many instances, we are only concerned with a certain number of rows in the output table (for example, wanting to find the first two dragons in the table). The `LIMIT` keyword restricts the output to a specified number of rows. It serves a function similar to that of `.head()` in `pandas`."
   ]
  },
  {
   "cell_type": "code",
   "execution_count": 18,
   "id": "d07766cb-57c0-4d73-8555-fea0058d1f01",
   "metadata": {},
   "outputs": [
    {
     "data": {
      "text/html": [
       "<span style=\"None\">Running query in &#x27;sqlite:///data/basic_examples.db&#x27;</span>"
      ],
      "text/plain": [
       "Running query in 'sqlite:///data/basic_examples.db'"
      ]
     },
     "metadata": {},
     "output_type": "display_data"
    },
    {
     "data": {
      "text/html": [
       "<table>\n",
       "    <thead>\n",
       "        <tr>\n",
       "            <th>name</th>\n",
       "            <th>year</th>\n",
       "            <th>cute</th>\n",
       "        </tr>\n",
       "    </thead>\n",
       "    <tbody>\n",
       "        <tr>\n",
       "            <td>hiccup</td>\n",
       "            <td>2010</td>\n",
       "            <td>10</td>\n",
       "        </tr>\n",
       "        <tr>\n",
       "            <td>drogon</td>\n",
       "            <td>2011</td>\n",
       "            <td>-100</td>\n",
       "        </tr>\n",
       "    </tbody>\n",
       "</table>"
      ],
      "text/plain": [
       "+--------+------+------+\n",
       "|  name  | year | cute |\n",
       "+--------+------+------+\n",
       "| hiccup | 2010 |  10  |\n",
       "| drogon | 2011 | -100 |\n",
       "+--------+------+------+"
      ]
     },
     "execution_count": 18,
     "metadata": {},
     "output_type": "execute_result"
    }
   ],
   "source": [
    "%%sql\n",
    "SELECT *\n",
    "FROM Dragon\n",
    "LIMIT 2"
   ]
  },
  {
   "cell_type": "markdown",
   "id": "41185b71-9b24-4d03-8040-817db969eb98",
   "metadata": {},
   "source": [
    "The `OFFSET` keyword indicates the index at which `LIMIT` should start. In other words, we can use `OFFSET` to shift where the `LIMIT`ing begins by a specified number of rows. For example, we might care about the dragons that are at positions #2 and #3 in the table. "
   ]
  },
  {
   "cell_type": "code",
   "execution_count": 19,
   "id": "499ae2ff-b7a7-4978-a97c-31ab1c240b00",
   "metadata": {},
   "outputs": [
    {
     "data": {
      "text/html": [
       "<span style=\"None\">Running query in &#x27;sqlite:///data/basic_examples.db&#x27;</span>"
      ],
      "text/plain": [
       "Running query in 'sqlite:///data/basic_examples.db'"
      ]
     },
     "metadata": {},
     "output_type": "display_data"
    },
    {
     "data": {
      "text/html": [
       "<table>\n",
       "    <thead>\n",
       "        <tr>\n",
       "            <th>name</th>\n",
       "            <th>year</th>\n",
       "            <th>cute</th>\n",
       "        </tr>\n",
       "    </thead>\n",
       "    <tbody>\n",
       "        <tr>\n",
       "            <td>drogon</td>\n",
       "            <td>2011</td>\n",
       "            <td>-100</td>\n",
       "        </tr>\n",
       "        <tr>\n",
       "            <td>dragon 2</td>\n",
       "            <td>2019</td>\n",
       "            <td>0</td>\n",
       "        </tr>\n",
       "    </tbody>\n",
       "</table>"
      ],
      "text/plain": [
       "+----------+------+------+\n",
       "|   name   | year | cute |\n",
       "+----------+------+------+\n",
       "|  drogon  | 2011 | -100 |\n",
       "| dragon 2 | 2019 |  0   |\n",
       "+----------+------+------+"
      ]
     },
     "execution_count": 19,
     "metadata": {},
     "output_type": "execute_result"
    }
   ],
   "source": [
    "%%sql\n",
    "SELECT *\n",
    "FROM Dragon\n",
    "LIMIT 2\n",
    "OFFSET 1"
   ]
  },
  {
   "cell_type": "markdown",
   "id": "ee0f23e1-9ce1-4a17-aaf1-aa21acb9a700",
   "metadata": {},
   "source": [
    "Let's summarize what we've learned so far. We know that `SELECT` and `FROM` are the fundamental building blocks of any SQL query. We can augment these two keywords with additional clauses to refine the data in our output table. \n",
    "\n",
    "Any clauses that we include must follow a strict ordering within the query:\n",
    "\n",
    "    SELECT <column list>\n",
    "    FROM <table>\n",
    "    [WHERE <predicate>]\n",
    "    [ORDER BY <column list>]\n",
    "    [LIMIT <number of rows>]\n",
    "    [OFFSET <number of rows>]\n",
    "    \n",
    "Here, any clause contained in square brackets `[ ]` is optional – we only need to use the keyword if it is relevant to the table operation we want to perform. Also note that by convention, we use all caps for keywords in SQL statements and use newlines to make code more readable."
   ]
  },
  {
   "cell_type": "markdown",
   "id": "f11c52e0-aaf1-44bb-931a-9108d1c1008e",
   "metadata": {},
   "source": [
    "## Aggregating with `GROUP BY`\n",
    "\n",
    "At this point, we've seen that SQL offers much of the same functionality that was given to us by `pandas`. We can extract data from a table, filter it, and reorder it to suit our needs.\n",
    "\n",
    "In `pandas`, much of our analysis work relied heavily on being able to use `.groupby()` to aggregate across the rows of our dataset. SQL's answer to this task is the (very conveniently named) `GROUP BY` clause. While the outputs of `GROUP BY` are similar to those of `.groupby()` – in both cases, we obtain an output table where some column has been used for grouping – the syntax and logic used to group data in SQL are fairly different to the `pandas` implementation.\n",
    "\n",
    "To illustrate `GROUP BY`, we will consider the `Dish` table from the `basic_examples.db` database."
   ]
  },
  {
   "cell_type": "code",
   "execution_count": 20,
   "id": "5668221d-3e85-4b21-8cfc-301663dcb05f",
   "metadata": {},
   "outputs": [
    {
     "data": {
      "text/html": [
       "<span style=\"None\">Running query in &#x27;sqlite:///data/basic_examples.db&#x27;</span>"
      ],
      "text/plain": [
       "Running query in 'sqlite:///data/basic_examples.db'"
      ]
     },
     "metadata": {},
     "output_type": "display_data"
    },
    {
     "data": {
      "text/html": [
       "<table>\n",
       "    <thead>\n",
       "        <tr>\n",
       "            <th>name</th>\n",
       "            <th>type</th>\n",
       "            <th>cost</th>\n",
       "        </tr>\n",
       "    </thead>\n",
       "    <tbody>\n",
       "        <tr>\n",
       "            <td>ravioli</td>\n",
       "            <td>entree</td>\n",
       "            <td>10</td>\n",
       "        </tr>\n",
       "        <tr>\n",
       "            <td>ramen</td>\n",
       "            <td>entree</td>\n",
       "            <td>13</td>\n",
       "        </tr>\n",
       "        <tr>\n",
       "            <td>taco</td>\n",
       "            <td>entree</td>\n",
       "            <td>7</td>\n",
       "        </tr>\n",
       "        <tr>\n",
       "            <td>edamame</td>\n",
       "            <td>appetizer</td>\n",
       "            <td>4</td>\n",
       "        </tr>\n",
       "        <tr>\n",
       "            <td>fries</td>\n",
       "            <td>appetizer</td>\n",
       "            <td>4</td>\n",
       "        </tr>\n",
       "        <tr>\n",
       "            <td>potsticker</td>\n",
       "            <td>appetizer</td>\n",
       "            <td>4</td>\n",
       "        </tr>\n",
       "        <tr>\n",
       "            <td>ice cream</td>\n",
       "            <td>dessert</td>\n",
       "            <td>5</td>\n",
       "        </tr>\n",
       "    </tbody>\n",
       "</table>"
      ],
      "text/plain": [
       "+------------+-----------+------+\n",
       "|    name    |    type   | cost |\n",
       "+------------+-----------+------+\n",
       "|  ravioli   |   entree  |  10  |\n",
       "|   ramen    |   entree  |  13  |\n",
       "|    taco    |   entree  |  7   |\n",
       "|  edamame   | appetizer |  4   |\n",
       "|   fries    | appetizer |  4   |\n",
       "| potsticker | appetizer |  4   |\n",
       "| ice cream  |  dessert  |  5   |\n",
       "+------------+-----------+------+"
      ]
     },
     "execution_count": 20,
     "metadata": {},
     "output_type": "execute_result"
    }
   ],
   "source": [
    "%%sql\n",
    "SELECT * \n",
    "FROM Dish"
   ]
  },
  {
   "cell_type": "markdown",
   "id": "95a304cb-24f2-42a7-8e0c-db2d59d54916",
   "metadata": {},
   "source": [
    "Say we wanted to find the total costs of dishes of a certain `type`. To accomplish this, we would write the following code."
   ]
  },
  {
   "cell_type": "code",
   "execution_count": 21,
   "id": "97e86c2b-36a1-4e45-986c-00171f3281d5",
   "metadata": {},
   "outputs": [
    {
     "data": {
      "text/html": [
       "<span style=\"None\">Running query in &#x27;sqlite:///data/basic_examples.db&#x27;</span>"
      ],
      "text/plain": [
       "Running query in 'sqlite:///data/basic_examples.db'"
      ]
     },
     "metadata": {},
     "output_type": "display_data"
    },
    {
     "data": {
      "text/html": [
       "<table>\n",
       "    <thead>\n",
       "        <tr>\n",
       "            <th>type</th>\n",
       "            <th>SUM(cost)</th>\n",
       "        </tr>\n",
       "    </thead>\n",
       "    <tbody>\n",
       "        <tr>\n",
       "            <td>appetizer</td>\n",
       "            <td>12</td>\n",
       "        </tr>\n",
       "        <tr>\n",
       "            <td>dessert</td>\n",
       "            <td>5</td>\n",
       "        </tr>\n",
       "        <tr>\n",
       "            <td>entree</td>\n",
       "            <td>30</td>\n",
       "        </tr>\n",
       "    </tbody>\n",
       "</table>"
      ],
      "text/plain": [
       "+-----------+-----------+\n",
       "|    type   | SUM(cost) |\n",
       "+-----------+-----------+\n",
       "| appetizer |     12    |\n",
       "|  dessert  |     5     |\n",
       "|   entree  |     30    |\n",
       "+-----------+-----------+"
      ]
     },
     "execution_count": 21,
     "metadata": {},
     "output_type": "execute_result"
    }
   ],
   "source": [
    "%%sql\n",
    "SELECT type, SUM(cost)\n",
    "FROM Dish\n",
    "GROUP BY type"
   ]
  },
  {
   "cell_type": "markdown",
   "id": "b2410513-7303-4c55-a711-37f41924873b",
   "metadata": {},
   "source": [
    "What is going on here? The statement `GROUP BY type` tells SQL to group the data based on the value contained in the `type` column (whether a record is an appetizer, entree, or dessert). `SUM(cost)` sums up the costs of dishes in each `type` and displays the result in the output table.\n",
    "\n",
    "You may be wondering: why does `SUM(cost)` come before the command to `GROUP BY type`? Don't we need to form groups before we can count the number of entries in each?\n",
    "\n",
    "Remember that SQL is a *declarative* programming language – a SQL programmer simply states what end result they would like to see, and leaves the task of figuring out *how* to obtain this result to SQL itself. This means that SQL queries sometimes don't follow what a reader sees as a \"logical\" sequence of thought. Instead, SQL requires that we follow its set order of operations when constructing queries. So long as we follow this ordering, SQL will handle the underlying logic.\n",
    "\n",
    "In practical terms: our goal with this query was to output the total `cost`s of each `type`. To communicate this to SQL, we say that we want to `SELECT` the `SUM`med `cost` values for each `type` group. \n",
    "\n",
    "There are many aggregation functions that can be used to aggregate the data contained in each group. Some common examples are:\n",
    "\n",
    "* `COUNT`: count the number of rows associated with each group\n",
    "* `MIN`: find the minimum value of each group\n",
    "* `MAX`: find the maximum value of each group\n",
    "* `SUM`: sum across all records in each group\n",
    "* `AVG`: find the average value of each group\n",
    "\n",
    "We can easily compute multiple aggregations, all at once (a task that was very tricky in `pandas`)."
   ]
  },
  {
   "cell_type": "code",
   "execution_count": 22,
   "id": "d42cb807-86cb-4e94-aba8-c5bf8f50e582",
   "metadata": {},
   "outputs": [
    {
     "data": {
      "text/html": [
       "<span style=\"None\">Running query in &#x27;sqlite:///data/basic_examples.db&#x27;</span>"
      ],
      "text/plain": [
       "Running query in 'sqlite:///data/basic_examples.db'"
      ]
     },
     "metadata": {},
     "output_type": "display_data"
    },
    {
     "data": {
      "text/html": [
       "<table>\n",
       "    <thead>\n",
       "        <tr>\n",
       "            <th>type</th>\n",
       "            <th>SUM(cost)</th>\n",
       "            <th>MIN(cost)</th>\n",
       "            <th>MAX(name)</th>\n",
       "        </tr>\n",
       "    </thead>\n",
       "    <tbody>\n",
       "        <tr>\n",
       "            <td>appetizer</td>\n",
       "            <td>12</td>\n",
       "            <td>4</td>\n",
       "            <td>potsticker</td>\n",
       "        </tr>\n",
       "        <tr>\n",
       "            <td>dessert</td>\n",
       "            <td>5</td>\n",
       "            <td>5</td>\n",
       "            <td>ice cream</td>\n",
       "        </tr>\n",
       "        <tr>\n",
       "            <td>entree</td>\n",
       "            <td>30</td>\n",
       "            <td>7</td>\n",
       "            <td>taco</td>\n",
       "        </tr>\n",
       "    </tbody>\n",
       "</table>"
      ],
      "text/plain": [
       "+-----------+-----------+-----------+------------+\n",
       "|    type   | SUM(cost) | MIN(cost) | MAX(name)  |\n",
       "+-----------+-----------+-----------+------------+\n",
       "| appetizer |     12    |     4     | potsticker |\n",
       "|  dessert  |     5     |     5     | ice cream  |\n",
       "|   entree  |     30    |     7     |    taco    |\n",
       "+-----------+-----------+-----------+------------+"
      ]
     },
     "execution_count": 22,
     "metadata": {},
     "output_type": "execute_result"
    }
   ],
   "source": [
    "%%sql\n",
    "SELECT type, SUM(cost), MIN(cost), MAX(name)\n",
    "FROM Dish\n",
    "GROUP BY type"
   ]
  },
  {
   "cell_type": "markdown",
   "id": "5ea3a225-296f-4257-ab45-b5bf9caa9bb9",
   "metadata": {},
   "source": [
    "To count the number of rows associated with each group, we use the `COUNT` keyword. Calling `COUNT(*)` will compute the total number of rows in each group, including rows with null values. Its `pandas` equivalent is `.groupby().size()`."
   ]
  },
  {
   "cell_type": "code",
   "execution_count": 23,
   "id": "09aa6139-105b-4dee-9d90-58e81ae5894e",
   "metadata": {},
   "outputs": [
    {
     "data": {
      "text/html": [
       "<span style=\"None\">Running query in &#x27;sqlite:///data/basic_examples.db&#x27;</span>"
      ],
      "text/plain": [
       "Running query in 'sqlite:///data/basic_examples.db'"
      ]
     },
     "metadata": {},
     "output_type": "display_data"
    },
    {
     "data": {
      "text/html": [
       "<table>\n",
       "    <thead>\n",
       "        <tr>\n",
       "            <th>type</th>\n",
       "            <th>COUNT(*)</th>\n",
       "        </tr>\n",
       "    </thead>\n",
       "    <tbody>\n",
       "        <tr>\n",
       "            <td>appetizer</td>\n",
       "            <td>3</td>\n",
       "        </tr>\n",
       "        <tr>\n",
       "            <td>dessert</td>\n",
       "            <td>1</td>\n",
       "        </tr>\n",
       "        <tr>\n",
       "            <td>entree</td>\n",
       "            <td>3</td>\n",
       "        </tr>\n",
       "    </tbody>\n",
       "</table>"
      ],
      "text/plain": [
       "+-----------+----------+\n",
       "|    type   | COUNT(*) |\n",
       "+-----------+----------+\n",
       "| appetizer |    3     |\n",
       "|  dessert  |    1     |\n",
       "|   entree  |    3     |\n",
       "+-----------+----------+"
      ]
     },
     "execution_count": 23,
     "metadata": {},
     "output_type": "execute_result"
    }
   ],
   "source": [
    "%%sql\n",
    "SELECT type, COUNT(*)\n",
    "FROM Dish\n",
    "GROUP BY type"
   ]
  },
  {
   "cell_type": "markdown",
   "id": "d04d8c31-8685-4a42-a08e-14ef39a174be",
   "metadata": {},
   "source": [
    "To exclude `NULL` values when counting the rows in each group, we explicitly call `COUNT` on a column in the table. This is similar to calling `.groupby().count()` in `pandas`."
   ]
  },
  {
   "cell_type": "code",
   "execution_count": 24,
   "id": "762a9a6d-3c46-48e6-835d-38ccff904fd4",
   "metadata": {},
   "outputs": [
    {
     "data": {
      "text/html": [
       "<span style=\"None\">Running query in &#x27;sqlite:///data/basic_examples.db&#x27;</span>"
      ],
      "text/plain": [
       "Running query in 'sqlite:///data/basic_examples.db'"
      ]
     },
     "metadata": {},
     "output_type": "display_data"
    },
    {
     "data": {
      "text/html": [
       "<table>\n",
       "    <thead>\n",
       "        <tr>\n",
       "            <th>year</th>\n",
       "            <th>COUNT(cute)</th>\n",
       "        </tr>\n",
       "    </thead>\n",
       "    <tbody>\n",
       "        <tr>\n",
       "            <td>2010</td>\n",
       "            <td>1</td>\n",
       "        </tr>\n",
       "        <tr>\n",
       "            <td>2011</td>\n",
       "            <td>1</td>\n",
       "        </tr>\n",
       "        <tr>\n",
       "            <td>2019</td>\n",
       "            <td>1</td>\n",
       "        </tr>\n",
       "    </tbody>\n",
       "</table>"
      ],
      "text/plain": [
       "+------+-------------+\n",
       "| year | COUNT(cute) |\n",
       "+------+-------------+\n",
       "| 2010 |      1      |\n",
       "| 2011 |      1      |\n",
       "| 2019 |      1      |\n",
       "+------+-------------+"
      ]
     },
     "execution_count": 24,
     "metadata": {},
     "output_type": "execute_result"
    }
   ],
   "source": [
    "%%sql\n",
    "SELECT year, COUNT(cute)\n",
    "FROM Dragon\n",
    "GROUP BY year"
   ]
  },
  {
   "cell_type": "markdown",
   "id": "359c9f4b-2c64-43f3-9e4b-d6cc4bdcb015",
   "metadata": {},
   "source": [
    "With this definition of `GROUP BY` in hand, let's update our SQL order of operations. Remember: *every* SQL query must list clauses in this order. \n",
    "\n",
    "    SELECT <column expression list>\n",
    "    FROM <table>\n",
    "    [WHERE <predicate>]\n",
    "    [GROUP BY <column list>]\n",
    "    [ORDER BY <column list>]\n",
    "    [LIMIT <number of rows>]\n",
    "    [OFFSET <number of rows>];\n",
    "\n",
    "Note that we can use the `AS` keyword to rename columns during the selection process and that column expressions may include aggregation functions (`MAX`, `MIN`, etc.)."
   ]
  },
  {
   "cell_type": "code",
   "execution_count": null,
   "id": "b1f9ad47-127f-4acc-8bfe-be5ba475a053",
   "metadata": {},
   "outputs": [],
   "source": []
  }
 ],
 "metadata": {
  "kernelspec": {
   "display_name": "Python [conda env:sklearn-env]",
   "language": "python",
   "name": "conda-env-sklearn-env-py"
  },
  "language_info": {
   "codemirror_mode": {
    "name": "ipython",
    "version": 3
   },
   "file_extension": ".py",
   "mimetype": "text/x-python",
   "name": "python",
   "nbconvert_exporter": "python",
   "pygments_lexer": "ipython3",
   "version": "3.11.0"
  }
 },
 "nbformat": 4,
 "nbformat_minor": 5
}
