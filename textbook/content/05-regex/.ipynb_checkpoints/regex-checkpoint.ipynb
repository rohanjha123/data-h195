{
 "cells": [
  {
   "cell_type": "code",
   "execution_count": 96,
   "id": "3e0b4211-1d1e-43ec-8f4d-bf8528fd9a43",
   "metadata": {},
   "outputs": [],
   "source": [
    "import pandas as pd\n",
    "import regex as re"
   ]
  },
  {
   "cell_type": "markdown",
   "id": "5c62d543-22f0-445e-b48c-ef66b2767fd6",
   "metadata": {},
   "source": [
    "# RegEx\n",
    "\n"
   ]
  },
  {
   "cell_type": "markdown",
   "id": "29aa87fe-0d21-41b9-b0a5-0e7a6be9efc9",
   "metadata": {},
   "source": [
    "`RegEx`, standing for regular expressions, are a powerful tool used to search through large bodies of text. Using RegEx, you can essentially specify patterns you are looking for and get all the substrings which match that pattern. This subchapter will go over how to use RegEx in Python.\n",
    "\n",
    "As always, this chapter is not comprehensive and not a good substitute for plenty of practice! There are a ton of resources for learning RegEx, some of them are: -\n",
    "- [Official Regex Guide](https://docs.python.org/3/howto/regex.html)\n",
    "- [UC Berkeley's Data 100's Reference Sheet](https://ds100.org/sp22/resources/assets/hw/regex_reference.pdf) \n",
    "- [Regex101.com](https://regex101.com/)\n",
    "    - Be sure to choose the `Python` flavour under the category on the left."
   ]
  },
  {
   "cell_type": "markdown",
   "id": "555f3a31-ae9c-4704-9033-a92aa7ae2644",
   "metadata": {},
   "source": [
    "## RegEx Syntax\n",
    "\n",
    "<!-- | Operation      | Order  | Syntax Example | Matches     | Doesn't Match     | \n",
    "|----------------|-|----------------|-------------|-------------------|\n",
    "| `Or`: `\\|`  | 4 | AA\\|BAAB        | AA<br /> BAAB   | every other string|\n",
    "| `Concatenation`          | 3    | AABAAB         | AABAAB      | every other string|\n",
    "| `Closure`: `*` <br />(zero or more)   | 2   | (AB)*A         | AA  <br />  ABBBBBBA | AB <br />  ABABA       |\n",
    "| `Group`: `()` <br />(parenthesis)       | 1 | A(A\\|B)AAB      | AAAAB<br />ABAAB| every other string|\n",
    "|                       |    |         (AB)*A    |    A <br />ABABABABA      | AA <br />  ABBA     |  -->"
   ]
  },
  {
   "cell_type": "markdown",
   "id": "860f30f7-5864-495d-979f-49bc736ef206",
   "metadata": {},
   "source": [
    "RegEx patterns are made up of literal characters and special characters. Literal characters are literally the characters they represent. For example, in the code below, the characters `Economics` match the string `Economics` literally and return a match.\n",
    "\n",
    "*Note:* `re.search()` takes in a pattern and a string and returns whether the pattern has a match in the string. This is talked about more in the `Using Regex in Python` section."
   ]
  },
  {
   "cell_type": "code",
   "execution_count": 5,
   "id": "3aa79468-4367-4c59-ab9e-d5b2ee277484",
   "metadata": {},
   "outputs": [
    {
     "data": {
      "text/plain": [
       "<regex.Match object; span=(0, 9), match='Economics'>"
      ]
     },
     "execution_count": 5,
     "metadata": {},
     "output_type": "execute_result"
    }
   ],
   "source": [
    "re.search('Economics','Economics')"
   ]
  },
  {
   "cell_type": "markdown",
   "id": "4f0d94fc-369a-4c11-baeb-3d17e061634c",
   "metadata": {},
   "source": [
    "As the characters are literal, the characters `Economics` do not match the string `Economica`. You can see nothing is returned, meaning no match was found."
   ]
  },
  {
   "cell_type": "code",
   "execution_count": 10,
   "id": "a3fd3a65-1e04-48f2-af26-2c1cd119e362",
   "metadata": {},
   "outputs": [],
   "source": [
    "re.search('Economics','Economica')"
   ]
  },
  {
   "cell_type": "markdown",
   "id": "77d50378-f63d-43b5-a2fa-ab51252b7b95",
   "metadata": {},
   "source": [
    "If we wanted to also match `Economica`, we could modify our pattern to be `Economic(s|a)`. `|` is the 'or' operator here, indicating that either of the options will be acceptable. Since the parenthesis surround `s|a`, this means that the pattern will only match `Economics` or `Economica`, it will not match other patterns like just `a` or just `Economic`."
   ]
  },
  {
   "cell_type": "code",
   "execution_count": 11,
   "id": "c644e984-ce13-4595-9ab5-61fad46b1b16",
   "metadata": {},
   "outputs": [
    {
     "data": {
      "text/plain": [
       "<regex.Match object; span=(0, 9), match='Economica'>"
      ]
     },
     "execution_count": 11,
     "metadata": {},
     "output_type": "execute_result"
    }
   ],
   "source": [
    "re.search('Economic(s|a)','Economica')"
   ]
  },
  {
   "cell_type": "code",
   "execution_count": 14,
   "id": "ec65d08c-c050-4ffd-84fd-d611b3b5f17b",
   "metadata": {},
   "outputs": [
    {
     "data": {
      "text/plain": [
       "<regex.Match object; span=(0, 9), match='Economics'>"
      ]
     },
     "execution_count": 14,
     "metadata": {},
     "output_type": "execute_result"
    }
   ],
   "source": [
    "re.search('Economic(s|a)','Economics')"
   ]
  },
  {
   "cell_type": "code",
   "execution_count": 15,
   "id": "84104387-e5d7-457f-b72b-02d09a5e08db",
   "metadata": {},
   "outputs": [],
   "source": [
    "re.search('Economic(s|a)','a')"
   ]
  },
  {
   "cell_type": "code",
   "execution_count": 17,
   "id": "2642a5c9-1f5b-40b2-9d0c-647e050d1786",
   "metadata": {},
   "outputs": [],
   "source": [
    "re.search('Economic(s|a)','Economic')"
   ]
  },
  {
   "cell_type": "markdown",
   "id": "5360a22f-7c40-42c1-8784-6aca3c0c7352",
   "metadata": {},
   "source": [
    "### Quantifiers"
   ]
  },
  {
   "cell_type": "markdown",
   "id": "643aaac8-168f-479f-904f-346f4afe69e6",
   "metadata": {},
   "source": [
    "There are several ways of telling RegEx how many of a character we want. They are summarized below:\n",
    "\n",
    "| Operation | Description | Syntax Example  | Matches |Doesn't Match |\n",
    "|-|-|-|-|-|\n",
    "|`*` | Matches the preceding character 0 or more times | _eric*_ | eri <br /> eric <br /> ericc| er <br /> ers <br /> Eric|\n",
    "|`+` | Matches the preceding character 1 or more times | _eric+_ | eric <br /> ericc| eri <br /> er <br /> Eric|\n",
    "|`?` | Matches the preceding character 0 or 1 times | _eric?_ | eri <br /> eric| Everything else|\n",
    "|`{a}` | Matches the preceding character for a occurrences | _eric{2}_ | ericc | Everything else|\n",
    "|`{a, b}` | Matches the preceding character for between a and b occurrences | _eric{1, 2}_ | eric <br /> ericc | Everything else|\n",
    "\n",
    "\n",
    "Something important to note in the above table is that all of these operators only apply to just the preceding character. So, `eric*` will match _eri_ and _ericc_ but not _eriicc_ or _erii_. If we also wanted to match _eriicc_ or _erii_, we could use character classes."
   ]
  },
  {
   "cell_type": "markdown",
   "id": "d56f5d0d-3313-465e-aec1-7bb0c2420122",
   "metadata": {},
   "source": [
    "#### Greediness"
   ]
  },
  {
   "cell_type": "markdown",
   "id": "1ff6b302-2857-4b29-8e7c-52b20bf57dcc",
   "metadata": {},
   "source": [
    "RegEx operations are greedy, meaning they look for the longest possible match in a string. For example, given the string _ab_, the RegEx pattern `.*` could match _a_, _b_, _ab_, or nothing at all. However, because it wants the longest match possible, it will choose to match _ab_."
   ]
  },
  {
   "cell_type": "code",
   "execution_count": 38,
   "id": "e02db237-7856-468b-8e36-c47cad965cfe",
   "metadata": {},
   "outputs": [
    {
     "name": "stdout",
     "output_type": "stream",
     "text": [
      "<regex.Match object; span=(0, 2), match='ab'>\n"
     ]
    }
   ],
   "source": [
    "print(re.search(r\".*\",\"ab\"))"
   ]
  },
  {
   "cell_type": "markdown",
   "id": "8b892628-2c97-404d-8426-d39af766e20b",
   "metadata": {},
   "source": [
    "If we instead wanted to match as little as possible when using quantifiers, we can simply add `?` after the quantifier to make it instead match as little as possible. For example, given the string _ab_, the RegEx pattern `.*` matches nothing at all."
   ]
  },
  {
   "cell_type": "code",
   "execution_count": 39,
   "id": "c62372b0-1edb-430e-b5ac-2d5512a9ce6f",
   "metadata": {},
   "outputs": [
    {
     "name": "stdout",
     "output_type": "stream",
     "text": [
      "<regex.Match object; span=(0, 0), match=''>\n"
     ]
    }
   ],
   "source": [
    "print(re.search(r\".*?\",\"ab\"))"
   ]
  },
  {
   "cell_type": "markdown",
   "id": "da58b1d4-580e-4d09-bd3e-326d41c554bd",
   "metadata": {},
   "source": [
    "Here's another example of greedy vs non-greedy matching:"
   ]
  },
  {
   "cell_type": "code",
   "execution_count": 40,
   "id": "01596a9f-b746-45c1-ac0a-69b742fac30d",
   "metadata": {},
   "outputs": [
    {
     "name": "stdout",
     "output_type": "stream",
     "text": [
      "<regex.Match object; span=(0, 2), match='aa'>\n",
      "<regex.Match object; span=(0, 1), match='a'>\n"
     ]
    }
   ],
   "source": [
    "print(re.search(r\"a{1,2}\",\"aa\")) # greedy matching returns aa\n",
    "print(re.search(r\"a{1,2}?\",\"aa\")) # non-greedy matching returns a"
   ]
  },
  {
   "cell_type": "markdown",
   "id": "cecc5a93-91de-4943-9cef-c67e7e55b075",
   "metadata": {},
   "source": [
    "### Character Classes"
   ]
  },
  {
   "cell_type": "markdown",
   "id": "31a391c7-931c-43e7-89ec-ed7c691735cd",
   "metadata": {},
   "source": [
    "RegEx character classes help us match any one character from a list of characters. They are often denoted by a list of characters surrounded by hard brackets (`[]`). For example, _er[ic]*_ will match _eri_, _ericc_, _eriicc_ and _erii_."
   ]
  },
  {
   "cell_type": "code",
   "execution_count": 27,
   "id": "843b2d75-1a04-4c09-bf32-8a3079c32931",
   "metadata": {},
   "outputs": [
    {
     "name": "stdout",
     "output_type": "stream",
     "text": [
      "<regex.Match object; span=(0, 3), match='eri'>\n",
      "<regex.Match object; span=(0, 5), match='ericc'>\n",
      "<regex.Match object; span=(0, 4), match='erii'>\n",
      "<regex.Match object; span=(0, 6), match='eriicc'>\n"
     ]
    }
   ],
   "source": [
    "print(re.search(r\"er[ic]*\",\"eri\"))\n",
    "print(re.search(r\"er[ic]*\",\"ericc\"))\n",
    "print(re.search(r\"er[ic]*\",\"erii\"))\n",
    "print(re.search(r\"er[ic]*\",\"eriicc\"))"
   ]
  },
  {
   "cell_type": "markdown",
   "id": "3ab2bd4a-c49d-4e70-8ec6-61bf296f46e2",
   "metadata": {},
   "source": [
    "You can also use character classes to denote characters you do not wish to match. If you put `^` at the front of a character class, it becomes a character class negation, and matches anything except the characters in the character class. For example, the pattern `consonant: [^aeiou]` will match any string of the pattern `consonant: ` followed by a consonant, as shown below."
   ]
  },
  {
   "cell_type": "code",
   "execution_count": 32,
   "id": "0e2f6571-8763-46df-a738-b890f703e20a",
   "metadata": {},
   "outputs": [
    {
     "data": {
      "text/plain": [
       "<regex.Match object; span=(0, 12), match='consonant: $'>"
      ]
     },
     "execution_count": 36,
     "metadata": {},
     "output_type": "execute_result"
    }
   ],
   "source": [
    "print(re.search(r\"consonant: [^aeiou]\",\"consonant: a\"))\n",
    "print(re.search(r\"consonant: [^aeiou]\",\"consonant: b\"))\n",
    "print(re.search(r\"consonant: [^aeiou]\",\"consonant: d\"))\n",
    "print(re.search(r\"consonant: [^aeiou]\",\"consonant: u\"))\n",
    "print(re.search(r\"consonant: [^aeiou]\",\"consonant: $\"))"
   ]
  },
  {
   "cell_type": "markdown",
   "id": "5ded239e-6474-46fb-b978-76580a0b7f83",
   "metadata": {},
   "source": [
    "| Character Class | Description | Matches | Doesn't Match |\n",
    "|-----------------|-------------|---------|---------------|\n",
    "| `[a-z]`         | All lowercase letters | a <br /> m <br /> z | A <br /> 1 <br /> \\$ |\n",
    "| `[A-Z]`         | All uppercase letters | A <br /> M <br /> Z | a <br /> 1 <br /> \\$ |\n",
    "| `[0-9]`         | Digits            | 0 <br /> 5 <br /> 9 | a <br /> A <br /> \\$ |\n",
    "| `\\w`            | Word characters (letters + digits + underscore) | a <br /> 5 <br /> _ | \\$ <br /> \\% <br /> - |\n",
    "| `\\d`            | Digits            | 0 <br /> 7 <br /> 9 | a <br /> A <br /> \\$ |\n",
    "| `\\s`            | All whitespace characters, including tabs and new lines | space <br /> tab <br /> newline | A <br /> 1 <br /> \\$ |\n",
    "| `.`            | All characters except newline | space <br /> a <br /> \\$ | newline |\n",
    "\n",
    "`\\W`, `\\D`, and `\\S` are the complements (match the exact opposite things) of `\\w`, `\\d`, and `\\s` respectively.\n"
   ]
  },
  {
   "cell_type": "markdown",
   "id": "2671b740-2b09-49fb-97ed-ce2e16823732",
   "metadata": {},
   "source": [
    "### Positions"
   ]
  },
  {
   "cell_type": "markdown",
   "id": "3f9572bb-44de-49a6-99dd-84e9b48ec920",
   "metadata": {},
   "source": [
    "When discussing character classes, we'd mentioned how `^` can be used to negate a character class. However, `^` actually has two uses. If the `^` is not in the middle of a bracket and preceded by `[`, it instead represents a position at the beginning of a string. For example, the pattern `^a` will contain a match in `all` but not in `ball`."
   ]
  },
  {
   "cell_type": "code",
   "execution_count": 34,
   "id": "d22b3f6c-11ee-485d-8548-02b51923e070",
   "metadata": {},
   "outputs": [
    {
     "name": "stdout",
     "output_type": "stream",
     "text": [
      "<regex.Match object; span=(0, 1), match='a'>\n",
      "None\n"
     ]
    }
   ],
   "source": [
    "print(re.search(r\"^a\",\"all\"))\n",
    "print(re.search(r\"^a\",\"ball\"))"
   ]
  },
  {
   "cell_type": "markdown",
   "id": "8eab1615-8c4e-4ce2-b7c7-f7bbb8eac99d",
   "metadata": {},
   "source": [
    "Similarly, `$` denotes the end of a string. For example, the pattern `s$` will contain a match in _prawns_ but not in _prawn_."
   ]
  },
  {
   "cell_type": "code",
   "execution_count": 35,
   "id": "2c9f8918-4109-496b-8fea-9df8357cc484",
   "metadata": {},
   "outputs": [
    {
     "name": "stdout",
     "output_type": "stream",
     "text": [
      "<regex.Match object; span=(5, 6), match='s'>\n",
      "None\n"
     ]
    }
   ],
   "source": [
    "print(re.search(r\"s$\",\"prawns\"))\n",
    "print(re.search(r\"s$\",\"prawn\"))"
   ]
  },
  {
   "cell_type": "markdown",
   "id": "2b1aa9ca-1a01-4430-8da4-e5bfeeb613f6",
   "metadata": {},
   "source": [
    "### Escape"
   ]
  },
  {
   "cell_type": "markdown",
   "id": "5271aebe-9a50-40a1-a446-3dabf145d2b8",
   "metadata": {},
   "source": [
    "The escape character `\\` is used to take special characters and turn them into literal ones. For example, the character `.` will match anything except a newline, but `\\.` will only match `.` and nothing else."
   ]
  },
  {
   "cell_type": "code",
   "execution_count": 37,
   "id": "5a634f2c-e7f2-4eab-bfef-f16ee7a54034",
   "metadata": {},
   "outputs": [
    {
     "name": "stdout",
     "output_type": "stream",
     "text": [
      "<regex.Match object; span=(0, 1), match='%'>\n",
      "<regex.Match object; span=(0, 1), match='.'>\n",
      "None\n"
     ]
    }
   ],
   "source": [
    "print(re.search(r\".\",\"%\"))\n",
    "print(re.search(r\"\\.\",\".\"))\n",
    "print(re.search(r\"\\.\",\"%\"))"
   ]
  },
  {
   "cell_type": "markdown",
   "id": "4bd013ea-b7ef-4e9b-9464-29269c75a64b",
   "metadata": {},
   "source": [
    "## Using Regex in Python"
   ]
  },
  {
   "cell_type": "markdown",
   "id": "fbe59920-eaff-4495-8420-dfbb3cba7e00",
   "metadata": {},
   "source": [
    "### Regex Library Functions"
   ]
  },
  {
   "cell_type": "markdown",
   "id": "f0ef6f18-6787-4a3b-a4b4-d4f9cfc8983d",
   "metadata": {},
   "source": [
    "The `regex` library of Python has several functions that are helpful for working with Python strings. Until now, we've been working with `re.search()`. `re.search()` takes in a RegEx pattern and a Python string, and returns the first match of the pattern within the string. It returns the match as a `regex.Match object`. `regex.Match object's` have 4 helpful methods:\n",
    "- `.start()`: Returns the index where the match begins\n",
    "- `.end()`: Returns the index where the match ends\n",
    "- `.span()`: Returns how many characters the match spans\n",
    "- `.group()`: Returns the match itself.\n",
    "\n",
    "All of these are demonstrated below."
   ]
  },
  {
   "cell_type": "code",
   "execution_count": 115,
   "id": "72f5d1b3-5fa1-4ea6-a465-4c2e4db5a7b0",
   "metadata": {},
   "outputs": [
    {
     "data": {
      "text/plain": [
       "<regex.Match object; span=(1, 4), match='bcd'>"
      ]
     },
     "execution_count": 115,
     "metadata": {},
     "output_type": "execute_result"
    }
   ],
   "source": [
    "samp_match = re.search(r\"[^a].*\",\"abcd\") # Don't match the a, but match everything after the a\n",
    "samp_match"
   ]
  },
  {
   "cell_type": "code",
   "execution_count": 52,
   "id": "c41460dc-0a16-4871-873f-96e203bfd40a",
   "metadata": {},
   "outputs": [
    {
     "data": {
      "text/plain": [
       "1"
      ]
     },
     "execution_count": 52,
     "metadata": {},
     "output_type": "execute_result"
    }
   ],
   "source": [
    "samp_match.start()"
   ]
  },
  {
   "cell_type": "code",
   "execution_count": 48,
   "id": "dd466012-319d-4f17-a064-741d381531a6",
   "metadata": {},
   "outputs": [
    {
     "data": {
      "text/plain": [
       "4"
      ]
     },
     "execution_count": 48,
     "metadata": {},
     "output_type": "execute_result"
    }
   ],
   "source": [
    "samp_match.end()"
   ]
  },
  {
   "cell_type": "code",
   "execution_count": 49,
   "id": "b612c2a9-1689-489c-bf1a-8a26c640acb3",
   "metadata": {},
   "outputs": [
    {
     "data": {
      "text/plain": [
       "(1, 4)"
      ]
     },
     "execution_count": 49,
     "metadata": {},
     "output_type": "execute_result"
    }
   ],
   "source": [
    "samp_match.span()"
   ]
  },
  {
   "cell_type": "code",
   "execution_count": 50,
   "id": "b42011e4-ed7d-4f4f-bd6b-7abe303bf589",
   "metadata": {},
   "outputs": [
    {
     "data": {
      "text/plain": [
       "'bcd'"
      ]
     },
     "execution_count": 50,
     "metadata": {},
     "output_type": "execute_result"
    }
   ],
   "source": [
    "samp_match.group()"
   ]
  },
  {
   "cell_type": "markdown",
   "id": "722e8667-f946-42fc-a5a2-eb315efda188",
   "metadata": {},
   "source": [
    "The other python RegEx functions we will discuss return either lists or strings. They are described below."
   ]
  },
  {
   "cell_type": "markdown",
   "id": "72a47de9-dbab-4ad5-ae3c-0752417619db",
   "metadata": {},
   "source": [
    "| Function        | Description                                | Syntax Example         | Returns         | Example Usage                                    | Example Output                                  |\n",
    "|-----------------|--------------------------------------------|------------------------|-----------------|--------------------------------------------------|-------------------------------------------------|\n",
    "| [`re.search()`](https://docs.python.org/3/library/re.html#re.search)   | Searches for the first occurrence of a pattern anywhere in the string | `re.search(pattern, string)` | Match object or `None` | ```re.search(r'\\d+', 'There are 25 apples and 30 oranges') ``` | Match object: <regex.Match object; span=(10, 12), match='25'>        |\n",
    "| [`re.findall()`](https://docs.python.org/3/library/re.html#re.findall)  | Finds all occurrences of the pattern in the string | `re.search(pattern, string)` | List of matches or empty list | ```re.findall(r'\\d+', 'There are 25 apples and 30 oranges') ``` | List of matches: `['25', '30']`                  |\n",
    "| [`re.sub()`](https://docs.python.org/3/library/re.html#re.sub)      | Substitutes occurrences of a pattern with a replacement string | `re.sub(pattern, replacement, string)` | Modified string | ```re.sub(r'\\d+', 'X', 'There are 25 apples and 30 oranges') ``` | Modified string: `'There are X apples and X oranges'` |\n",
    "| [`re.split()`](https://docs.python.org/3/library/re.html#re.split)    | Splits a string based on a specified pattern | `re.search(pattern, string)` | List of substrings | ```re.split(r'\\d+', 'There are 25 apples and 30 oranges') ``` | List of substrings: `['There are ', ' apples and ', ' oranges']` |\n",
    "\n",
    "As always, this list is not comprehensive and you are encouraged to read the documentation for more details."
   ]
  },
  {
   "cell_type": "markdown",
   "id": "ddf40dab-fa5b-4fc8-89b1-77dc68589d4d",
   "metadata": {},
   "source": [
    "### Capturing Groups"
   ]
  },
  {
   "cell_type": "markdown",
   "id": "8cbd31c3-4111-4b86-b4cd-61bd95ef0e33",
   "metadata": {},
   "source": [
    "Using `re.findall()` allows us to easily extract information from our string. Capturing groups can help us extract information further.\n",
    "\n",
    "For example, let us say we want to extract the numbers from the statement _There are 25 apples and 30 oranges_. We can design a pattern (such as `[a-zA-S\\s]*\\d+[a-zA-S\\s]*`) which isolates the numbers, but then how do we extract them?"
   ]
  },
  {
   "cell_type": "code",
   "execution_count": 83,
   "id": "35674565-a736-4cfb-862a-3d916a462e9f",
   "metadata": {},
   "outputs": [
    {
     "data": {
      "text/plain": [
       "['here are 25 apples and ', '30 oranges']"
      ]
     },
     "execution_count": 83,
     "metadata": {},
     "output_type": "execute_result"
    }
   ],
   "source": [
    "re.findall(r'[a-zA-S\\s]*\\d+[a-zA-S\\s]*', 'There are 25 apples and 30 oranges')"
   ]
  },
  {
   "cell_type": "markdown",
   "id": "b653f941-e57e-42c5-80c4-a7d2bfabeae5",
   "metadata": {},
   "source": [
    "Well, if we surround a portion of the pattern with parenthesis, we can capture that portion and extract only that portion into our final list."
   ]
  },
  {
   "cell_type": "code",
   "execution_count": 84,
   "id": "6880c223-0a56-4c78-b3ad-0ec72f217458",
   "metadata": {},
   "outputs": [
    {
     "data": {
      "text/plain": [
       "['25', '30']"
      ]
     },
     "execution_count": 84,
     "metadata": {},
     "output_type": "execute_result"
    }
   ],
   "source": [
    "re.findall(r'[a-zA-S\\s]*(\\d+)[a-zA-S\\s]*', 'There are 25 apples and 30 oranges')"
   ]
  },
  {
   "cell_type": "markdown",
   "id": "2b65a2cb-20f8-4328-a65c-b510726bb259",
   "metadata": {},
   "source": [
    "This is tricky as earlier, we'd introduced parenthesis as forms of specifying which letters we want to choose between."
   ]
  },
  {
   "cell_type": "code",
   "execution_count": 92,
   "id": "f04cb7fe-ad4f-4de5-b3a1-0159bff89126",
   "metadata": {},
   "outputs": [
    {
     "data": {
      "text/plain": [
       "<regex.Match object; span=(0, 9), match='Economica'>"
      ]
     },
     "execution_count": 92,
     "metadata": {},
     "output_type": "execute_result"
    }
   ],
   "source": [
    "re.search('Economic(s|a)','Economica')"
   ]
  },
  {
   "cell_type": "markdown",
   "id": "d767261d-1a7a-4010-bba4-8a20c1f903c9",
   "metadata": {},
   "source": [
    "This brings us to a **key point**: when extracting information with `re.findall()`, parentheses serve as capturing groups. However, when simply matching the first occurrence with `re.search()` without extracting anything, parentheses instead just help group characters together. This is something to be careful of; it is possible to rework any RegEx expression to not use parenthesis where they are not necessary. For example, you could transform the pattern `Economic(s|a)` to `Economic[sa]` and then use `re.findall()` to accomplish the same result as the `re.search()` call above."
   ]
  },
  {
   "cell_type": "code",
   "execution_count": 93,
   "id": "dc3133e6-ffd4-48f3-ba45-6ddf73d9b8f3",
   "metadata": {},
   "outputs": [
    {
     "data": {
      "text/plain": [
       "['Economica']"
      ]
     },
     "execution_count": 93,
     "metadata": {},
     "output_type": "execute_result"
    }
   ],
   "source": [
    "re.findall('Economic[sa]','Economica')"
   ]
  },
  {
   "cell_type": "code",
   "execution_count": 94,
   "id": "8fe6d40e-8af5-4a54-af55-37e6ee41529f",
   "metadata": {},
   "outputs": [
    {
     "data": {
      "text/plain": [
       "['123-45-6789', '321-45-6789']"
      ]
     },
     "execution_count": 94,
     "metadata": {},
     "output_type": "execute_result"
    }
   ],
   "source": [
    "text = \"My social security number is 123-45-6789 bro, or maybe it’s 321-45-6789.\"\n",
    "pattern = r\"[0-9]{3}-[0-9]{2}-[0-9]{4}\"\n",
    "re.findall(pattern, text)  "
   ]
  },
  {
   "cell_type": "markdown",
   "id": "64b913ad-57fd-4f1b-a48d-3a757d24c132",
   "metadata": {},
   "source": [
    "### Integration with `Pandas` String Methods"
   ]
  },
  {
   "cell_type": "markdown",
   "id": "1b7f271a-8adc-482b-85b5-53e61aedc30f",
   "metadata": {},
   "source": [
    "RegEx patterns work very well with `pandas` string methods. For example, the RegEx pattern `ssn_pattern` below matches all strings that follow the pattern of an American social security number (namely: 3 digits, dash, 2 digits, dash, 3 digits). Let us imagine you've surveyed a bunch of (American) people asking them their social security number. You've stored all their responses in the DataFrame `ssn_data` below. You can use `str.findall()` to extract all potential the social security numbers. "
   ]
  },
  {
   "cell_type": "code",
   "execution_count": 98,
   "id": "fa045ffc-6225-4314-90e6-f58bf741f6ab",
   "metadata": {},
   "outputs": [],
   "source": [
    "ssn_pattern = r\"[0-9]{3}-[0-9]{2}-[0-9]{4}\"\n",
    "# SSN Pattern: 3 digits, dash, 2 digits, dash, 3 digits"
   ]
  },
  {
   "cell_type": "code",
   "execution_count": 100,
   "id": "ce076e9c-3077-4d60-9525-3d840ac97b8f",
   "metadata": {},
   "outputs": [
    {
     "data": {
      "text/html": [
       "<div>\n",
       "<style scoped>\n",
       "    .dataframe tbody tr th:only-of-type {\n",
       "        vertical-align: middle;\n",
       "    }\n",
       "\n",
       "    .dataframe tbody tr th {\n",
       "        vertical-align: top;\n",
       "    }\n",
       "\n",
       "    .dataframe thead th {\n",
       "        text-align: right;\n",
       "    }\n",
       "</style>\n",
       "<table border=\"1\" class=\"dataframe\">\n",
       "  <thead>\n",
       "    <tr style=\"text-align: right;\">\n",
       "      <th></th>\n",
       "      <th>SSN</th>\n",
       "    </tr>\n",
       "  </thead>\n",
       "  <tbody>\n",
       "    <tr>\n",
       "      <th>0</th>\n",
       "      <td>000-00-0000</td>\n",
       "    </tr>\n",
       "    <tr>\n",
       "      <th>1</th>\n",
       "      <td>error</td>\n",
       "    </tr>\n",
       "    <tr>\n",
       "      <th>2</th>\n",
       "      <td>876-54-3210 invalid or 210-54-3210</td>\n",
       "    </tr>\n",
       "    <tr>\n",
       "      <th>3</th>\n",
       "      <td>111-11-1111</td>\n",
       "    </tr>\n",
       "    <tr>\n",
       "      <th>4</th>\n",
       "      <td>I refuse to provide</td>\n",
       "    </tr>\n",
       "    <tr>\n",
       "      <th>...</th>\n",
       "      <td>...</td>\n",
       "    </tr>\n",
       "    <tr>\n",
       "      <th>75</th>\n",
       "      <td>000-00-0000</td>\n",
       "    </tr>\n",
       "    <tr>\n",
       "      <th>76</th>\n",
       "      <td>I'm a superhero</td>\n",
       "    </tr>\n",
       "    <tr>\n",
       "      <th>77</th>\n",
       "      <td>012-34-5678</td>\n",
       "    </tr>\n",
       "    <tr>\n",
       "      <th>78</th>\n",
       "      <td>hhh-88-9999</td>\n",
       "    </tr>\n",
       "    <tr>\n",
       "      <th>79</th>\n",
       "      <td>You'll never guess my SSN</td>\n",
       "    </tr>\n",
       "  </tbody>\n",
       "</table>\n",
       "<p>80 rows × 1 columns</p>\n",
       "</div>"
      ],
      "text/plain": [
       "                                   SSN\n",
       "0                          000-00-0000\n",
       "1                                error\n",
       "2   876-54-3210 invalid or 210-54-3210\n",
       "3                          111-11-1111\n",
       "4                  I refuse to provide\n",
       "..                                 ...\n",
       "75                         000-00-0000\n",
       "76                     I'm a superhero\n",
       "77                         012-34-5678\n",
       "78                         hhh-88-9999\n",
       "79           You'll never guess my SSN\n",
       "\n",
       "[80 rows x 1 columns]"
      ]
     },
     "execution_count": 100,
     "metadata": {},
     "output_type": "execute_result"
    }
   ],
   "source": [
    "data = {\n",
    "    \"SSN\": [\"000-00-0000\", \"error\", \"876-54-3210 invalid or 210-54-3210\", \"111-11-1111\", \n",
    "            \"I refuse to provide\", \"456-78-9012\", \"abc-12-3456\", \"Nice try, FBI agent\",\"777-77-7777\", \n",
    "    \"seventy-seven\", \"987-65-4321 please or 876-54-3210\", \"222-22-2222\", \"classified information\", \n",
    "            \"135-79-2468\", \"xyz-98-7654\", \"I only give my SSN to aliens\",\"555-55-5555\", \"fifty-five\", \n",
    "            \"345-67-8901 not sure or 789-01-2345\", \"333-33-3333\", \"I'm a robot\", \"678-90-1234\", \n",
    "            \"aaa-11-2222\", \"Ask my cat for the SSN\", \"444-44-4444\", \"forty-four\", \n",
    "            \"234-56-7890 maybe or 876-54-3210\", \"444-44-4444\", \"top secret\", \"789-01-2345\", \n",
    "            \"bbb-22-3333\", \"I only speak in emojis 🤖\", \"666-66-6666\", \"sixty-six\", \n",
    "            \"432-10-9876 not applicable or 765-43-2109\", \"555-55-5555\", \"I'm a ghost\", \"012-34-5678\", \n",
    "            \"ccc-33-4444\", \"SSN? What's that?\", \"111-11-1111\", \"eleven\", \n",
    "            \"543-21-0987 avoid or 890-12-3456\", \"666-66-6666\", \"I'm on the run\", \"345-67-8901\", \n",
    "            \"ddd-44-5555\", \"My SSN is a secret code\", \"999-99-9999\", \"ninety-nine\", \n",
    "            \"654-32-1098 dodge or 210-98-7654\", \"777-77-7777\", \"I'm a spy\", \"567-89-0123\", \n",
    "            \"eee-55-6666\", \"I'll give you my SSN if you beat me in a dance-off\", \"123-45-6789\", \n",
    "            \"twelve\", \"765-43-2109 sidestep or 098-76-5432\", \"888-88-8888\", \"I'm an alien\", \n",
    "            \"678-90-1234\", \"fff-66-7777\", \"SSN? I speak in riddles\", \"234-56-7890\", \"twenty-four\", \n",
    "            \"876-54-3210 escape or 765-43-2109\", \"999-99-9999\", \"I'm a time traveler\", \"789-01-2345\", \n",
    "            \"ggg-77-8888\", \"My SSN is a password\", \"345-67-8901\", \"thirty-four\", \n",
    "            \"987-65-4321 run or 876-54-3210\", \"000-00-0000\", \"I'm a superhero\", \n",
    "            \"012-34-5678\", \"hhh-88-9999\", \"You'll never guess my SSN\"]\n",
    "}\n",
    "ssn_data = pd.DataFrame(data)\n",
    "ssn_data"
   ]
  },
  {
   "cell_type": "markdown",
   "id": "a0cc6349-01cf-4141-9c60-0b6a2c9dae6a",
   "metadata": {},
   "source": [
    "Applying the `findall` function;"
   ]
  },
  {
   "cell_type": "code",
   "execution_count": 106,
   "id": "cff46006-888b-4e9d-8774-30e1da83ff24",
   "metadata": {},
   "outputs": [
    {
     "data": {
      "text/plain": [
       "0     [000-00-0000]\n",
       "1                []\n",
       "2     [210-54-3210]\n",
       "3     [111-11-1111]\n",
       "4                []\n",
       "          ...      \n",
       "75    [000-00-0000]\n",
       "76               []\n",
       "77    [012-34-5678]\n",
       "78               []\n",
       "79               []\n",
       "Name: SSN, Length: 80, dtype: object"
      ]
     },
     "execution_count": 106,
     "metadata": {},
     "output_type": "execute_result"
    }
   ],
   "source": [
    "ssn_data[\"SSN\"].str.findall(ssn_pattern)"
   ]
  },
  {
   "cell_type": "markdown",
   "id": "85483efd-ee0c-43e8-9eeb-605955b6684a",
   "metadata": {},
   "source": [
    "If you were just interested in the digits of the social security numbers, you could use capturing groups combined with `.str.extract()`, as shown below."
   ]
  },
  {
   "cell_type": "code",
   "execution_count": 112,
   "id": "b12ce3fb-467b-4b77-b691-0c344b4c1e1c",
   "metadata": {},
   "outputs": [
    {
     "data": {
      "text/html": [
       "<div>\n",
       "<style scoped>\n",
       "    .dataframe tbody tr th:only-of-type {\n",
       "        vertical-align: middle;\n",
       "    }\n",
       "\n",
       "    .dataframe tbody tr th {\n",
       "        vertical-align: top;\n",
       "    }\n",
       "\n",
       "    .dataframe thead th {\n",
       "        text-align: right;\n",
       "    }\n",
       "</style>\n",
       "<table border=\"1\" class=\"dataframe\">\n",
       "  <thead>\n",
       "    <tr style=\"text-align: right;\">\n",
       "      <th></th>\n",
       "      <th>0</th>\n",
       "      <th>1</th>\n",
       "      <th>2</th>\n",
       "    </tr>\n",
       "  </thead>\n",
       "  <tbody>\n",
       "    <tr>\n",
       "      <th>0</th>\n",
       "      <td>000</td>\n",
       "      <td>00</td>\n",
       "      <td>0000</td>\n",
       "    </tr>\n",
       "    <tr>\n",
       "      <th>1</th>\n",
       "      <td>NaN</td>\n",
       "      <td>NaN</td>\n",
       "      <td>NaN</td>\n",
       "    </tr>\n",
       "    <tr>\n",
       "      <th>2</th>\n",
       "      <td>876</td>\n",
       "      <td>54</td>\n",
       "      <td>3210</td>\n",
       "    </tr>\n",
       "    <tr>\n",
       "      <th>3</th>\n",
       "      <td>111</td>\n",
       "      <td>11</td>\n",
       "      <td>1111</td>\n",
       "    </tr>\n",
       "    <tr>\n",
       "      <th>4</th>\n",
       "      <td>NaN</td>\n",
       "      <td>NaN</td>\n",
       "      <td>NaN</td>\n",
       "    </tr>\n",
       "    <tr>\n",
       "      <th>...</th>\n",
       "      <td>...</td>\n",
       "      <td>...</td>\n",
       "      <td>...</td>\n",
       "    </tr>\n",
       "    <tr>\n",
       "      <th>75</th>\n",
       "      <td>000</td>\n",
       "      <td>00</td>\n",
       "      <td>0000</td>\n",
       "    </tr>\n",
       "    <tr>\n",
       "      <th>76</th>\n",
       "      <td>NaN</td>\n",
       "      <td>NaN</td>\n",
       "      <td>NaN</td>\n",
       "    </tr>\n",
       "    <tr>\n",
       "      <th>77</th>\n",
       "      <td>012</td>\n",
       "      <td>34</td>\n",
       "      <td>5678</td>\n",
       "    </tr>\n",
       "    <tr>\n",
       "      <th>78</th>\n",
       "      <td>NaN</td>\n",
       "      <td>NaN</td>\n",
       "      <td>NaN</td>\n",
       "    </tr>\n",
       "    <tr>\n",
       "      <th>79</th>\n",
       "      <td>NaN</td>\n",
       "      <td>NaN</td>\n",
       "      <td>NaN</td>\n",
       "    </tr>\n",
       "  </tbody>\n",
       "</table>\n",
       "<p>80 rows × 3 columns</p>\n",
       "</div>"
      ],
      "text/plain": [
       "      0    1     2\n",
       "0   000   00  0000\n",
       "1   NaN  NaN   NaN\n",
       "2   876   54  3210\n",
       "3   111   11  1111\n",
       "4   NaN  NaN   NaN\n",
       "..  ...  ...   ...\n",
       "75  000   00  0000\n",
       "76  NaN  NaN   NaN\n",
       "77  012   34  5678\n",
       "78  NaN  NaN   NaN\n",
       "79  NaN  NaN   NaN\n",
       "\n",
       "[80 rows x 3 columns]"
      ]
     },
     "execution_count": 112,
     "metadata": {},
     "output_type": "execute_result"
    }
   ],
   "source": [
    "capturing_ssn_pattern = r\"([0-9]{3})-([0-9]{2})-([0-9]{4})\"\n",
    "ssn_data[\"SSN\"].str.extract(capturing_ssn_pattern) \n",
    "# Note: this just extracts the first matching pattern"
   ]
  }
 ],
 "metadata": {
  "kernelspec": {
   "display_name": "Python [conda env:sklearn-env]",
   "language": "python",
   "name": "conda-env-sklearn-env-py"
  },
  "language_info": {
   "codemirror_mode": {
    "name": "ipython",
    "version": 3
   },
   "file_extension": ".py",
   "mimetype": "text/x-python",
   "name": "python",
   "nbconvert_exporter": "python",
   "pygments_lexer": "ipython3",
   "version": "3.11.0"
  }
 },
 "nbformat": 4,
 "nbformat_minor": 5
}
