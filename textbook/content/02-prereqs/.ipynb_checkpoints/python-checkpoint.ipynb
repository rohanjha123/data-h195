{
 "cells": [
  {
   "cell_type": "markdown",
   "id": "80d289d4-f5dc-4547-b0b0-45019533dc24",
   "metadata": {},
   "source": [
    "# Python\n",
    "\n",
    "While we cannot cover all things Python, this subchapter aims to familiarise you with the tools that are essential for working with data in Python. However, there is no substitute for plenty of practice working in Python."
   ]
  },
  {
   "cell_type": "markdown",
   "id": "b4ba64d2-b1ff-4864-9428-8c750afb8090",
   "metadata": {},
   "source": [
    "## Lists"
   ]
  },
  {
   "cell_type": "markdown",
   "id": "4974bcaa-3513-4fc3-a3d8-c7517173b91e",
   "metadata": {},
   "source": [
    "Python lists allow you to store a lot of information in an organized manner. They are quite flexible, you can add and remove from them as you please. To create a list, simply using enclose a comma-separated sequence of elements within square brackets (\\[\\]). For example, the code below creates a list containing the values `1`, `a`, and `ka`, and then assigns that list to a variable named `first`. You can see how the list contains both integers and text stored as strings."
   ]
  },
  {
   "cell_type": "code",
   "execution_count": 10,
   "id": "af7ba89b-99a3-479a-931c-f177b1ffb450",
   "metadata": {},
   "outputs": [
    {
     "data": {
      "text/plain": [
       "[1, 'a', 'ka']"
      ]
     },
     "execution_count": 10,
     "metadata": {},
     "output_type": "execute_result"
    }
   ],
   "source": [
    "first = [1,'a','ka']\n",
    "first"
   ]
  },
  {
   "cell_type": "markdown",
   "id": "960ac38a-22e5-4969-ad61-93759bee074d",
   "metadata": {},
   "source": [
    "### Adding/Removing from a list"
   ]
  },
  {
   "cell_type": "markdown",
   "id": "b399b1b4-8946-43ad-b543-b1e6fc63cdf8",
   "metadata": {},
   "source": [
    "Adding to a list is easy, you can either use the `append` method or create another 1 element list and add them together."
   ]
  },
  {
   "cell_type": "code",
   "execution_count": 11,
   "id": "c5d531ea-588e-4012-b8f8-8f2b61147246",
   "metadata": {},
   "outputs": [
    {
     "data": {
      "text/plain": [
       "[1, 'a', 'ka', 'alif']"
      ]
     },
     "execution_count": 11,
     "metadata": {},
     "output_type": "execute_result"
    }
   ],
   "source": [
    "# Creating another list with just 'alif' and adding the two lists together\n",
    "\n",
    "first + ['alif']"
   ]
  },
  {
   "cell_type": "code",
   "execution_count": 12,
   "id": "b9488cfa-6be3-4e4a-863f-8dce9d1b3435",
   "metadata": {},
   "outputs": [
    {
     "data": {
      "text/plain": [
       "[1, 'a', 'ka', 'alif']"
      ]
     },
     "execution_count": 12,
     "metadata": {},
     "output_type": "execute_result"
    }
   ],
   "source": [
    "# Using .append() to add 'alif' to the list\n",
    "\n",
    "first.append('alif')\n",
    "first"
   ]
  },
  {
   "cell_type": "markdown",
   "id": "e3b5b9bb-99cf-493b-894c-6b51010bb72a",
   "metadata": {},
   "source": [
    "To remove an element from a list, you can either use the `remove` method or use list slicing."
   ]
  },
  {
   "cell_type": "code",
   "execution_count": 13,
   "id": "f95415ef-6923-4fb3-b99d-778aa896b6ba",
   "metadata": {},
   "outputs": [
    {
     "data": {
      "text/plain": [
       "[1, 'a', 'ka']"
      ]
     },
     "execution_count": 13,
     "metadata": {},
     "output_type": "execute_result"
    }
   ],
   "source": [
    "# Using .remove() to remove 'alif' from the list\n",
    "\n",
    "first.remove('alif')\n",
    "first"
   ]
  },
  {
   "cell_type": "markdown",
   "id": "4a8db1f9-443f-49dc-93ec-70a162977458",
   "metadata": {},
   "source": [
    "### List Slicing"
   ]
  },
  {
   "cell_type": "markdown",
   "id": "7b114a7a-ae08-4b86-90c0-71aa0c2bbf04",
   "metadata": {},
   "source": [
    "List slicing helps us access certain elements from a list. You can use it by adding square brackets after your list and specifying the indices of the elements you would like. For example, if you want the first element in a list named `numbers`, you could use `numbers[0]` (note: Python is 0-indexed, so the first element is at the index 0, the second element is at the index 1, etc.). If you would instead like to access all the elements from the list `numbers`, you could use `numbers[:]`. Let's look at some examples below."
   ]
  },
  {
   "cell_type": "code",
   "execution_count": 15,
   "id": "c2d6b737-3f6e-466b-972f-f2045c5acb5e",
   "metadata": {},
   "outputs": [
    {
     "data": {
      "text/plain": [
       "[1, 2, 3, 4, 5, 6, 7, 8, 9, 10]"
      ]
     },
     "execution_count": 15,
     "metadata": {},
     "output_type": "execute_result"
    }
   ],
   "source": [
    "# Creating a list named `numbers`\n",
    "\n",
    "numbers = [1,2,3,4,5,6,7,8,9,10]\n",
    "numbers"
   ]
  },
  {
   "cell_type": "code",
   "execution_count": 16,
   "id": "557fe29e-45fd-4549-8e7a-be63124bdcd1",
   "metadata": {},
   "outputs": [
    {
     "data": {
      "text/plain": [
       "1"
      ]
     },
     "execution_count": 16,
     "metadata": {},
     "output_type": "execute_result"
    }
   ],
   "source": [
    "# Accessing the first element\n",
    "\n",
    "numbers[0]"
   ]
  },
  {
   "cell_type": "code",
   "execution_count": 17,
   "id": "c12f67eb-f4dd-458b-aca7-be09a8f4c4c3",
   "metadata": {},
   "outputs": [
    {
     "data": {
      "text/plain": [
       "2"
      ]
     },
     "execution_count": 17,
     "metadata": {},
     "output_type": "execute_result"
    }
   ],
   "source": [
    "# Accessing the second element\n",
    "\n",
    "numbers[1]"
   ]
  },
  {
   "cell_type": "code",
   "execution_count": 18,
   "id": "2f635379-0f05-4a9f-b891-bf109c85309f",
   "metadata": {},
   "outputs": [
    {
     "data": {
      "text/plain": [
       "9"
      ]
     },
     "execution_count": 18,
     "metadata": {},
     "output_type": "execute_result"
    }
   ],
   "source": [
    "# Accessing the i-th element\n",
    "\n",
    "i = 9 # `i` represents the number of the element you want to extract. The index is just the number - 1\n",
    "numbers[i-1]"
   ]
  },
  {
   "cell_type": "code",
   "execution_count": 24,
   "id": "a8b17541-7799-48ca-9e5a-5989354697b1",
   "metadata": {},
   "outputs": [
    {
     "data": {
      "text/plain": [
       "10"
      ]
     },
     "execution_count": 24,
     "metadata": {},
     "output_type": "execute_result"
    }
   ],
   "source": [
    "# Accessing the last element\n",
    "\n",
    "numbers[-1]"
   ]
  },
  {
   "cell_type": "code",
   "execution_count": 25,
   "id": "b8cf8fc3-7123-461a-b699-f71ecf63edee",
   "metadata": {},
   "outputs": [
    {
     "data": {
      "text/plain": [
       "9"
      ]
     },
     "execution_count": 25,
     "metadata": {},
     "output_type": "execute_result"
    }
   ],
   "source": [
    "# Accessing the second last element\n",
    "\n",
    "numbers[-2]"
   ]
  },
  {
   "cell_type": "code",
   "execution_count": 19,
   "id": "539c5fa1-7aba-40a3-949a-953b727a1d30",
   "metadata": {},
   "outputs": [
    {
     "data": {
      "text/plain": [
       "[1, 2, 3, 4, 5, 6, 7, 8, 9, 10]"
      ]
     },
     "execution_count": 19,
     "metadata": {},
     "output_type": "execute_result"
    }
   ],
   "source": [
    "# Accessing all the elements\n",
    "\n",
    "numbers[:]"
   ]
  },
  {
   "cell_type": "code",
   "execution_count": 21,
   "id": "ededeb24-a6fa-4647-b68a-4b85314cf30d",
   "metadata": {},
   "outputs": [
    {
     "data": {
      "text/plain": [
       "[1, 2, 3, 4]"
      ]
     },
     "execution_count": 21,
     "metadata": {},
     "output_type": "execute_result"
    }
   ],
   "source": [
    "# Accessing all the elements between the first and the fifth element\n",
    "\n",
    "numbers[0:4] # Notice how the 0th index is included but the 4th index is not included"
   ]
  },
  {
   "cell_type": "code",
   "execution_count": 22,
   "id": "22d5f417-d5e6-4c42-b652-622460185966",
   "metadata": {},
   "outputs": [
    {
     "data": {
      "text/plain": [
       "[1, 3, 5, 7]"
      ]
     },
     "execution_count": 22,
     "metadata": {},
     "output_type": "execute_result"
    }
   ],
   "source": [
    "# Accessing every other element between the 0th and the 7th index\n",
    "\n",
    "numbers[0:7:2]"
   ]
  },
  {
   "cell_type": "code",
   "execution_count": 23,
   "id": "1b431ccf-a9f5-4f04-90d5-b1d60f8f353c",
   "metadata": {},
   "outputs": [
    {
     "data": {
      "text/plain": [
       "[1, 4, 7]"
      ]
     },
     "execution_count": 23,
     "metadata": {},
     "output_type": "execute_result"
    }
   ],
   "source": [
    "# Accessing every third element between the 0th and the 7th index\n",
    "\n",
    "numbers[0:7:3]"
   ]
  },
  {
   "cell_type": "markdown",
   "id": "3bfd68ad-856c-419c-837d-aaf4dccc3c91",
   "metadata": {},
   "source": [
    "We can also use list slicing to remove elements from a list. For example, let's say we want `numbers2` to be a list that contains every single-digit number in `numbers`."
   ]
  },
  {
   "cell_type": "code",
   "execution_count": 27,
   "id": "e09a26f9-f3d9-4782-81a4-aa1dba5724d5",
   "metadata": {},
   "outputs": [
    {
     "name": "stdout",
     "output_type": "stream",
     "text": [
      "The numbers list is [1, 2, 3, 4, 5, 6, 7, 8, 9, 10]\n",
      "The numbers2 list is [1, 2, 3, 4, 5, 6, 7, 8, 9]\n"
     ]
    }
   ],
   "source": [
    "print(f'The numbers list is {numbers}')\n",
    "numbers2 = numbers[:-1] # Accessing every index except the last one\n",
    "print(f'The numbers2 list is {numbers2}')"
   ]
  },
  {
   "cell_type": "markdown",
   "id": "0dfb58d1-bb8e-4c82-9c0d-cb0fb32a7570",
   "metadata": {},
   "source": [
    "## Loops"
   ]
  },
  {
   "cell_type": "markdown",
   "id": "46f259f4-9a19-49e9-b5d3-d8fabf8d3761",
   "metadata": {},
   "source": [
    "Loops help us iterate over every element in an [iterable object](https://www.w3schools.com/python/python_iterators.asp) (aka objects containing a finite number of values). For example, the code below prints every single month that is stored in the list `months`. "
   ]
  },
  {
   "cell_type": "code",
   "execution_count": 28,
   "id": "7118446e-9790-4ed7-8705-5aa7ac3694ca",
   "metadata": {},
   "outputs": [
    {
     "name": "stdout",
     "output_type": "stream",
     "text": [
      "January\n",
      "February\n",
      "March\n",
      "April\n",
      "May\n",
      "June\n",
      "July\n",
      "August\n",
      "September\n",
      "October\n",
      "November\n",
      "December\n"
     ]
    }
   ],
   "source": [
    "months = [\"January\", \"February\", \"March\", \"April\", \"May\", \"June\", \n",
    "          \"July\", \"August\", \"September\", \"October\", \"November\", \"December\"]\n",
    "for month in months:\n",
    "    print(month)"
   ]
  },
  {
   "cell_type": "markdown",
   "id": "9f97dbac-e0ae-4be8-829f-f3682d05d1c9",
   "metadata": {},
   "source": [
    "We can combine if statements with loops to perform more complicated tasks. For example, let's print every single month that doesn't start with the letter J."
   ]
  },
  {
   "cell_type": "code",
   "execution_count": 29,
   "id": "7e5c70ad-250e-4093-a86c-145a4328c74a",
   "metadata": {},
   "outputs": [
    {
     "name": "stdout",
     "output_type": "stream",
     "text": [
      "February\n",
      "March\n",
      "April\n",
      "May\n",
      "August\n",
      "September\n",
      "October\n",
      "November\n",
      "December\n"
     ]
    }
   ],
   "source": [
    "for month in months:\n",
    "    if not month.startswith('J'):\n",
    "        print(month)"
   ]
  },
  {
   "cell_type": "markdown",
   "id": "c783966f-8b5e-4095-9de0-a4523c1cb980",
   "metadata": {},
   "source": [
    "While the examples above have both used for-loops, we can also use while loops. For example, the code below prints out the first 6 months in the list `months`.\n"
   ]
  },
  {
   "cell_type": "code",
   "execution_count": 30,
   "id": "c05f4115-b4b1-4951-baf9-659a7aca598d",
   "metadata": {},
   "outputs": [
    {
     "name": "stdout",
     "output_type": "stream",
     "text": [
      "January\n",
      "February\n",
      "March\n",
      "April\n",
      "May\n",
      "June\n"
     ]
    }
   ],
   "source": [
    "i = 0\n",
    "while i < 6:\n",
    "    print(months[i])\n",
    "    i += 1"
   ]
  },
  {
   "cell_type": "markdown",
   "id": "d5b3f006-46d4-4c91-8644-cdb1d27e7fd4",
   "metadata": {},
   "source": [
    "### List Comprehensions"
   ]
  },
  {
   "cell_type": "markdown",
   "id": "cb5411e5-453b-4f10-bd98-fa31bb1c2cb6",
   "metadata": {},
   "source": [
    "A list comprehension in Python is essentially a simple for-loop written with special syntax. For example, we can convert our first for loop (printing every month) to a list comprehension, as done below. "
   ]
  },
  {
   "cell_type": "code",
   "execution_count": 35,
   "id": "74becb64-b42c-4513-b374-c46368d255f7",
   "metadata": {},
   "outputs": [
    {
     "name": "stdout",
     "output_type": "stream",
     "text": [
      "January\n",
      "February\n",
      "March\n",
      "April\n",
      "May\n",
      "June\n",
      "July\n",
      "August\n",
      "September\n",
      "October\n",
      "November\n",
      "December\n"
     ]
    }
   ],
   "source": [
    "[print(month) for month in months];\n",
    "\n",
    "# Note: we include the ; at the end to avoid returning any output, as the only thing we want are print statements\n",
    "# Read more here: https://www.geeksforgeeks.org/difference-between-return-and-print-in-python/"
   ]
  },
  {
   "cell_type": "markdown",
   "id": "375afd8c-9019-4352-85b9-a56ce8b189fd",
   "metadata": {},
   "source": [
    "Let's make things more complicated; let's use a list comprehension to get a list containing every single month that doesn't start with the letter J."
   ]
  },
  {
   "cell_type": "code",
   "execution_count": 36,
   "id": "37b7a7b5-9bb2-463a-a776-214e48999deb",
   "metadata": {},
   "outputs": [
    {
     "data": {
      "text/plain": [
       "['February',\n",
       " 'March',\n",
       " 'April',\n",
       " 'May',\n",
       " 'August',\n",
       " 'September',\n",
       " 'October',\n",
       " 'November',\n",
       " 'December']"
      ]
     },
     "execution_count": 36,
     "metadata": {},
     "output_type": "execute_result"
    }
   ],
   "source": [
    "[month for month in months if not month.startswith('J')]"
   ]
  },
  {
   "cell_type": "markdown",
   "id": "ce8ba500-5c3e-4928-a3ba-be8062a98996",
   "metadata": {},
   "source": [
    "## Dictionaries"
   ]
  },
  {
   "cell_type": "markdown",
   "id": "8d7e1d93-d1b3-4481-981d-caaa9506c438",
   "metadata": {},
   "source": [
    "Python dictionaries are collections of key-value pairs, where each 'key' is associated with a certain 'value'. They are defined using `{}`, and can contain as many values as you like. You can read more about them [here](https://realpython.com/python-dicts/). We define a sample dictionary below."
   ]
  },
  {
   "cell_type": "code",
   "execution_count": 42,
   "id": "e32c06fa-e494-4f62-9fe4-4cb49100754e",
   "metadata": {},
   "outputs": [
    {
     "data": {
      "text/plain": [
       "{'peter': 7214, 'rohan': 5414, 'yiyang': 1685, 'eric': 9522}"
      ]
     },
     "execution_count": 42,
     "metadata": {},
     "output_type": "execute_result"
    }
   ],
   "source": [
    "tel = {'peter': 7214, 'rohan': 5414, 'yiyang': 1685, 'eric': 9522}\n",
    "tel"
   ]
  },
  {
   "cell_type": "markdown",
   "id": "1ee5473e-cff5-4042-bf22-645da400cc90",
   "metadata": {},
   "source": [
    "Here, the keys are the names of the people, and the values are the last four digits of their phone numbers. You can retrieve the value associated with any key but not vice versa. For example, the code below retrieves the last 4 digits of Peter's phone number, but you cannot find out the name of the person whose phone number ends with 9522."
   ]
  },
  {
   "cell_type": "code",
   "execution_count": 43,
   "id": "1e7fbafd-7f77-4b96-9ce5-4162c1953d62",
   "metadata": {},
   "outputs": [
    {
     "data": {
      "text/plain": [
       "7214"
      ]
     },
     "execution_count": 43,
     "metadata": {},
     "output_type": "execute_result"
    }
   ],
   "source": [
    "tel['peter'] # Retrieves last 4 digits of Peter's number"
   ]
  },
  {
   "cell_type": "code",
   "execution_count": 44,
   "id": "986dbbf0-a607-4c5e-b063-7da59f6dc091",
   "metadata": {},
   "outputs": [],
   "source": [
    "#tel[7214] This does not work"
   ]
  },
  {
   "cell_type": "markdown",
   "id": "93f7fe50-fd3d-41f3-b4d2-7c54a6e795fc",
   "metadata": {},
   "source": [
    "You can easily add and delete key-value pairs, as shown below."
   ]
  },
  {
   "cell_type": "code",
   "execution_count": 45,
   "id": "ea61eda0-48cd-46c9-b489-384df46fcb30",
   "metadata": {},
   "outputs": [
    {
     "data": {
      "text/plain": [
       "{'yiyang': 1685, 'eric': 9522, 'akshat': 3698}"
      ]
     },
     "execution_count": 45,
     "metadata": {},
     "output_type": "execute_result"
    }
   ],
   "source": [
    "# add a new key value pair\n",
    "tel['akshat'] = 3698 \n",
    "\n",
    "# delete an existing key value pair (two ways)\n",
    "tel.pop('rohan')\n",
    "del tel['peter']\n",
    "\n",
    "tel # added akshat, removed rohan and peter"
   ]
  },
  {
   "cell_type": "markdown",
   "id": "14cc07db-8c98-4202-b138-4ac516f2d3b4",
   "metadata": {},
   "source": [
    "## Functions"
   ]
  },
  {
   "cell_type": "markdown",
   "id": "b963f276-6da4-4028-8963-b25ac7f0c1e2",
   "metadata": {},
   "source": [
    "Functions take in certain values (as defined by their parameters, or the values you pass in), perform some processing with them and output some other values. A simple diagram representing this is shown below:\n",
    "\n",
    "![blackbox](assets/func.png)\n",
    "\n",
    "<!-- source: https://www.researchgate.net/figure/Black-box-representation-of-functions_fig3_281220897 -->"
   ]
  },
  {
   "cell_type": "markdown",
   "id": "323b46f7-1fda-4fba-ba51-3ba8bd8efe9b",
   "metadata": {},
   "source": [
    "We will often be using functions defined by libraries discussed later on in the book. However, you can also define your own functions. An example is included below."
   ]
  },
  {
   "cell_type": "code",
   "execution_count": 46,
   "id": "d6202cdf-d892-4497-ba9f-5de53ec87e45",
   "metadata": {},
   "outputs": [],
   "source": [
    "def add2(x):\n",
    "    \"\"\"This docstring explains what this function does: it adds 2 to a number.\"\"\"\n",
    "    return x + 2"
   ]
  },
  {
   "cell_type": "code",
   "execution_count": 48,
   "id": "36c2ff86-cef5-4d02-8ff4-f27a3a4ca3be",
   "metadata": {},
   "outputs": [
    {
     "data": {
      "text/plain": [
       "10"
      ]
     },
     "execution_count": 48,
     "metadata": {},
     "output_type": "execute_result"
    }
   ],
   "source": [
    "add2(8) # example usage"
   ]
  },
  {
   "cell_type": "markdown",
   "id": "235eae06-6388-4108-b1ca-4c9c5bce74eb",
   "metadata": {},
   "source": [
    "You can see the output of `help(function)` contains the description in the docstring. This is often helpful to view the documentation of a function."
   ]
  },
  {
   "cell_type": "code",
   "execution_count": 49,
   "id": "8911845f-87f2-413b-a571-2dc33f5d8c1b",
   "metadata": {},
   "outputs": [
    {
     "name": "stdout",
     "output_type": "stream",
     "text": [
      "Help on function add2 in module __main__:\n",
      "\n",
      "add2(x)\n",
      "    This docstring explains what this function does: it adds 2 to a number.\n",
      "\n"
     ]
    }
   ],
   "source": [
    "help(add2)"
   ]
  }
 ],
 "metadata": {
  "kernelspec": {
   "display_name": "Python [conda env:sklearn-env]",
   "language": "python",
   "name": "conda-env-sklearn-env-py"
  },
  "language_info": {
   "codemirror_mode": {
    "name": "ipython",
    "version": 3
   },
   "file_extension": ".py",
   "mimetype": "text/x-python",
   "name": "python",
   "nbconvert_exporter": "python",
   "pygments_lexer": "ipython3",
   "version": "3.11.0"
  }
 },
 "nbformat": 4,
 "nbformat_minor": 5
}
