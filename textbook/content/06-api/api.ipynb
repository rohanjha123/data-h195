{
 "cells": [
  {
   "cell_type": "code",
   "execution_count": 1,
   "id": "3ab2a718-b1b4-46ca-a65f-dbb2e56ee012",
   "metadata": {},
   "outputs": [],
   "source": [
    "import pandas as pd\n",
    "import requests\n",
    "from urllib.parse import urlencode"
   ]
  },
  {
   "cell_type": "markdown",
   "id": "0eef9810-9fdb-4dc1-88ef-944ed51791bf",
   "metadata": {},
   "source": [
    "# APIs"
   ]
  },
  {
   "cell_type": "markdown",
   "id": "31880f9c-f4d3-4e4a-97a8-95880681c3da",
   "metadata": {},
   "source": [
    "Application Programming Interfaces, commonly known as APIs, are tools that allow different softwares to communicate with each other. Organizations may choose to maintain APIs to provide easy access to their data, in the interest of research. As economists, we may be interested in using these APIs to access their data for further research. A famous example of such an API is the [Fred API](https://fred.stlouisfed.org/docs/api/fred/), which is maintained by the Federal Reserve Bank of St. Louis and allows us to easily retrieve Federal Reserve Data.\n",
    "\n",
    "Ultimately, there are thousands of APIs and they all have different ways you can interact with them. It is impossible to learn how to interact with every API. Instead, the key skill you should focus on is learning how to read the documentation of APIs. Once you can successfully read and understand an API's documentation, you will have no trouble working with that API. This chapter will use the Fred API as an example for how to read an APIs documentation. Let us get started. We will be referencing the relevant [documentation](https://fred.stlouisfed.org/docs/api/fred/series_observations.html) a lot during this chapter, we recommend you also keep it open for easy reference."
   ]
  },
  {
   "cell_type": "markdown",
   "id": "5c9c696c-6fd7-46e6-82d3-e818766ac8fc",
   "metadata": {},
   "source": [
    "## Requests"
   ]
  },
  {
   "cell_type": "markdown",
   "id": "ccc90af0-52b9-4d24-8170-82a9421ae128",
   "metadata": {},
   "source": [
    "As you can see at the top of the [documentation](https://fred.stlouisfed.org/docs/api/fred/series_observations.html), in order to access the Fred API, we must 'request' URLs. Python's [`requests`](https://requests.readthedocs.io/en/latest/) library is incredibly popular for making such requests. A very simple example of a request is shown below."
   ]
  },
  {
   "cell_type": "code",
   "execution_count": 37,
   "id": "01e72c0a-5ef7-4770-ae9c-c672a7196ba7",
   "metadata": {},
   "outputs": [
    {
     "data": {
      "text/plain": [
       "<Response [200]>"
      ]
     },
     "execution_count": 37,
     "metadata": {},
     "output_type": "execute_result"
    }
   ],
   "source": [
    "requests.get('https://www.google.com')"
   ]
  },
  {
   "cell_type": "markdown",
   "id": "9f40652d-f4cb-40db-ab79-42260ef8a68f",
   "metadata": {},
   "source": [
    "As you can see, this request returned a response with a status code of 200. You can read more about the various status codes [here](https://developer.mozilla.org/en-US/docs/Web/HTTP/Status). In general, a status code in the 200s represents a success and a status code in the 400s or 500s represents a failure.\n",
    "\n",
    "In order to make a successful request, you need an API key. We talk more about them in the next section."
   ]
  },
  {
   "cell_type": "markdown",
   "id": "4905f7f2-06de-45b2-aaa0-8e002a0faa8f",
   "metadata": {},
   "source": [
    "## Parameters"
   ]
  },
  {
   "cell_type": "markdown",
   "id": "49ef5c8c-bba8-4771-952f-354b9c9d0db9",
   "metadata": {},
   "source": [
    "This section will go through and describe all the parameters in the [documentation](https://fred.stlouisfed.org/docs/api/fred/series_observations.html)."
   ]
  },
  {
   "cell_type": "markdown",
   "id": "01c1927e-841d-486b-83c0-f075f8292a47",
   "metadata": {},
   "source": [
    "### API Key\n",
    "\n",
    "In order to make a request, you need an API key. An API key is a unique identifier used to connect to, or perform, an API call. It shows that you are using the software legitimately and are not violating the platforms terms and conditions. For the FRED, you can easily request an API key [here](https://fred.stlouisfed.org/docs/api/api_key.html).\n",
    "\n",
    "If someone else obtains your API key, they can effectively pretend to be you. They can misuse your API key, using it to violate the platforms terms and conditions, and get you banned or worse. Therefore, it is good practice to keep your API keys secret to yourself. In keeping with this practice, we shall not share the API key we used for this notebook, and you must request your own API key if you wish to replicate the results."
   ]
  },
  {
   "cell_type": "code",
   "execution_count": 38,
   "id": "d24629aa-3174-4408-b9b0-4a8756086c11",
   "metadata": {},
   "outputs": [],
   "source": [
    "api_key = \"...\" # We have deliberately omitted our API key."
   ]
  },
  {
   "cell_type": "markdown",
   "id": "00b16fe9-ce1c-4a2a-b1b0-06fe44e17961",
   "metadata": {},
   "source": [
    "### File Type"
   ]
  },
  {
   "cell_type": "markdown",
   "id": "1972d23b-5367-4d02-a91b-16c748f43544",
   "metadata": {},
   "source": [
    "This parameter indicates which type of file to return as the output. For the Fred API, it is often easiest to work with [JSON files](https://www.json.org/json-en.html) as the output. JSON files are an example of [semi-structured data](https://www.teradata.com/glossary/what-is-semi-structured-data#:~:text=Semi%2Dstructured%20data%20refers%20to,not%20have%20a%20fixed%20schema.), an alternative to structured csv's we have been using so far. We will not delve into json's too much for now, other than noting that `pandas` has an easy to use [`.read_json()`](https://pandas.pydata.org/docs/reference/api/pandas.read_json.html) method. The API notes that if we choose to return a `txt` or `xls` file, an application/zip file will be returned to compress the data. So, it is easiest to return a `json` file and directly read it in."
   ]
  },
  {
   "cell_type": "markdown",
   "id": "99d92c79-c5b9-479c-b32c-8e99c87ddc72",
   "metadata": {},
   "source": [
    "### Series ID"
   ]
  },
  {
   "cell_type": "code",
   "execution_count": null,
   "id": "a5a95d82-38f4-4033-a776-989f7c38f567",
   "metadata": {},
   "outputs": [],
   "source": []
  },
  {
   "cell_type": "code",
   "execution_count": null,
   "id": "fed9a387-6438-4991-84db-d60cfb6e16fa",
   "metadata": {},
   "outputs": [],
   "source": [
    "def fetch(base_url, endpoint, params, url_only=False):\n",
    "    # forms API request\n",
    "    url_params = urlencode(params)\n",
    "    url = f\"{base_url}{endpoint}?{url_params}\"\n",
    "    \n",
    "    # For testing purposes only, do not delete\n",
    "    if url_only:\n",
    "        return url\n",
    "    \n",
    "    # fires off the request\n",
    "    res = requests.get(url)\n",
    "    \n",
    "    # checks if the request encounters an error\n",
    "    if res.status_code not in range(200, 299):\n",
    "        raise Exception(f\"Fetch request failed (Error: {res.status_code})\")\n",
    "    \n",
    "    # return the content of the response\n",
    "    return res.json()"
   ]
  },
  {
   "cell_type": "code",
   "execution_count": 40,
   "id": "3c9a84e4-221c-4328-80f7-d14099b8cebb",
   "metadata": {},
   "outputs": [
    {
     "data": {
      "text/plain": [
       "[{'realtime_start': '1958-12-21',\n",
       "  'realtime_end': '1965-08-18',\n",
       "  'date': '1929-01-01',\n",
       "  'value': '181.8'},\n",
       " {'realtime_start': '1965-08-19',\n",
       "  'realtime_end': '1976-01-15',\n",
       "  'date': '1929-01-01',\n",
       "  'value': '203.6'},\n",
       " {'realtime_start': '1976-01-16',\n",
       "  'realtime_end': '1980-12-22',\n",
       "  'date': '1929-01-01',\n",
       "  'value': '314.7'},\n",
       " {'realtime_start': '1980-12-23',\n",
       "  'realtime_end': '1985-12-19',\n",
       "  'date': '1929-01-01',\n",
       "  'value': '315.7'},\n",
       " {'realtime_start': '1985-12-20',\n",
       "  'realtime_end': '1991-12-03',\n",
       "  'date': '1929-01-01',\n",
       "  'value': '709.6'},\n",
       " {'realtime_start': '1991-12-04',\n",
       "  'realtime_end': '1992-12-21',\n",
       "  'date': '1929-01-01',\n",
       "  'value': '.'},\n",
       " {'realtime_start': '1992-12-22',\n",
       "  'realtime_end': '1996-01-18',\n",
       "  'date': '1929-01-01',\n",
       "  'value': '827.4'}]"
      ]
     },
     "execution_count": 40,
     "metadata": {},
     "output_type": "execute_result"
    }
   ],
   "source": [
    "res = requests.get(f'https://api.stlouisfed.org/fred/series/observations?series_id=GNPCA&realtime_start=1776-07-04&realtime_end=9999-12-31&api_key={api_key}&file_type=json')\n",
    "res.json()['observations'][:7]"
   ]
  },
  {
   "cell_type": "code",
   "execution_count": 44,
   "id": "0a4171eb-e10e-4cfd-970f-b5309e4d3c89",
   "metadata": {},
   "outputs": [
    {
     "name": "stdout",
     "output_type": "stream",
     "text": [
      "https://api.stlouisfed.org/fred/series/observations?series_id=PPAAUS00000A156NCEN&observation_start=1989-01-01&observation_end=2022-10-01&frequency=a&units=pch&api_key=dab081fe5e028d7fc65114e0c7f2cf6b&file_type=json\n"
     ]
    }
   ],
   "source": [
    "base_url = \"https://api.stlouisfed.org\"\n",
    "endpoint = \"/fred/series/observations\"\n",
    "params_UNRATE = {\"series_id\": \"PPAAUS00000A156NCEN\", \n",
    "                 \"observation_start\": \"1989-01-01\", \n",
    "                 \"observation_end\": \"2022-10-01\",\n",
    "                 \"frequency\": \"a\", # quarterly\n",
    "                 \"units\": \"pch\",\n",
    "                 \"api_key\": api_key, \n",
    "                 \"file_type\": \"json\"\n",
    "                }\n",
    "\n",
    "# fetch data\n",
    "res_json_UNRATE = fetch(base_url, endpoint, params_UNRATE)\n",
    "\n",
    "# process json data and store it as a dataframe\n",
    "unemployment = pd.DataFrame(res_json_UNRATE[\"observations\"])[[\"date\", \"value\"]]"
   ]
  },
  {
   "cell_type": "code",
   "execution_count": 20,
   "id": "bfd83d44-cdb5-49b3-b6b8-ec99da7d0ade",
   "metadata": {},
   "outputs": [
    {
     "data": {
      "text/html": [
       "<div>\n",
       "<style scoped>\n",
       "    .dataframe tbody tr th:only-of-type {\n",
       "        vertical-align: middle;\n",
       "    }\n",
       "\n",
       "    .dataframe tbody tr th {\n",
       "        vertical-align: top;\n",
       "    }\n",
       "\n",
       "    .dataframe thead th {\n",
       "        text-align: right;\n",
       "    }\n",
       "</style>\n",
       "<table border=\"1\" class=\"dataframe\">\n",
       "  <thead>\n",
       "    <tr style=\"text-align: right;\">\n",
       "      <th></th>\n",
       "      <th>date</th>\n",
       "      <th>value</th>\n",
       "    </tr>\n",
       "  </thead>\n",
       "  <tbody>\n",
       "    <tr>\n",
       "      <th>0</th>\n",
       "      <td>1989-01-01</td>\n",
       "      <td>.</td>\n",
       "    </tr>\n",
       "    <tr>\n",
       "      <th>1</th>\n",
       "      <td>1990-01-01</td>\n",
       "      <td>.</td>\n",
       "    </tr>\n",
       "    <tr>\n",
       "      <th>2</th>\n",
       "      <td>1991-01-01</td>\n",
       "      <td>.</td>\n",
       "    </tr>\n",
       "    <tr>\n",
       "      <th>3</th>\n",
       "      <td>1992-01-01</td>\n",
       "      <td>.</td>\n",
       "    </tr>\n",
       "    <tr>\n",
       "      <th>4</th>\n",
       "      <td>1993-01-01</td>\n",
       "      <td>.</td>\n",
       "    </tr>\n",
       "    <tr>\n",
       "      <th>5</th>\n",
       "      <td>1994-01-01</td>\n",
       "      <td>.</td>\n",
       "    </tr>\n",
       "    <tr>\n",
       "      <th>6</th>\n",
       "      <td>1995-01-01</td>\n",
       "      <td>.</td>\n",
       "    </tr>\n",
       "    <tr>\n",
       "      <th>7</th>\n",
       "      <td>1996-01-01</td>\n",
       "      <td>-0.72464</td>\n",
       "    </tr>\n",
       "    <tr>\n",
       "      <th>8</th>\n",
       "      <td>1997-01-01</td>\n",
       "      <td>-2.91971</td>\n",
       "    </tr>\n",
       "    <tr>\n",
       "      <th>9</th>\n",
       "      <td>1998-01-01</td>\n",
       "      <td>-4.51128</td>\n",
       "    </tr>\n",
       "    <tr>\n",
       "      <th>10</th>\n",
       "      <td>1999-01-01</td>\n",
       "      <td>-6.29921</td>\n",
       "    </tr>\n",
       "    <tr>\n",
       "      <th>11</th>\n",
       "      <td>2000-01-01</td>\n",
       "      <td>-5.04202</td>\n",
       "    </tr>\n",
       "    <tr>\n",
       "      <th>12</th>\n",
       "      <td>2001-01-01</td>\n",
       "      <td>3.53982</td>\n",
       "    </tr>\n",
       "    <tr>\n",
       "      <th>13</th>\n",
       "      <td>2002-01-01</td>\n",
       "      <td>3.41880</td>\n",
       "    </tr>\n",
       "    <tr>\n",
       "      <th>14</th>\n",
       "      <td>2003-01-01</td>\n",
       "      <td>3.30579</td>\n",
       "    </tr>\n",
       "    <tr>\n",
       "      <th>15</th>\n",
       "      <td>2004-01-01</td>\n",
       "      <td>1.60000</td>\n",
       "    </tr>\n",
       "    <tr>\n",
       "      <th>16</th>\n",
       "      <td>2005-01-01</td>\n",
       "      <td>4.72441</td>\n",
       "    </tr>\n",
       "    <tr>\n",
       "      <th>17</th>\n",
       "      <td>2006-01-01</td>\n",
       "      <td>0.00000</td>\n",
       "    </tr>\n",
       "    <tr>\n",
       "      <th>18</th>\n",
       "      <td>2007-01-01</td>\n",
       "      <td>-2.25564</td>\n",
       "    </tr>\n",
       "    <tr>\n",
       "      <th>19</th>\n",
       "      <td>2008-01-01</td>\n",
       "      <td>1.53846</td>\n",
       "    </tr>\n",
       "    <tr>\n",
       "      <th>20</th>\n",
       "      <td>2009-01-01</td>\n",
       "      <td>8.33333</td>\n",
       "    </tr>\n",
       "    <tr>\n",
       "      <th>21</th>\n",
       "      <td>2010-01-01</td>\n",
       "      <td>6.99301</td>\n",
       "    </tr>\n",
       "    <tr>\n",
       "      <th>22</th>\n",
       "      <td>2011-01-01</td>\n",
       "      <td>3.92157</td>\n",
       "    </tr>\n",
       "    <tr>\n",
       "      <th>23</th>\n",
       "      <td>2012-01-01</td>\n",
       "      <td>0.00000</td>\n",
       "    </tr>\n",
       "    <tr>\n",
       "      <th>24</th>\n",
       "      <td>2013-01-01</td>\n",
       "      <td>-0.62893</td>\n",
       "    </tr>\n",
       "    <tr>\n",
       "      <th>25</th>\n",
       "      <td>2014-01-01</td>\n",
       "      <td>-1.89873</td>\n",
       "    </tr>\n",
       "    <tr>\n",
       "      <th>26</th>\n",
       "      <td>2015-01-01</td>\n",
       "      <td>-5.16129</td>\n",
       "    </tr>\n",
       "    <tr>\n",
       "      <th>27</th>\n",
       "      <td>2016-01-01</td>\n",
       "      <td>-4.76190</td>\n",
       "    </tr>\n",
       "    <tr>\n",
       "      <th>28</th>\n",
       "      <td>2017-01-01</td>\n",
       "      <td>-4.28571</td>\n",
       "    </tr>\n",
       "    <tr>\n",
       "      <th>29</th>\n",
       "      <td>2018-01-01</td>\n",
       "      <td>-2.23881</td>\n",
       "    </tr>\n",
       "    <tr>\n",
       "      <th>30</th>\n",
       "      <td>2019-01-01</td>\n",
       "      <td>-6.10687</td>\n",
       "    </tr>\n",
       "    <tr>\n",
       "      <th>31</th>\n",
       "      <td>2020-01-01</td>\n",
       "      <td>-3.25203</td>\n",
       "    </tr>\n",
       "    <tr>\n",
       "      <th>32</th>\n",
       "      <td>2021-01-01</td>\n",
       "      <td>7.56303</td>\n",
       "    </tr>\n",
       "    <tr>\n",
       "      <th>33</th>\n",
       "      <td>2022-01-01</td>\n",
       "      <td>-1.56250</td>\n",
       "    </tr>\n",
       "  </tbody>\n",
       "</table>\n",
       "</div>"
      ],
      "text/plain": [
       "          date     value\n",
       "0   1989-01-01         .\n",
       "1   1990-01-01         .\n",
       "2   1991-01-01         .\n",
       "3   1992-01-01         .\n",
       "4   1993-01-01         .\n",
       "5   1994-01-01         .\n",
       "6   1995-01-01         .\n",
       "7   1996-01-01  -0.72464\n",
       "8   1997-01-01  -2.91971\n",
       "9   1998-01-01  -4.51128\n",
       "10  1999-01-01  -6.29921\n",
       "11  2000-01-01  -5.04202\n",
       "12  2001-01-01   3.53982\n",
       "13  2002-01-01   3.41880\n",
       "14  2003-01-01   3.30579\n",
       "15  2004-01-01   1.60000\n",
       "16  2005-01-01   4.72441\n",
       "17  2006-01-01   0.00000\n",
       "18  2007-01-01  -2.25564\n",
       "19  2008-01-01   1.53846\n",
       "20  2009-01-01   8.33333\n",
       "21  2010-01-01   6.99301\n",
       "22  2011-01-01   3.92157\n",
       "23  2012-01-01   0.00000\n",
       "24  2013-01-01  -0.62893\n",
       "25  2014-01-01  -1.89873\n",
       "26  2015-01-01  -5.16129\n",
       "27  2016-01-01  -4.76190\n",
       "28  2017-01-01  -4.28571\n",
       "29  2018-01-01  -2.23881\n",
       "30  2019-01-01  -6.10687\n",
       "31  2020-01-01  -3.25203\n",
       "32  2021-01-01   7.56303\n",
       "33  2022-01-01  -1.56250"
      ]
     },
     "execution_count": 20,
     "metadata": {},
     "output_type": "execute_result"
    }
   ],
   "source": [
    "unemployment"
   ]
  },
  {
   "cell_type": "code",
   "execution_count": null,
   "id": "08fb41b8-f345-48f4-b440-ea1857015248",
   "metadata": {},
   "outputs": [],
   "source": []
  }
 ],
 "metadata": {
  "kernelspec": {
   "display_name": "Python [conda env:sklearn-env]",
   "language": "python",
   "name": "conda-env-sklearn-env-py"
  },
  "language_info": {
   "codemirror_mode": {
    "name": "ipython",
    "version": 3
   },
   "file_extension": ".py",
   "mimetype": "text/x-python",
   "name": "python",
   "nbconvert_exporter": "python",
   "pygments_lexer": "ipython3",
   "version": "3.11.0"
  }
 },
 "nbformat": 4,
 "nbformat_minor": 5
}
