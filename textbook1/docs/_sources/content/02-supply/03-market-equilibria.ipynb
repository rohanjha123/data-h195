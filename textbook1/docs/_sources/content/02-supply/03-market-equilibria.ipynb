{
 "cells": [
  {
   "cell_type": "code",
   "execution_count": 6,
   "metadata": {
    "tags": [
     "remove_cell"
    ]
   },
   "outputs": [],
   "source": [
    "from datascience import *\n",
    "\n",
    "import sympy\n",
    "import matplotlib.pyplot as plt\n",
    "import matplotlib as mpl\n",
    "import matplotlib.patches as patches\n",
    "plt.style.use('seaborn-muted')\n",
    "mpl.rcParams['figure.dpi'] = 200\n",
    "%matplotlib inline\n",
    "\n",
    "from IPython.display import display\n",
    "import numpy as np\n",
    "import pandas as pd\n",
    "solve = lambda x,y: sympy.solve(x-y)[0] if len(sympy.solve(x-y))==1 else \"Not Single Solution\"\n",
    "\n",
    "import warnings\n",
    "warnings.filterwarnings('ignore')"
   ]
  },
  {
   "cell_type": "markdown",
   "metadata": {
    "cell_id": "4f243c01-873e-4eb5-bdfe-451f2a06dfea"
   },
   "source": [
    "# Market Equilibria\n",
    "\n",
    "We will now explore the relationship between price and quantity of oranges produced between 1924 and 1938. Since the data {cite}`01demand-fruits` is from the 1920s and 1930s, it is important to remember that the prices are much lower than what they would be today because of inflation, competition, innovations, and other factors. For example, in 1924, a ton of oranges would have costed \\$6.63; that same amount in 2019 is \\$100.78. "
   ]
  },
  {
   "cell_type": "code",
   "execution_count": 7,
   "metadata": {
    "cell_id": "5a6c6746-bad6-466e-8c18-bc16f5fad344"
   },
   "outputs": [
    {
     "data": {
      "text/html": [
       "<table border=\"1\" class=\"dataframe\">\n",
       "    <thead>\n",
       "        <tr>\n",
       "            <th>Year</th> <th>Pear Price</th> <th>Pear Unloads (Tons)</th> <th>Plum Price</th> <th>Plum Unloads</th> <th>Peach Price</th> <th>Peach Unloads</th> <th>Orange Price</th> <th>Orange Unloads</th> <th>NY Factory Wages</th>\n",
       "        </tr>\n",
       "    </thead>\n",
       "    <tbody>\n",
       "        <tr>\n",
       "            <td>1924</td> <td>8.04      </td> <td>18489              </td> <td>8.86      </td> <td>6582        </td> <td>4.96       </td> <td>41880        </td> <td>6.63        </td> <td>21258         </td> <td>27.22           </td>\n",
       "        </tr>\n",
       "        <tr>\n",
       "            <td>1925</td> <td>5.67      </td> <td>21919              </td> <td>7.27      </td> <td>5526        </td> <td>4.87       </td> <td>38772        </td> <td>9.19        </td> <td>15426         </td> <td>28.03           </td>\n",
       "        </tr>\n",
       "        <tr>\n",
       "            <td>1926</td> <td>5.44      </td> <td>29328              </td> <td>6.68      </td> <td>5742        </td> <td>3.35       </td> <td>46516        </td> <td>7.2         </td> <td>24762         </td> <td>28.89           </td>\n",
       "        </tr>\n",
       "        <tr>\n",
       "            <td>1927</td> <td>7.15      </td> <td>17082              </td> <td>8.09      </td> <td>5758        </td> <td>5.7        </td> <td>32500        </td> <td>8.63        </td> <td>22766         </td> <td>29.14           </td>\n",
       "        </tr>\n",
       "        <tr>\n",
       "            <td>1928</td> <td>5.81      </td> <td>20708              </td> <td>7.41      </td> <td>6000        </td> <td>4.13       </td> <td>46820        </td> <td>10.71       </td> <td>18766         </td> <td>29.34           </td>\n",
       "        </tr>\n",
       "        <tr>\n",
       "            <td>1929</td> <td>7.6       </td> <td>13071              </td> <td>10.86     </td> <td>3504        </td> <td>6.7        </td> <td>36990        </td> <td>6.36        </td> <td>35702         </td> <td>29.97           </td>\n",
       "        </tr>\n",
       "        <tr>\n",
       "            <td>1930</td> <td>5.06      </td> <td>22068              </td> <td>6.23      </td> <td>7998        </td> <td>6.35       </td> <td>29680        </td> <td>10.5        </td> <td>23718         </td> <td>28.68           </td>\n",
       "        </tr>\n",
       "        <tr>\n",
       "            <td>1931</td> <td>5.4       </td> <td>19255              </td> <td>6.86      </td> <td>5638        </td> <td>3.91       </td> <td>50940        </td> <td>5.81        </td> <td>39263         </td> <td>26.35           </td>\n",
       "        </tr>\n",
       "        <tr>\n",
       "            <td>1932</td> <td>4.06      </td> <td>17293              </td> <td>6.09      </td> <td>7364        </td> <td>4.57       </td> <td>27642        </td> <td>4.71        </td> <td>38553         </td> <td>21.98           </td>\n",
       "        </tr>\n",
       "        <tr>\n",
       "            <td>1933</td> <td>4.78      </td> <td>11063              </td> <td>5.86      </td> <td>8136        </td> <td>3.57       </td> <td>35560        </td> <td>4.6         </td> <td>36540         </td> <td>22.26           </td>\n",
       "        </tr>\n",
       "    </tbody>\n",
       "</table>\n",
       "<p>... (5 rows omitted)</p>"
      ],
      "text/plain": [
       "Year | Pear Price | Pear Unloads (Tons) | Plum Price | Plum Unloads | Peach Price | Peach Unloads | Orange Price | Orange Unloads | NY Factory Wages\n",
       "1924 | 8.04       | 18489               | 8.86       | 6582         | 4.96        | 41880         | 6.63         | 21258          | 27.22\n",
       "1925 | 5.67       | 21919               | 7.27       | 5526         | 4.87        | 38772         | 9.19         | 15426          | 28.03\n",
       "1926 | 5.44       | 29328               | 6.68       | 5742         | 3.35        | 46516         | 7.2          | 24762          | 28.89\n",
       "1927 | 7.15       | 17082               | 8.09       | 5758         | 5.7         | 32500         | 8.63         | 22766          | 29.14\n",
       "1928 | 5.81       | 20708               | 7.41       | 6000         | 4.13        | 46820         | 10.71        | 18766          | 29.34\n",
       "1929 | 7.6        | 13071               | 10.86      | 3504         | 6.7         | 36990         | 6.36         | 35702          | 29.97\n",
       "1930 | 5.06       | 22068               | 6.23       | 7998         | 6.35        | 29680         | 10.5         | 23718          | 28.68\n",
       "1931 | 5.4        | 19255               | 6.86       | 5638         | 3.91        | 50940         | 5.81         | 39263          | 26.35\n",
       "1932 | 4.06       | 17293               | 6.09       | 7364         | 4.57        | 27642         | 4.71         | 38553          | 21.98\n",
       "1933 | 4.78       | 11063               | 5.86       | 8136         | 3.57        | 35560         | 4.6          | 36540          | 22.26\n",
       "... (5 rows omitted)"
      ]
     },
     "execution_count": 7,
     "metadata": {},
     "output_type": "execute_result"
    }
   ],
   "source": [
    "fruitprice = Table.read_table('fruitprice.csv')\n",
    "fruitprice"
   ]
  },
  {
   "cell_type": "markdown",
   "metadata": {},
   "source": [
    "## Finding the Equilibrium\n",
    "\n",
    "An important concept in econmics is the market equilibrium. This is the point at which the demand and supply curves meet and represents the \"optimal\" level of production and price in that market."
   ]
  },
  {
   "cell_type": "markdown",
   "metadata": {},
   "source": [
    "```{admonition} Definition\n",
    "The **market equilibrium** is the price and quantity at which the demand and supply curves intersect. The price and resulting transaction quantity at the equilibrium is what we would predict to observe in the market.\n",
    "```"
   ]
  },
  {
   "cell_type": "markdown",
   "metadata": {},
   "source": [
    "Let's walk through how to the market equilibrium using the market for oranges as an example."
   ]
  },
  {
   "cell_type": "markdown",
   "metadata": {
    "cell_id": "61b55ebf-36a4-4ce1-89b7-4b860da25de4"
   },
   "source": [
    "### Data Preprocessing\n",
    "\n",
    "Because we are only examining the relationship between prices and quantity for oranges, we can create a new table with the relevant columns: `Year`, `Orange Price`, and `Orange Unloads`. Here, `Orange Price` is measured in dollars, while `Orange Unloads` is measured in tons."
   ]
  },
  {
   "cell_type": "code",
   "execution_count": 52,
   "metadata": {
    "cell_id": "b75d49b7-7c34-4c8a-a844-e16f26940df7"
   },
   "outputs": [
    {
     "data": {
      "text/html": [
       "<table border=\"1\" class=\"dataframe\">\n",
       "    <thead>\n",
       "        <tr>\n",
       "            <th>Year</th> <th>Orange Price</th> <th>Orange Unloads</th>\n",
       "        </tr>\n",
       "    </thead>\n",
       "    <tbody>\n",
       "        <tr>\n",
       "            <td>1924</td> <td>6.63        </td> <td>21258         </td>\n",
       "        </tr>\n",
       "        <tr>\n",
       "            <td>1925</td> <td>9.19        </td> <td>15426         </td>\n",
       "        </tr>\n",
       "        <tr>\n",
       "            <td>1926</td> <td>7.2         </td> <td>24762         </td>\n",
       "        </tr>\n",
       "        <tr>\n",
       "            <td>1927</td> <td>8.63        </td> <td>22766         </td>\n",
       "        </tr>\n",
       "        <tr>\n",
       "            <td>1928</td> <td>10.71       </td> <td>18766         </td>\n",
       "        </tr>\n",
       "        <tr>\n",
       "            <td>1929</td> <td>6.36        </td> <td>35702         </td>\n",
       "        </tr>\n",
       "        <tr>\n",
       "            <td>1930</td> <td>10.5        </td> <td>23718         </td>\n",
       "        </tr>\n",
       "        <tr>\n",
       "            <td>1931</td> <td>5.81        </td> <td>39263         </td>\n",
       "        </tr>\n",
       "        <tr>\n",
       "            <td>1932</td> <td>4.71        </td> <td>38553         </td>\n",
       "        </tr>\n",
       "        <tr>\n",
       "            <td>1933</td> <td>4.6         </td> <td>36540         </td>\n",
       "        </tr>\n",
       "    </tbody>\n",
       "</table>\n",
       "<p>... (5 rows omitted)</p>"
      ],
      "text/plain": [
       "Year | Orange Price | Orange Unloads\n",
       "1924 | 6.63         | 21258\n",
       "1925 | 9.19         | 15426\n",
       "1926 | 7.2          | 24762\n",
       "1927 | 8.63         | 22766\n",
       "1928 | 10.71        | 18766\n",
       "1929 | 6.36         | 35702\n",
       "1930 | 10.5         | 23718\n",
       "1931 | 5.81         | 39263\n",
       "1932 | 4.71         | 38553\n",
       "1933 | 4.6          | 36540\n",
       "... (5 rows omitted)"
      ]
     },
     "execution_count": 52,
     "metadata": {},
     "output_type": "execute_result"
    }
   ],
   "source": [
    "oranges_raw = fruitprice.select(\"Year\", \"Orange Price\", \"Orange Unloads\")\n",
    "oranges_raw"
   ]
  },
  {
   "cell_type": "markdown",
   "metadata": {
    "cell_id": "8c900ffc-173d-4c91-97c9-e1d8924c8d67"
   },
   "source": [
    "Next, we will rename our columns. In this case, let's rename `Orange Unloads` to `Quantity` and `Orange Price` to `Price` for brevity and understandability. "
   ]
  },
  {
   "cell_type": "code",
   "execution_count": 53,
   "metadata": {
    "cell_id": "254b8839-cf4f-460b-a597-c267ad6ebb84"
   },
   "outputs": [
    {
     "data": {
      "text/html": [
       "<table border=\"1\" class=\"dataframe\">\n",
       "    <thead>\n",
       "        <tr>\n",
       "            <th>Year</th> <th>Price</th> <th>Quantity</th>\n",
       "        </tr>\n",
       "    </thead>\n",
       "    <tbody>\n",
       "        <tr>\n",
       "            <td>1924</td> <td>6.63 </td> <td>21258   </td>\n",
       "        </tr>\n",
       "        <tr>\n",
       "            <td>1925</td> <td>9.19 </td> <td>15426   </td>\n",
       "        </tr>\n",
       "        <tr>\n",
       "            <td>1926</td> <td>7.2  </td> <td>24762   </td>\n",
       "        </tr>\n",
       "        <tr>\n",
       "            <td>1927</td> <td>8.63 </td> <td>22766   </td>\n",
       "        </tr>\n",
       "        <tr>\n",
       "            <td>1928</td> <td>10.71</td> <td>18766   </td>\n",
       "        </tr>\n",
       "        <tr>\n",
       "            <td>1929</td> <td>6.36 </td> <td>35702   </td>\n",
       "        </tr>\n",
       "        <tr>\n",
       "            <td>1930</td> <td>10.5 </td> <td>23718   </td>\n",
       "        </tr>\n",
       "        <tr>\n",
       "            <td>1931</td> <td>5.81 </td> <td>39263   </td>\n",
       "        </tr>\n",
       "        <tr>\n",
       "            <td>1932</td> <td>4.71 </td> <td>38553   </td>\n",
       "        </tr>\n",
       "        <tr>\n",
       "            <td>1933</td> <td>4.6  </td> <td>36540   </td>\n",
       "        </tr>\n",
       "    </tbody>\n",
       "</table>\n",
       "<p>... (5 rows omitted)</p>"
      ],
      "text/plain": [
       "Year | Price | Quantity\n",
       "1924 | 6.63  | 21258\n",
       "1925 | 9.19  | 15426\n",
       "1926 | 7.2   | 24762\n",
       "1927 | 8.63  | 22766\n",
       "1928 | 10.71 | 18766\n",
       "1929 | 6.36  | 35702\n",
       "1930 | 10.5  | 23718\n",
       "1931 | 5.81  | 39263\n",
       "1932 | 4.71  | 38553\n",
       "1933 | 4.6   | 36540\n",
       "... (5 rows omitted)"
      ]
     },
     "execution_count": 53,
     "metadata": {},
     "output_type": "execute_result"
    }
   ],
   "source": [
    "oranges = oranges_raw.relabel(\"Orange Unloads\", \"Quantity\").relabel(\"Orange Price\", \"Price\")\n",
    "oranges"
   ]
  },
  {
   "cell_type": "markdown",
   "metadata": {
    "cell_id": "d3a20db0-45a5-4ca0-8edf-ae8fe730017c"
   },
   "source": [
    "### Visualize the  Relationship\n",
    "\n",
    "Let's first take a look to see what the relationship between price and quantity is. We would expect to see a downward-sloping relationship between price and quantity; if a product's price increases, consumers will purchase less, and if a product's price decreases, then consumers will purchase more. \n",
    "\n",
    "We will create a scatterplot between the points."
   ]
  },
  {
   "cell_type": "code",
   "execution_count": 50,
   "metadata": {
    "cell_id": "b7a2e982-d79e-4094-a295-d8edea5e3c12"
   },
   "outputs": [
    {
     "data": {
      "image/png": "[encoded data removed]",
      "text/plain": [
       "<Figure size 750x750 with 1 Axes>"
      ]
     },
     "metadata": {
      "needs_background": "light"
     },
     "output_type": "display_data"
    }
   ],
   "source": [
    "oranges.scatter(\"Quantity\", \"Price\", width=5, height=5)\n",
    "plt.title(\"Demand Curve for Oranges\", fontsize = 16);"
   ]
  },
  {
   "cell_type": "markdown",
   "metadata": {
    "cell_id": "46555368-2878-4561-b1bf-34051f611d06"
   },
   "source": [
    "The visualization shows a negative relationship between quantity and price, which is in line with our expectations: as the price increases, fewer consumers will purchase oranges, so the quantity demanded will decrease. This corresponds to a leftward movement along the demand curve. Alternatively, as the price decreases, the quantity sold will increase because consumers want to maximize their purchasing power and buy more oranges; this is shown by a rightward movement along the curve."
   ]
  },
  {
   "cell_type": "markdown",
   "metadata": {},
   "source": [
    "### Fit a Polynomial\n",
    "\n",
    "We will now quantify our demand curve using NumPy's [`np.polyfit` function](https://numpy.org/doc/stable/reference/generated/numpy.polyfit.html). Recall that `np.polyfit` returns an array of size 2, where the first element is the slope and the second is the $y$-intercept.\n",
    "\n",
    "For this exercise, we will be expressing demand and supply as quantities in terms of price. "
   ]
  },
  {
   "cell_type": "code",
   "execution_count": 34,
   "metadata": {
    "cell_id": "42bf023c-0b5a-4f12-8158-dcf58f137185"
   },
   "outputs": [
    {
     "data": {
      "text/plain": [
       "array([-3432.84670093, 53625.8748401 ])"
      ]
     },
     "execution_count": 34,
     "metadata": {},
     "output_type": "execute_result"
    }
   ],
   "source": [
    "np.polyfit(oranges.column(\"Price\"), oranges.column(\"Quantity\"), 1)"
   ]
  },
  {
   "cell_type": "markdown",
   "metadata": {
    "cell_id": "27c4081e-219e-4dba-a16c-44cd17e8fa5c"
   },
   "source": [
    "This shows that the demand curve is $D(P) = -3433 P+ 53626$. The slope is -3433 and $y$-intercept is 53626. That means that as price increases by 1 unit (in this case, \\$1), quantity decreases by 3433 units (in this case, 3433 tons). \n"
   ]
  },
  {
   "cell_type": "markdown",
   "metadata": {},
   "source": [
    "### Create the Demand Curve\n",
    "\n",
    "We will now use SymPy to write out this demand curve. To do so, we start by creating a symbol `P` that we can use to create the equation."
   ]
  },
  {
   "cell_type": "code",
   "execution_count": 35,
   "metadata": {
    "cell_id": "d06b28f9-96eb-480c-8a10-3ba4981be472"
   },
   "outputs": [
    {
     "data": {
      "text/latex": [
       "$\\displaystyle 53625.87 - 3432.846 P$"
      ],
      "text/plain": [
       "53625.87 - 3432.846*P"
      ]
     },
     "execution_count": 35,
     "metadata": {},
     "output_type": "execute_result"
    }
   ],
   "source": [
    "P = sympy.Symbol(\"P\")\n",
    "demand = -3432.846 * P + 53625.87\n",
    "demand"
   ]
  },
  {
   "cell_type": "markdown",
   "metadata": {
    "cell_id": "14d44625-4f20-443d-9ce0-304bd60c6c61"
   },
   "source": [
    "### Create the Supply Curve\n",
    "\n",
    "As you've learned, the supply curve is the relationship between the price of a good or service and the quantity of that good or service that the seller is willing to supply. It shows how much of a good suppliers are willing and able to supply at different prices. In this case, as the price of the oranges increases, the quantity of oranges that orange manufacturers are willing to supply increases. They capture the producer's side of market decisions and are upward-sloping.\n",
    "\n",
    "Let's now assume that the supply curve is given by $S(P) = 4348P$. (Note that this supply curve is not based on data.)"
   ]
  },
  {
   "cell_type": "code",
   "execution_count": 36,
   "metadata": {
    "cell_id": "f9654557-6972-4ba9-948b-f7ff7a48a61f"
   },
   "outputs": [
    {
     "data": {
      "text/latex": [
       "$\\displaystyle 4348 P$"
      ],
      "text/plain": [
       "4348*P"
      ]
     },
     "execution_count": 36,
     "metadata": {},
     "output_type": "execute_result"
    }
   ],
   "source": [
    "supply = 4348 * P\n",
    "supply"
   ]
  },
  {
   "cell_type": "markdown",
   "metadata": {},
   "source": [
    " This means that as the price of oranges increases by 1, the quantity supplied increases by 4348. At a price of 0, no oranges are supplied."
   ]
  },
  {
   "cell_type": "markdown",
   "metadata": {},
   "source": [
    "### Find the Price Equilibrium\n",
    "\n",
    "With the supply and demand curves known, we can solve the for equilibrium. \n",
    "The equilibrium is the point where the supply curve and demand curve intersect, and denotes the price and quantity of the good transacted in the market.\n",
    "\n",
    "The equilbrium consists of 2 components: the quantity equilbrium and price equilbrium. \n",
    "The price equilibrium is the price at which the supply curve and demand curve intersect: the price of the good that consumers desire to purchase at is equivalent to the price of the good that producers want to sell at. There is no shortage of surplus of the product at this price.\n",
    "\n",
    "\n",
    "Let's find the price equilibrium. To do this, we will use the provided `solve` function. This is a custom function that leverages some SymPy magic and will be provided to you in assignments."
   ]
  },
  {
   "cell_type": "code",
   "execution_count": 37,
   "metadata": {},
   "outputs": [
    {
     "data": {
      "text/latex": [
       "$\\displaystyle 6.89203590457901$"
      ],
      "text/plain": [
       "6.89203590457901"
      ]
     },
     "execution_count": 37,
     "metadata": {},
     "output_type": "execute_result"
    }
   ],
   "source": [
    "P_star = solve(demand, supply)\n",
    "P_star"
   ]
  },
  {
   "cell_type": "markdown",
   "metadata": {},
   "source": [
    "This means that the price of oranges that consumers want to purchase at and producers want to provide is about \\$6.89. "
   ]
  },
  {
   "cell_type": "markdown",
   "metadata": {
    "cell_id": "571c23b2-4d84-4173-9ff4-bbe1da039e5f",
    "tags": []
   },
   "source": [
    "### Find the Quantity Equilibrium\n",
    "\n",
    "Similarly, the quantity equilibrium is the quantity of the good that consumers desire to purchase is equivalent to the quantity of the good that producers supply; there is no shortage or surplus of the good at this quantity. \n",
    "\n"
   ]
  },
  {
   "cell_type": "code",
   "execution_count": 38,
   "metadata": {
    "cell_id": "6e28af89-0a83-465e-bb24-d7e66c9b978e"
   },
   "outputs": [
    {
     "data": {
      "text/latex": [
       "$\\displaystyle 29966.5721131095$"
      ],
      "text/plain": [
       "29966.5721131095"
      ]
     },
     "execution_count": 38,
     "metadata": {},
     "output_type": "execute_result"
    }
   ],
   "source": [
    "demand.subs(P, P_star)\n",
    "supply.subs(P, P_star)"
   ]
  },
  {
   "cell_type": "markdown",
   "metadata": {
    "cell_id": "35482561-c903-4cc5-a072-7e7b50e586c8"
   },
   "source": [
    "This means that the number of tons of oranges that consumers want to purchase and producers want to provide in this market is about 29,967 tons of oranges. "
   ]
  },
  {
   "cell_type": "markdown",
   "metadata": {},
   "source": [
    "### Visualize the Market Equilibrium \n",
    "\n",
    "Now that we have our demand and supply curves and price and quantity equilibria, we can visualize them on a graph to see what they look like. \n",
    "\n",
    "There are 2 pre-made functions we will use: `plot_equation` and `plot_intercept`.\n",
    "- `plot_equation`: It takes in the equation we made previously (either demand or supply) and visualizes the equations between the different prices we give it\n",
    "- `plot_intercept`: It takes in two different equations (demand and supply), finds the point at which the two intersect, and creates a scatter plot of the result"
   ]
  },
  {
   "cell_type": "code",
   "execution_count": 49,
   "metadata": {},
   "outputs": [],
   "source": [
    "def plot_equation(equation, price_start, price_end, label=None):\n",
    "    plot_prices = [price_start, price_end]\n",
    "    plot_quantities = [equation.subs(list(equation.free_symbols)[0], c) for c in plot_prices]\n",
    "    plt.plot(plot_quantities, plot_prices, label=label)\n",
    "    \n",
    "def plot_intercept(eq1, eq2):\n",
    "    ex = sympy.solve(eq1-eq2)[0]\n",
    "    why = eq1.subs(list(eq1.free_symbols)[0], ex)\n",
    "    plt.scatter([why], [ex], zorder=10, color=\"tab:orange\")\n",
    "    return (ex, why)"
   ]
  },
  {
   "cell_type": "markdown",
   "metadata": {},
   "source": [
    "We can leverage these functions and the equations we made earlier to create a graph that shows the market equilibrium."
   ]
  },
  {
   "cell_type": "code",
   "execution_count": 48,
   "metadata": {
    "cell_id": "f5d296fd-a13d-4b0b-a22d-a22806cb498c",
    "tags": [
     "remove_input"
    ]
   },
   "outputs": [
    {
     "data": {
      "image/png": "[encoded data removed]",
      "text/plain": [
       "<Figure size 900x600 with 1 Axes>"
      ]
     },
     "metadata": {
      "needs_background": "light"
     },
     "output_type": "display_data"
    }
   ],
   "source": [
    "mpl.rcParams['figure.dpi'] = 150\n",
    "plot_equation(demand, 2, 10, label = \"Demand\")\n",
    "plot_equation(supply, 2, 10, label = \"Supply\")\n",
    "plt.ylim(0,13)\n",
    "plt.title(\"Orange Supply and Demand in 1920's and 1930's\", fontsize = 15)\n",
    "plt.xlabel(\"Quantity (Tons)\", fontsize = 14)\n",
    "plt.ylabel(\"Price ($)\", fontsize = 14)\n",
    "plot_intercept(supply, demand)\n",
    "plt.legend(loc = \"upper right\", fontsize = 12)\n",
    "plt.show()"
   ]
  },
  {
   "cell_type": "markdown",
   "metadata": {
    "cell_id": "feb1ae9b-936c-49da-be36-2a6847d8486e"
   },
   "source": [
    "You can also practice on your own and download additional data sets [here](http://users.stat.ufl.edu/~winner/datasets.html), courtesy of the University of Flordia's Statistics Department. "
   ]
  },
  {
   "cell_type": "markdown",
   "metadata": {},
   "source": [
    "## Movements Away from Equilibrium\n",
    "\n",
    "What happens to market equilibrium when either supply or demand shifts due to an exogenous shock?\n",
    "\n",
    "Let's assume that consumers now prefer Green Tea as their hot beverage of choice moreso than before. We have an outward shift of the demand curve - quantity demanded is greater at every price. The market is no longer in equilibrium."
   ]
  },
  {
   "cell_type": "markdown",
   "metadata": {},
   "source": [
    "```{figure} fig1-demand.png\n",
    "---\n",
    "width: 500px\n",
    "name: demand-shift\n",
    "---\n",
    "A shift in the demand curve\n",
    "```"
   ]
  },
  {
   "cell_type": "markdown",
   "metadata": {
    "tags": [
     "remove_cell"
    ]
   },
   "source": [
    "![title](fig1-demand.png)"
   ]
  },
  {
   "cell_type": "markdown",
   "metadata": {},
   "source": [
    "At the same price level (the former equilibrium price), there is a shortage of Green Tea. The amount demanded by consumers exceeds that supplied by producers: $Q_D > Q_S$. This is a seller's market, as the excess quantity demanded gives producers leverage (or market power) over consumers. They are able to increase the price of Green Tea to clear the shortage. As prices increase, consumers who were willing and able to purchase tea at the previous equilibrium price would leave the market, reducing quantity demanded. $Q_S$ and $Q_D$ move up along their respective curves until the new equilibrium is achieved where $Q_S = Q_D$. \n",
    "\n",
    "This dual effect of increasing $Q_S$ and $Q_D$ is sometimes referred to as the \"invisible hand\". Sans government intervention, it clears out the shortage or surplus in the market, resulting in the eventual convergence to a new equilibrium level of quantity $Q^*$ and price $P^*$."
   ]
  },
  {
   "cell_type": "markdown",
   "metadata": {},
   "source": [
    " "
   ]
  }
 ],
 "metadata": {
  "kernelspec": {
   "display_name": "Python 3",
   "language": "python",
   "name": "python3"
  },
  "language_info": {
   "codemirror_mode": {
    "name": "ipython",
    "version": 3
   },
   "file_extension": ".py",
   "mimetype": "text/x-python",
   "name": "python",
   "nbconvert_exporter": "python",
   "pygments_lexer": "ipython3",
   "version": "3.7.3"
  }
 },
 "nbformat": 4,
 "nbformat_minor": 4
}
